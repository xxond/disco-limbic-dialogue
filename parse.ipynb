{
 "cells": [
  {
   "cell_type": "code",
   "execution_count": 1,
   "metadata": {},
   "outputs": [],
   "source": [
    "import json\n",
    "import pandas as pd\n",
    "import plotly.graph_objects as go\n",
    "import hashlib\n",
    "\n",
    "from IPython.display import display\n",
    "from tqdm import tqdm\n",
    "from time import sleep\n",
    "pd.options.display.max_rows = 100\n",
    "pd.options.display.max_colwidth = 100"
   ]
  },
  {
   "cell_type": "code",
   "execution_count": 2,
   "metadata": {},
   "outputs": [],
   "source": [
    "with open('raw/Disco Elysium.json', 'r') as f:\n",
    "    data = json.load(f)"
   ]
  },
  {
   "cell_type": "code",
   "execution_count": 3,
   "metadata": {},
   "outputs": [],
   "source": [
    "actors = data['actors']\n",
    "items = data['items']\n",
    "variables = data['variables']\n",
    "conversations = data['conversations']\n",
    "syncInfo = data['syncInfo']\n"
   ]
  },
  {
   "cell_type": "code",
   "execution_count": 4,
   "metadata": {},
   "outputs": [],
   "source": [
    "def convert_actors(actors):\n",
    "    fixed_actors = {}\n",
    "    needed_fields = [\n",
    "        'Name', 'Description',\n",
    "        'character_short_name', 'IsNPC',\n",
    "        'short_description', 'LongDescription',\n",
    "    ]\n",
    "    \n",
    "    for act in actors:\n",
    "        idx = act['id']\n",
    "        fixed_actors[idx] = {}\n",
    "        for field in act['fields']:\n",
    "            if field['title'] in needed_fields:\n",
    "                fixed_actors[idx][field['title']] = field['value']\n",
    "    return fixed_actors\n",
    "\n",
    "def convert_dialog_entr(conversations: list):\n",
    "    fixed_dialog = {}\n",
    "    needed_fields = [\n",
    "        'Title', 'Dialogue Text',\n",
    "        'Actor', 'Conversant',\n",
    "        #'InputId', 'OutputId',\n",
    "    ]\n",
    "    for conversation in conversations:\n",
    "        for line in conversation['dialogueEntries']:\n",
    "            idx = (line['conversationID'], line['id'])\n",
    "            fixed_dialog[idx] = {}\n",
    "            for field in line['fields']:\n",
    "                if field['title'] in needed_fields:\n",
    "                    fixed_dialog[idx][field['title']] = field['value']\n",
    "\n",
    "            fixed_dialog[idx]['outgoingLinks'] = []\n",
    "            for link in line['outgoingLinks']:\n",
    "                fixed_dialog[idx]['outgoingLinks'].append(\n",
    "                    (link['destinationConversationID'], link['destinationDialogueID']))\n",
    "            fixed_dialog[idx]['isGroup'] = line['isGroup']\n",
    "            fixed_dialog[idx]['canvasRect_x'] = line['canvasRect']['x']\n",
    "            fixed_dialog[idx]['canvasRect_y'] = line['canvasRect']['y']\n",
    "            fixed_dialog[idx]['canvasRect_width'] = line['canvasRect']['width']\n",
    "            fixed_dialog[idx]['canvasRect_height'] = line['canvasRect']['height']\n",
    "    return fixed_dialog\n",
    "        "
   ]
  },
  {
   "cell_type": "code",
   "execution_count": 5,
   "metadata": {},
   "outputs": [],
   "source": [
    "actor_table = pd.DataFrame(convert_actors(actors)).T\n",
    "dia_table = pd.DataFrame(convert_dialog_entr(conversations)).T"
   ]
  },
  {
   "cell_type": "code",
   "execution_count": 6,
   "metadata": {},
   "outputs": [
    {
     "data": {
      "text/plain": [
       "1015669"
      ]
     },
     "execution_count": 6,
     "metadata": {},
     "output_type": "execute_result"
    }
   ],
   "source": [
    "dia_table[dia_table['Dialogue Text'].isna() == False]['Dialogue Text'].apply(lambda x: len(x.split(' '))).sum()"
   ]
  },
  {
   "cell_type": "code",
   "execution_count": 7,
   "metadata": {},
   "outputs": [],
   "source": [
    "actor_table.to_csv('data_tables/actor.csv')"
   ]
  },
  {
   "cell_type": "code",
   "execution_count": 8,
   "metadata": {},
   "outputs": [],
   "source": [
    "dia_table.to_csv('data_tables/convs.csv')"
   ]
  },
  {
   "cell_type": "markdown",
   "metadata": {},
   "source": [
    "# extract all possible dialogues"
   ]
  },
  {
   "cell_type": "code",
   "execution_count": 9,
   "metadata": {},
   "outputs": [],
   "source": [
    "all_start_nodes = list(dia_table[(dia_table['Title'] == 'START')].index)\n",
    "links = dia_table['outgoingLinks'].to_dict()"
   ]
  },
  {
   "cell_type": "code",
   "execution_count": null,
   "metadata": {},
   "outputs": [],
   "source": []
  },
  {
   "cell_type": "code",
   "execution_count": 10,
   "metadata": {},
   "outputs": [
    {
     "data": {
      "text/plain": [
       "[{(0, 0): (2, 2)}, {(0, 0): (2, 2)}]"
      ]
     },
     "execution_count": 10,
     "metadata": {},
     "output_type": "execute_result"
    }
   ],
   "source": [
    "def test_2(d2):\n",
    "    d2[(0, 0)] = (2, 2)\n",
    "    return d2\n",
    "\n",
    "def test_1(d1):\n",
    "    return test_2(d1)\n",
    "\n",
    "a_list = []\n",
    "a = {(0, 0): (0, 0)} \n",
    "a_list.append(a)\n",
    "a_list.append(test_1(a))\n",
    "a_list"
   ]
  },
  {
   "cell_type": "code",
   "execution_count": 11,
   "metadata": {},
   "outputs": [],
   "source": [
    "def add_one_node(sett):\n",
    "    path, cur_node = sett\n",
    "    ret = []\n",
    "    if len(links[cur_node]) == 0:\n",
    "        return [], path\n",
    "    for i in links[cur_node]:\n",
    "        if i not in path:\n",
    "            path_c = path.copy()\n",
    "            path_c[cur_node] = i\n",
    "            ret.append((path_c, i))\n",
    "    return ret, None"
   ]
  },
  {
   "cell_type": "code",
   "execution_count": 12,
   "metadata": {},
   "outputs": [
    {
     "name": "stderr",
     "output_type": "stream",
     "text": [
      "Convs: {11, 12}: 267707it [00:01, 127639.79it/s]"
     ]
    },
    {
     "name": "stdout",
     "output_type": "stream",
     "text": [
      "250000 37065\n"
     ]
    },
    {
     "name": "stderr",
     "output_type": "stream",
     "text": [
      "Convs: {11, 12}: 509093it [00:03, 98436.75it/s] "
     ]
    },
    {
     "name": "stdout",
     "output_type": "stream",
     "text": [
      "500000 63450\n"
     ]
    },
    {
     "name": "stderr",
     "output_type": "stream",
     "text": [
      "Convs: {11, 12}: 607070it [00:05, 114602.23it/s]\n"
     ]
    },
    {
     "ename": "KeyboardInterrupt",
     "evalue": "",
     "output_type": "error",
     "traceback": [
      "\u001b[0;31m---------------------------------------------------------------------------\u001b[0m",
      "\u001b[0;31mKeyboardInterrupt\u001b[0m                         Traceback (most recent call last)",
      "\u001b[1;32m/home/xx/Documents/pet-projects/disco-llm/convert_raw.ipynb Cell 14\u001b[0m line \u001b[0;36m1\n\u001b[1;32m     <a href='vscode-notebook-cell:/home/xx/Documents/pet-projects/disco-llm/convert_raw.ipynb#X16sZmlsZQ%3D%3D?line=10'>11</a>\u001b[0m \u001b[39mif\u001b[39;00m counter \u001b[39m%\u001b[39m \u001b[39m250000\u001b[39m \u001b[39m==\u001b[39m \u001b[39m0\u001b[39m:\n\u001b[1;32m     <a href='vscode-notebook-cell:/home/xx/Documents/pet-projects/disco-llm/convert_raw.ipynb#X16sZmlsZQ%3D%3D?line=11'>12</a>\u001b[0m     \u001b[39mprint\u001b[39m(counter, \u001b[39mlen\u001b[39m(going_path_list))\n\u001b[0;32m---> <a href='vscode-notebook-cell:/home/xx/Documents/pet-projects/disco-llm/convert_raw.ipynb#X16sZmlsZQ%3D%3D?line=13'>14</a>\u001b[0m cur_path \u001b[39m=\u001b[39m going_path_list\u001b[39m.\u001b[39;49mpop(\u001b[39m0\u001b[39;49m)\n\u001b[1;32m     <a href='vscode-notebook-cell:/home/xx/Documents/pet-projects/disco-llm/convert_raw.ipynb#X16sZmlsZQ%3D%3D?line=14'>15</a>\u001b[0m path_to_add, final_path \u001b[39m=\u001b[39m add_one_node(cur_path)\n\u001b[1;32m     <a href='vscode-notebook-cell:/home/xx/Documents/pet-projects/disco-llm/convert_raw.ipynb#X16sZmlsZQ%3D%3D?line=15'>16</a>\u001b[0m going_path_list\u001b[39m.\u001b[39mextend(path_to_add)\n",
      "\u001b[0;31mKeyboardInterrupt\u001b[0m: "
     ]
    }
   ],
   "source": [
    "going_path_list = [({(11, 0): None}, (11, 0)), ({(12, 0): None}, (12, 0))]\n",
    "#going_path_list = [({(10, 0): None}, (10, 0))]\n",
    "constr = set([i[1][0] for i in going_path_list])\n",
    "final_path_list = []\n",
    "\n",
    "counter = 0\n",
    "with tqdm(desc=f'Convs: {constr}') as bar:\n",
    "    \n",
    "    while len(going_path_list) > 0:\n",
    "        counter += 1\n",
    "        if counter % 250000 == 0:\n",
    "            print(counter, len(going_path_list))\n",
    "            \n",
    "        cur_path = going_path_list.pop(0)\n",
    "        path_to_add, final_path = add_one_node(cur_path)\n",
    "        going_path_list.extend(path_to_add)\n",
    "        if final_path is not None:\n",
    "            final_path_list.append(final_path)\n",
    "        bar.update(1)\n",
    "print(len(final_path_list) == 78106, len(final_path_list))"
   ]
  },
  {
   "cell_type": "code",
   "execution_count": 17,
   "metadata": {},
   "outputs": [],
   "source": [
    "from multiprocessing import Lock, Process, Queue, Pool\n",
    "\n",
    "def do_job(going_path_list):\n",
    "    print(len(going_path_list))\n",
    "    final_path_list = []\n",
    "    while len(going_path_list) > 0:\n",
    "        cur_path = going_path_list.pop()\n",
    "        path_to_add, final_path = add_one_node(cur_path)\n",
    "        going_path_list.extend(path_to_add)\n",
    "        if final_path is not None:\n",
    "            final_path_list.append(final_path)\n",
    "    return final_path_list"
   ]
  },
  {
   "cell_type": "code",
   "execution_count": 38,
   "metadata": {},
   "outputs": [
    {
     "name": "stderr",
     "output_type": "stream",
     "text": [
      "Convs: {10}: 0it [00:00, ?it/s]"
     ]
    },
    {
     "name": "stderr",
     "output_type": "stream",
     "text": [
      "Convs: {10}: 249999it [00:03, 73073.78it/s]\n"
     ]
    }
   ],
   "source": [
    "#going_path_list = [({(11, 0): None}, (11, 0)), ({(12, 0): None}, (12, 0))]\n",
    "going_path_list = [({(10, 0): None}, (10, 0))]\n",
    "constr = set([i[1][0] for i in going_path_list])\n",
    "final_path_list = []\n",
    "\n",
    "counter = 0\n",
    "with tqdm(desc=f'Convs: {constr}') as bar:\n",
    "    \n",
    "    while len(going_path_list) > 0:\n",
    "        counter += 1\n",
    "        if counter % 250000 == 0:\n",
    "            break\n",
    "            \n",
    "        cur_path = going_path_list.pop(0)\n",
    "        path_to_add, final_path = add_one_node(cur_path)\n",
    "        going_path_list.extend(path_to_add)\n",
    "        if final_path is not None:\n",
    "            final_path_list.append(final_path)\n",
    "        bar.update(1)\n",
    "#print(len(final_path_list) == 78106, len(final_path_list))"
   ]
  },
  {
   "cell_type": "code",
   "execution_count": 40,
   "metadata": {},
   "outputs": [],
   "source": [
    "pr = 8\n",
    "args = []\n",
    "for i in range(pr):\n",
    "    args.append(going_path_list[i::pr])"
   ]
  },
  {
   "cell_type": "code",
   "execution_count": 41,
   "metadata": {},
   "outputs": [
    {
     "name": "stdout",
     "output_type": "stream",
     "text": [
      "12743\n",
      "12743\n",
      "12743\n",
      "12743\n",
      "12742\n",
      "12742\n",
      "12742\n",
      "12742\n"
     ]
    }
   ],
   "source": [
    "pr = 8\n",
    "args = []\n",
    "for i in range(pr):\n",
    "    args.append(going_path_list[i::pr])\n",
    "with Pool(pr) as p:\n",
    "    \n",
    "    answer = p.map(do_job, args)"
   ]
  },
  {
   "cell_type": "code",
   "execution_count": 42,
   "metadata": {},
   "outputs": [
    {
     "data": {
      "text/plain": [
       "60568"
      ]
     },
     "execution_count": 42,
     "metadata": {},
     "output_type": "execute_result"
    }
   ],
   "source": [
    "sum([len(i) for i in answer]) + len(final_path_list)"
   ]
  },
  {
   "cell_type": "code",
   "execution_count": null,
   "metadata": {},
   "outputs": [],
   "source": [
    "str_final_path_list = []\n",
    "for i in final_path_list:\n",
    "    str_final_path_list.append(str(i))\n",
    "\n",
    "with open('tmp.json', 'w') as f:\n",
    "    json.dump(str_final_path_list, f, indent=2)\n",
    "\n",
    "max([len(i) for i in going_path_list])"
   ]
  },
  {
   "cell_type": "code",
   "execution_count": null,
   "metadata": {},
   "outputs": [],
   "source": []
  },
  {
   "cell_type": "code",
   "execution_count": null,
   "metadata": {},
   "outputs": [],
   "source": []
  },
  {
   "cell_type": "code",
   "execution_count": null,
   "metadata": {},
   "outputs": [],
   "source": []
  },
  {
   "cell_type": "code",
   "execution_count": null,
   "metadata": {},
   "outputs": [],
   "source": []
  },
  {
   "cell_type": "code",
   "execution_count": null,
   "metadata": {},
   "outputs": [],
   "source": []
  },
  {
   "cell_type": "code",
   "execution_count": null,
   "metadata": {},
   "outputs": [],
   "source": []
  },
  {
   "cell_type": "code",
   "execution_count": null,
   "metadata": {},
   "outputs": [],
   "source": []
  },
  {
   "cell_type": "markdown",
   "metadata": {},
   "source": [
    "# Plotting stuff"
   ]
  },
  {
   "cell_type": "code",
   "execution_count": 13,
   "metadata": {},
   "outputs": [],
   "source": [
    "idx = 39\n",
    "canva = dia_table.loc[idx].loc[:, ['canvasRect_x', 'canvasRect_y', 'outgoingLinks', 'Dialogue Text']]"
   ]
  },
  {
   "cell_type": "code",
   "execution_count": 20,
   "metadata": {},
   "outputs": [],
   "source": [
    "def plot_conv(dia_table, inp_conv_id):\n",
    "    #idx = 100\n",
    "    canva = dia_table.loc[inp_conv_id].loc[:, ['canvasRect_x', 'canvasRect_y', 'outgoingLinks', 'Dialogue Text']]\n",
    "\n",
    "    colors = ['#872341', '#2d98b5']\n",
    "    dot_color = '#BE3144'\n",
    "    bg_color = '#22092C'\n",
    "\n",
    "    fig = go.Figure()\n",
    "    fig.add_trace(go.Scatter(\n",
    "        x=canva['canvasRect_x'],\n",
    "        y=canva['canvasRect_y'],\n",
    "        text=canva.index,#['Dialogue Text'],\n",
    "        mode=\"markers\",\n",
    "        marker=dict(color=dot_color, )#size=2)\n",
    "    ))\n",
    "\n",
    "    for self_dia_id, other in canva.iterrows():\n",
    "        \n",
    "        x0 = other['canvasRect_x']\n",
    "        y0 = other['canvasRect_y']\n",
    "        links = other['outgoingLinks']\n",
    "        for conv_id, dia_id in links:\n",
    "            if conv_id != inp_conv_id:\n",
    "                continue\n",
    "\n",
    "            x2, y2 = canva.loc[dia_id][['canvasRect_x', 'canvasRect_y']]\n",
    "            x1, y1 = (x0 + x2)/2, (y0 + y2)/2\n",
    "            \n",
    "            fig.add_trace(go.Scatter(\n",
    "                x=[x0, x1], y=[y0, y1], showlegend=False, hoverinfo='none',\n",
    "                mode=\"lines\", line=dict(width=0.5, color=colors[0])))\n",
    "            \n",
    "            fig.add_trace(go.Scatter(\n",
    "                x=[x1, x2], y=[y1, y2], showlegend=False,  hoverinfo='none',\n",
    "                mode=\"lines\", line=dict(width=0.5, color=colors[1])))\n",
    "\n",
    "    fig.update_layout(\n",
    "        autosize=False,\n",
    "        #xaxis=dict(visible=False),\n",
    "        #yaxis=dict(visible=False),\n",
    "        #template='plotly_dark',\n",
    "        width=1500,\n",
    "        height=1000,\n",
    "        margin=dict(l=0, r=0, b=0, t=0, pad=0),\n",
    "        plot_bgcolor=bg_color,\n",
    "        paper_bgcolor=bg_color,\n",
    "    )\n",
    "\n",
    "    fig.update_shapes(dict(xref='x', yref='y'))\n",
    "    return fig"
   ]
  },
  {
   "cell_type": "code",
   "execution_count": 21,
   "metadata": {},
   "outputs": [],
   "source": [
    "def plot_3d_conv(dia_table, from_idx, to_idx):\n",
    "    #idx = 100\n",
    "    canva = dia_table.loc[from_idx:to_idx].loc[:, ['canvasRect_x', 'canvasRect_y', 'outgoingLinks', 'Dialogue Text']]\n",
    "\n",
    "    colors = ['#872341', '#2d98b5']\n",
    "    dot_color = '#BE3144'\n",
    "    bg_color = '#22092C'\n",
    "\n",
    "    fig = go.Figure()\n",
    "    fig.add_trace(go.Scatter3d(\n",
    "        x=canva['canvasRect_x'],\n",
    "        y=canva['canvasRect_y'],\n",
    "        z=canva.index.get_level_values(0),\n",
    "        text=canva['Dialogue Text'],\n",
    "        mode=\"markers\",\n",
    "        marker=dict(color=dot_color, size=2)\n",
    "    ))\n",
    "\n",
    "    for (self_conv_id, self_dia_id), other in canva.iterrows():\n",
    "        \n",
    "        x0 = other['canvasRect_x']\n",
    "        y0 = other['canvasRect_y']\n",
    "        z0 = self_conv_id\n",
    "        links = other['outgoingLinks']\n",
    "        for conv_id, dia_id in links:\n",
    "            if conv_id not in canva.index:\n",
    "                continue\n",
    "            z2 = conv_id\n",
    "            x2, y2 = canva.loc[conv_id, dia_id][['canvasRect_x', 'canvasRect_y']]\n",
    "            \n",
    "            x1, y1, z1 = (x0 + x2)/2, (y0 + y2)/2, (z0 + z2)/2\n",
    "            fig.add_trace(go.Scatter3d(\n",
    "                x=[x0, x1], y=[y0, y1], z=[z0, z1], showlegend=False, hoverinfo='none',\n",
    "                mode=\"lines\", line=dict(width=0.5, color=colors[0])))\n",
    "            \n",
    "            fig.add_trace(go.Scatter3d(\n",
    "                x=[x1, x2], y=[y1, y2], z=[z1, z2],showlegend=False,  hoverinfo='none',\n",
    "                mode=\"lines\", line=dict(width=0.5, color=colors[1])))\n",
    "\n",
    "    fig.update_layout(\n",
    "        autosize=False,\n",
    "        #xaxis=dict(visible=False),\n",
    "        #yaxis=dict(visible=False),\n",
    "        #template='plotly_dark',\n",
    "        width=1500,\n",
    "        height=1000,\n",
    "        margin=dict(l=0, r=0, b=0, t=0, pad=0),\n",
    "        plot_bgcolor=bg_color,\n",
    "        paper_bgcolor=bg_color,\n",
    "    )\n",
    "\n",
    "    fig.update_shapes(dict(xref='x', yref='y'))\n",
    "    return fig"
   ]
  },
  {
   "cell_type": "code",
   "execution_count": 22,
   "metadata": {},
   "outputs": [
    {
     "ename": "TypeError",
     "evalue": "plot_3d_conv() missing 1 required positional argument: 'to_idx'",
     "output_type": "error",
     "traceback": [
      "\u001b[0;31m---------------------------------------------------------------------------\u001b[0m",
      "\u001b[0;31mTypeError\u001b[0m                                 Traceback (most recent call last)",
      "\u001b[1;32m/home/xx/Documents/pet-projects/disco-llm/convert_raw.ipynb Cell 32\u001b[0m line \u001b[0;36m1\n\u001b[0;32m----> <a href='vscode-notebook-cell:/home/xx/Documents/pet-projects/disco-llm/convert_raw.ipynb#X43sZmlsZQ%3D%3D?line=0'>1</a>\u001b[0m fig \u001b[39m=\u001b[39m plot_3d_conv(\u001b[39m1\u001b[39;49m, \u001b[39m14\u001b[39;49m)\n\u001b[1;32m      <a href='vscode-notebook-cell:/home/xx/Documents/pet-projects/disco-llm/convert_raw.ipynb#X43sZmlsZQ%3D%3D?line=1'>2</a>\u001b[0m fig\u001b[39m.\u001b[39mshow()\n",
      "\u001b[0;31mTypeError\u001b[0m: plot_3d_conv() missing 1 required positional argument: 'to_idx'"
     ]
    }
   ],
   "source": [
    "fig = plot_3d_conv(1, 14)\n",
    "fig.show()"
   ]
  },
  {
   "cell_type": "code",
   "execution_count": 23,
   "metadata": {},
   "outputs": [
    {
     "data": {
      "application/vnd.plotly.v1+json": {
       "config": {
        "plotlyServerURL": "https://plot.ly"
       },
       "data": [
        {
         "marker": {
          "color": "#BE3144"
         },
         "mode": "markers",
         "text": [
          0,
          1,
          2,
          3,
          4,
          5,
          6,
          7,
          8,
          9,
          10,
          11,
          12,
          13,
          14,
          15,
          16,
          17,
          18,
          19,
          20,
          21,
          22,
          23,
          24,
          25,
          26,
          27,
          28,
          29,
          30,
          31,
          32,
          33,
          34,
          35,
          36,
          37,
          38,
          39,
          41,
          42,
          43,
          44,
          45,
          46,
          47,
          48,
          49,
          50,
          51,
          52,
          53,
          54,
          55,
          56,
          57,
          58,
          59,
          60,
          61,
          62,
          63,
          64,
          65,
          66,
          67,
          68,
          69,
          70,
          71,
          72,
          73,
          74,
          75,
          76,
          77,
          78,
          79,
          80,
          81,
          82,
          83,
          84,
          85,
          86,
          87,
          88,
          89,
          90,
          91,
          92,
          93,
          94,
          95,
          96,
          97,
          98,
          99,
          100,
          101,
          102,
          103,
          104,
          105,
          106,
          107,
          108,
          109,
          110,
          111,
          112,
          113,
          114,
          115,
          116,
          117,
          118,
          119,
          120,
          121,
          122,
          123,
          124,
          125,
          126,
          127,
          128,
          129,
          130,
          131,
          132,
          133,
          134,
          135,
          136,
          137,
          138,
          139,
          140,
          141,
          142,
          143,
          144,
          145,
          146,
          147,
          148,
          149,
          150,
          151,
          152,
          153,
          154,
          155,
          156,
          157,
          158,
          159,
          160,
          161,
          162,
          163,
          164,
          165,
          166,
          167,
          168,
          169,
          170,
          171,
          172,
          173,
          174,
          175,
          176,
          177,
          178,
          179,
          180,
          181,
          182,
          183,
          184,
          185,
          186,
          187,
          188,
          189,
          190,
          191,
          192,
          193,
          194,
          195,
          196,
          197,
          198,
          199,
          200,
          201,
          202,
          203,
          204,
          205,
          206,
          207,
          208,
          209,
          210,
          211,
          212,
          213,
          214,
          215,
          216
         ],
         "type": "scatter",
         "x": [
          0,
          0,
          3181.99976,
          6530,
          4773,
          7588.99951,
          3563,
          2315.95,
          2315.95,
          7342,
          8246,
          4025.00024,
          7780.00049,
          5057,
          5057,
          -742,
          -425.000031,
          6348.99951,
          5891,
          5253,
          8235,
          3459,
          2248.34985,
          2248.34985,
          3439,
          4048,
          5535,
          5234,
          6937,
          11129,
          3366.99976,
          2188.5498,
          2188.5498,
          1625,
          1056.25,
          1056.25,
          3428,
          2228.2,
          2228.2,
          8080.00049,
          525,
          4160,
          6937,
          5210,
          4644,
          4756,
          7188.99951,
          4672.84961,
          4672.84961,
          7883.99951,
          5542,
          4083,
          6229,
          7035.00049,
          4305,
          6348.99951,
          6328.99951,
          10798,
          11436,
          1950.00012,
          3158,
          6237,
          3755.00024,
          3780.00024,
          7480.00049,
          4849,
          6633,
          4321,
          4325,
          5584,
          3629.59985,
          3629.59985,
          5910,
          6653.99951,
          6044,
          3744,
          7572,
          1950.00012,
          5067,
          6513,
          6074,
          3746,
          1625,
          1056.25,
          1056.25,
          2896,
          4471,
          4638,
          6521,
          6788.99951,
          5764,
          3780.00024,
          3936.99976,
          2559.0498,
          2559.0498,
          8380,
          5147,
          3430.00024,
          5234,
          7036,
          9545,
          9884,
          7153.99951,
          4650.09961,
          4650.09961,
          1950.00012,
          4761,
          8344,
          3141,
          4050.00024,
          5254,
          7487,
          7463,
          7780.00049,
          5057,
          5057,
          8891,
          1950.00012,
          3131,
          3860.00024,
          4333,
          4041,
          6728,
          6076,
          6357,
          11733,
          1625,
          1056.25,
          1056.25,
          -1325,
          -975.000061,
          195,
          4468,
          3430.00024,
          3791.99976,
          10178,
          4330,
          4321,
          1625,
          1056.25,
          1056.25,
          1943,
          1943,
          6737,
          4379.05,
          4379.05,
          -100,
          2450,
          4632,
          5047,
          6229,
          6833,
          -725,
          4770,
          4918,
          6074,
          6370,
          3484,
          7251,
          3144,
          3080,
          4333,
          8585,
          12363,
          4341,
          3743,
          4441,
          2886.65,
          2886.65,
          -2025.00012,
          2779,
          6023,
          3763,
          4048,
          4928,
          3203.2,
          3203.2,
          9183,
          10499,
          8530,
          3620.00024,
          2353,
          2353,
          1625,
          1056.25,
          1056.25,
          4372,
          2841.7998,
          2841.7998,
          3286.99976,
          5432,
          5737,
          12020,
          3456.99976,
          2247.0498,
          2247.0498,
          -1625,
          -1056.25,
          -1056.25,
          4441,
          2886.65,
          2886.65,
          7141,
          4641.65,
          4641.65,
          8680,
          -1325,
          5657,
          5155,
          5434,
          4759,
          5351,
          5234,
          3446.99976,
          2240.5498,
          2240.5498
         ],
         "y": [
          0,
          0,
          -1473,
          -21,
          332,
          2778,
          -487,
          -316.55,
          -316.55,
          -514,
          2185,
          206.999985,
          1770.00012,
          1150.5,
          1150.5,
          179,
          175,
          -942.999939,
          -1684,
          -2108,
          2499,
          113,
          73.45,
          73.45,
          1082,
          -1734,
          -2121,
          -170,
          907,
          2207,
          2510,
          1631.5,
          1631.5,
          600,
          390,
          390,
          1531,
          995.149963,
          995.149963,
          1595,
          175,
          -569,
          -969,
          -1424,
          -1137,
          864,
          2953,
          1919.45,
          1919.45,
          2774,
          -1850.00012,
          495.000031,
          -508.999969,
          -307,
          1690.00012,
          894,
          2431,
          2190,
          2189,
          -105.999992,
          1108,
          -12,
          490.000031,
          1365,
          1715.00012,
          -275,
          -961,
          -1475,
          -1740.00012,
          84,
          54.6,
          54.6,
          0,
          912,
          2443,
          189,
          2015.99988,
          -400,
          654,
          -259,
          1421,
          -249,
          100,
          65,
          65,
          -1450,
          -713,
          -1450,
          -508.999969,
          -259,
          1178,
          1640,
          2070,
          1345.5,
          1345.5,
          1595,
          -681,
          490.000031,
          79,
          -528,
          2203,
          2218,
          2219,
          1442.35,
          1442.35,
          193,
          601,
          2931,
          1943,
          -1175,
          -1848,
          1184,
          2225,
          2295,
          1491.75,
          1491.75,
          2218,
          475.000031,
          495.000031,
          -747,
          2846,
          -1443,
          1420,
          663,
          664,
          2203,
          825,
          536.25,
          536.25,
          75,
          -100,
          170,
          -467,
          1915.00012,
          -1364,
          2211,
          2568,
          1954,
          325,
          211.249985,
          211.249985,
          750,
          1025,
          2495,
          1621.75,
          1621.75,
          175,
          100,
          -1730.99988,
          1247,
          -259,
          -3,
          675,
          -736,
          -1451,
          921,
          1394,
          -1470,
          -909,
          1471,
          2465,
          -1174,
          2198,
          2219,
          2269,
          -28,
          784,
          509.599976,
          509.599976,
          350,
          206.999985,
          -966,
          1108,
          1082,
          -1675.00012,
          -1088.75,
          -1088.75,
          2191,
          2218,
          2524,
          2325,
          1511.25,
          1511.25,
          -225.000015,
          -146.25,
          -146.25,
          1169,
          759.85,
          759.85,
          -534,
          -960.000061,
          -946,
          2186,
          244,
          158.599991,
          158.599991,
          250.000015,
          162.5,
          162.5,
          584,
          379.599976,
          379.599976,
          2019,
          1312.35,
          1312.35,
          1770.00012,
          325,
          -139,
          -947,
          -689,
          1260,
          1253,
          -425.000031,
          -38,
          -24.6999989,
          -24.6999989
         ]
        },
        {
         "hoverinfo": "none",
         "line": {
          "color": "#872341",
          "width": 0.5
         },
         "mode": "lines",
         "showlegend": false,
         "type": "scatter",
         "x": [
          0,
          0
         ],
         "y": [
          0,
          0
         ]
        },
        {
         "hoverinfo": "none",
         "line": {
          "color": "#2d98b5",
          "width": 0.5
         },
         "mode": "lines",
         "showlegend": false,
         "type": "scatter",
         "x": [
          0,
          0
         ],
         "y": [
          0,
          0
         ]
        },
        {
         "hoverinfo": "none",
         "line": {
          "color": "#872341",
          "width": 0.5
         },
         "mode": "lines",
         "showlegend": false,
         "type": "scatter",
         "x": [
          0,
          -1012.50006
         ],
         "y": [
          0,
          175
         ]
        },
        {
         "hoverinfo": "none",
         "line": {
          "color": "#2d98b5",
          "width": 0.5
         },
         "mode": "lines",
         "showlegend": false,
         "type": "scatter",
         "x": [
          -1012.50006,
          -2025.00012
         ],
         "y": [
          175,
          350
         ]
        },
        {
         "hoverinfo": "none",
         "line": {
          "color": "#872341",
          "width": 0.5
         },
         "mode": "lines",
         "showlegend": false,
         "type": "scatter",
         "x": [
          3181.99976,
          3332.9998800000003
         ],
         "y": [
          -1473,
          -1471.5
         ]
        },
        {
         "hoverinfo": "none",
         "line": {
          "color": "#2d98b5",
          "width": 0.5
         },
         "mode": "lines",
         "showlegend": false,
         "type": "scatter",
         "x": [
          3332.9998800000003,
          3484
         ],
         "y": [
          -1471.5,
          -1470
         ]
        },
        {
         "hoverinfo": "none",
         "line": {
          "color": "#872341",
          "width": 0.5
         },
         "mode": "lines",
         "showlegend": false,
         "type": "scatter",
         "x": [
          6530,
          6681.5
         ],
         "y": [
          -21,
          -12
         ]
        },
        {
         "hoverinfo": "none",
         "line": {
          "color": "#2d98b5",
          "width": 0.5
         },
         "mode": "lines",
         "showlegend": false,
         "type": "scatter",
         "x": [
          6681.5,
          6833
         ],
         "y": [
          -12,
          -3
         ]
        },
        {
         "hoverinfo": "none",
         "line": {
          "color": "#872341",
          "width": 0.5
         },
         "mode": "lines",
         "showlegend": false,
         "type": "scatter",
         "x": [
          4773,
          4920
         ],
         "y": [
          332,
          493
         ]
        },
        {
         "hoverinfo": "none",
         "line": {
          "color": "#2d98b5",
          "width": 0.5
         },
         "mode": "lines",
         "showlegend": false,
         "type": "scatter",
         "x": [
          4920,
          5067
         ],
         "y": [
          493,
          654
         ]
        },
        {
         "hoverinfo": "none",
         "line": {
          "color": "#872341",
          "width": 0.5
         },
         "mode": "lines",
         "showlegend": false,
         "type": "scatter",
         "x": [
          7588.99951,
          7736.49951
         ],
         "y": [
          2778,
          2776
         ]
        },
        {
         "hoverinfo": "none",
         "line": {
          "color": "#2d98b5",
          "width": 0.5
         },
         "mode": "lines",
         "showlegend": false,
         "type": "scatter",
         "x": [
          7736.49951,
          7883.99951
         ],
         "y": [
          2776,
          2774
         ]
        },
        {
         "hoverinfo": "none",
         "line": {
          "color": "#872341",
          "width": 0.5
         },
         "mode": "lines",
         "showlegend": false,
         "type": "scatter",
         "x": [
          3563,
          2939.475
         ],
         "y": [
          -487,
          -401.775
         ]
        },
        {
         "hoverinfo": "none",
         "line": {
          "color": "#2d98b5",
          "width": 0.5
         },
         "mode": "lines",
         "showlegend": false,
         "type": "scatter",
         "x": [
          2939.475,
          2315.95
         ],
         "y": [
          -401.775,
          -316.55
         ]
        },
        {
         "hoverinfo": "none",
         "line": {
          "color": "#872341",
          "width": 0.5
         },
         "mode": "lines",
         "showlegend": false,
         "type": "scatter",
         "x": [
          3563,
          2939.475
         ],
         "y": [
          -487,
          -401.775
         ]
        },
        {
         "hoverinfo": "none",
         "line": {
          "color": "#2d98b5",
          "width": 0.5
         },
         "mode": "lines",
         "showlegend": false,
         "type": "scatter",
         "x": [
          2939.475,
          2315.95
         ],
         "y": [
          -401.775,
          -316.55
         ]
        },
        {
         "hoverinfo": "none",
         "line": {
          "color": "#872341",
          "width": 0.5
         },
         "mode": "lines",
         "showlegend": false,
         "type": "scatter",
         "x": [
          2315.95,
          3087.97512
         ],
         "y": [
          -316.55,
          -531.775
         ]
        },
        {
         "hoverinfo": "none",
         "line": {
          "color": "#2d98b5",
          "width": 0.5
         },
         "mode": "lines",
         "showlegend": false,
         "type": "scatter",
         "x": [
          3087.97512,
          3860.00024
         ],
         "y": [
          -531.775,
          -747
         ]
        },
        {
         "hoverinfo": "none",
         "line": {
          "color": "#872341",
          "width": 0.5
         },
         "mode": "lines",
         "showlegend": false,
         "type": "scatter",
         "x": [
          2315.95,
          3237.975
         ],
         "y": [
          -316.55,
          -442.775
         ]
        },
        {
         "hoverinfo": "none",
         "line": {
          "color": "#2d98b5",
          "width": 0.5
         },
         "mode": "lines",
         "showlegend": false,
         "type": "scatter",
         "x": [
          3237.975,
          4160
         ],
         "y": [
          -442.775,
          -569
         ]
        },
        {
         "hoverinfo": "none",
         "line": {
          "color": "#872341",
          "width": 0.5
         },
         "mode": "lines",
         "showlegend": false,
         "type": "scatter",
         "x": [
          7342,
          6056
         ],
         "y": [
          -514,
          -625
         ]
        },
        {
         "hoverinfo": "none",
         "line": {
          "color": "#2d98b5",
          "width": 0.5
         },
         "mode": "lines",
         "showlegend": false,
         "type": "scatter",
         "x": [
          6056,
          4770
         ],
         "y": [
          -625,
          -736
         ]
        },
        {
         "hoverinfo": "none",
         "line": {
          "color": "#872341",
          "width": 0.5
         },
         "mode": "lines",
         "showlegend": false,
         "type": "scatter",
         "x": [
          8246,
          8415.5
         ],
         "y": [
          2185,
          2191.5
         ]
        },
        {
         "hoverinfo": "none",
         "line": {
          "color": "#2d98b5",
          "width": 0.5
         },
         "mode": "lines",
         "showlegend": false,
         "type": "scatter",
         "x": [
          8415.5,
          8585
         ],
         "y": [
          2191.5,
          2198
         ]
        },
        {
         "hoverinfo": "none",
         "line": {
          "color": "#872341",
          "width": 0.5
         },
         "mode": "lines",
         "showlegend": false,
         "type": "scatter",
         "x": [
          4025.00024,
          4054.0001199999997
         ],
         "y": [
          206.999985,
          351.000008
         ]
        },
        {
         "hoverinfo": "none",
         "line": {
          "color": "#2d98b5",
          "width": 0.5
         },
         "mode": "lines",
         "showlegend": false,
         "type": "scatter",
         "x": [
          4054.0001199999997,
          4083
         ],
         "y": [
          351.000008,
          495.000031
         ]
        },
        {
         "hoverinfo": "none",
         "line": {
          "color": "#872341",
          "width": 0.5
         },
         "mode": "lines",
         "showlegend": false,
         "type": "scatter",
         "x": [
          7780.00049,
          6418.500245
         ],
         "y": [
          1770.00012,
          1460.2500599999998
         ]
        },
        {
         "hoverinfo": "none",
         "line": {
          "color": "#2d98b5",
          "width": 0.5
         },
         "mode": "lines",
         "showlegend": false,
         "type": "scatter",
         "x": [
          6418.500245,
          5057
         ],
         "y": [
          1460.2500599999998,
          1150.5
         ]
        },
        {
         "hoverinfo": "none",
         "line": {
          "color": "#872341",
          "width": 0.5
         },
         "mode": "lines",
         "showlegend": false,
         "type": "scatter",
         "x": [
          7780.00049,
          6418.500245
         ],
         "y": [
          1770.00012,
          1460.2500599999998
         ]
        },
        {
         "hoverinfo": "none",
         "line": {
          "color": "#2d98b5",
          "width": 0.5
         },
         "mode": "lines",
         "showlegend": false,
         "type": "scatter",
         "x": [
          6418.500245,
          5057
         ],
         "y": [
          1460.2500599999998,
          1150.5
         ]
        },
        {
         "hoverinfo": "none",
         "line": {
          "color": "#872341",
          "width": 0.5
         },
         "mode": "lines",
         "showlegend": false,
         "type": "scatter",
         "x": [
          5057,
          6568.500245
         ],
         "y": [
          1150.5,
          1372.75
         ]
        },
        {
         "hoverinfo": "none",
         "line": {
          "color": "#2d98b5",
          "width": 0.5
         },
         "mode": "lines",
         "showlegend": false,
         "type": "scatter",
         "x": [
          6568.500245,
          8080.00049
         ],
         "y": [
          1372.75,
          1595
         ]
        },
        {
         "hoverinfo": "none",
         "line": {
          "color": "#872341",
          "width": 0.5
         },
         "mode": "lines",
         "showlegend": false,
         "type": "scatter",
         "x": [
          5057,
          6868.5
         ],
         "y": [
          1150.5,
          1460.2500599999998
         ]
        },
        {
         "hoverinfo": "none",
         "line": {
          "color": "#2d98b5",
          "width": 0.5
         },
         "mode": "lines",
         "showlegend": false,
         "type": "scatter",
         "x": [
          6868.5,
          8680
         ],
         "y": [
          1460.2500599999998,
          1770.00012
         ]
        },
        {
         "hoverinfo": "none",
         "line": {
          "color": "#872341",
          "width": 0.5
         },
         "mode": "lines",
         "showlegend": false,
         "type": "scatter",
         "x": [
          -742,
          -583.5000155
         ],
         "y": [
          179,
          177
         ]
        },
        {
         "hoverinfo": "none",
         "line": {
          "color": "#2d98b5",
          "width": 0.5
         },
         "mode": "lines",
         "showlegend": false,
         "type": "scatter",
         "x": [
          -583.5000155,
          -425.000031
         ],
         "y": [
          177,
          175
         ]
        },
        {
         "hoverinfo": "none",
         "line": {
          "color": "#872341",
          "width": 0.5
         },
         "mode": "lines",
         "showlegend": false,
         "type": "scatter",
         "x": [
          -425.000031,
          -262.5000155
         ],
         "y": [
          175,
          175
         ]
        },
        {
         "hoverinfo": "none",
         "line": {
          "color": "#2d98b5",
          "width": 0.5
         },
         "mode": "lines",
         "showlegend": false,
         "type": "scatter",
         "x": [
          -262.5000155,
          -100
         ],
         "y": [
          175,
          175
         ]
        },
        {
         "hoverinfo": "none",
         "line": {
          "color": "#872341",
          "width": 0.5
         },
         "mode": "lines",
         "showlegend": false,
         "type": "scatter",
         "x": [
          -425.000031,
          -575.0000155
         ],
         "y": [
          175,
          425
         ]
        },
        {
         "hoverinfo": "none",
         "line": {
          "color": "#2d98b5",
          "width": 0.5
         },
         "mode": "lines",
         "showlegend": false,
         "type": "scatter",
         "x": [
          -575.0000155,
          -725
         ],
         "y": [
          425,
          675
         ]
        },
        {
         "hoverinfo": "none",
         "line": {
          "color": "#872341",
          "width": 0.5
         },
         "mode": "lines",
         "showlegend": false,
         "type": "scatter",
         "x": [
          6348.99951,
          6490.999755
         ],
         "y": [
          -942.999939,
          -951.9999695
         ]
        },
        {
         "hoverinfo": "none",
         "line": {
          "color": "#2d98b5",
          "width": 0.5
         },
         "mode": "lines",
         "showlegend": false,
         "type": "scatter",
         "x": [
          6490.999755,
          6633
         ],
         "y": [
          -951.9999695,
          -961
         ]
        },
        {
         "hoverinfo": "none",
         "line": {
          "color": "#872341",
          "width": 0.5
         },
         "mode": "lines",
         "showlegend": false,
         "type": "scatter",
         "x": [
          5891,
          4841.49988
         ],
         "y": [
          -1684,
          -1524
         ]
        },
        {
         "hoverinfo": "none",
         "line": {
          "color": "#2d98b5",
          "width": 0.5
         },
         "mode": "lines",
         "showlegend": false,
         "type": "scatter",
         "x": [
          4841.49988,
          3791.99976
         ],
         "y": [
          -1524,
          -1364
         ]
        },
        {
         "hoverinfo": "none",
         "line": {
          "color": "#872341",
          "width": 0.5
         },
         "mode": "lines",
         "showlegend": false,
         "type": "scatter",
         "x": [
          5253,
          5394
         ],
         "y": [
          -2108,
          -2114.5
         ]
        },
        {
         "hoverinfo": "none",
         "line": {
          "color": "#2d98b5",
          "width": 0.5
         },
         "mode": "lines",
         "showlegend": false,
         "type": "scatter",
         "x": [
          5394,
          5535
         ],
         "y": [
          -2114.5,
          -2121
         ]
        },
        {
         "hoverinfo": "none",
         "line": {
          "color": "#872341",
          "width": 0.5
         },
         "mode": "lines",
         "showlegend": false,
         "type": "scatter",
         "x": [
          8235,
          8382.5
         ],
         "y": [
          2499,
          2511.5
         ]
        },
        {
         "hoverinfo": "none",
         "line": {
          "color": "#2d98b5",
          "width": 0.5
         },
         "mode": "lines",
         "showlegend": false,
         "type": "scatter",
         "x": [
          8382.5,
          8530
         ],
         "y": [
          2511.5,
          2524
         ]
        },
        {
         "hoverinfo": "none",
         "line": {
          "color": "#872341",
          "width": 0.5
         },
         "mode": "lines",
         "showlegend": false,
         "type": "scatter",
         "x": [
          3459,
          2853.6749250000003
         ],
         "y": [
          113,
          93.225
         ]
        },
        {
         "hoverinfo": "none",
         "line": {
          "color": "#2d98b5",
          "width": 0.5
         },
         "mode": "lines",
         "showlegend": false,
         "type": "scatter",
         "x": [
          2853.6749250000003,
          2248.34985
         ],
         "y": [
          93.225,
          73.45
         ]
        },
        {
         "hoverinfo": "none",
         "line": {
          "color": "#872341",
          "width": 0.5
         },
         "mode": "lines",
         "showlegend": false,
         "type": "scatter",
         "x": [
          3459,
          2853.6749250000003
         ],
         "y": [
          113,
          93.225
         ]
        },
        {
         "hoverinfo": "none",
         "line": {
          "color": "#2d98b5",
          "width": 0.5
         },
         "mode": "lines",
         "showlegend": false,
         "type": "scatter",
         "x": [
          2853.6749250000003,
          2248.34985
         ],
         "y": [
          93.225,
          73.45
         ]
        },
        {
         "hoverinfo": "none",
         "line": {
          "color": "#872341",
          "width": 0.5
         },
         "mode": "lines",
         "showlegend": false,
         "type": "scatter",
         "x": [
          2248.34985,
          2995.6749250000003
         ],
         "y": [
          73.45,
          22.725
         ]
        },
        {
         "hoverinfo": "none",
         "line": {
          "color": "#2d98b5",
          "width": 0.5
         },
         "mode": "lines",
         "showlegend": false,
         "type": "scatter",
         "x": [
          2995.6749250000003,
          3743
         ],
         "y": [
          22.725,
          -28
         ]
        },
        {
         "hoverinfo": "none",
         "line": {
          "color": "#872341",
          "width": 0.5
         },
         "mode": "lines",
         "showlegend": false,
         "type": "scatter",
         "x": [
          2248.34985,
          2852.674805
         ],
         "y": [
          73.45,
          158.725
         ]
        },
        {
         "hoverinfo": "none",
         "line": {
          "color": "#2d98b5",
          "width": 0.5
         },
         "mode": "lines",
         "showlegend": false,
         "type": "scatter",
         "x": [
          2852.674805,
          3456.99976
         ],
         "y": [
          158.725,
          244
         ]
        },
        {
         "hoverinfo": "none",
         "line": {
          "color": "#872341",
          "width": 0.5
         },
         "mode": "lines",
         "showlegend": false,
         "type": "scatter",
         "x": [
          3439,
          3601
         ],
         "y": [
          1082,
          1095
         ]
        },
        {
         "hoverinfo": "none",
         "line": {
          "color": "#2d98b5",
          "width": 0.5
         },
         "mode": "lines",
         "showlegend": false,
         "type": "scatter",
         "x": [
          3601,
          3763
         ],
         "y": [
          1095,
          1108
         ]
        },
        {
         "hoverinfo": "none",
         "line": {
          "color": "#872341",
          "width": 0.5
         },
         "mode": "lines",
         "showlegend": false,
         "type": "scatter",
         "x": [
          4048,
          4186.5
         ],
         "y": [
          -1734,
          -1737.0000599999998
         ]
        },
        {
         "hoverinfo": "none",
         "line": {
          "color": "#2d98b5",
          "width": 0.5
         },
         "mode": "lines",
         "showlegend": false,
         "type": "scatter",
         "x": [
          4186.5,
          4325
         ],
         "y": [
          -1737.0000599999998,
          -1740.00012
         ]
        },
        {
         "hoverinfo": "none",
         "line": {
          "color": "#872341",
          "width": 0.5
         },
         "mode": "lines",
         "showlegend": false,
         "type": "scatter",
         "x": [
          5535,
          5713
         ],
         "y": [
          -2121,
          -1902.5
         ]
        },
        {
         "hoverinfo": "none",
         "line": {
          "color": "#2d98b5",
          "width": 0.5
         },
         "mode": "lines",
         "showlegend": false,
         "type": "scatter",
         "x": [
          5713,
          5891
         ],
         "y": [
          -1902.5,
          -1684
         ]
        },
        {
         "hoverinfo": "none",
         "line": {
          "color": "#872341",
          "width": 0.5
         },
         "mode": "lines",
         "showlegend": false,
         "type": "scatter",
         "x": [
          5234,
          5445.5
         ],
         "y": [
          -170,
          -154.5
         ]
        },
        {
         "hoverinfo": "none",
         "line": {
          "color": "#2d98b5",
          "width": 0.5
         },
         "mode": "lines",
         "showlegend": false,
         "type": "scatter",
         "x": [
          5445.5,
          5657
         ],
         "y": [
          -154.5,
          -139
         ]
        },
        {
         "hoverinfo": "none",
         "line": {
          "color": "#872341",
          "width": 0.5
         },
         "mode": "lines",
         "showlegend": false,
         "type": "scatter",
         "x": [
          6937,
          7212
         ],
         "y": [
          907,
          1045.5
         ]
        },
        {
         "hoverinfo": "none",
         "line": {
          "color": "#2d98b5",
          "width": 0.5
         },
         "mode": "lines",
         "showlegend": false,
         "type": "scatter",
         "x": [
          7212,
          7487
         ],
         "y": [
          1045.5,
          1184
         ]
        },
        {
         "hoverinfo": "none",
         "line": {
          "color": "#872341",
          "width": 0.5
         },
         "mode": "lines",
         "showlegend": false,
         "type": "scatter",
         "x": [
          11129,
          11282.5
         ],
         "y": [
          2207,
          2198
         ]
        },
        {
         "hoverinfo": "none",
         "line": {
          "color": "#2d98b5",
          "width": 0.5
         },
         "mode": "lines",
         "showlegend": false,
         "type": "scatter",
         "x": [
          11282.5,
          11436
         ],
         "y": [
          2198,
          2189
         ]
        },
        {
         "hoverinfo": "none",
         "line": {
          "color": "#872341",
          "width": 0.5
         },
         "mode": "lines",
         "showlegend": false,
         "type": "scatter",
         "x": [
          3366.99976,
          2777.7747799999997
         ],
         "y": [
          2510,
          2070.75
         ]
        },
        {
         "hoverinfo": "none",
         "line": {
          "color": "#2d98b5",
          "width": 0.5
         },
         "mode": "lines",
         "showlegend": false,
         "type": "scatter",
         "x": [
          2777.7747799999997,
          2188.5498
         ],
         "y": [
          2070.75,
          1631.5
         ]
        },
        {
         "hoverinfo": "none",
         "line": {
          "color": "#872341",
          "width": 0.5
         },
         "mode": "lines",
         "showlegend": false,
         "type": "scatter",
         "x": [
          3366.99976,
          2777.7747799999997
         ],
         "y": [
          2510,
          2070.75
         ]
        },
        {
         "hoverinfo": "none",
         "line": {
          "color": "#2d98b5",
          "width": 0.5
         },
         "mode": "lines",
         "showlegend": false,
         "type": "scatter",
         "x": [
          2777.7747799999997,
          2188.5498
         ],
         "y": [
          2070.75,
          1631.5
         ]
        },
        {
         "hoverinfo": "none",
         "line": {
          "color": "#872341",
          "width": 0.5
         },
         "mode": "lines",
         "showlegend": false,
         "type": "scatter",
         "x": [
          2188.5498,
          2904.27502
         ],
         "y": [
          1631.5,
          1978.25
         ]
        },
        {
         "hoverinfo": "none",
         "line": {
          "color": "#2d98b5",
          "width": 0.5
         },
         "mode": "lines",
         "showlegend": false,
         "type": "scatter",
         "x": [
          2904.27502,
          3620.00024
         ],
         "y": [
          1978.25,
          2325
         ]
        },
        {
         "hoverinfo": "none",
         "line": {
          "color": "#872341",
          "width": 0.5
         },
         "mode": "lines",
         "showlegend": false,
         "type": "scatter",
         "x": [
          2188.5498,
          3260.7749
         ],
         "y": [
          1631.5,
          2238.75
         ]
        },
        {
         "hoverinfo": "none",
         "line": {
          "color": "#2d98b5",
          "width": 0.5
         },
         "mode": "lines",
         "showlegend": false,
         "type": "scatter",
         "x": [
          3260.7749,
          4333
         ],
         "y": [
          2238.75,
          2846
         ]
        },
        {
         "hoverinfo": "none",
         "line": {
          "color": "#872341",
          "width": 0.5
         },
         "mode": "lines",
         "showlegend": false,
         "type": "scatter",
         "x": [
          1625,
          1340.625
         ],
         "y": [
          600,
          495
         ]
        },
        {
         "hoverinfo": "none",
         "line": {
          "color": "#2d98b5",
          "width": 0.5
         },
         "mode": "lines",
         "showlegend": false,
         "type": "scatter",
         "x": [
          1340.625,
          1056.25
         ],
         "y": [
          495,
          390
         ]
        },
        {
         "hoverinfo": "none",
         "line": {
          "color": "#872341",
          "width": 0.5
         },
         "mode": "lines",
         "showlegend": false,
         "type": "scatter",
         "x": [
          1625,
          1340.625
         ],
         "y": [
          600,
          495
         ]
        },
        {
         "hoverinfo": "none",
         "line": {
          "color": "#2d98b5",
          "width": 0.5
         },
         "mode": "lines",
         "showlegend": false,
         "type": "scatter",
         "x": [
          1340.625,
          1056.25
         ],
         "y": [
          495,
          390
         ]
        },
        {
         "hoverinfo": "none",
         "line": {
          "color": "#872341",
          "width": 0.5
         },
         "mode": "lines",
         "showlegend": false,
         "type": "scatter",
         "x": [
          1056.25,
          1503.1250599999998
         ],
         "y": [
          390,
          432.5000155
         ]
        },
        {
         "hoverinfo": "none",
         "line": {
          "color": "#2d98b5",
          "width": 0.5
         },
         "mode": "lines",
         "showlegend": false,
         "type": "scatter",
         "x": [
          1503.1250599999998,
          1950.00012
         ],
         "y": [
          432.5000155,
          475.000031
         ]
        },
        {
         "hoverinfo": "none",
         "line": {
          "color": "#872341",
          "width": 0.5
         },
         "mode": "lines",
         "showlegend": false,
         "type": "scatter",
         "x": [
          1056.25,
          1340.625
         ],
         "y": [
          390,
          607.5
         ]
        },
        {
         "hoverinfo": "none",
         "line": {
          "color": "#2d98b5",
          "width": 0.5
         },
         "mode": "lines",
         "showlegend": false,
         "type": "scatter",
         "x": [
          1340.625,
          1625
         ],
         "y": [
          607.5,
          825
         ]
        },
        {
         "hoverinfo": "none",
         "line": {
          "color": "#872341",
          "width": 0.5
         },
         "mode": "lines",
         "showlegend": false,
         "type": "scatter",
         "x": [
          3428,
          2828.1
         ],
         "y": [
          1531,
          1263.0749815
         ]
        },
        {
         "hoverinfo": "none",
         "line": {
          "color": "#2d98b5",
          "width": 0.5
         },
         "mode": "lines",
         "showlegend": false,
         "type": "scatter",
         "x": [
          2828.1,
          2228.2
         ],
         "y": [
          1263.0749815,
          995.149963
         ]
        },
        {
         "hoverinfo": "none",
         "line": {
          "color": "#872341",
          "width": 0.5
         },
         "mode": "lines",
         "showlegend": false,
         "type": "scatter",
         "x": [
          3428,
          2828.1
         ],
         "y": [
          1531,
          1263.0749815
         ]
        },
        {
         "hoverinfo": "none",
         "line": {
          "color": "#2d98b5",
          "width": 0.5
         },
         "mode": "lines",
         "showlegend": false,
         "type": "scatter",
         "x": [
          2828.1,
          2228.2
         ],
         "y": [
          1263.0749815,
          995.149963
         ]
        },
        {
         "hoverinfo": "none",
         "line": {
          "color": "#872341",
          "width": 0.5
         },
         "mode": "lines",
         "showlegend": false,
         "type": "scatter",
         "x": [
          2228.2,
          3004.10012
         ],
         "y": [
          995.149963,
          1180.0749815
         ]
        },
        {
         "hoverinfo": "none",
         "line": {
          "color": "#2d98b5",
          "width": 0.5
         },
         "mode": "lines",
         "showlegend": false,
         "type": "scatter",
         "x": [
          3004.10012,
          3780.00024
         ],
         "y": [
          1180.0749815,
          1365
         ]
        },
        {
         "hoverinfo": "none",
         "line": {
          "color": "#872341",
          "width": 0.5
         },
         "mode": "lines",
         "showlegend": false,
         "type": "scatter",
         "x": [
          2228.2,
          3004.10012
         ],
         "y": [
          995.149963,
          1317.5749815
         ]
        },
        {
         "hoverinfo": "none",
         "line": {
          "color": "#2d98b5",
          "width": 0.5
         },
         "mode": "lines",
         "showlegend": false,
         "type": "scatter",
         "x": [
          3004.10012,
          3780.00024
         ],
         "y": [
          1317.5749815,
          1640
         ]
        },
        {
         "hoverinfo": "none",
         "line": {
          "color": "#872341",
          "width": 0.5
         },
         "mode": "lines",
         "showlegend": false,
         "type": "scatter",
         "x": [
          8080.00049,
          8230.000245
         ],
         "y": [
          1595,
          1595
         ]
        },
        {
         "hoverinfo": "none",
         "line": {
          "color": "#2d98b5",
          "width": 0.5
         },
         "mode": "lines",
         "showlegend": false,
         "type": "scatter",
         "x": [
          8230.000245,
          8380
         ],
         "y": [
          1595,
          1595
         ]
        },
        {
         "hoverinfo": "none",
         "line": {
          "color": "#872341",
          "width": 0.5
         },
         "mode": "lines",
         "showlegend": false,
         "type": "scatter",
         "x": [
          525,
          1075
         ],
         "y": [
          175,
          -25.000007499999995
         ]
        },
        {
         "hoverinfo": "none",
         "line": {
          "color": "#2d98b5",
          "width": 0.5
         },
         "mode": "lines",
         "showlegend": false,
         "type": "scatter",
         "x": [
          1075,
          1625
         ],
         "y": [
          -25.000007499999995,
          -225.000015
         ]
        },
        {
         "hoverinfo": "none",
         "line": {
          "color": "#872341",
          "width": 0.5
         },
         "mode": "lines",
         "showlegend": false,
         "type": "scatter",
         "x": [
          4160,
          4315.5
         ],
         "y": [
          -569,
          -641
         ]
        },
        {
         "hoverinfo": "none",
         "line": {
          "color": "#2d98b5",
          "width": 0.5
         },
         "mode": "lines",
         "showlegend": false,
         "type": "scatter",
         "x": [
          4315.5,
          4471
         ],
         "y": [
          -641,
          -713
         ]
        },
        {
         "hoverinfo": "none",
         "line": {
          "color": "#872341",
          "width": 0.5
         },
         "mode": "lines",
         "showlegend": false,
         "type": "scatter",
         "x": [
          4160,
          4314
         ],
         "y": [
          -569,
          -518
         ]
        },
        {
         "hoverinfo": "none",
         "line": {
          "color": "#2d98b5",
          "width": 0.5
         },
         "mode": "lines",
         "showlegend": false,
         "type": "scatter",
         "x": [
          4314,
          4468
         ],
         "y": [
          -518,
          -467
         ]
        },
        {
         "hoverinfo": "none",
         "line": {
          "color": "#872341",
          "width": 0.5
         },
         "mode": "lines",
         "showlegend": false,
         "type": "scatter",
         "x": [
          6937,
          7094
         ],
         "y": [
          -969,
          -939
         ]
        },
        {
         "hoverinfo": "none",
         "line": {
          "color": "#2d98b5",
          "width": 0.5
         },
         "mode": "lines",
         "showlegend": false,
         "type": "scatter",
         "x": [
          7094,
          7251
         ],
         "y": [
          -939,
          -909
         ]
        },
        {
         "hoverinfo": "none",
         "line": {
          "color": "#872341",
          "width": 0.5
         },
         "mode": "lines",
         "showlegend": false,
         "type": "scatter",
         "x": [
          5210,
          4500.99988
         ],
         "y": [
          -1424,
          -1394
         ]
        },
        {
         "hoverinfo": "none",
         "line": {
          "color": "#2d98b5",
          "width": 0.5
         },
         "mode": "lines",
         "showlegend": false,
         "type": "scatter",
         "x": [
          4500.99988,
          3791.99976
         ],
         "y": [
          -1394,
          -1364
         ]
        },
        {
         "hoverinfo": "none",
         "line": {
          "color": "#872341",
          "width": 0.5
         },
         "mode": "lines",
         "showlegend": false,
         "type": "scatter",
         "x": [
          4644,
          3711.5
         ],
         "y": [
          -1137,
          -465.0000075
         ]
        },
        {
         "hoverinfo": "none",
         "line": {
          "color": "#2d98b5",
          "width": 0.5
         },
         "mode": "lines",
         "showlegend": false,
         "type": "scatter",
         "x": [
          3711.5,
          2779
         ],
         "y": [
          -465.0000075,
          206.999985
         ]
        },
        {
         "hoverinfo": "none",
         "line": {
          "color": "#872341",
          "width": 0.5
         },
         "mode": "lines",
         "showlegend": false,
         "type": "scatter",
         "x": [
          4756,
          4911.5
         ],
         "y": [
          864,
          759
         ]
        },
        {
         "hoverinfo": "none",
         "line": {
          "color": "#2d98b5",
          "width": 0.5
         },
         "mode": "lines",
         "showlegend": false,
         "type": "scatter",
         "x": [
          4911.5,
          5067
         ],
         "y": [
          759,
          654
         ]
        },
        {
         "hoverinfo": "none",
         "line": {
          "color": "#872341",
          "width": 0.5
         },
         "mode": "lines",
         "showlegend": false,
         "type": "scatter",
         "x": [
          7188.99951,
          5930.9245599999995
         ],
         "y": [
          2953,
          2436.225
         ]
        },
        {
         "hoverinfo": "none",
         "line": {
          "color": "#2d98b5",
          "width": 0.5
         },
         "mode": "lines",
         "showlegend": false,
         "type": "scatter",
         "x": [
          5930.9245599999995,
          4672.84961
         ],
         "y": [
          2436.225,
          1919.45
         ]
        },
        {
         "hoverinfo": "none",
         "line": {
          "color": "#872341",
          "width": 0.5
         },
         "mode": "lines",
         "showlegend": false,
         "type": "scatter",
         "x": [
          7188.99951,
          5930.9245599999995
         ],
         "y": [
          2953,
          2436.225
         ]
        },
        {
         "hoverinfo": "none",
         "line": {
          "color": "#2d98b5",
          "width": 0.5
         },
         "mode": "lines",
         "showlegend": false,
         "type": "scatter",
         "x": [
          5930.9245599999995,
          4672.84961
         ],
         "y": [
          2436.225,
          1919.45
         ]
        },
        {
         "hoverinfo": "none",
         "line": {
          "color": "#872341",
          "width": 0.5
         },
         "mode": "lines",
         "showlegend": false,
         "type": "scatter",
         "x": [
          4672.84961,
          6130.9245599999995
         ],
         "y": [
          1919.45,
          2348.725
         ]
        },
        {
         "hoverinfo": "none",
         "line": {
          "color": "#2d98b5",
          "width": 0.5
         },
         "mode": "lines",
         "showlegend": false,
         "type": "scatter",
         "x": [
          6130.9245599999995,
          7588.99951
         ],
         "y": [
          2348.725,
          2778
         ]
        },
        {
         "hoverinfo": "none",
         "line": {
          "color": "#872341",
          "width": 0.5
         },
         "mode": "lines",
         "showlegend": false,
         "type": "scatter",
         "x": [
          4672.84961,
          6508.424805000001
         ],
         "y": [
          1919.45,
          2425.225
         ]
        },
        {
         "hoverinfo": "none",
         "line": {
          "color": "#2d98b5",
          "width": 0.5
         },
         "mode": "lines",
         "showlegend": false,
         "type": "scatter",
         "x": [
          6508.424805000001,
          8344
         ],
         "y": [
          2425.225,
          2931
         ]
        },
        {
         "hoverinfo": "none",
         "line": {
          "color": "#872341",
          "width": 0.5
         },
         "mode": "lines",
         "showlegend": false,
         "type": "scatter",
         "x": [
          7883.99951,
          8113.999755
         ],
         "y": [
          2774,
          2852.5
         ]
        },
        {
         "hoverinfo": "none",
         "line": {
          "color": "#2d98b5",
          "width": 0.5
         },
         "mode": "lines",
         "showlegend": false,
         "type": "scatter",
         "x": [
          8113.999755,
          8344
         ],
         "y": [
          2852.5,
          2931
         ]
        },
        {
         "hoverinfo": "none",
         "line": {
          "color": "#872341",
          "width": 0.5
         },
         "mode": "lines",
         "showlegend": false,
         "type": "scatter",
         "x": [
          5542,
          5716.5
         ],
         "y": [
          -1850.00012,
          -1767.0000599999998
         ]
        },
        {
         "hoverinfo": "none",
         "line": {
          "color": "#2d98b5",
          "width": 0.5
         },
         "mode": "lines",
         "showlegend": false,
         "type": "scatter",
         "x": [
          5716.5,
          5891
         ],
         "y": [
          -1767.0000599999998,
          -1684
         ]
        },
        {
         "hoverinfo": "none",
         "line": {
          "color": "#872341",
          "width": 0.5
         },
         "mode": "lines",
         "showlegend": false,
         "type": "scatter",
         "x": [
          4083,
          4262
         ],
         "y": [
          495.000031,
          539.5000155
         ]
        },
        {
         "hoverinfo": "none",
         "line": {
          "color": "#2d98b5",
          "width": 0.5
         },
         "mode": "lines",
         "showlegend": false,
         "type": "scatter",
         "x": [
          4262,
          4441
         ],
         "y": [
          539.5000155,
          584
         ]
        },
        {
         "hoverinfo": "none",
         "line": {
          "color": "#872341",
          "width": 0.5
         },
         "mode": "lines",
         "showlegend": false,
         "type": "scatter",
         "x": [
          6229,
          6375
         ],
         "y": [
          -508.999969,
          -508.999969
         ]
        },
        {
         "hoverinfo": "none",
         "line": {
          "color": "#2d98b5",
          "width": 0.5
         },
         "mode": "lines",
         "showlegend": false,
         "type": "scatter",
         "x": [
          6375,
          6521
         ],
         "y": [
          -508.999969,
          -508.999969
         ]
        },
        {
         "hoverinfo": "none",
         "line": {
          "color": "#872341",
          "width": 0.5
         },
         "mode": "lines",
         "showlegend": false,
         "type": "scatter",
         "x": [
          7035.00049,
          6782.500245
         ],
         "y": [
          -307,
          -164
         ]
        },
        {
         "hoverinfo": "none",
         "line": {
          "color": "#2d98b5",
          "width": 0.5
         },
         "mode": "lines",
         "showlegend": false,
         "type": "scatter",
         "x": [
          6782.500245,
          6530
         ],
         "y": [
          -164,
          -21
         ]
        },
        {
         "hoverinfo": "none",
         "line": {
          "color": "#872341",
          "width": 0.5
         },
         "mode": "lines",
         "showlegend": false,
         "type": "scatter",
         "x": [
          4305,
          3542
         ],
         "y": [
          1690.00012,
          948.5000524999999
         ]
        },
        {
         "hoverinfo": "none",
         "line": {
          "color": "#2d98b5",
          "width": 0.5
         },
         "mode": "lines",
         "showlegend": false,
         "type": "scatter",
         "x": [
          3542,
          2779
         ],
         "y": [
          948.5000524999999,
          206.999985
         ]
        },
        {
         "hoverinfo": "none",
         "line": {
          "color": "#872341",
          "width": 0.5
         },
         "mode": "lines",
         "showlegend": false,
         "type": "scatter",
         "x": [
          6348.99951,
          6501.49951
         ],
         "y": [
          894,
          903
         ]
        },
        {
         "hoverinfo": "none",
         "line": {
          "color": "#2d98b5",
          "width": 0.5
         },
         "mode": "lines",
         "showlegend": false,
         "type": "scatter",
         "x": [
          6501.49951,
          6653.99951
         ],
         "y": [
          903,
          912
         ]
        },
        {
         "hoverinfo": "none",
         "line": {
          "color": "#872341",
          "width": 0.5
         },
         "mode": "lines",
         "showlegend": false,
         "type": "scatter",
         "x": [
          6328.99951,
          6532.999755
         ],
         "y": [
          2431,
          2463
         ]
        },
        {
         "hoverinfo": "none",
         "line": {
          "color": "#2d98b5",
          "width": 0.5
         },
         "mode": "lines",
         "showlegend": false,
         "type": "scatter",
         "x": [
          6532.999755,
          6737
         ],
         "y": [
          2463,
          2495
         ]
        },
        {
         "hoverinfo": "none",
         "line": {
          "color": "#872341",
          "width": 0.5
         },
         "mode": "lines",
         "showlegend": false,
         "type": "scatter",
         "x": [
          10798,
          10963.5
         ],
         "y": [
          2190,
          2198.5
         ]
        },
        {
         "hoverinfo": "none",
         "line": {
          "color": "#2d98b5",
          "width": 0.5
         },
         "mode": "lines",
         "showlegend": false,
         "type": "scatter",
         "x": [
          10963.5,
          11129
         ],
         "y": [
          2198.5,
          2207
         ]
        },
        {
         "hoverinfo": "none",
         "line": {
          "color": "#872341",
          "width": 0.5
         },
         "mode": "lines",
         "showlegend": false,
         "type": "scatter",
         "x": [
          11436,
          11584.5
         ],
         "y": [
          2189,
          2196
         ]
        },
        {
         "hoverinfo": "none",
         "line": {
          "color": "#2d98b5",
          "width": 0.5
         },
         "mode": "lines",
         "showlegend": false,
         "type": "scatter",
         "x": [
          11584.5,
          11733
         ],
         "y": [
          2196,
          2203
         ]
        },
        {
         "hoverinfo": "none",
         "line": {
          "color": "#872341",
          "width": 0.5
         },
         "mode": "lines",
         "showlegend": false,
         "type": "scatter",
         "x": [
          1950.00012,
          2200.00006
         ],
         "y": [
          -105.999992,
          -2.999996000000003
         ]
        },
        {
         "hoverinfo": "none",
         "line": {
          "color": "#2d98b5",
          "width": 0.5
         },
         "mode": "lines",
         "showlegend": false,
         "type": "scatter",
         "x": [
          2200.00006,
          2450
         ],
         "y": [
          -2.999996000000003,
          100
         ]
        },
        {
         "hoverinfo": "none",
         "line": {
          "color": "#872341",
          "width": 0.5
         },
         "mode": "lines",
         "showlegend": false,
         "type": "scatter",
         "x": [
          3158,
          3298.5
         ],
         "y": [
          1108,
          1095
         ]
        },
        {
         "hoverinfo": "none",
         "line": {
          "color": "#2d98b5",
          "width": 0.5
         },
         "mode": "lines",
         "showlegend": false,
         "type": "scatter",
         "x": [
          3298.5,
          3439
         ],
         "y": [
          1095,
          1082
         ]
        },
        {
         "hoverinfo": "none",
         "line": {
          "color": "#872341",
          "width": 0.5
         },
         "mode": "lines",
         "showlegend": false,
         "type": "scatter",
         "x": [
          6237,
          6383.5
         ],
         "y": [
          -12,
          -16.5
         ]
        },
        {
         "hoverinfo": "none",
         "line": {
          "color": "#2d98b5",
          "width": 0.5
         },
         "mode": "lines",
         "showlegend": false,
         "type": "scatter",
         "x": [
          6383.5,
          6530
         ],
         "y": [
          -16.5,
          -21
         ]
        },
        {
         "hoverinfo": "none",
         "line": {
          "color": "#872341",
          "width": 0.5
         },
         "mode": "lines",
         "showlegend": false,
         "type": "scatter",
         "x": [
          3755.00024,
          3601
         ],
         "y": [
          490.000031,
          226.0000155
         ]
        },
        {
         "hoverinfo": "none",
         "line": {
          "color": "#2d98b5",
          "width": 0.5
         },
         "mode": "lines",
         "showlegend": false,
         "type": "scatter",
         "x": [
          3601,
          3446.99976
         ],
         "y": [
          226.0000155,
          -38
         ]
        },
        {
         "hoverinfo": "none",
         "line": {
          "color": "#872341",
          "width": 0.5
         },
         "mode": "lines",
         "showlegend": false,
         "type": "scatter",
         "x": [
          3780.00024,
          4042.5001199999997
         ],
         "y": [
          1365,
          1527.5000599999998
         ]
        },
        {
         "hoverinfo": "none",
         "line": {
          "color": "#2d98b5",
          "width": 0.5
         },
         "mode": "lines",
         "showlegend": false,
         "type": "scatter",
         "x": [
          4042.5001199999997,
          4305
         ],
         "y": [
          1527.5000599999998,
          1690.00012
         ]
        },
        {
         "hoverinfo": "none",
         "line": {
          "color": "#872341",
          "width": 0.5
         },
         "mode": "lines",
         "showlegend": false,
         "type": "scatter",
         "x": [
          7480.00049,
          7630.00049
         ],
         "y": [
          1715.00012,
          1742.50012
         ]
        },
        {
         "hoverinfo": "none",
         "line": {
          "color": "#2d98b5",
          "width": 0.5
         },
         "mode": "lines",
         "showlegend": false,
         "type": "scatter",
         "x": [
          7630.00049,
          7780.00049
         ],
         "y": [
          1742.50012,
          1770.00012
         ]
        },
        {
         "hoverinfo": "none",
         "line": {
          "color": "#872341",
          "width": 0.5
         },
         "mode": "lines",
         "showlegend": false,
         "type": "scatter",
         "x": [
          4849,
          5041.5
         ],
         "y": [
          -275,
          -350.0000155
         ]
        },
        {
         "hoverinfo": "none",
         "line": {
          "color": "#2d98b5",
          "width": 0.5
         },
         "mode": "lines",
         "showlegend": false,
         "type": "scatter",
         "x": [
          5041.5,
          5234
         ],
         "y": [
          -350.0000155,
          -425.000031
         ]
        },
        {
         "hoverinfo": "none",
         "line": {
          "color": "#872341",
          "width": 0.5
         },
         "mode": "lines",
         "showlegend": false,
         "type": "scatter",
         "x": [
          4849,
          5041.5
         ],
         "y": [
          -275,
          -222.5
         ]
        },
        {
         "hoverinfo": "none",
         "line": {
          "color": "#2d98b5",
          "width": 0.5
         },
         "mode": "lines",
         "showlegend": false,
         "type": "scatter",
         "x": [
          5041.5,
          5234
         ],
         "y": [
          -222.5,
          -170
         ]
        },
        {
         "hoverinfo": "none",
         "line": {
          "color": "#872341",
          "width": 0.5
         },
         "mode": "lines",
         "showlegend": false,
         "type": "scatter",
         "x": [
          4849,
          5041.5
         ],
         "y": [
          -275,
          -98
         ]
        },
        {
         "hoverinfo": "none",
         "line": {
          "color": "#2d98b5",
          "width": 0.5
         },
         "mode": "lines",
         "showlegend": false,
         "type": "scatter",
         "x": [
          5041.5,
          5234
         ],
         "y": [
          -98,
          79
         ]
        },
        {
         "hoverinfo": "none",
         "line": {
          "color": "#872341",
          "width": 0.5
         },
         "mode": "lines",
         "showlegend": false,
         "type": "scatter",
         "x": [
          6633,
          6785
         ],
         "y": [
          -961,
          -965
         ]
        },
        {
         "hoverinfo": "none",
         "line": {
          "color": "#2d98b5",
          "width": 0.5
         },
         "mode": "lines",
         "showlegend": false,
         "type": "scatter",
         "x": [
          6785,
          6937
         ],
         "y": [
          -965,
          -969
         ]
        },
        {
         "hoverinfo": "none",
         "line": {
          "color": "#872341",
          "width": 0.5
         },
         "mode": "lines",
         "showlegend": false,
         "type": "scatter",
         "x": [
          4321,
          4479.5
         ],
         "y": [
          -1475,
          -1462.5
         ]
        },
        {
         "hoverinfo": "none",
         "line": {
          "color": "#2d98b5",
          "width": 0.5
         },
         "mode": "lines",
         "showlegend": false,
         "type": "scatter",
         "x": [
          4479.5,
          4638
         ],
         "y": [
          -1462.5,
          -1450
         ]
        },
        {
         "hoverinfo": "none",
         "line": {
          "color": "#872341",
          "width": 0.5
         },
         "mode": "lines",
         "showlegend": false,
         "type": "scatter",
         "x": [
          4325,
          4478.5
         ],
         "y": [
          -1740.00012,
          -1735.5
         ]
        },
        {
         "hoverinfo": "none",
         "line": {
          "color": "#2d98b5",
          "width": 0.5
         },
         "mode": "lines",
         "showlegend": false,
         "type": "scatter",
         "x": [
          4478.5,
          4632
         ],
         "y": [
          -1735.5,
          -1730.99988
         ]
        },
        {
         "hoverinfo": "none",
         "line": {
          "color": "#872341",
          "width": 0.5
         },
         "mode": "lines",
         "showlegend": false,
         "type": "scatter",
         "x": [
          5584,
          4606.799925
         ],
         "y": [
          84,
          69.3
         ]
        },
        {
         "hoverinfo": "none",
         "line": {
          "color": "#2d98b5",
          "width": 0.5
         },
         "mode": "lines",
         "showlegend": false,
         "type": "scatter",
         "x": [
          4606.799925,
          3629.59985
         ],
         "y": [
          69.3,
          54.6
         ]
        },
        {
         "hoverinfo": "none",
         "line": {
          "color": "#872341",
          "width": 0.5
         },
         "mode": "lines",
         "showlegend": false,
         "type": "scatter",
         "x": [
          5584,
          4606.799925
         ],
         "y": [
          84,
          69.3
         ]
        },
        {
         "hoverinfo": "none",
         "line": {
          "color": "#2d98b5",
          "width": 0.5
         },
         "mode": "lines",
         "showlegend": false,
         "type": "scatter",
         "x": [
          4606.799925,
          3629.59985
         ],
         "y": [
          69.3,
          54.6
         ]
        },
        {
         "hoverinfo": "none",
         "line": {
          "color": "#872341",
          "width": 0.5
         },
         "mode": "lines",
         "showlegend": false,
         "type": "scatter",
         "x": [
          3629.59985,
          4769.799925
         ],
         "y": [
          54.6,
          27.3
         ]
        },
        {
         "hoverinfo": "none",
         "line": {
          "color": "#2d98b5",
          "width": 0.5
         },
         "mode": "lines",
         "showlegend": false,
         "type": "scatter",
         "x": [
          4769.799925,
          5910
         ],
         "y": [
          27.3,
          0
         ]
        },
        {
         "hoverinfo": "none",
         "line": {
          "color": "#872341",
          "width": 0.5
         },
         "mode": "lines",
         "showlegend": false,
         "type": "scatter",
         "x": [
          3629.59985,
          4643.299925
         ],
         "y": [
          54.6,
          -42.2
         ]
        },
        {
         "hoverinfo": "none",
         "line": {
          "color": "#2d98b5",
          "width": 0.5
         },
         "mode": "lines",
         "showlegend": false,
         "type": "scatter",
         "x": [
          4643.299925,
          5657
         ],
         "y": [
          -42.2,
          -139
         ]
        },
        {
         "hoverinfo": "none",
         "line": {
          "color": "#872341",
          "width": 0.5
         },
         "mode": "lines",
         "showlegend": false,
         "type": "scatter",
         "x": [
          5910,
          6069.5
         ],
         "y": [
          0,
          -254.4999845
         ]
        },
        {
         "hoverinfo": "none",
         "line": {
          "color": "#2d98b5",
          "width": 0.5
         },
         "mode": "lines",
         "showlegend": false,
         "type": "scatter",
         "x": [
          6069.5,
          6229
         ],
         "y": [
          -254.4999845,
          -508.999969
         ]
        },
        {
         "hoverinfo": "none",
         "line": {
          "color": "#872341",
          "width": 0.5
         },
         "mode": "lines",
         "showlegend": false,
         "type": "scatter",
         "x": [
          5910,
          6069.5
         ],
         "y": [
          0,
          -129.5
         ]
        },
        {
         "hoverinfo": "none",
         "line": {
          "color": "#2d98b5",
          "width": 0.5
         },
         "mode": "lines",
         "showlegend": false,
         "type": "scatter",
         "x": [
          6069.5,
          6229
         ],
         "y": [
          -129.5,
          -259
         ]
        },
        {
         "hoverinfo": "none",
         "line": {
          "color": "#872341",
          "width": 0.5
         },
         "mode": "lines",
         "showlegend": false,
         "type": "scatter",
         "x": [
          5910,
          6073.5
         ],
         "y": [
          0,
          -6
         ]
        },
        {
         "hoverinfo": "none",
         "line": {
          "color": "#2d98b5",
          "width": 0.5
         },
         "mode": "lines",
         "showlegend": false,
         "type": "scatter",
         "x": [
          6073.5,
          6237
         ],
         "y": [
          -6,
          -12
         ]
        },
        {
         "hoverinfo": "none",
         "line": {
          "color": "#872341",
          "width": 0.5
         },
         "mode": "lines",
         "showlegend": false,
         "type": "scatter",
         "x": [
          6653.99951,
          6795.499755
         ],
         "y": [
          912,
          909.5
         ]
        },
        {
         "hoverinfo": "none",
         "line": {
          "color": "#2d98b5",
          "width": 0.5
         },
         "mode": "lines",
         "showlegend": false,
         "type": "scatter",
         "x": [
          6795.499755,
          6937
         ],
         "y": [
          909.5,
          907
         ]
        },
        {
         "hoverinfo": "none",
         "line": {
          "color": "#872341",
          "width": 0.5
         },
         "mode": "lines",
         "showlegend": false,
         "type": "scatter",
         "x": [
          6044,
          6186.499755
         ],
         "y": [
          2443,
          2437
         ]
        },
        {
         "hoverinfo": "none",
         "line": {
          "color": "#2d98b5",
          "width": 0.5
         },
         "mode": "lines",
         "showlegend": false,
         "type": "scatter",
         "x": [
          6186.499755,
          6328.99951
         ],
         "y": [
          2437,
          2431
         ]
        },
        {
         "hoverinfo": "none",
         "line": {
          "color": "#872341",
          "width": 0.5
         },
         "mode": "lines",
         "showlegend": false,
         "type": "scatter",
         "x": [
          3744,
          3913.5
         ],
         "y": [
          189,
          342.0000155
         ]
        },
        {
         "hoverinfo": "none",
         "line": {
          "color": "#2d98b5",
          "width": 0.5
         },
         "mode": "lines",
         "showlegend": false,
         "type": "scatter",
         "x": [
          3913.5,
          4083
         ],
         "y": [
          342.0000155,
          495.000031
         ]
        },
        {
         "hoverinfo": "none",
         "line": {
          "color": "#872341",
          "width": 0.5
         },
         "mode": "lines",
         "showlegend": false,
         "type": "scatter",
         "x": [
          7572,
          9796
         ],
         "y": [
          2015.99988,
          2100.99994
         ]
        },
        {
         "hoverinfo": "none",
         "line": {
          "color": "#2d98b5",
          "width": 0.5
         },
         "mode": "lines",
         "showlegend": false,
         "type": "scatter",
         "x": [
          9796,
          12020
         ],
         "y": [
          2100.99994,
          2186
         ]
        },
        {
         "hoverinfo": "none",
         "line": {
          "color": "#872341",
          "width": 0.5
         },
         "mode": "lines",
         "showlegend": false,
         "type": "scatter",
         "x": [
          1950.00012,
          2364.50006
         ],
         "y": [
          -400,
          -96.5000075
         ]
        },
        {
         "hoverinfo": "none",
         "line": {
          "color": "#2d98b5",
          "width": 0.5
         },
         "mode": "lines",
         "showlegend": false,
         "type": "scatter",
         "x": [
          2364.50006,
          2779
         ],
         "y": [
          -96.5000075,
          206.999985
         ]
        },
        {
         "hoverinfo": "none",
         "line": {
          "color": "#872341",
          "width": 0.5
         },
         "mode": "lines",
         "showlegend": false,
         "type": "scatter",
         "x": [
          5067,
          3923
         ],
         "y": [
          654,
          430.4999925
         ]
        },
        {
         "hoverinfo": "none",
         "line": {
          "color": "#2d98b5",
          "width": 0.5
         },
         "mode": "lines",
         "showlegend": false,
         "type": "scatter",
         "x": [
          3923,
          2779
         ],
         "y": [
          430.4999925,
          206.999985
         ]
        },
        {
         "hoverinfo": "none",
         "line": {
          "color": "#872341",
          "width": 0.5
         },
         "mode": "lines",
         "showlegend": false,
         "type": "scatter",
         "x": [
          6513,
          6650.999755
         ],
         "y": [
          -259,
          -259
         ]
        },
        {
         "hoverinfo": "none",
         "line": {
          "color": "#2d98b5",
          "width": 0.5
         },
         "mode": "lines",
         "showlegend": false,
         "type": "scatter",
         "x": [
          6650.999755,
          6788.99951
         ],
         "y": [
          -259,
          -259
         ]
        },
        {
         "hoverinfo": "none",
         "line": {
          "color": "#872341",
          "width": 0.5
         },
         "mode": "lines",
         "showlegend": false,
         "type": "scatter",
         "x": [
          6074,
          6222
         ],
         "y": [
          1421,
          1407.5
         ]
        },
        {
         "hoverinfo": "none",
         "line": {
          "color": "#2d98b5",
          "width": 0.5
         },
         "mode": "lines",
         "showlegend": false,
         "type": "scatter",
         "x": [
          6222,
          6370
         ],
         "y": [
          1407.5,
          1394
         ]
        },
        {
         "hoverinfo": "none",
         "line": {
          "color": "#872341",
          "width": 0.5
         },
         "mode": "lines",
         "showlegend": false,
         "type": "scatter",
         "x": [
          3746,
          3914.5
         ],
         "y": [
          -249,
          123.00001549999999
         ]
        },
        {
         "hoverinfo": "none",
         "line": {
          "color": "#2d98b5",
          "width": 0.5
         },
         "mode": "lines",
         "showlegend": false,
         "type": "scatter",
         "x": [
          3914.5,
          4083
         ],
         "y": [
          123.00001549999999,
          495.000031
         ]
        },
        {
         "hoverinfo": "none",
         "line": {
          "color": "#872341",
          "width": 0.5
         },
         "mode": "lines",
         "showlegend": false,
         "type": "scatter",
         "x": [
          1625,
          1340.625
         ],
         "y": [
          100,
          82.5
         ]
        },
        {
         "hoverinfo": "none",
         "line": {
          "color": "#2d98b5",
          "width": 0.5
         },
         "mode": "lines",
         "showlegend": false,
         "type": "scatter",
         "x": [
          1340.625,
          1056.25
         ],
         "y": [
          82.5,
          65
         ]
        },
        {
         "hoverinfo": "none",
         "line": {
          "color": "#872341",
          "width": 0.5
         },
         "mode": "lines",
         "showlegend": false,
         "type": "scatter",
         "x": [
          1625,
          1340.625
         ],
         "y": [
          100,
          82.5
         ]
        },
        {
         "hoverinfo": "none",
         "line": {
          "color": "#2d98b5",
          "width": 0.5
         },
         "mode": "lines",
         "showlegend": false,
         "type": "scatter",
         "x": [
          1340.625,
          1056.25
         ],
         "y": [
          82.5,
          65
         ]
        },
        {
         "hoverinfo": "none",
         "line": {
          "color": "#872341",
          "width": 0.5
         },
         "mode": "lines",
         "showlegend": false,
         "type": "scatter",
         "x": [
          1056.25,
          1503.1250599999998
         ],
         "y": [
          65,
          -20.499996000000003
         ]
        },
        {
         "hoverinfo": "none",
         "line": {
          "color": "#2d98b5",
          "width": 0.5
         },
         "mode": "lines",
         "showlegend": false,
         "type": "scatter",
         "x": [
          1503.1250599999998,
          1950.00012
         ],
         "y": [
          -20.499996000000003,
          -105.999992
         ]
        },
        {
         "hoverinfo": "none",
         "line": {
          "color": "#872341",
          "width": 0.5
         },
         "mode": "lines",
         "showlegend": false,
         "type": "scatter",
         "x": [
          1056.25,
          1340.625
         ],
         "y": [
          65,
          195
         ]
        },
        {
         "hoverinfo": "none",
         "line": {
          "color": "#2d98b5",
          "width": 0.5
         },
         "mode": "lines",
         "showlegend": false,
         "type": "scatter",
         "x": [
          1340.625,
          1625
         ],
         "y": [
          195,
          325
         ]
        },
        {
         "hoverinfo": "none",
         "line": {
          "color": "#872341",
          "width": 0.5
         },
         "mode": "lines",
         "showlegend": false,
         "type": "scatter",
         "x": [
          2896,
          3038.9998800000003
         ],
         "y": [
          -1450,
          -1461.5
         ]
        },
        {
         "hoverinfo": "none",
         "line": {
          "color": "#2d98b5",
          "width": 0.5
         },
         "mode": "lines",
         "showlegend": false,
         "type": "scatter",
         "x": [
          3038.9998800000003,
          3181.99976
         ],
         "y": [
          -1461.5,
          -1473
         ]
        },
        {
         "hoverinfo": "none",
         "line": {
          "color": "#872341",
          "width": 0.5
         },
         "mode": "lines",
         "showlegend": false,
         "type": "scatter",
         "x": [
          4471,
          4620.5
         ],
         "y": [
          -713,
          -724.5
         ]
        },
        {
         "hoverinfo": "none",
         "line": {
          "color": "#2d98b5",
          "width": 0.5
         },
         "mode": "lines",
         "showlegend": false,
         "type": "scatter",
         "x": [
          4620.5,
          4770
         ],
         "y": [
          -724.5,
          -736
         ]
        },
        {
         "hoverinfo": "none",
         "line": {
          "color": "#872341",
          "width": 0.5
         },
         "mode": "lines",
         "showlegend": false,
         "type": "scatter",
         "x": [
          4638,
          4778
         ],
         "y": [
          -1450,
          -1450.5
         ]
        },
        {
         "hoverinfo": "none",
         "line": {
          "color": "#2d98b5",
          "width": 0.5
         },
         "mode": "lines",
         "showlegend": false,
         "type": "scatter",
         "x": [
          4778,
          4918
         ],
         "y": [
          -1450.5,
          -1451
         ]
        },
        {
         "hoverinfo": "none",
         "line": {
          "color": "#872341",
          "width": 0.5
         },
         "mode": "lines",
         "showlegend": false,
         "type": "scatter",
         "x": [
          6521,
          6654.999755
         ],
         "y": [
          -508.999969,
          -383.9999845
         ]
        },
        {
         "hoverinfo": "none",
         "line": {
          "color": "#2d98b5",
          "width": 0.5
         },
         "mode": "lines",
         "showlegend": false,
         "type": "scatter",
         "x": [
          6654.999755,
          6788.99951
         ],
         "y": [
          -383.9999845,
          -259
         ]
        },
        {
         "hoverinfo": "none",
         "line": {
          "color": "#872341",
          "width": 0.5
         },
         "mode": "lines",
         "showlegend": false,
         "type": "scatter",
         "x": [
          6788.99951,
          6912.499755
         ],
         "y": [
          -259,
          -393.5
         ]
        },
        {
         "hoverinfo": "none",
         "line": {
          "color": "#2d98b5",
          "width": 0.5
         },
         "mode": "lines",
         "showlegend": false,
         "type": "scatter",
         "x": [
          6912.499755,
          7036
         ],
         "y": [
          -393.5,
          -528
         ]
        },
        {
         "hoverinfo": "none",
         "line": {
          "color": "#872341",
          "width": 0.5
         },
         "mode": "lines",
         "showlegend": false,
         "type": "scatter",
         "x": [
          6788.99951,
          6912
         ],
         "y": [
          -259,
          -283
         ]
        },
        {
         "hoverinfo": "none",
         "line": {
          "color": "#2d98b5",
          "width": 0.5
         },
         "mode": "lines",
         "showlegend": false,
         "type": "scatter",
         "x": [
          6912,
          7035.00049
         ],
         "y": [
          -283,
          -307
         ]
        },
        {
         "hoverinfo": "none",
         "line": {
          "color": "#872341",
          "width": 0.5
         },
         "mode": "lines",
         "showlegend": false,
         "type": "scatter",
         "x": [
          5764,
          5920
         ],
         "y": [
          1178,
          920.5
         ]
        },
        {
         "hoverinfo": "none",
         "line": {
          "color": "#2d98b5",
          "width": 0.5
         },
         "mode": "lines",
         "showlegend": false,
         "type": "scatter",
         "x": [
          5920,
          6076
         ],
         "y": [
          920.5,
          663
         ]
        },
        {
         "hoverinfo": "none",
         "line": {
          "color": "#872341",
          "width": 0.5
         },
         "mode": "lines",
         "showlegend": false,
         "type": "scatter",
         "x": [
          5764,
          5919
         ],
         "y": [
          1178,
          1049.5
         ]
        },
        {
         "hoverinfo": "none",
         "line": {
          "color": "#2d98b5",
          "width": 0.5
         },
         "mode": "lines",
         "showlegend": false,
         "type": "scatter",
         "x": [
          5919,
          6074
         ],
         "y": [
          1049.5,
          921
         ]
        },
        {
         "hoverinfo": "none",
         "line": {
          "color": "#872341",
          "width": 0.5
         },
         "mode": "lines",
         "showlegend": false,
         "type": "scatter",
         "x": [
          5764,
          5919
         ],
         "y": [
          1178,
          1299.5
         ]
        },
        {
         "hoverinfo": "none",
         "line": {
          "color": "#2d98b5",
          "width": 0.5
         },
         "mode": "lines",
         "showlegend": false,
         "type": "scatter",
         "x": [
          5919,
          6074
         ],
         "y": [
          1299.5,
          1421
         ]
        },
        {
         "hoverinfo": "none",
         "line": {
          "color": "#872341",
          "width": 0.5
         },
         "mode": "lines",
         "showlegend": false,
         "type": "scatter",
         "x": [
          5764,
          5904
         ],
         "y": [
          1178,
          1810.5
         ]
        },
        {
         "hoverinfo": "none",
         "line": {
          "color": "#2d98b5",
          "width": 0.5
         },
         "mode": "lines",
         "showlegend": false,
         "type": "scatter",
         "x": [
          5904,
          6044
         ],
         "y": [
          1810.5,
          2443
         ]
        },
        {
         "hoverinfo": "none",
         "line": {
          "color": "#872341",
          "width": 0.5
         },
         "mode": "lines",
         "showlegend": false,
         "type": "scatter",
         "x": [
          3780.00024,
          4042.5001199999997
         ],
         "y": [
          1640,
          1665.0000599999998
         ]
        },
        {
         "hoverinfo": "none",
         "line": {
          "color": "#2d98b5",
          "width": 0.5
         },
         "mode": "lines",
         "showlegend": false,
         "type": "scatter",
         "x": [
          4042.5001199999997,
          4305
         ],
         "y": [
          1665.0000599999998,
          1690.00012
         ]
        },
        {
         "hoverinfo": "none",
         "line": {
          "color": "#872341",
          "width": 0.5
         },
         "mode": "lines",
         "showlegend": false,
         "type": "scatter",
         "x": [
          3936.99976,
          3248.0247799999997
         ],
         "y": [
          2070,
          1707.75
         ]
        },
        {
         "hoverinfo": "none",
         "line": {
          "color": "#2d98b5",
          "width": 0.5
         },
         "mode": "lines",
         "showlegend": false,
         "type": "scatter",
         "x": [
          3248.0247799999997,
          2559.0498
         ],
         "y": [
          1707.75,
          1345.5
         ]
        },
        {
         "hoverinfo": "none",
         "line": {
          "color": "#872341",
          "width": 0.5
         },
         "mode": "lines",
         "showlegend": false,
         "type": "scatter",
         "x": [
          3936.99976,
          3248.0247799999997
         ],
         "y": [
          2070,
          1707.75
         ]
        },
        {
         "hoverinfo": "none",
         "line": {
          "color": "#2d98b5",
          "width": 0.5
         },
         "mode": "lines",
         "showlegend": false,
         "type": "scatter",
         "x": [
          3248.0247799999997,
          2559.0498
         ],
         "y": [
          1707.75,
          1345.5
         ]
        },
        {
         "hoverinfo": "none",
         "line": {
          "color": "#872341",
          "width": 0.5
         },
         "mode": "lines",
         "showlegend": false,
         "type": "scatter",
         "x": [
          2559.0498,
          3440.0249
         ],
         "y": [
          1345.5,
          1649.75
         ]
        },
        {
         "hoverinfo": "none",
         "line": {
          "color": "#2d98b5",
          "width": 0.5
         },
         "mode": "lines",
         "showlegend": false,
         "type": "scatter",
         "x": [
          3440.0249,
          4321
         ],
         "y": [
          1649.75,
          1954
         ]
        },
        {
         "hoverinfo": "none",
         "line": {
          "color": "#872341",
          "width": 0.5
         },
         "mode": "lines",
         "showlegend": false,
         "type": "scatter",
         "x": [
          2559.0498,
          3450.0249
         ],
         "y": [
          1345.5,
          1807.25
         ]
        },
        {
         "hoverinfo": "none",
         "line": {
          "color": "#2d98b5",
          "width": 0.5
         },
         "mode": "lines",
         "showlegend": false,
         "type": "scatter",
         "x": [
          3450.0249,
          4341
         ],
         "y": [
          1807.25,
          2269
         ]
        },
        {
         "hoverinfo": "none",
         "line": {
          "color": "#872341",
          "width": 0.5
         },
         "mode": "lines",
         "showlegend": false,
         "type": "scatter",
         "x": [
          8380,
          8530
         ],
         "y": [
          1595,
          1682.5000599999998
         ]
        },
        {
         "hoverinfo": "none",
         "line": {
          "color": "#2d98b5",
          "width": 0.5
         },
         "mode": "lines",
         "showlegend": false,
         "type": "scatter",
         "x": [
          8530,
          8680
         ],
         "y": [
          1682.5000599999998,
          1770.00012
         ]
        },
        {
         "hoverinfo": "none",
         "line": {
          "color": "#872341",
          "width": 0.5
         },
         "mode": "lines",
         "showlegend": false,
         "type": "scatter",
         "x": [
          5147,
          5290.5
         ],
         "y": [
          -681,
          -685
         ]
        },
        {
         "hoverinfo": "none",
         "line": {
          "color": "#2d98b5",
          "width": 0.5
         },
         "mode": "lines",
         "showlegend": false,
         "type": "scatter",
         "x": [
          5290.5,
          5434
         ],
         "y": [
          -685,
          -689
         ]
        },
        {
         "hoverinfo": "none",
         "line": {
          "color": "#872341",
          "width": 0.5
         },
         "mode": "lines",
         "showlegend": false,
         "type": "scatter",
         "x": [
          3430.00024,
          3592.50024
         ],
         "y": [
          490.000031,
          490.000031
         ]
        },
        {
         "hoverinfo": "none",
         "line": {
          "color": "#2d98b5",
          "width": 0.5
         },
         "mode": "lines",
         "showlegend": false,
         "type": "scatter",
         "x": [
          3592.50024,
          3755.00024
         ],
         "y": [
          490.000031,
          490.000031
         ]
        },
        {
         "hoverinfo": "none",
         "line": {
          "color": "#872341",
          "width": 0.5
         },
         "mode": "lines",
         "showlegend": false,
         "type": "scatter",
         "x": [
          5234,
          5409
         ],
         "y": [
          79,
          81.5
         ]
        },
        {
         "hoverinfo": "none",
         "line": {
          "color": "#2d98b5",
          "width": 0.5
         },
         "mode": "lines",
         "showlegend": false,
         "type": "scatter",
         "x": [
          5409,
          5584
         ],
         "y": [
          81.5,
          84
         ]
        },
        {
         "hoverinfo": "none",
         "line": {
          "color": "#872341",
          "width": 0.5
         },
         "mode": "lines",
         "showlegend": false,
         "type": "scatter",
         "x": [
          7036,
          7189
         ],
         "y": [
          -528,
          -521
         ]
        },
        {
         "hoverinfo": "none",
         "line": {
          "color": "#2d98b5",
          "width": 0.5
         },
         "mode": "lines",
         "showlegend": false,
         "type": "scatter",
         "x": [
          7189,
          7342
         ],
         "y": [
          -521,
          -514
         ]
        },
        {
         "hoverinfo": "none",
         "line": {
          "color": "#872341",
          "width": 0.5
         },
         "mode": "lines",
         "showlegend": false,
         "type": "scatter",
         "x": [
          9545,
          9714.5
         ],
         "y": [
          2203,
          2210.5
         ]
        },
        {
         "hoverinfo": "none",
         "line": {
          "color": "#2d98b5",
          "width": 0.5
         },
         "mode": "lines",
         "showlegend": false,
         "type": "scatter",
         "x": [
          9714.5,
          9884
         ],
         "y": [
          2210.5,
          2218
         ]
        },
        {
         "hoverinfo": "none",
         "line": {
          "color": "#872341",
          "width": 0.5
         },
         "mode": "lines",
         "showlegend": false,
         "type": "scatter",
         "x": [
          9884,
          10031
         ],
         "y": [
          2218,
          2214.5
         ]
        },
        {
         "hoverinfo": "none",
         "line": {
          "color": "#2d98b5",
          "width": 0.5
         },
         "mode": "lines",
         "showlegend": false,
         "type": "scatter",
         "x": [
          10031,
          10178
         ],
         "y": [
          2214.5,
          2211
         ]
        },
        {
         "hoverinfo": "none",
         "line": {
          "color": "#872341",
          "width": 0.5
         },
         "mode": "lines",
         "showlegend": false,
         "type": "scatter",
         "x": [
          7153.99951,
          5902.0495599999995
         ],
         "y": [
          2219,
          1830.675
         ]
        },
        {
         "hoverinfo": "none",
         "line": {
          "color": "#2d98b5",
          "width": 0.5
         },
         "mode": "lines",
         "showlegend": false,
         "type": "scatter",
         "x": [
          5902.0495599999995,
          4650.09961
         ],
         "y": [
          1830.675,
          1442.35
         ]
        },
        {
         "hoverinfo": "none",
         "line": {
          "color": "#872341",
          "width": 0.5
         },
         "mode": "lines",
         "showlegend": false,
         "type": "scatter",
         "x": [
          7153.99951,
          5902.0495599999995
         ],
         "y": [
          2219,
          1830.675
         ]
        },
        {
         "hoverinfo": "none",
         "line": {
          "color": "#2d98b5",
          "width": 0.5
         },
         "mode": "lines",
         "showlegend": false,
         "type": "scatter",
         "x": [
          5902.0495599999995,
          4650.09961
         ],
         "y": [
          1830.675,
          1442.35
         ]
        },
        {
         "hoverinfo": "none",
         "line": {
          "color": "#872341",
          "width": 0.5
         },
         "mode": "lines",
         "showlegend": false,
         "type": "scatter",
         "x": [
          4650.09961,
          6111.049805000001
         ],
         "y": [
          1442.35,
          1729.1749399999999
         ]
        },
        {
         "hoverinfo": "none",
         "line": {
          "color": "#2d98b5",
          "width": 0.5
         },
         "mode": "lines",
         "showlegend": false,
         "type": "scatter",
         "x": [
          6111.049805000001,
          7572
         ],
         "y": [
          1729.1749399999999,
          2015.99988
         ]
        },
        {
         "hoverinfo": "none",
         "line": {
          "color": "#872341",
          "width": 0.5
         },
         "mode": "lines",
         "showlegend": false,
         "type": "scatter",
         "x": [
          4650.09961,
          6056.549805000001
         ],
         "y": [
          1442.35,
          1833.675
         ]
        },
        {
         "hoverinfo": "none",
         "line": {
          "color": "#2d98b5",
          "width": 0.5
         },
         "mode": "lines",
         "showlegend": false,
         "type": "scatter",
         "x": [
          6056.549805000001,
          7463
         ],
         "y": [
          1833.675,
          2225
         ]
        },
        {
         "hoverinfo": "none",
         "line": {
          "color": "#872341",
          "width": 0.5
         },
         "mode": "lines",
         "showlegend": false,
         "type": "scatter",
         "x": [
          1950.00012,
          2200.00006
         ],
         "y": [
          193,
          146.5
         ]
        },
        {
         "hoverinfo": "none",
         "line": {
          "color": "#2d98b5",
          "width": 0.5
         },
         "mode": "lines",
         "showlegend": false,
         "type": "scatter",
         "x": [
          2200.00006,
          2450
         ],
         "y": [
          146.5,
          100
         ]
        },
        {
         "hoverinfo": "none",
         "line": {
          "color": "#872341",
          "width": 0.5
         },
         "mode": "lines",
         "showlegend": false,
         "type": "scatter",
         "x": [
          4761,
          4914
         ],
         "y": [
          601,
          627.5
         ]
        },
        {
         "hoverinfo": "none",
         "line": {
          "color": "#2d98b5",
          "width": 0.5
         },
         "mode": "lines",
         "showlegend": false,
         "type": "scatter",
         "x": [
          4914,
          5067
         ],
         "y": [
          627.5,
          654
         ]
        },
        {
         "hoverinfo": "none",
         "line": {
          "color": "#872341",
          "width": 0.5
         },
         "mode": "lines",
         "showlegend": false,
         "type": "scatter",
         "x": [
          8344,
          10182
         ],
         "y": [
          2931,
          2558.5
         ]
        },
        {
         "hoverinfo": "none",
         "line": {
          "color": "#2d98b5",
          "width": 0.5
         },
         "mode": "lines",
         "showlegend": false,
         "type": "scatter",
         "x": [
          10182,
          12020
         ],
         "y": [
          2558.5,
          2186
         ]
        },
        {
         "hoverinfo": "none",
         "line": {
          "color": "#872341",
          "width": 0.5
         },
         "mode": "lines",
         "showlegend": false,
         "type": "scatter",
         "x": [
          3141,
          3285.5001199999997
         ],
         "y": [
          1943,
          1929.0000599999998
         ]
        },
        {
         "hoverinfo": "none",
         "line": {
          "color": "#2d98b5",
          "width": 0.5
         },
         "mode": "lines",
         "showlegend": false,
         "type": "scatter",
         "x": [
          3285.5001199999997,
          3430.00024
         ],
         "y": [
          1929.0000599999998,
          1915.00012
         ]
        },
        {
         "hoverinfo": "none",
         "line": {
          "color": "#872341",
          "width": 0.5
         },
         "mode": "lines",
         "showlegend": false,
         "type": "scatter",
         "x": [
          4050.00024,
          4191.50012
         ],
         "y": [
          -1175,
          -1174.5
         ]
        },
        {
         "hoverinfo": "none",
         "line": {
          "color": "#2d98b5",
          "width": 0.5
         },
         "mode": "lines",
         "showlegend": false,
         "type": "scatter",
         "x": [
          4191.50012,
          4333
         ],
         "y": [
          -1174.5,
          -1174
         ]
        },
        {
         "hoverinfo": "none",
         "line": {
          "color": "#872341",
          "width": 0.5
         },
         "mode": "lines",
         "showlegend": false,
         "type": "scatter",
         "x": [
          5254,
          5398
         ],
         "y": [
          -1848,
          -1849.0000599999998
         ]
        },
        {
         "hoverinfo": "none",
         "line": {
          "color": "#2d98b5",
          "width": 0.5
         },
         "mode": "lines",
         "showlegend": false,
         "type": "scatter",
         "x": [
          5398,
          5542
         ],
         "y": [
          -1849.0000599999998,
          -1850.00012
         ]
        },
        {
         "hoverinfo": "none",
         "line": {
          "color": "#872341",
          "width": 0.5
         },
         "mode": "lines",
         "showlegend": false,
         "type": "scatter",
         "x": [
          7487,
          6625.5
         ],
         "y": [
          1184,
          1181
         ]
        },
        {
         "hoverinfo": "none",
         "line": {
          "color": "#2d98b5",
          "width": 0.5
         },
         "mode": "lines",
         "showlegend": false,
         "type": "scatter",
         "x": [
          6625.5,
          5764
         ],
         "y": [
          1181,
          1178
         ]
        },
        {
         "hoverinfo": "none",
         "line": {
          "color": "#872341",
          "width": 0.5
         },
         "mode": "lines",
         "showlegend": false,
         "type": "scatter",
         "x": [
          7463,
          7621.500245
         ],
         "y": [
          2225,
          2260
         ]
        },
        {
         "hoverinfo": "none",
         "line": {
          "color": "#2d98b5",
          "width": 0.5
         },
         "mode": "lines",
         "showlegend": false,
         "type": "scatter",
         "x": [
          7621.500245,
          7780.00049
         ],
         "y": [
          2260,
          2295
         ]
        },
        {
         "hoverinfo": "none",
         "line": {
          "color": "#872341",
          "width": 0.5
         },
         "mode": "lines",
         "showlegend": false,
         "type": "scatter",
         "x": [
          7780.00049,
          6418.500245
         ],
         "y": [
          2295,
          1893.375
         ]
        },
        {
         "hoverinfo": "none",
         "line": {
          "color": "#2d98b5",
          "width": 0.5
         },
         "mode": "lines",
         "showlegend": false,
         "type": "scatter",
         "x": [
          6418.500245,
          5057
         ],
         "y": [
          1893.375,
          1491.75
         ]
        },
        {
         "hoverinfo": "none",
         "line": {
          "color": "#872341",
          "width": 0.5
         },
         "mode": "lines",
         "showlegend": false,
         "type": "scatter",
         "x": [
          7780.00049,
          6418.500245
         ],
         "y": [
          2295,
          1893.375
         ]
        },
        {
         "hoverinfo": "none",
         "line": {
          "color": "#2d98b5",
          "width": 0.5
         },
         "mode": "lines",
         "showlegend": false,
         "type": "scatter",
         "x": [
          6418.500245,
          5057
         ],
         "y": [
          1893.375,
          1491.75
         ]
        },
        {
         "hoverinfo": "none",
         "line": {
          "color": "#872341",
          "width": 0.5
         },
         "mode": "lines",
         "showlegend": false,
         "type": "scatter",
         "x": [
          5057,
          6651.5
         ],
         "y": [
          1491.75,
          1838.375
         ]
        },
        {
         "hoverinfo": "none",
         "line": {
          "color": "#2d98b5",
          "width": 0.5
         },
         "mode": "lines",
         "showlegend": false,
         "type": "scatter",
         "x": [
          6651.5,
          8246
         ],
         "y": [
          1838.375,
          2185
         ]
        },
        {
         "hoverinfo": "none",
         "line": {
          "color": "#872341",
          "width": 0.5
         },
         "mode": "lines",
         "showlegend": false,
         "type": "scatter",
         "x": [
          5057,
          6646
         ],
         "y": [
          1491.75,
          1995.375
         ]
        },
        {
         "hoverinfo": "none",
         "line": {
          "color": "#2d98b5",
          "width": 0.5
         },
         "mode": "lines",
         "showlegend": false,
         "type": "scatter",
         "x": [
          6646,
          8235
         ],
         "y": [
          1995.375,
          2499
         ]
        },
        {
         "hoverinfo": "none",
         "line": {
          "color": "#872341",
          "width": 0.5
         },
         "mode": "lines",
         "showlegend": false,
         "type": "scatter",
         "x": [
          8891,
          9037
         ],
         "y": [
          2218,
          2204.5
         ]
        },
        {
         "hoverinfo": "none",
         "line": {
          "color": "#2d98b5",
          "width": 0.5
         },
         "mode": "lines",
         "showlegend": false,
         "type": "scatter",
         "x": [
          9037,
          9183
         ],
         "y": [
          2204.5,
          2191
         ]
        },
        {
         "hoverinfo": "none",
         "line": {
          "color": "#872341",
          "width": 0.5
         },
         "mode": "lines",
         "showlegend": false,
         "type": "scatter",
         "x": [
          1950.00012,
          2200.00006
         ],
         "y": [
          475.000031,
          287.5000155
         ]
        },
        {
         "hoverinfo": "none",
         "line": {
          "color": "#2d98b5",
          "width": 0.5
         },
         "mode": "lines",
         "showlegend": false,
         "type": "scatter",
         "x": [
          2200.00006,
          2450
         ],
         "y": [
          287.5000155,
          100
         ]
        },
        {
         "hoverinfo": "none",
         "line": {
          "color": "#872341",
          "width": 0.5
         },
         "mode": "lines",
         "showlegend": false,
         "type": "scatter",
         "x": [
          3131,
          3280.5001199999997
         ],
         "y": [
          495.000031,
          492.500031
         ]
        },
        {
         "hoverinfo": "none",
         "line": {
          "color": "#2d98b5",
          "width": 0.5
         },
         "mode": "lines",
         "showlegend": false,
         "type": "scatter",
         "x": [
          3280.5001199999997,
          3430.00024
         ],
         "y": [
          492.500031,
          490.000031
         ]
        },
        {
         "hoverinfo": "none",
         "line": {
          "color": "#872341",
          "width": 0.5
         },
         "mode": "lines",
         "showlegend": false,
         "type": "scatter",
         "x": [
          3860.00024,
          4010.0001199999997
         ],
         "y": [
          -747,
          -658
         ]
        },
        {
         "hoverinfo": "none",
         "line": {
          "color": "#2d98b5",
          "width": 0.5
         },
         "mode": "lines",
         "showlegend": false,
         "type": "scatter",
         "x": [
          4010.0001199999997,
          4160
         ],
         "y": [
          -658,
          -569
         ]
        },
        {
         "hoverinfo": "none",
         "line": {
          "color": "#872341",
          "width": 0.5
         },
         "mode": "lines",
         "showlegend": false,
         "type": "scatter",
         "x": [
          4041,
          4181
         ],
         "y": [
          -1443,
          -1459
         ]
        },
        {
         "hoverinfo": "none",
         "line": {
          "color": "#2d98b5",
          "width": 0.5
         },
         "mode": "lines",
         "showlegend": false,
         "type": "scatter",
         "x": [
          4181,
          4321
         ],
         "y": [
          -1459,
          -1475
         ]
        },
        {
         "hoverinfo": "none",
         "line": {
          "color": "#872341",
          "width": 0.5
         },
         "mode": "lines",
         "showlegend": false,
         "type": "scatter",
         "x": [
          6728,
          7107.5
         ],
         "y": [
          1420,
          1302
         ]
        },
        {
         "hoverinfo": "none",
         "line": {
          "color": "#2d98b5",
          "width": 0.5
         },
         "mode": "lines",
         "showlegend": false,
         "type": "scatter",
         "x": [
          7107.5,
          7487
         ],
         "y": [
          1302,
          1184
         ]
        },
        {
         "hoverinfo": "none",
         "line": {
          "color": "#872341",
          "width": 0.5
         },
         "mode": "lines",
         "showlegend": false,
         "type": "scatter",
         "x": [
          6076,
          6216.5
         ],
         "y": [
          663,
          663.5
         ]
        },
        {
         "hoverinfo": "none",
         "line": {
          "color": "#2d98b5",
          "width": 0.5
         },
         "mode": "lines",
         "showlegend": false,
         "type": "scatter",
         "x": [
          6216.5,
          6357
         ],
         "y": [
          663.5,
          664
         ]
        },
        {
         "hoverinfo": "none",
         "line": {
          "color": "#872341",
          "width": 0.5
         },
         "mode": "lines",
         "showlegend": false,
         "type": "scatter",
         "x": [
          6357,
          6922
         ],
         "y": [
          664,
          924
         ]
        },
        {
         "hoverinfo": "none",
         "line": {
          "color": "#2d98b5",
          "width": 0.5
         },
         "mode": "lines",
         "showlegend": false,
         "type": "scatter",
         "x": [
          6922,
          7487
         ],
         "y": [
          924,
          1184
         ]
        },
        {
         "hoverinfo": "none",
         "line": {
          "color": "#872341",
          "width": 0.5
         },
         "mode": "lines",
         "showlegend": false,
         "type": "scatter",
         "x": [
          11733,
          11876.5
         ],
         "y": [
          2203,
          2194.5
         ]
        },
        {
         "hoverinfo": "none",
         "line": {
          "color": "#2d98b5",
          "width": 0.5
         },
         "mode": "lines",
         "showlegend": false,
         "type": "scatter",
         "x": [
          11876.5,
          12020
         ],
         "y": [
          2194.5,
          2186
         ]
        },
        {
         "hoverinfo": "none",
         "line": {
          "color": "#872341",
          "width": 0.5
         },
         "mode": "lines",
         "showlegend": false,
         "type": "scatter",
         "x": [
          1625,
          1340.625
         ],
         "y": [
          825,
          680.625
         ]
        },
        {
         "hoverinfo": "none",
         "line": {
          "color": "#2d98b5",
          "width": 0.5
         },
         "mode": "lines",
         "showlegend": false,
         "type": "scatter",
         "x": [
          1340.625,
          1056.25
         ],
         "y": [
          680.625,
          536.25
         ]
        },
        {
         "hoverinfo": "none",
         "line": {
          "color": "#872341",
          "width": 0.5
         },
         "mode": "lines",
         "showlegend": false,
         "type": "scatter",
         "x": [
          1625,
          1340.625
         ],
         "y": [
          825,
          680.625
         ]
        },
        {
         "hoverinfo": "none",
         "line": {
          "color": "#2d98b5",
          "width": 0.5
         },
         "mode": "lines",
         "showlegend": false,
         "type": "scatter",
         "x": [
          1340.625,
          1056.25
         ],
         "y": [
          680.625,
          536.25
         ]
        },
        {
         "hoverinfo": "none",
         "line": {
          "color": "#872341",
          "width": 0.5
         },
         "mode": "lines",
         "showlegend": false,
         "type": "scatter",
         "x": [
          1056.25,
          1499.625
         ],
         "y": [
          536.25,
          643.125
         ]
        },
        {
         "hoverinfo": "none",
         "line": {
          "color": "#2d98b5",
          "width": 0.5
         },
         "mode": "lines",
         "showlegend": false,
         "type": "scatter",
         "x": [
          1499.625,
          1943
         ],
         "y": [
          643.125,
          750
         ]
        },
        {
         "hoverinfo": "none",
         "line": {
          "color": "#872341",
          "width": 0.5
         },
         "mode": "lines",
         "showlegend": false,
         "type": "scatter",
         "x": [
          1056.25,
          1499.625
         ],
         "y": [
          536.25,
          780.625
         ]
        },
        {
         "hoverinfo": "none",
         "line": {
          "color": "#2d98b5",
          "width": 0.5
         },
         "mode": "lines",
         "showlegend": false,
         "type": "scatter",
         "x": [
          1499.625,
          1943
         ],
         "y": [
          780.625,
          1025
         ]
        },
        {
         "hoverinfo": "none",
         "line": {
          "color": "#872341",
          "width": 0.5
         },
         "mode": "lines",
         "showlegend": false,
         "type": "scatter",
         "x": [
          -1325,
          -1150.0000304999999
         ],
         "y": [
          75,
          -12.5
         ]
        },
        {
         "hoverinfo": "none",
         "line": {
          "color": "#2d98b5",
          "width": 0.5
         },
         "mode": "lines",
         "showlegend": false,
         "type": "scatter",
         "x": [
          -1150.0000304999999,
          -975.000061
         ],
         "y": [
          -12.5,
          -100
         ]
        },
        {
         "hoverinfo": "none",
         "line": {
          "color": "#872341",
          "width": 0.5
         },
         "mode": "lines",
         "showlegend": false,
         "type": "scatter",
         "x": [
          -1325,
          -1025
         ],
         "y": [
          75,
          375
         ]
        },
        {
         "hoverinfo": "none",
         "line": {
          "color": "#2d98b5",
          "width": 0.5
         },
         "mode": "lines",
         "showlegend": false,
         "type": "scatter",
         "x": [
          -1025,
          -725
         ],
         "y": [
          375,
          675
         ]
        },
        {
         "hoverinfo": "none",
         "line": {
          "color": "#872341",
          "width": 0.5
         },
         "mode": "lines",
         "showlegend": false,
         "type": "scatter",
         "x": [
          -975.000061,
          324.9999695
         ],
         "y": [
          -100,
          -162.50000749999998
         ]
        },
        {
         "hoverinfo": "none",
         "line": {
          "color": "#2d98b5",
          "width": 0.5
         },
         "mode": "lines",
         "showlegend": false,
         "type": "scatter",
         "x": [
          324.9999695,
          1625
         ],
         "y": [
          -162.50000749999998,
          -225.000015
         ]
        },
        {
         "hoverinfo": "none",
         "line": {
          "color": "#872341",
          "width": 0.5
         },
         "mode": "lines",
         "showlegend": false,
         "type": "scatter",
         "x": [
          195,
          360
         ],
         "y": [
          170,
          172.5
         ]
        },
        {
         "hoverinfo": "none",
         "line": {
          "color": "#2d98b5",
          "width": 0.5
         },
         "mode": "lines",
         "showlegend": false,
         "type": "scatter",
         "x": [
          360,
          525
         ],
         "y": [
          172.5,
          175
         ]
        },
        {
         "hoverinfo": "none",
         "line": {
          "color": "#872341",
          "width": 0.5
         },
         "mode": "lines",
         "showlegend": false,
         "type": "scatter",
         "x": [
          4468,
          4658.5
         ],
         "y": [
          -467,
          -371
         ]
        },
        {
         "hoverinfo": "none",
         "line": {
          "color": "#2d98b5",
          "width": 0.5
         },
         "mode": "lines",
         "showlegend": false,
         "type": "scatter",
         "x": [
          4658.5,
          4849
         ],
         "y": [
          -371,
          -275
         ]
        },
        {
         "hoverinfo": "none",
         "line": {
          "color": "#872341",
          "width": 0.5
         },
         "mode": "lines",
         "showlegend": false,
         "type": "scatter",
         "x": [
          3430.00024,
          3867.5001199999997
         ],
         "y": [
          1915.00012,
          1802.50012
         ]
        },
        {
         "hoverinfo": "none",
         "line": {
          "color": "#2d98b5",
          "width": 0.5
         },
         "mode": "lines",
         "showlegend": false,
         "type": "scatter",
         "x": [
          3867.5001199999997,
          4305
         ],
         "y": [
          1802.50012,
          1690.00012
         ]
        },
        {
         "hoverinfo": "none",
         "line": {
          "color": "#872341",
          "width": 0.5
         },
         "mode": "lines",
         "showlegend": false,
         "type": "scatter",
         "x": [
          3791.99976,
          3919.9998800000003
         ],
         "y": [
          -1364,
          -1549
         ]
        },
        {
         "hoverinfo": "none",
         "line": {
          "color": "#2d98b5",
          "width": 0.5
         },
         "mode": "lines",
         "showlegend": false,
         "type": "scatter",
         "x": [
          3919.9998800000003,
          4048
         ],
         "y": [
          -1549,
          -1734
         ]
        },
        {
         "hoverinfo": "none",
         "line": {
          "color": "#872341",
          "width": 0.5
         },
         "mode": "lines",
         "showlegend": false,
         "type": "scatter",
         "x": [
          3791.99976,
          3916.4998800000003
         ],
         "y": [
          -1364,
          -1403.5
         ]
        },
        {
         "hoverinfo": "none",
         "line": {
          "color": "#2d98b5",
          "width": 0.5
         },
         "mode": "lines",
         "showlegend": false,
         "type": "scatter",
         "x": [
          3916.4998800000003,
          4041
         ],
         "y": [
          -1403.5,
          -1443
         ]
        },
        {
         "hoverinfo": "none",
         "line": {
          "color": "#872341",
          "width": 0.5
         },
         "mode": "lines",
         "showlegend": false,
         "type": "scatter",
         "x": [
          3791.99976,
          3921
         ],
         "y": [
          -1364,
          -1269.5
         ]
        },
        {
         "hoverinfo": "none",
         "line": {
          "color": "#2d98b5",
          "width": 0.5
         },
         "mode": "lines",
         "showlegend": false,
         "type": "scatter",
         "x": [
          3921,
          4050.00024
         ],
         "y": [
          -1269.5,
          -1175
         ]
        },
        {
         "hoverinfo": "none",
         "line": {
          "color": "#872341",
          "width": 0.5
         },
         "mode": "lines",
         "showlegend": false,
         "type": "scatter",
         "x": [
          10178,
          10338.5
         ],
         "y": [
          2211,
          2214.5
         ]
        },
        {
         "hoverinfo": "none",
         "line": {
          "color": "#2d98b5",
          "width": 0.5
         },
         "mode": "lines",
         "showlegend": false,
         "type": "scatter",
         "x": [
          10338.5,
          10499
         ],
         "y": [
          2214.5,
          2218
         ]
        },
        {
         "hoverinfo": "none",
         "line": {
          "color": "#872341",
          "width": 0.5
         },
         "mode": "lines",
         "showlegend": false,
         "type": "scatter",
         "x": [
          1625,
          1340.625
         ],
         "y": [
          325,
          268.1249925
         ]
        },
        {
         "hoverinfo": "none",
         "line": {
          "color": "#2d98b5",
          "width": 0.5
         },
         "mode": "lines",
         "showlegend": false,
         "type": "scatter",
         "x": [
          1340.625,
          1056.25
         ],
         "y": [
          268.1249925,
          211.249985
         ]
        },
        {
         "hoverinfo": "none",
         "line": {
          "color": "#872341",
          "width": 0.5
         },
         "mode": "lines",
         "showlegend": false,
         "type": "scatter",
         "x": [
          1625,
          1340.625
         ],
         "y": [
          325,
          268.1249925
         ]
        },
        {
         "hoverinfo": "none",
         "line": {
          "color": "#2d98b5",
          "width": 0.5
         },
         "mode": "lines",
         "showlegend": false,
         "type": "scatter",
         "x": [
          1340.625,
          1056.25
         ],
         "y": [
          268.1249925,
          211.249985
         ]
        },
        {
         "hoverinfo": "none",
         "line": {
          "color": "#872341",
          "width": 0.5
         },
         "mode": "lines",
         "showlegend": false,
         "type": "scatter",
         "x": [
          1056.25,
          1503.1250599999998
         ],
         "y": [
          211.249985,
          202.12499250000002
         ]
        },
        {
         "hoverinfo": "none",
         "line": {
          "color": "#2d98b5",
          "width": 0.5
         },
         "mode": "lines",
         "showlegend": false,
         "type": "scatter",
         "x": [
          1503.1250599999998,
          1950.00012
         ],
         "y": [
          202.12499250000002,
          193
         ]
        },
        {
         "hoverinfo": "none",
         "line": {
          "color": "#872341",
          "width": 0.5
         },
         "mode": "lines",
         "showlegend": false,
         "type": "scatter",
         "x": [
          1056.25,
          1340.625
         ],
         "y": [
          211.249985,
          405.6249925
         ]
        },
        {
         "hoverinfo": "none",
         "line": {
          "color": "#2d98b5",
          "width": 0.5
         },
         "mode": "lines",
         "showlegend": false,
         "type": "scatter",
         "x": [
          1340.625,
          1625
         ],
         "y": [
          405.6249925,
          600
         ]
        },
        {
         "hoverinfo": "none",
         "line": {
          "color": "#872341",
          "width": 0.5
         },
         "mode": "lines",
         "showlegend": false,
         "type": "scatter",
         "x": [
          1943,
          2196.5
         ],
         "y": [
          750,
          425
         ]
        },
        {
         "hoverinfo": "none",
         "line": {
          "color": "#2d98b5",
          "width": 0.5
         },
         "mode": "lines",
         "showlegend": false,
         "type": "scatter",
         "x": [
          2196.5,
          2450
         ],
         "y": [
          425,
          100
         ]
        },
        {
         "hoverinfo": "none",
         "line": {
          "color": "#872341",
          "width": 0.5
         },
         "mode": "lines",
         "showlegend": false,
         "type": "scatter",
         "x": [
          1943,
          2196.5
         ],
         "y": [
          1025,
          562.5
         ]
        },
        {
         "hoverinfo": "none",
         "line": {
          "color": "#2d98b5",
          "width": 0.5
         },
         "mode": "lines",
         "showlegend": false,
         "type": "scatter",
         "x": [
          2196.5,
          2450
         ],
         "y": [
          562.5,
          100
         ]
        },
        {
         "hoverinfo": "none",
         "line": {
          "color": "#872341",
          "width": 0.5
         },
         "mode": "lines",
         "showlegend": false,
         "type": "scatter",
         "x": [
          6737,
          5558.025
         ],
         "y": [
          2495,
          2058.375
         ]
        },
        {
         "hoverinfo": "none",
         "line": {
          "color": "#2d98b5",
          "width": 0.5
         },
         "mode": "lines",
         "showlegend": false,
         "type": "scatter",
         "x": [
          5558.025,
          4379.05
         ],
         "y": [
          2058.375,
          1621.75
         ]
        },
        {
         "hoverinfo": "none",
         "line": {
          "color": "#872341",
          "width": 0.5
         },
         "mode": "lines",
         "showlegend": false,
         "type": "scatter",
         "x": [
          6737,
          5558.025
         ],
         "y": [
          2495,
          2058.375
         ]
        },
        {
         "hoverinfo": "none",
         "line": {
          "color": "#2d98b5",
          "width": 0.5
         },
         "mode": "lines",
         "showlegend": false,
         "type": "scatter",
         "x": [
          5558.025,
          4379.05
         ],
         "y": [
          2058.375,
          1621.75
         ]
        },
        {
         "hoverinfo": "none",
         "line": {
          "color": "#872341",
          "width": 0.5
         },
         "mode": "lines",
         "showlegend": false,
         "type": "scatter",
         "x": [
          4379.05,
          5760.025
         ],
         "y": [
          1621.75,
          1820.375
         ]
        },
        {
         "hoverinfo": "none",
         "line": {
          "color": "#2d98b5",
          "width": 0.5
         },
         "mode": "lines",
         "showlegend": false,
         "type": "scatter",
         "x": [
          5760.025,
          7141
         ],
         "y": [
          1820.375,
          2019
         ]
        },
        {
         "hoverinfo": "none",
         "line": {
          "color": "#872341",
          "width": 0.5
         },
         "mode": "lines",
         "showlegend": false,
         "type": "scatter",
         "x": [
          4379.05,
          5784.024755
         ],
         "y": [
          1621.75,
          2287.375
         ]
        },
        {
         "hoverinfo": "none",
         "line": {
          "color": "#2d98b5",
          "width": 0.5
         },
         "mode": "lines",
         "showlegend": false,
         "type": "scatter",
         "x": [
          5784.024755,
          7188.99951
         ],
         "y": [
          2287.375,
          2953
         ]
        },
        {
         "hoverinfo": "none",
         "line": {
          "color": "#872341",
          "width": 0.5
         },
         "mode": "lines",
         "showlegend": false,
         "type": "scatter",
         "x": [
          -100,
          47.5
         ],
         "y": [
          175,
          172.5
         ]
        },
        {
         "hoverinfo": "none",
         "line": {
          "color": "#2d98b5",
          "width": 0.5
         },
         "mode": "lines",
         "showlegend": false,
         "type": "scatter",
         "x": [
          47.5,
          195
         ],
         "y": [
          172.5,
          170
         ]
        },
        {
         "hoverinfo": "none",
         "line": {
          "color": "#872341",
          "width": 0.5
         },
         "mode": "lines",
         "showlegend": false,
         "type": "scatter",
         "x": [
          2450,
          2614.5
         ],
         "y": [
          100,
          153.49999250000002
         ]
        },
        {
         "hoverinfo": "none",
         "line": {
          "color": "#2d98b5",
          "width": 0.5
         },
         "mode": "lines",
         "showlegend": false,
         "type": "scatter",
         "x": [
          2614.5,
          2779
         ],
         "y": [
          153.49999250000002,
          206.999985
         ]
        },
        {
         "hoverinfo": "none",
         "line": {
          "color": "#872341",
          "width": 0.5
         },
         "mode": "lines",
         "showlegend": false,
         "type": "scatter",
         "x": [
          4632,
          4780
         ],
         "y": [
          -1730.99988,
          -1703
         ]
        },
        {
         "hoverinfo": "none",
         "line": {
          "color": "#2d98b5",
          "width": 0.5
         },
         "mode": "lines",
         "showlegend": false,
         "type": "scatter",
         "x": [
          4780,
          4928
         ],
         "y": [
          -1703,
          -1675.00012
         ]
        },
        {
         "hoverinfo": "none",
         "line": {
          "color": "#872341",
          "width": 0.5
         },
         "mode": "lines",
         "showlegend": false,
         "type": "scatter",
         "x": [
          5047,
          5199
         ],
         "y": [
          1247,
          1250
         ]
        },
        {
         "hoverinfo": "none",
         "line": {
          "color": "#2d98b5",
          "width": 0.5
         },
         "mode": "lines",
         "showlegend": false,
         "type": "scatter",
         "x": [
          5199,
          5351
         ],
         "y": [
          1250,
          1253
         ]
        },
        {
         "hoverinfo": "none",
         "line": {
          "color": "#872341",
          "width": 0.5
         },
         "mode": "lines",
         "showlegend": false,
         "type": "scatter",
         "x": [
          6229,
          6371
         ],
         "y": [
          -259,
          -259
         ]
        },
        {
         "hoverinfo": "none",
         "line": {
          "color": "#2d98b5",
          "width": 0.5
         },
         "mode": "lines",
         "showlegend": false,
         "type": "scatter",
         "x": [
          6371,
          6513
         ],
         "y": [
          -259,
          -259
         ]
        },
        {
         "hoverinfo": "none",
         "line": {
          "color": "#872341",
          "width": 0.5
         },
         "mode": "lines",
         "showlegend": false,
         "type": "scatter",
         "x": [
          6833,
          4806
         ],
         "y": [
          -3,
          101.9999925
         ]
        },
        {
         "hoverinfo": "none",
         "line": {
          "color": "#2d98b5",
          "width": 0.5
         },
         "mode": "lines",
         "showlegend": false,
         "type": "scatter",
         "x": [
          4806,
          2779
         ],
         "y": [
          101.9999925,
          206.999985
         ]
        },
        {
         "hoverinfo": "none",
         "line": {
          "color": "#872341",
          "width": 0.5
         },
         "mode": "lines",
         "showlegend": false,
         "type": "scatter",
         "x": [
          4770,
          4962.5
         ],
         "y": [
          -736,
          -841.5
         ]
        },
        {
         "hoverinfo": "none",
         "line": {
          "color": "#2d98b5",
          "width": 0.5
         },
         "mode": "lines",
         "showlegend": false,
         "type": "scatter",
         "x": [
          4962.5,
          5155
         ],
         "y": [
          -841.5,
          -947
         ]
        },
        {
         "hoverinfo": "none",
         "line": {
          "color": "#872341",
          "width": 0.5
         },
         "mode": "lines",
         "showlegend": false,
         "type": "scatter",
         "x": [
          4770,
          4958.5
         ],
         "y": [
          -736,
          -708.5
         ]
        },
        {
         "hoverinfo": "none",
         "line": {
          "color": "#2d98b5",
          "width": 0.5
         },
         "mode": "lines",
         "showlegend": false,
         "type": "scatter",
         "x": [
          4958.5,
          5147
         ],
         "y": [
          -708.5,
          -681
         ]
        },
        {
         "hoverinfo": "none",
         "line": {
          "color": "#872341",
          "width": 0.5
         },
         "mode": "lines",
         "showlegend": false,
         "type": "scatter",
         "x": [
          4918,
          5064
         ],
         "y": [
          -1451,
          -1437.5
         ]
        },
        {
         "hoverinfo": "none",
         "line": {
          "color": "#2d98b5",
          "width": 0.5
         },
         "mode": "lines",
         "showlegend": false,
         "type": "scatter",
         "x": [
          5064,
          5210
         ],
         "y": [
          -1437.5,
          -1424
         ]
        },
        {
         "hoverinfo": "none",
         "line": {
          "color": "#872341",
          "width": 0.5
         },
         "mode": "lines",
         "showlegend": false,
         "type": "scatter",
         "x": [
          6074,
          6211.499755
         ],
         "y": [
          921,
          907.5
         ]
        },
        {
         "hoverinfo": "none",
         "line": {
          "color": "#2d98b5",
          "width": 0.5
         },
         "mode": "lines",
         "showlegend": false,
         "type": "scatter",
         "x": [
          6211.499755,
          6348.99951
         ],
         "y": [
          907.5,
          894
         ]
        },
        {
         "hoverinfo": "none",
         "line": {
          "color": "#872341",
          "width": 0.5
         },
         "mode": "lines",
         "showlegend": false,
         "type": "scatter",
         "x": [
          6370,
          6549
         ],
         "y": [
          1394,
          1407
         ]
        },
        {
         "hoverinfo": "none",
         "line": {
          "color": "#2d98b5",
          "width": 0.5
         },
         "mode": "lines",
         "showlegend": false,
         "type": "scatter",
         "x": [
          6549,
          6728
         ],
         "y": [
          1407,
          1420
         ]
        },
        {
         "hoverinfo": "none",
         "line": {
          "color": "#872341",
          "width": 0.5
         },
         "mode": "lines",
         "showlegend": false,
         "type": "scatter",
         "x": [
          3484,
          3637.9998800000003
         ],
         "y": [
          -1470,
          -1417
         ]
        },
        {
         "hoverinfo": "none",
         "line": {
          "color": "#2d98b5",
          "width": 0.5
         },
         "mode": "lines",
         "showlegend": false,
         "type": "scatter",
         "x": [
          3637.9998800000003,
          3791.99976
         ],
         "y": [
          -1417,
          -1364
         ]
        },
        {
         "hoverinfo": "none",
         "line": {
          "color": "#872341",
          "width": 0.5
         },
         "mode": "lines",
         "showlegend": false,
         "type": "scatter",
         "x": [
          7251,
          5015
         ],
         "y": [
          -909,
          -351.0000075
         ]
        },
        {
         "hoverinfo": "none",
         "line": {
          "color": "#2d98b5",
          "width": 0.5
         },
         "mode": "lines",
         "showlegend": false,
         "type": "scatter",
         "x": [
          5015,
          2779
         ],
         "y": [
          -351.0000075,
          206.999985
         ]
        },
        {
         "hoverinfo": "none",
         "line": {
          "color": "#872341",
          "width": 0.5
         },
         "mode": "lines",
         "showlegend": false,
         "type": "scatter",
         "x": [
          3144,
          3286
         ],
         "y": [
          1471,
          1501
         ]
        },
        {
         "hoverinfo": "none",
         "line": {
          "color": "#2d98b5",
          "width": 0.5
         },
         "mode": "lines",
         "showlegend": false,
         "type": "scatter",
         "x": [
          3286,
          3428
         ],
         "y": [
          1501,
          1531
         ]
        },
        {
         "hoverinfo": "none",
         "line": {
          "color": "#872341",
          "width": 0.5
         },
         "mode": "lines",
         "showlegend": false,
         "type": "scatter",
         "x": [
          3080,
          3223.4998800000003
         ],
         "y": [
          2465,
          2487.5
         ]
        },
        {
         "hoverinfo": "none",
         "line": {
          "color": "#2d98b5",
          "width": 0.5
         },
         "mode": "lines",
         "showlegend": false,
         "type": "scatter",
         "x": [
          3223.4998800000003,
          3366.99976
         ],
         "y": [
          2487.5,
          2510
         ]
        },
        {
         "hoverinfo": "none",
         "line": {
          "color": "#872341",
          "width": 0.5
         },
         "mode": "lines",
         "showlegend": false,
         "type": "scatter",
         "x": [
          4333,
          4488.5
         ],
         "y": [
          -1174,
          -1155.5
         ]
        },
        {
         "hoverinfo": "none",
         "line": {
          "color": "#2d98b5",
          "width": 0.5
         },
         "mode": "lines",
         "showlegend": false,
         "type": "scatter",
         "x": [
          4488.5,
          4644
         ],
         "y": [
          -1155.5,
          -1137
         ]
        },
        {
         "hoverinfo": "none",
         "line": {
          "color": "#872341",
          "width": 0.5
         },
         "mode": "lines",
         "showlegend": false,
         "type": "scatter",
         "x": [
          8585,
          8738
         ],
         "y": [
          2198,
          2208
         ]
        },
        {
         "hoverinfo": "none",
         "line": {
          "color": "#2d98b5",
          "width": 0.5
         },
         "mode": "lines",
         "showlegend": false,
         "type": "scatter",
         "x": [
          8738,
          8891
         ],
         "y": [
          2208,
          2218
         ]
        },
        {
         "hoverinfo": "none",
         "line": {
          "color": "#872341",
          "width": 0.5
         },
         "mode": "lines",
         "showlegend": false,
         "type": "scatter",
         "x": [
          12363,
          7571
         ],
         "y": [
          2219,
          1212.9999925
         ]
        },
        {
         "hoverinfo": "none",
         "line": {
          "color": "#2d98b5",
          "width": 0.5
         },
         "mode": "lines",
         "showlegend": false,
         "type": "scatter",
         "x": [
          7571,
          2779
         ],
         "y": [
          1212.9999925,
          206.999985
         ]
        },
        {
         "hoverinfo": "none",
         "line": {
          "color": "#872341",
          "width": 0.5
         },
         "mode": "lines",
         "showlegend": false,
         "type": "scatter",
         "x": [
          3743,
          3913
         ],
         "y": [
          -28,
          233.5000155
         ]
        },
        {
         "hoverinfo": "none",
         "line": {
          "color": "#2d98b5",
          "width": 0.5
         },
         "mode": "lines",
         "showlegend": false,
         "type": "scatter",
         "x": [
          3913,
          4083
         ],
         "y": [
          233.5000155,
          495.000031
         ]
        },
        {
         "hoverinfo": "none",
         "line": {
          "color": "#872341",
          "width": 0.5
         },
         "mode": "lines",
         "showlegend": false,
         "type": "scatter",
         "x": [
          4441,
          3663.825
         ],
         "y": [
          784,
          646.799988
         ]
        },
        {
         "hoverinfo": "none",
         "line": {
          "color": "#2d98b5",
          "width": 0.5
         },
         "mode": "lines",
         "showlegend": false,
         "type": "scatter",
         "x": [
          3663.825,
          2886.65
         ],
         "y": [
          646.799988,
          509.599976
         ]
        },
        {
         "hoverinfo": "none",
         "line": {
          "color": "#872341",
          "width": 0.5
         },
         "mode": "lines",
         "showlegend": false,
         "type": "scatter",
         "x": [
          4441,
          3663.825
         ],
         "y": [
          784,
          646.799988
         ]
        },
        {
         "hoverinfo": "none",
         "line": {
          "color": "#2d98b5",
          "width": 0.5
         },
         "mode": "lines",
         "showlegend": false,
         "type": "scatter",
         "x": [
          3663.825,
          2886.65
         ],
         "y": [
          646.799988,
          509.599976
         ]
        },
        {
         "hoverinfo": "none",
         "line": {
          "color": "#872341",
          "width": 0.5
         },
         "mode": "lines",
         "showlegend": false,
         "type": "scatter",
         "x": [
          2886.65,
          3823.825
         ],
         "y": [
          509.599976,
          555.299988
         ]
        },
        {
         "hoverinfo": "none",
         "line": {
          "color": "#2d98b5",
          "width": 0.5
         },
         "mode": "lines",
         "showlegend": false,
         "type": "scatter",
         "x": [
          3823.825,
          4761
         ],
         "y": [
          555.299988,
          601
         ]
        },
        {
         "hoverinfo": "none",
         "line": {
          "color": "#872341",
          "width": 0.5
         },
         "mode": "lines",
         "showlegend": false,
         "type": "scatter",
         "x": [
          2886.65,
          3821.325
         ],
         "y": [
          509.599976,
          686.799988
         ]
        },
        {
         "hoverinfo": "none",
         "line": {
          "color": "#2d98b5",
          "width": 0.5
         },
         "mode": "lines",
         "showlegend": false,
         "type": "scatter",
         "x": [
          3821.325,
          4756
         ],
         "y": [
          686.799988,
          864
         ]
        },
        {
         "hoverinfo": "none",
         "line": {
          "color": "#872341",
          "width": 0.5
         },
         "mode": "lines",
         "showlegend": false,
         "type": "scatter",
         "x": [
          -2025.00012,
          -1825.0000599999998
         ],
         "y": [
          350,
          300.0000075
         ]
        },
        {
         "hoverinfo": "none",
         "line": {
          "color": "#2d98b5",
          "width": 0.5
         },
         "mode": "lines",
         "showlegend": false,
         "type": "scatter",
         "x": [
          -1825.0000599999998,
          -1625
         ],
         "y": [
          300.0000075,
          250.000015
         ]
        },
        {
         "hoverinfo": "none",
         "line": {
          "color": "#872341",
          "width": 0.5
         },
         "mode": "lines",
         "showlegend": false,
         "type": "scatter",
         "x": [
          2779,
          2837.5
         ],
         "y": [
          206.999985,
          -621.5000075
         ]
        },
        {
         "hoverinfo": "none",
         "line": {
          "color": "#2d98b5",
          "width": 0.5
         },
         "mode": "lines",
         "showlegend": false,
         "type": "scatter",
         "x": [
          2837.5,
          2896
         ],
         "y": [
          -621.5000075,
          -1450
         ]
        },
        {
         "hoverinfo": "none",
         "line": {
          "color": "#872341",
          "width": 0.5
         },
         "mode": "lines",
         "showlegend": false,
         "type": "scatter",
         "x": [
          2779,
          3032.9998800000003
         ],
         "y": [
          206.999985,
          -163.50000749999998
         ]
        },
        {
         "hoverinfo": "none",
         "line": {
          "color": "#2d98b5",
          "width": 0.5
         },
         "mode": "lines",
         "showlegend": false,
         "type": "scatter",
         "x": [
          3032.9998800000003,
          3286.99976
         ],
         "y": [
          -163.50000749999998,
          -534
         ]
        },
        {
         "hoverinfo": "none",
         "line": {
          "color": "#872341",
          "width": 0.5
         },
         "mode": "lines",
         "showlegend": false,
         "type": "scatter",
         "x": [
          2779,
          2955
         ],
         "y": [
          206.999985,
          351.000008
         ]
        },
        {
         "hoverinfo": "none",
         "line": {
          "color": "#2d98b5",
          "width": 0.5
         },
         "mode": "lines",
         "showlegend": false,
         "type": "scatter",
         "x": [
          2955,
          3131
         ],
         "y": [
          351.000008,
          495.000031
         ]
        },
        {
         "hoverinfo": "none",
         "line": {
          "color": "#872341",
          "width": 0.5
         },
         "mode": "lines",
         "showlegend": false,
         "type": "scatter",
         "x": [
          2779,
          2968.5
         ],
         "y": [
          206.999985,
          657.4999925
         ]
        },
        {
         "hoverinfo": "none",
         "line": {
          "color": "#2d98b5",
          "width": 0.5
         },
         "mode": "lines",
         "showlegend": false,
         "type": "scatter",
         "x": [
          2968.5,
          3158
         ],
         "y": [
          657.4999925,
          1108
         ]
        },
        {
         "hoverinfo": "none",
         "line": {
          "color": "#872341",
          "width": 0.5
         },
         "mode": "lines",
         "showlegend": false,
         "type": "scatter",
         "x": [
          2779,
          2961.5
         ],
         "y": [
          206.999985,
          838.9999925
         ]
        },
        {
         "hoverinfo": "none",
         "line": {
          "color": "#2d98b5",
          "width": 0.5
         },
         "mode": "lines",
         "showlegend": false,
         "type": "scatter",
         "x": [
          2961.5,
          3144
         ],
         "y": [
          838.9999925,
          1471
         ]
        },
        {
         "hoverinfo": "none",
         "line": {
          "color": "#872341",
          "width": 0.5
         },
         "mode": "lines",
         "showlegend": false,
         "type": "scatter",
         "x": [
          2779,
          2960
         ],
         "y": [
          206.999985,
          1074.9999925
         ]
        },
        {
         "hoverinfo": "none",
         "line": {
          "color": "#2d98b5",
          "width": 0.5
         },
         "mode": "lines",
         "showlegend": false,
         "type": "scatter",
         "x": [
          2960,
          3141
         ],
         "y": [
          1074.9999925,
          1943
         ]
        },
        {
         "hoverinfo": "none",
         "line": {
          "color": "#872341",
          "width": 0.5
         },
         "mode": "lines",
         "showlegend": false,
         "type": "scatter",
         "x": [
          2779,
          2929.5
         ],
         "y": [
          206.999985,
          1335.9999925
         ]
        },
        {
         "hoverinfo": "none",
         "line": {
          "color": "#2d98b5",
          "width": 0.5
         },
         "mode": "lines",
         "showlegend": false,
         "type": "scatter",
         "x": [
          2929.5,
          3080
         ],
         "y": [
          1335.9999925,
          2465
         ]
        },
        {
         "hoverinfo": "none",
         "line": {
          "color": "#872341",
          "width": 0.5
         },
         "mode": "lines",
         "showlegend": false,
         "type": "scatter",
         "x": [
          6023,
          6185.999755
         ],
         "y": [
          -966,
          -954.4999695
         ]
        },
        {
         "hoverinfo": "none",
         "line": {
          "color": "#2d98b5",
          "width": 0.5
         },
         "mode": "lines",
         "showlegend": false,
         "type": "scatter",
         "x": [
          6185.999755,
          6348.99951
         ],
         "y": [
          -954.4999695,
          -942.999939
         ]
        },
        {
         "hoverinfo": "none",
         "line": {
          "color": "#872341",
          "width": 0.5
         },
         "mode": "lines",
         "showlegend": false,
         "type": "scatter",
         "x": [
          3763,
          3905.5
         ],
         "y": [
          1108,
          1095
         ]
        },
        {
         "hoverinfo": "none",
         "line": {
          "color": "#2d98b5",
          "width": 0.5
         },
         "mode": "lines",
         "showlegend": false,
         "type": "scatter",
         "x": [
          3905.5,
          4048
         ],
         "y": [
          1095,
          1082
         ]
        },
        {
         "hoverinfo": "none",
         "line": {
          "color": "#872341",
          "width": 0.5
         },
         "mode": "lines",
         "showlegend": false,
         "type": "scatter",
         "x": [
          4048,
          4210
         ],
         "y": [
          1082,
          1125.5
         ]
        },
        {
         "hoverinfo": "none",
         "line": {
          "color": "#2d98b5",
          "width": 0.5
         },
         "mode": "lines",
         "showlegend": false,
         "type": "scatter",
         "x": [
          4210,
          4372
         ],
         "y": [
          1125.5,
          1169
         ]
        },
        {
         "hoverinfo": "none",
         "line": {
          "color": "#872341",
          "width": 0.5
         },
         "mode": "lines",
         "showlegend": false,
         "type": "scatter",
         "x": [
          4928,
          4065.6
         ],
         "y": [
          -1675.00012,
          -1381.8750599999998
         ]
        },
        {
         "hoverinfo": "none",
         "line": {
          "color": "#2d98b5",
          "width": 0.5
         },
         "mode": "lines",
         "showlegend": false,
         "type": "scatter",
         "x": [
          4065.6,
          3203.2
         ],
         "y": [
          -1381.8750599999998,
          -1088.75
         ]
        },
        {
         "hoverinfo": "none",
         "line": {
          "color": "#872341",
          "width": 0.5
         },
         "mode": "lines",
         "showlegend": false,
         "type": "scatter",
         "x": [
          4928,
          4065.6
         ],
         "y": [
          -1675.00012,
          -1381.8750599999998
         ]
        },
        {
         "hoverinfo": "none",
         "line": {
          "color": "#2d98b5",
          "width": 0.5
         },
         "mode": "lines",
         "showlegend": false,
         "type": "scatter",
         "x": [
          4065.6,
          3203.2
         ],
         "y": [
          -1381.8750599999998,
          -1088.75
         ]
        },
        {
         "hoverinfo": "none",
         "line": {
          "color": "#872341",
          "width": 0.5
         },
         "mode": "lines",
         "showlegend": false,
         "type": "scatter",
         "x": [
          3203.2,
          4228.1
         ],
         "y": [
          -1088.75,
          -1598.375
         ]
        },
        {
         "hoverinfo": "none",
         "line": {
          "color": "#2d98b5",
          "width": 0.5
         },
         "mode": "lines",
         "showlegend": false,
         "type": "scatter",
         "x": [
          4228.1,
          5253
         ],
         "y": [
          -1598.375,
          -2108
         ]
        },
        {
         "hoverinfo": "none",
         "line": {
          "color": "#872341",
          "width": 0.5
         },
         "mode": "lines",
         "showlegend": false,
         "type": "scatter",
         "x": [
          3203.2,
          4228.6
         ],
         "y": [
          -1088.75,
          -1468.375
         ]
        },
        {
         "hoverinfo": "none",
         "line": {
          "color": "#2d98b5",
          "width": 0.5
         },
         "mode": "lines",
         "showlegend": false,
         "type": "scatter",
         "x": [
          4228.6,
          5254
         ],
         "y": [
          -1468.375,
          -1848
         ]
        },
        {
         "hoverinfo": "none",
         "line": {
          "color": "#872341",
          "width": 0.5
         },
         "mode": "lines",
         "showlegend": false,
         "type": "scatter",
         "x": [
          3203.2,
          4547.1
         ],
         "y": [
          -1088.75,
          -1386.375
         ]
        },
        {
         "hoverinfo": "none",
         "line": {
          "color": "#2d98b5",
          "width": 0.5
         },
         "mode": "lines",
         "showlegend": false,
         "type": "scatter",
         "x": [
          4547.1,
          5891
         ],
         "y": [
          -1386.375,
          -1684
         ]
        },
        {
         "hoverinfo": "none",
         "line": {
          "color": "#872341",
          "width": 0.5
         },
         "mode": "lines",
         "showlegend": false,
         "type": "scatter",
         "x": [
          9183,
          9364
         ],
         "y": [
          2191,
          2197
         ]
        },
        {
         "hoverinfo": "none",
         "line": {
          "color": "#2d98b5",
          "width": 0.5
         },
         "mode": "lines",
         "showlegend": false,
         "type": "scatter",
         "x": [
          9364,
          9545
         ],
         "y": [
          2197,
          2203
         ]
        },
        {
         "hoverinfo": "none",
         "line": {
          "color": "#872341",
          "width": 0.5
         },
         "mode": "lines",
         "showlegend": false,
         "type": "scatter",
         "x": [
          10499,
          10648.5
         ],
         "y": [
          2218,
          2204
         ]
        },
        {
         "hoverinfo": "none",
         "line": {
          "color": "#2d98b5",
          "width": 0.5
         },
         "mode": "lines",
         "showlegend": false,
         "type": "scatter",
         "x": [
          10648.5,
          10798
         ],
         "y": [
          2204,
          2190
         ]
        },
        {
         "hoverinfo": "none",
         "line": {
          "color": "#872341",
          "width": 0.5
         },
         "mode": "lines",
         "showlegend": false,
         "type": "scatter",
         "x": [
          8530,
          10275
         ],
         "y": [
          2524,
          2355
         ]
        },
        {
         "hoverinfo": "none",
         "line": {
          "color": "#2d98b5",
          "width": 0.5
         },
         "mode": "lines",
         "showlegend": false,
         "type": "scatter",
         "x": [
          10275,
          12020
         ],
         "y": [
          2355,
          2186
         ]
        },
        {
         "hoverinfo": "none",
         "line": {
          "color": "#872341",
          "width": 0.5
         },
         "mode": "lines",
         "showlegend": false,
         "type": "scatter",
         "x": [
          3620.00024,
          2986.5001199999997
         ],
         "y": [
          2325,
          1918.125
         ]
        },
        {
         "hoverinfo": "none",
         "line": {
          "color": "#2d98b5",
          "width": 0.5
         },
         "mode": "lines",
         "showlegend": false,
         "type": "scatter",
         "x": [
          2986.5001199999997,
          2353
         ],
         "y": [
          1918.125,
          1511.25
         ]
        },
        {
         "hoverinfo": "none",
         "line": {
          "color": "#872341",
          "width": 0.5
         },
         "mode": "lines",
         "showlegend": false,
         "type": "scatter",
         "x": [
          3620.00024,
          2986.5001199999997
         ],
         "y": [
          2325,
          1918.125
         ]
        },
        {
         "hoverinfo": "none",
         "line": {
          "color": "#2d98b5",
          "width": 0.5
         },
         "mode": "lines",
         "showlegend": false,
         "type": "scatter",
         "x": [
          2986.5001199999997,
          2353
         ],
         "y": [
          1918.125,
          1511.25
         ]
        },
        {
         "hoverinfo": "none",
         "line": {
          "color": "#872341",
          "width": 0.5
         },
         "mode": "lines",
         "showlegend": false,
         "type": "scatter",
         "x": [
          2353,
          3144.9998800000003
         ],
         "y": [
          1511.25,
          1790.625
         ]
        },
        {
         "hoverinfo": "none",
         "line": {
          "color": "#2d98b5",
          "width": 0.5
         },
         "mode": "lines",
         "showlegend": false,
         "type": "scatter",
         "x": [
          3144.9998800000003,
          3936.99976
         ],
         "y": [
          1790.625,
          2070
         ]
        },
        {
         "hoverinfo": "none",
         "line": {
          "color": "#872341",
          "width": 0.5
         },
         "mode": "lines",
         "showlegend": false,
         "type": "scatter",
         "x": [
          2353,
          3341.5
         ],
         "y": [
          1511.25,
          2039.625
         ]
        },
        {
         "hoverinfo": "none",
         "line": {
          "color": "#2d98b5",
          "width": 0.5
         },
         "mode": "lines",
         "showlegend": false,
         "type": "scatter",
         "x": [
          3341.5,
          4330
         ],
         "y": [
          2039.625,
          2568
         ]
        },
        {
         "hoverinfo": "none",
         "line": {
          "color": "#872341",
          "width": 0.5
         },
         "mode": "lines",
         "showlegend": false,
         "type": "scatter",
         "x": [
          1625,
          1340.625
         ],
         "y": [
          -225.000015,
          -185.62500749999998
         ]
        },
        {
         "hoverinfo": "none",
         "line": {
          "color": "#2d98b5",
          "width": 0.5
         },
         "mode": "lines",
         "showlegend": false,
         "type": "scatter",
         "x": [
          1340.625,
          1056.25
         ],
         "y": [
          -185.62500749999998,
          -146.25
         ]
        },
        {
         "hoverinfo": "none",
         "line": {
          "color": "#872341",
          "width": 0.5
         },
         "mode": "lines",
         "showlegend": false,
         "type": "scatter",
         "x": [
          1625,
          1340.625
         ],
         "y": [
          -225.000015,
          -185.62500749999998
         ]
        },
        {
         "hoverinfo": "none",
         "line": {
          "color": "#2d98b5",
          "width": 0.5
         },
         "mode": "lines",
         "showlegend": false,
         "type": "scatter",
         "x": [
          1340.625,
          1056.25
         ],
         "y": [
          -185.62500749999998,
          -146.25
         ]
        },
        {
         "hoverinfo": "none",
         "line": {
          "color": "#872341",
          "width": 0.5
         },
         "mode": "lines",
         "showlegend": false,
         "type": "scatter",
         "x": [
          1056.25,
          1503.1250599999998
         ],
         "y": [
          -146.25,
          -273.125
         ]
        },
        {
         "hoverinfo": "none",
         "line": {
          "color": "#2d98b5",
          "width": 0.5
         },
         "mode": "lines",
         "showlegend": false,
         "type": "scatter",
         "x": [
          1503.1250599999998,
          1950.00012
         ],
         "y": [
          -273.125,
          -400
         ]
        },
        {
         "hoverinfo": "none",
         "line": {
          "color": "#872341",
          "width": 0.5
         },
         "mode": "lines",
         "showlegend": false,
         "type": "scatter",
         "x": [
          1056.25,
          1340.625
         ],
         "y": [
          -146.25,
          -23.125
         ]
        },
        {
         "hoverinfo": "none",
         "line": {
          "color": "#2d98b5",
          "width": 0.5
         },
         "mode": "lines",
         "showlegend": false,
         "type": "scatter",
         "x": [
          1340.625,
          1625
         ],
         "y": [
          -23.125,
          100
         ]
        },
        {
         "hoverinfo": "none",
         "line": {
          "color": "#872341",
          "width": 0.5
         },
         "mode": "lines",
         "showlegend": false,
         "type": "scatter",
         "x": [
          4372,
          3606.8999
         ],
         "y": [
          1169,
          964.425
         ]
        },
        {
         "hoverinfo": "none",
         "line": {
          "color": "#2d98b5",
          "width": 0.5
         },
         "mode": "lines",
         "showlegend": false,
         "type": "scatter",
         "x": [
          3606.8999,
          2841.7998
         ],
         "y": [
          964.425,
          759.85
         ]
        },
        {
         "hoverinfo": "none",
         "line": {
          "color": "#872341",
          "width": 0.5
         },
         "mode": "lines",
         "showlegend": false,
         "type": "scatter",
         "x": [
          4372,
          3606.8999
         ],
         "y": [
          1169,
          964.425
         ]
        },
        {
         "hoverinfo": "none",
         "line": {
          "color": "#2d98b5",
          "width": 0.5
         },
         "mode": "lines",
         "showlegend": false,
         "type": "scatter",
         "x": [
          3606.8999,
          2841.7998
         ],
         "y": [
          964.425,
          759.85
         ]
        },
        {
         "hoverinfo": "none",
         "line": {
          "color": "#872341",
          "width": 0.5
         },
         "mode": "lines",
         "showlegend": false,
         "type": "scatter",
         "x": [
          2841.7998,
          4302.8999
         ],
         "y": [
          759.85,
          968.925
         ]
        },
        {
         "hoverinfo": "none",
         "line": {
          "color": "#2d98b5",
          "width": 0.5
         },
         "mode": "lines",
         "showlegend": false,
         "type": "scatter",
         "x": [
          4302.8999,
          5764
         ],
         "y": [
          968.925,
          1178
         ]
        },
        {
         "hoverinfo": "none",
         "line": {
          "color": "#872341",
          "width": 0.5
         },
         "mode": "lines",
         "showlegend": false,
         "type": "scatter",
         "x": [
          2841.7998,
          3800.3999
         ],
         "y": [
          759.85,
          1009.925
         ]
        },
        {
         "hoverinfo": "none",
         "line": {
          "color": "#2d98b5",
          "width": 0.5
         },
         "mode": "lines",
         "showlegend": false,
         "type": "scatter",
         "x": [
          3800.3999,
          4759
         ],
         "y": [
          1009.925,
          1260
         ]
        },
        {
         "hoverinfo": "none",
         "line": {
          "color": "#872341",
          "width": 0.5
         },
         "mode": "lines",
         "showlegend": false,
         "type": "scatter",
         "x": [
          3286.99976,
          3424.9998800000003
         ],
         "y": [
          -534,
          -510.5
         ]
        },
        {
         "hoverinfo": "none",
         "line": {
          "color": "#2d98b5",
          "width": 0.5
         },
         "mode": "lines",
         "showlegend": false,
         "type": "scatter",
         "x": [
          3424.9998800000003,
          3563
         ],
         "y": [
          -510.5,
          -487
         ]
        },
        {
         "hoverinfo": "none",
         "line": {
          "color": "#872341",
          "width": 0.5
         },
         "mode": "lines",
         "showlegend": false,
         "type": "scatter",
         "x": [
          5432,
          5584.5
         ],
         "y": [
          -960.000061,
          -953.0000305
         ]
        },
        {
         "hoverinfo": "none",
         "line": {
          "color": "#2d98b5",
          "width": 0.5
         },
         "mode": "lines",
         "showlegend": false,
         "type": "scatter",
         "x": [
          5584.5,
          5737
         ],
         "y": [
          -953.0000305,
          -946
         ]
        },
        {
         "hoverinfo": "none",
         "line": {
          "color": "#872341",
          "width": 0.5
         },
         "mode": "lines",
         "showlegend": false,
         "type": "scatter",
         "x": [
          5737,
          5880
         ],
         "y": [
          -946,
          -956
         ]
        },
        {
         "hoverinfo": "none",
         "line": {
          "color": "#2d98b5",
          "width": 0.5
         },
         "mode": "lines",
         "showlegend": false,
         "type": "scatter",
         "x": [
          5880,
          6023
         ],
         "y": [
          -956,
          -966
         ]
        },
        {
         "hoverinfo": "none",
         "line": {
          "color": "#872341",
          "width": 0.5
         },
         "mode": "lines",
         "showlegend": false,
         "type": "scatter",
         "x": [
          12020,
          12191.5
         ],
         "y": [
          2186,
          2202.5
         ]
        },
        {
         "hoverinfo": "none",
         "line": {
          "color": "#2d98b5",
          "width": 0.5
         },
         "mode": "lines",
         "showlegend": false,
         "type": "scatter",
         "x": [
          12191.5,
          12363
         ],
         "y": [
          2202.5,
          2219
         ]
        },
        {
         "hoverinfo": "none",
         "line": {
          "color": "#872341",
          "width": 0.5
         },
         "mode": "lines",
         "showlegend": false,
         "type": "scatter",
         "x": [
          3456.99976,
          2852.0247799999997
         ],
         "y": [
          244,
          201.2999955
         ]
        },
        {
         "hoverinfo": "none",
         "line": {
          "color": "#2d98b5",
          "width": 0.5
         },
         "mode": "lines",
         "showlegend": false,
         "type": "scatter",
         "x": [
          2852.0247799999997,
          2247.0498
         ],
         "y": [
          201.2999955,
          158.599991
         ]
        },
        {
         "hoverinfo": "none",
         "line": {
          "color": "#872341",
          "width": 0.5
         },
         "mode": "lines",
         "showlegend": false,
         "type": "scatter",
         "x": [
          3456.99976,
          2852.0247799999997
         ],
         "y": [
          244,
          201.2999955
         ]
        },
        {
         "hoverinfo": "none",
         "line": {
          "color": "#2d98b5",
          "width": 0.5
         },
         "mode": "lines",
         "showlegend": false,
         "type": "scatter",
         "x": [
          2852.0247799999997,
          2247.0498
         ],
         "y": [
          201.2999955,
          158.599991
         ]
        },
        {
         "hoverinfo": "none",
         "line": {
          "color": "#872341",
          "width": 0.5
         },
         "mode": "lines",
         "showlegend": false,
         "type": "scatter",
         "x": [
          2247.0498,
          2995.5249
         ],
         "y": [
          158.599991,
          173.7999955
         ]
        },
        {
         "hoverinfo": "none",
         "line": {
          "color": "#2d98b5",
          "width": 0.5
         },
         "mode": "lines",
         "showlegend": false,
         "type": "scatter",
         "x": [
          2995.5249,
          3744
         ],
         "y": [
          173.7999955,
          189
         ]
        },
        {
         "hoverinfo": "none",
         "line": {
          "color": "#872341",
          "width": 0.5
         },
         "mode": "lines",
         "showlegend": false,
         "type": "scatter",
         "x": [
          2247.0498,
          3136.02502
         ],
         "y": [
          158.599991,
          182.79998799999998
         ]
        },
        {
         "hoverinfo": "none",
         "line": {
          "color": "#2d98b5",
          "width": 0.5
         },
         "mode": "lines",
         "showlegend": false,
         "type": "scatter",
         "x": [
          3136.02502,
          4025.00024
         ],
         "y": [
          182.79998799999998,
          206.999985
         ]
        },
        {
         "hoverinfo": "none",
         "line": {
          "color": "#872341",
          "width": 0.5
         },
         "mode": "lines",
         "showlegend": false,
         "type": "scatter",
         "x": [
          -1625,
          -1340.625
         ],
         "y": [
          250.000015,
          206.25000749999998
         ]
        },
        {
         "hoverinfo": "none",
         "line": {
          "color": "#2d98b5",
          "width": 0.5
         },
         "mode": "lines",
         "showlegend": false,
         "type": "scatter",
         "x": [
          -1340.625,
          -1056.25
         ],
         "y": [
          206.25000749999998,
          162.5
         ]
        },
        {
         "hoverinfo": "none",
         "line": {
          "color": "#872341",
          "width": 0.5
         },
         "mode": "lines",
         "showlegend": false,
         "type": "scatter",
         "x": [
          -1625,
          -1340.625
         ],
         "y": [
          250.000015,
          206.25000749999998
         ]
        },
        {
         "hoverinfo": "none",
         "line": {
          "color": "#2d98b5",
          "width": 0.5
         },
         "mode": "lines",
         "showlegend": false,
         "type": "scatter",
         "x": [
          -1340.625,
          -1056.25
         ],
         "y": [
          206.25000749999998,
          162.5
         ]
        },
        {
         "hoverinfo": "none",
         "line": {
          "color": "#872341",
          "width": 0.5
         },
         "mode": "lines",
         "showlegend": false,
         "type": "scatter",
         "x": [
          -1056.25,
          -1190.625
         ],
         "y": [
          162.5,
          118.75
         ]
        },
        {
         "hoverinfo": "none",
         "line": {
          "color": "#2d98b5",
          "width": 0.5
         },
         "mode": "lines",
         "showlegend": false,
         "type": "scatter",
         "x": [
          -1190.625,
          -1325
         ],
         "y": [
          118.75,
          75
         ]
        },
        {
         "hoverinfo": "none",
         "line": {
          "color": "#872341",
          "width": 0.5
         },
         "mode": "lines",
         "showlegend": false,
         "type": "scatter",
         "x": [
          -1056.25,
          -1190.625
         ],
         "y": [
          162.5,
          243.75
         ]
        },
        {
         "hoverinfo": "none",
         "line": {
          "color": "#2d98b5",
          "width": 0.5
         },
         "mode": "lines",
         "showlegend": false,
         "type": "scatter",
         "x": [
          -1190.625,
          -1325
         ],
         "y": [
          243.75,
          325
         ]
        },
        {
         "hoverinfo": "none",
         "line": {
          "color": "#872341",
          "width": 0.5
         },
         "mode": "lines",
         "showlegend": false,
         "type": "scatter",
         "x": [
          4441,
          3663.825
         ],
         "y": [
          584,
          481.799988
         ]
        },
        {
         "hoverinfo": "none",
         "line": {
          "color": "#2d98b5",
          "width": 0.5
         },
         "mode": "lines",
         "showlegend": false,
         "type": "scatter",
         "x": [
          3663.825,
          2886.65
         ],
         "y": [
          481.799988,
          379.599976
         ]
        },
        {
         "hoverinfo": "none",
         "line": {
          "color": "#872341",
          "width": 0.5
         },
         "mode": "lines",
         "showlegend": false,
         "type": "scatter",
         "x": [
          4441,
          3663.825
         ],
         "y": [
          584,
          481.799988
         ]
        },
        {
         "hoverinfo": "none",
         "line": {
          "color": "#2d98b5",
          "width": 0.5
         },
         "mode": "lines",
         "showlegend": false,
         "type": "scatter",
         "x": [
          3663.825,
          2886.65
         ],
         "y": [
          481.799988,
          379.599976
         ]
        },
        {
         "hoverinfo": "none",
         "line": {
          "color": "#872341",
          "width": 0.5
         },
         "mode": "lines",
         "showlegend": false,
         "type": "scatter",
         "x": [
          2886.65,
          3829.825
         ],
         "y": [
          379.599976,
          355.799988
         ]
        },
        {
         "hoverinfo": "none",
         "line": {
          "color": "#2d98b5",
          "width": 0.5
         },
         "mode": "lines",
         "showlegend": false,
         "type": "scatter",
         "x": [
          3829.825,
          4773
         ],
         "y": [
          355.799988,
          332
         ]
        },
        {
         "hoverinfo": "none",
         "line": {
          "color": "#872341",
          "width": 0.5
         },
         "mode": "lines",
         "showlegend": false,
         "type": "scatter",
         "x": [
          2886.65,
          3663.825
         ],
         "y": [
          379.599976,
          581.799988
         ]
        },
        {
         "hoverinfo": "none",
         "line": {
          "color": "#2d98b5",
          "width": 0.5
         },
         "mode": "lines",
         "showlegend": false,
         "type": "scatter",
         "x": [
          3663.825,
          4441
         ],
         "y": [
          581.799988,
          784
         ]
        },
        {
         "hoverinfo": "none",
         "line": {
          "color": "#872341",
          "width": 0.5
         },
         "mode": "lines",
         "showlegend": false,
         "type": "scatter",
         "x": [
          7141,
          5891.325
         ],
         "y": [
          2019,
          1665.675
         ]
        },
        {
         "hoverinfo": "none",
         "line": {
          "color": "#2d98b5",
          "width": 0.5
         },
         "mode": "lines",
         "showlegend": false,
         "type": "scatter",
         "x": [
          5891.325,
          4641.65
         ],
         "y": [
          1665.675,
          1312.35
         ]
        },
        {
         "hoverinfo": "none",
         "line": {
          "color": "#872341",
          "width": 0.5
         },
         "mode": "lines",
         "showlegend": false,
         "type": "scatter",
         "x": [
          7141,
          5891.325
         ],
         "y": [
          2019,
          1665.675
         ]
        },
        {
         "hoverinfo": "none",
         "line": {
          "color": "#2d98b5",
          "width": 0.5
         },
         "mode": "lines",
         "showlegend": false,
         "type": "scatter",
         "x": [
          5891.325,
          4641.65
         ],
         "y": [
          1665.675,
          1312.35
         ]
        },
        {
         "hoverinfo": "none",
         "line": {
          "color": "#872341",
          "width": 0.5
         },
         "mode": "lines",
         "showlegend": false,
         "type": "scatter",
         "x": [
          4641.65,
          6060.825245
         ],
         "y": [
          1312.35,
          1513.67506
         ]
        },
        {
         "hoverinfo": "none",
         "line": {
          "color": "#2d98b5",
          "width": 0.5
         },
         "mode": "lines",
         "showlegend": false,
         "type": "scatter",
         "x": [
          6060.825245,
          7480.00049
         ],
         "y": [
          1513.67506,
          1715.00012
         ]
        },
        {
         "hoverinfo": "none",
         "line": {
          "color": "#872341",
          "width": 0.5
         },
         "mode": "lines",
         "showlegend": false,
         "type": "scatter",
         "x": [
          4641.65,
          5897.824755
         ],
         "y": [
          1312.35,
          1765.675
         ]
        },
        {
         "hoverinfo": "none",
         "line": {
          "color": "#2d98b5",
          "width": 0.5
         },
         "mode": "lines",
         "showlegend": false,
         "type": "scatter",
         "x": [
          5897.824755,
          7153.99951
         ],
         "y": [
          1765.675,
          2219
         ]
        },
        {
         "hoverinfo": "none",
         "line": {
          "color": "#872341",
          "width": 0.5
         },
         "mode": "lines",
         "showlegend": false,
         "type": "scatter",
         "x": [
          8680,
          5729.5
         ],
         "y": [
          1770.00012,
          988.5000524999999
         ]
        },
        {
         "hoverinfo": "none",
         "line": {
          "color": "#2d98b5",
          "width": 0.5
         },
         "mode": "lines",
         "showlegend": false,
         "type": "scatter",
         "x": [
          5729.5,
          2779
         ],
         "y": [
          988.5000524999999,
          206.999985
         ]
        },
        {
         "hoverinfo": "none",
         "line": {
          "color": "#872341",
          "width": 0.5
         },
         "mode": "lines",
         "showlegend": false,
         "type": "scatter",
         "x": [
          -1325,
          -1033.5
         ],
         "y": [
          325,
          252
         ]
        },
        {
         "hoverinfo": "none",
         "line": {
          "color": "#2d98b5",
          "width": 0.5
         },
         "mode": "lines",
         "showlegend": false,
         "type": "scatter",
         "x": [
          -1033.5,
          -742
         ],
         "y": [
          252,
          179
         ]
        },
        {
         "hoverinfo": "none",
         "line": {
          "color": "#872341",
          "width": 0.5
         },
         "mode": "lines",
         "showlegend": false,
         "type": "scatter",
         "x": [
          5657,
          4218
         ],
         "y": [
          -139,
          33.999992500000005
         ]
        },
        {
         "hoverinfo": "none",
         "line": {
          "color": "#2d98b5",
          "width": 0.5
         },
         "mode": "lines",
         "showlegend": false,
         "type": "scatter",
         "x": [
          4218,
          2779
         ],
         "y": [
          33.999992500000005,
          206.999985
         ]
        },
        {
         "hoverinfo": "none",
         "line": {
          "color": "#872341",
          "width": 0.5
         },
         "mode": "lines",
         "showlegend": false,
         "type": "scatter",
         "x": [
          5155,
          5293.5
         ],
         "y": [
          -947,
          -953.5000305
         ]
        },
        {
         "hoverinfo": "none",
         "line": {
          "color": "#2d98b5",
          "width": 0.5
         },
         "mode": "lines",
         "showlegend": false,
         "type": "scatter",
         "x": [
          5293.5,
          5432
         ],
         "y": [
          -953.5000305,
          -960.000061
         ]
        },
        {
         "hoverinfo": "none",
         "line": {
          "color": "#872341",
          "width": 0.5
         },
         "mode": "lines",
         "showlegend": false,
         "type": "scatter",
         "x": [
          5434,
          5294.5
         ],
         "y": [
          -689,
          -818
         ]
        },
        {
         "hoverinfo": "none",
         "line": {
          "color": "#2d98b5",
          "width": 0.5
         },
         "mode": "lines",
         "showlegend": false,
         "type": "scatter",
         "x": [
          5294.5,
          5155
         ],
         "y": [
          -818,
          -947
         ]
        },
        {
         "hoverinfo": "none",
         "line": {
          "color": "#872341",
          "width": 0.5
         },
         "mode": "lines",
         "showlegend": false,
         "type": "scatter",
         "x": [
          4759,
          4903
         ],
         "y": [
          1260,
          1253.5
         ]
        },
        {
         "hoverinfo": "none",
         "line": {
          "color": "#2d98b5",
          "width": 0.5
         },
         "mode": "lines",
         "showlegend": false,
         "type": "scatter",
         "x": [
          4903,
          5047
         ],
         "y": [
          1253.5,
          1247
         ]
        },
        {
         "hoverinfo": "none",
         "line": {
          "color": "#872341",
          "width": 0.5
         },
         "mode": "lines",
         "showlegend": false,
         "type": "scatter",
         "x": [
          5351,
          5557.5
         ],
         "y": [
          1253,
          1215.5
         ]
        },
        {
         "hoverinfo": "none",
         "line": {
          "color": "#2d98b5",
          "width": 0.5
         },
         "mode": "lines",
         "showlegend": false,
         "type": "scatter",
         "x": [
          5557.5,
          5764
         ],
         "y": [
          1215.5,
          1178
         ]
        },
        {
         "hoverinfo": "none",
         "line": {
          "color": "#872341",
          "width": 0.5
         },
         "mode": "lines",
         "showlegend": false,
         "type": "scatter",
         "x": [
          5234,
          5409
         ],
         "y": [
          -425.000031,
          -170.5000155
         ]
        },
        {
         "hoverinfo": "none",
         "line": {
          "color": "#2d98b5",
          "width": 0.5
         },
         "mode": "lines",
         "showlegend": false,
         "type": "scatter",
         "x": [
          5409,
          5584
         ],
         "y": [
          -170.5000155,
          84
         ]
        },
        {
         "hoverinfo": "none",
         "line": {
          "color": "#872341",
          "width": 0.5
         },
         "mode": "lines",
         "showlegend": false,
         "type": "scatter",
         "x": [
          3446.99976,
          2843.7747799999997
         ],
         "y": [
          -38,
          -31.34999945
         ]
        },
        {
         "hoverinfo": "none",
         "line": {
          "color": "#2d98b5",
          "width": 0.5
         },
         "mode": "lines",
         "showlegend": false,
         "type": "scatter",
         "x": [
          2843.7747799999997,
          2240.5498
         ],
         "y": [
          -31.34999945,
          -24.6999989
         ]
        },
        {
         "hoverinfo": "none",
         "line": {
          "color": "#872341",
          "width": 0.5
         },
         "mode": "lines",
         "showlegend": false,
         "type": "scatter",
         "x": [
          3446.99976,
          2843.7747799999997
         ],
         "y": [
          -38,
          -31.34999945
         ]
        },
        {
         "hoverinfo": "none",
         "line": {
          "color": "#2d98b5",
          "width": 0.5
         },
         "mode": "lines",
         "showlegend": false,
         "type": "scatter",
         "x": [
          2843.7747799999997,
          2240.5498
         ],
         "y": [
          -31.34999945,
          -24.6999989
         ]
        },
        {
         "hoverinfo": "none",
         "line": {
          "color": "#872341",
          "width": 0.5
         },
         "mode": "lines",
         "showlegend": false,
         "type": "scatter",
         "x": [
          2240.5498,
          2993.2749
         ],
         "y": [
          -24.6999989,
          -136.84999945
         ]
        },
        {
         "hoverinfo": "none",
         "line": {
          "color": "#2d98b5",
          "width": 0.5
         },
         "mode": "lines",
         "showlegend": false,
         "type": "scatter",
         "x": [
          2993.2749,
          3746
         ],
         "y": [
          -136.84999945,
          -249
         ]
        },
        {
         "hoverinfo": "none",
         "line": {
          "color": "#872341",
          "width": 0.5
         },
         "mode": "lines",
         "showlegend": false,
         "type": "scatter",
         "x": [
          2240.5498,
          2849.7749
         ],
         "y": [
          -24.6999989,
          44.15000055
         ]
        },
        {
         "hoverinfo": "none",
         "line": {
          "color": "#2d98b5",
          "width": 0.5
         },
         "mode": "lines",
         "showlegend": false,
         "type": "scatter",
         "x": [
          2849.7749,
          3459
         ],
         "y": [
          44.15000055,
          113
         ]
        }
       ],
       "layout": {
        "autosize": false,
        "height": 1000,
        "margin": {
         "b": 0,
         "l": 0,
         "pad": 0,
         "r": 0,
         "t": 0
        },
        "paper_bgcolor": "#22092C",
        "plot_bgcolor": "#22092C",
        "template": {
         "data": {
          "bar": [
           {
            "error_x": {
             "color": "#2a3f5f"
            },
            "error_y": {
             "color": "#2a3f5f"
            },
            "marker": {
             "line": {
              "color": "#E5ECF6",
              "width": 0.5
             },
             "pattern": {
              "fillmode": "overlay",
              "size": 10,
              "solidity": 0.2
             }
            },
            "type": "bar"
           }
          ],
          "barpolar": [
           {
            "marker": {
             "line": {
              "color": "#E5ECF6",
              "width": 0.5
             },
             "pattern": {
              "fillmode": "overlay",
              "size": 10,
              "solidity": 0.2
             }
            },
            "type": "barpolar"
           }
          ],
          "carpet": [
           {
            "aaxis": {
             "endlinecolor": "#2a3f5f",
             "gridcolor": "white",
             "linecolor": "white",
             "minorgridcolor": "white",
             "startlinecolor": "#2a3f5f"
            },
            "baxis": {
             "endlinecolor": "#2a3f5f",
             "gridcolor": "white",
             "linecolor": "white",
             "minorgridcolor": "white",
             "startlinecolor": "#2a3f5f"
            },
            "type": "carpet"
           }
          ],
          "choropleth": [
           {
            "colorbar": {
             "outlinewidth": 0,
             "ticks": ""
            },
            "type": "choropleth"
           }
          ],
          "contour": [
           {
            "colorbar": {
             "outlinewidth": 0,
             "ticks": ""
            },
            "colorscale": [
             [
              0,
              "#0d0887"
             ],
             [
              0.1111111111111111,
              "#46039f"
             ],
             [
              0.2222222222222222,
              "#7201a8"
             ],
             [
              0.3333333333333333,
              "#9c179e"
             ],
             [
              0.4444444444444444,
              "#bd3786"
             ],
             [
              0.5555555555555556,
              "#d8576b"
             ],
             [
              0.6666666666666666,
              "#ed7953"
             ],
             [
              0.7777777777777778,
              "#fb9f3a"
             ],
             [
              0.8888888888888888,
              "#fdca26"
             ],
             [
              1,
              "#f0f921"
             ]
            ],
            "type": "contour"
           }
          ],
          "contourcarpet": [
           {
            "colorbar": {
             "outlinewidth": 0,
             "ticks": ""
            },
            "type": "contourcarpet"
           }
          ],
          "heatmap": [
           {
            "colorbar": {
             "outlinewidth": 0,
             "ticks": ""
            },
            "colorscale": [
             [
              0,
              "#0d0887"
             ],
             [
              0.1111111111111111,
              "#46039f"
             ],
             [
              0.2222222222222222,
              "#7201a8"
             ],
             [
              0.3333333333333333,
              "#9c179e"
             ],
             [
              0.4444444444444444,
              "#bd3786"
             ],
             [
              0.5555555555555556,
              "#d8576b"
             ],
             [
              0.6666666666666666,
              "#ed7953"
             ],
             [
              0.7777777777777778,
              "#fb9f3a"
             ],
             [
              0.8888888888888888,
              "#fdca26"
             ],
             [
              1,
              "#f0f921"
             ]
            ],
            "type": "heatmap"
           }
          ],
          "heatmapgl": [
           {
            "colorbar": {
             "outlinewidth": 0,
             "ticks": ""
            },
            "colorscale": [
             [
              0,
              "#0d0887"
             ],
             [
              0.1111111111111111,
              "#46039f"
             ],
             [
              0.2222222222222222,
              "#7201a8"
             ],
             [
              0.3333333333333333,
              "#9c179e"
             ],
             [
              0.4444444444444444,
              "#bd3786"
             ],
             [
              0.5555555555555556,
              "#d8576b"
             ],
             [
              0.6666666666666666,
              "#ed7953"
             ],
             [
              0.7777777777777778,
              "#fb9f3a"
             ],
             [
              0.8888888888888888,
              "#fdca26"
             ],
             [
              1,
              "#f0f921"
             ]
            ],
            "type": "heatmapgl"
           }
          ],
          "histogram": [
           {
            "marker": {
             "pattern": {
              "fillmode": "overlay",
              "size": 10,
              "solidity": 0.2
             }
            },
            "type": "histogram"
           }
          ],
          "histogram2d": [
           {
            "colorbar": {
             "outlinewidth": 0,
             "ticks": ""
            },
            "colorscale": [
             [
              0,
              "#0d0887"
             ],
             [
              0.1111111111111111,
              "#46039f"
             ],
             [
              0.2222222222222222,
              "#7201a8"
             ],
             [
              0.3333333333333333,
              "#9c179e"
             ],
             [
              0.4444444444444444,
              "#bd3786"
             ],
             [
              0.5555555555555556,
              "#d8576b"
             ],
             [
              0.6666666666666666,
              "#ed7953"
             ],
             [
              0.7777777777777778,
              "#fb9f3a"
             ],
             [
              0.8888888888888888,
              "#fdca26"
             ],
             [
              1,
              "#f0f921"
             ]
            ],
            "type": "histogram2d"
           }
          ],
          "histogram2dcontour": [
           {
            "colorbar": {
             "outlinewidth": 0,
             "ticks": ""
            },
            "colorscale": [
             [
              0,
              "#0d0887"
             ],
             [
              0.1111111111111111,
              "#46039f"
             ],
             [
              0.2222222222222222,
              "#7201a8"
             ],
             [
              0.3333333333333333,
              "#9c179e"
             ],
             [
              0.4444444444444444,
              "#bd3786"
             ],
             [
              0.5555555555555556,
              "#d8576b"
             ],
             [
              0.6666666666666666,
              "#ed7953"
             ],
             [
              0.7777777777777778,
              "#fb9f3a"
             ],
             [
              0.8888888888888888,
              "#fdca26"
             ],
             [
              1,
              "#f0f921"
             ]
            ],
            "type": "histogram2dcontour"
           }
          ],
          "mesh3d": [
           {
            "colorbar": {
             "outlinewidth": 0,
             "ticks": ""
            },
            "type": "mesh3d"
           }
          ],
          "parcoords": [
           {
            "line": {
             "colorbar": {
              "outlinewidth": 0,
              "ticks": ""
             }
            },
            "type": "parcoords"
           }
          ],
          "pie": [
           {
            "automargin": true,
            "type": "pie"
           }
          ],
          "scatter": [
           {
            "fillpattern": {
             "fillmode": "overlay",
             "size": 10,
             "solidity": 0.2
            },
            "type": "scatter"
           }
          ],
          "scatter3d": [
           {
            "line": {
             "colorbar": {
              "outlinewidth": 0,
              "ticks": ""
             }
            },
            "marker": {
             "colorbar": {
              "outlinewidth": 0,
              "ticks": ""
             }
            },
            "type": "scatter3d"
           }
          ],
          "scattercarpet": [
           {
            "marker": {
             "colorbar": {
              "outlinewidth": 0,
              "ticks": ""
             }
            },
            "type": "scattercarpet"
           }
          ],
          "scattergeo": [
           {
            "marker": {
             "colorbar": {
              "outlinewidth": 0,
              "ticks": ""
             }
            },
            "type": "scattergeo"
           }
          ],
          "scattergl": [
           {
            "marker": {
             "colorbar": {
              "outlinewidth": 0,
              "ticks": ""
             }
            },
            "type": "scattergl"
           }
          ],
          "scattermapbox": [
           {
            "marker": {
             "colorbar": {
              "outlinewidth": 0,
              "ticks": ""
             }
            },
            "type": "scattermapbox"
           }
          ],
          "scatterpolar": [
           {
            "marker": {
             "colorbar": {
              "outlinewidth": 0,
              "ticks": ""
             }
            },
            "type": "scatterpolar"
           }
          ],
          "scatterpolargl": [
           {
            "marker": {
             "colorbar": {
              "outlinewidth": 0,
              "ticks": ""
             }
            },
            "type": "scatterpolargl"
           }
          ],
          "scatterternary": [
           {
            "marker": {
             "colorbar": {
              "outlinewidth": 0,
              "ticks": ""
             }
            },
            "type": "scatterternary"
           }
          ],
          "surface": [
           {
            "colorbar": {
             "outlinewidth": 0,
             "ticks": ""
            },
            "colorscale": [
             [
              0,
              "#0d0887"
             ],
             [
              0.1111111111111111,
              "#46039f"
             ],
             [
              0.2222222222222222,
              "#7201a8"
             ],
             [
              0.3333333333333333,
              "#9c179e"
             ],
             [
              0.4444444444444444,
              "#bd3786"
             ],
             [
              0.5555555555555556,
              "#d8576b"
             ],
             [
              0.6666666666666666,
              "#ed7953"
             ],
             [
              0.7777777777777778,
              "#fb9f3a"
             ],
             [
              0.8888888888888888,
              "#fdca26"
             ],
             [
              1,
              "#f0f921"
             ]
            ],
            "type": "surface"
           }
          ],
          "table": [
           {
            "cells": {
             "fill": {
              "color": "#EBF0F8"
             },
             "line": {
              "color": "white"
             }
            },
            "header": {
             "fill": {
              "color": "#C8D4E3"
             },
             "line": {
              "color": "white"
             }
            },
            "type": "table"
           }
          ]
         },
         "layout": {
          "annotationdefaults": {
           "arrowcolor": "#2a3f5f",
           "arrowhead": 0,
           "arrowwidth": 1
          },
          "autotypenumbers": "strict",
          "coloraxis": {
           "colorbar": {
            "outlinewidth": 0,
            "ticks": ""
           }
          },
          "colorscale": {
           "diverging": [
            [
             0,
             "#8e0152"
            ],
            [
             0.1,
             "#c51b7d"
            ],
            [
             0.2,
             "#de77ae"
            ],
            [
             0.3,
             "#f1b6da"
            ],
            [
             0.4,
             "#fde0ef"
            ],
            [
             0.5,
             "#f7f7f7"
            ],
            [
             0.6,
             "#e6f5d0"
            ],
            [
             0.7,
             "#b8e186"
            ],
            [
             0.8,
             "#7fbc41"
            ],
            [
             0.9,
             "#4d9221"
            ],
            [
             1,
             "#276419"
            ]
           ],
           "sequential": [
            [
             0,
             "#0d0887"
            ],
            [
             0.1111111111111111,
             "#46039f"
            ],
            [
             0.2222222222222222,
             "#7201a8"
            ],
            [
             0.3333333333333333,
             "#9c179e"
            ],
            [
             0.4444444444444444,
             "#bd3786"
            ],
            [
             0.5555555555555556,
             "#d8576b"
            ],
            [
             0.6666666666666666,
             "#ed7953"
            ],
            [
             0.7777777777777778,
             "#fb9f3a"
            ],
            [
             0.8888888888888888,
             "#fdca26"
            ],
            [
             1,
             "#f0f921"
            ]
           ],
           "sequentialminus": [
            [
             0,
             "#0d0887"
            ],
            [
             0.1111111111111111,
             "#46039f"
            ],
            [
             0.2222222222222222,
             "#7201a8"
            ],
            [
             0.3333333333333333,
             "#9c179e"
            ],
            [
             0.4444444444444444,
             "#bd3786"
            ],
            [
             0.5555555555555556,
             "#d8576b"
            ],
            [
             0.6666666666666666,
             "#ed7953"
            ],
            [
             0.7777777777777778,
             "#fb9f3a"
            ],
            [
             0.8888888888888888,
             "#fdca26"
            ],
            [
             1,
             "#f0f921"
            ]
           ]
          },
          "colorway": [
           "#636efa",
           "#EF553B",
           "#00cc96",
           "#ab63fa",
           "#FFA15A",
           "#19d3f3",
           "#FF6692",
           "#B6E880",
           "#FF97FF",
           "#FECB52"
          ],
          "font": {
           "color": "#2a3f5f"
          },
          "geo": {
           "bgcolor": "white",
           "lakecolor": "white",
           "landcolor": "#E5ECF6",
           "showlakes": true,
           "showland": true,
           "subunitcolor": "white"
          },
          "hoverlabel": {
           "align": "left"
          },
          "hovermode": "closest",
          "mapbox": {
           "style": "light"
          },
          "paper_bgcolor": "white",
          "plot_bgcolor": "#E5ECF6",
          "polar": {
           "angularaxis": {
            "gridcolor": "white",
            "linecolor": "white",
            "ticks": ""
           },
           "bgcolor": "#E5ECF6",
           "radialaxis": {
            "gridcolor": "white",
            "linecolor": "white",
            "ticks": ""
           }
          },
          "scene": {
           "xaxis": {
            "backgroundcolor": "#E5ECF6",
            "gridcolor": "white",
            "gridwidth": 2,
            "linecolor": "white",
            "showbackground": true,
            "ticks": "",
            "zerolinecolor": "white"
           },
           "yaxis": {
            "backgroundcolor": "#E5ECF6",
            "gridcolor": "white",
            "gridwidth": 2,
            "linecolor": "white",
            "showbackground": true,
            "ticks": "",
            "zerolinecolor": "white"
           },
           "zaxis": {
            "backgroundcolor": "#E5ECF6",
            "gridcolor": "white",
            "gridwidth": 2,
            "linecolor": "white",
            "showbackground": true,
            "ticks": "",
            "zerolinecolor": "white"
           }
          },
          "shapedefaults": {
           "line": {
            "color": "#2a3f5f"
           }
          },
          "ternary": {
           "aaxis": {
            "gridcolor": "white",
            "linecolor": "white",
            "ticks": ""
           },
           "baxis": {
            "gridcolor": "white",
            "linecolor": "white",
            "ticks": ""
           },
           "bgcolor": "#E5ECF6",
           "caxis": {
            "gridcolor": "white",
            "linecolor": "white",
            "ticks": ""
           }
          },
          "title": {
           "x": 0.05
          },
          "xaxis": {
           "automargin": true,
           "gridcolor": "white",
           "linecolor": "white",
           "ticks": "",
           "title": {
            "standoff": 15
           },
           "zerolinecolor": "white",
           "zerolinewidth": 2
          },
          "yaxis": {
           "automargin": true,
           "gridcolor": "white",
           "linecolor": "white",
           "ticks": "",
           "title": {
            "standoff": 15
           },
           "zerolinecolor": "white",
           "zerolinewidth": 2
          }
         }
        },
        "width": 1500
       }
      }
     },
     "metadata": {},
     "output_type": "display_data"
    }
   ],
   "source": [
    "fig = plot_conv(dia_table, idx)\n",
    "fig.show()"
   ]
  },
  {
   "cell_type": "code",
   "execution_count": 17,
   "metadata": {},
   "outputs": [
    {
     "data": {
      "text/html": [
       "<div>\n",
       "<style scoped>\n",
       "    .dataframe tbody tr th:only-of-type {\n",
       "        vertical-align: middle;\n",
       "    }\n",
       "\n",
       "    .dataframe tbody tr th {\n",
       "        vertical-align: top;\n",
       "    }\n",
       "\n",
       "    .dataframe thead th {\n",
       "        text-align: right;\n",
       "    }\n",
       "</style>\n",
       "<table border=\"1\" class=\"dataframe\">\n",
       "  <thead>\n",
       "    <tr style=\"text-align: right;\">\n",
       "      <th></th>\n",
       "      <th></th>\n",
       "      <th>Title</th>\n",
       "      <th>outgoingLinks</th>\n",
       "      <th>isGroup</th>\n",
       "      <th>canvasRect_x</th>\n",
       "      <th>canvasRect_y</th>\n",
       "      <th>canvasRect_width</th>\n",
       "      <th>canvasRect_height</th>\n",
       "      <th>Actor</th>\n",
       "      <th>Conversant</th>\n",
       "      <th>Dialogue Text</th>\n",
       "    </tr>\n",
       "  </thead>\n",
       "  <tbody>\n",
       "    <tr>\n",
       "      <th rowspan=\"2\" valign=\"top\">1</th>\n",
       "      <th>0</th>\n",
       "      <td>START</td>\n",
       "      <td>[(1, 1)]</td>\n",
       "      <td>0</td>\n",
       "      <td>0.0</td>\n",
       "      <td>0.0</td>\n",
       "      <td>160.0</td>\n",
       "      <td>30.0</td>\n",
       "      <td>NaN</td>\n",
       "      <td>NaN</td>\n",
       "      <td>NaN</td>\n",
       "    </tr>\n",
       "    <tr>\n",
       "      <th>1</th>\n",
       "      <td>input</td>\n",
       "      <td>[]</td>\n",
       "      <td>1</td>\n",
       "      <td>0.0</td>\n",
       "      <td>0.0</td>\n",
       "      <td>160.0</td>\n",
       "      <td>30.0</td>\n",
       "      <td>0</td>\n",
       "      <td>NaN</td>\n",
       "      <td>NaN</td>\n",
       "    </tr>\n",
       "    <tr>\n",
       "      <th rowspan=\"2\" valign=\"top\">2</th>\n",
       "      <th>0</th>\n",
       "      <td>START</td>\n",
       "      <td>[(2, 1)]</td>\n",
       "      <td>0</td>\n",
       "      <td>0.0</td>\n",
       "      <td>0.0</td>\n",
       "      <td>160.0</td>\n",
       "      <td>30.0</td>\n",
       "      <td>NaN</td>\n",
       "      <td>NaN</td>\n",
       "      <td>NaN</td>\n",
       "    </tr>\n",
       "    <tr>\n",
       "      <th>1</th>\n",
       "      <td>input</td>\n",
       "      <td>[]</td>\n",
       "      <td>1</td>\n",
       "      <td>0.0</td>\n",
       "      <td>0.0</td>\n",
       "      <td>160.0</td>\n",
       "      <td>30.0</td>\n",
       "      <td>0</td>\n",
       "      <td>NaN</td>\n",
       "      <td>NaN</td>\n",
       "    </tr>\n",
       "    <tr>\n",
       "      <th>3</th>\n",
       "      <th>0</th>\n",
       "      <td>START</td>\n",
       "      <td>[(3, 1)]</td>\n",
       "      <td>0</td>\n",
       "      <td>0.0</td>\n",
       "      <td>0.0</td>\n",
       "      <td>160.0</td>\n",
       "      <td>30.0</td>\n",
       "      <td>NaN</td>\n",
       "      <td>NaN</td>\n",
       "      <td>NaN</td>\n",
       "    </tr>\n",
       "    <tr>\n",
       "      <th>...</th>\n",
       "      <th>...</th>\n",
       "      <td>...</td>\n",
       "      <td>...</td>\n",
       "      <td>...</td>\n",
       "      <td>...</td>\n",
       "      <td>...</td>\n",
       "      <td>...</td>\n",
       "      <td>...</td>\n",
       "      <td>...</td>\n",
       "      <td>...</td>\n",
       "      <td>...</td>\n",
       "    </tr>\n",
       "    <tr>\n",
       "      <th rowspan=\"3\" valign=\"top\">1499</th>\n",
       "      <th>52</th>\n",
       "      <td></td>\n",
       "      <td>[(1499, 20)]</td>\n",
       "      <td>0</td>\n",
       "      <td>4413.846</td>\n",
       "      <td>-12.307692</td>\n",
       "      <td>0.0</td>\n",
       "      <td>0.0</td>\n",
       "      <td>396</td>\n",
       "      <td>0</td>\n",
       "      <td>\"I'm... not ready to go to sleep yet.\"</td>\n",
       "    </tr>\n",
       "    <tr>\n",
       "      <th>53</th>\n",
       "      <td></td>\n",
       "      <td>[(1499, 12)]</td>\n",
       "      <td>0</td>\n",
       "      <td>4396.92334</td>\n",
       "      <td>-1085.38464</td>\n",
       "      <td>0.0</td>\n",
       "      <td>0.0</td>\n",
       "      <td>396</td>\n",
       "      <td>0</td>\n",
       "      <td>\"It is I, Garte, Manager of this Faire Cafeterium.\"</td>\n",
       "    </tr>\n",
       "    <tr>\n",
       "      <th>54</th>\n",
       "      <td></td>\n",
       "      <td>[(1499, 36)]</td>\n",
       "      <td>0</td>\n",
       "      <td>5051.53857</td>\n",
       "      <td>247.692322</td>\n",
       "      <td>0.0</td>\n",
       "      <td>0.0</td>\n",
       "      <td>408</td>\n",
       "      <td>0</td>\n",
       "      <td>Sleep is what he needs most right now.</td>\n",
       "    </tr>\n",
       "    <tr>\n",
       "      <th>1500</th>\n",
       "      <th>0</th>\n",
       "      <td>START</td>\n",
       "      <td>[]</td>\n",
       "      <td>0</td>\n",
       "      <td>0.0</td>\n",
       "      <td>0.0</td>\n",
       "      <td>160.0</td>\n",
       "      <td>30.0</td>\n",
       "      <td>NaN</td>\n",
       "      <td>NaN</td>\n",
       "      <td>NaN</td>\n",
       "    </tr>\n",
       "    <tr>\n",
       "      <th>1501</th>\n",
       "      <th>0</th>\n",
       "      <td>START</td>\n",
       "      <td>[]</td>\n",
       "      <td>0</td>\n",
       "      <td>0.0</td>\n",
       "      <td>0.0</td>\n",
       "      <td>160.0</td>\n",
       "      <td>30.0</td>\n",
       "      <td>NaN</td>\n",
       "      <td>NaN</td>\n",
       "      <td>NaN</td>\n",
       "    </tr>\n",
       "  </tbody>\n",
       "</table>\n",
       "<p>112962 rows × 10 columns</p>\n",
       "</div>"
      ],
      "text/plain": [
       "         Title outgoingLinks isGroup canvasRect_x canvasRect_y  \\\n",
       "1    0   START      [(1, 1)]       0          0.0          0.0   \n",
       "     1   input            []       1          0.0          0.0   \n",
       "2    0   START      [(2, 1)]       0          0.0          0.0   \n",
       "     1   input            []       1          0.0          0.0   \n",
       "3    0   START      [(3, 1)]       0          0.0          0.0   \n",
       "...        ...           ...     ...          ...          ...   \n",
       "1499 52         [(1499, 20)]       0     4413.846   -12.307692   \n",
       "     53         [(1499, 12)]       0   4396.92334  -1085.38464   \n",
       "     54         [(1499, 36)]       0   5051.53857   247.692322   \n",
       "1500 0   START            []       0          0.0          0.0   \n",
       "1501 0   START            []       0          0.0          0.0   \n",
       "\n",
       "        canvasRect_width canvasRect_height Actor Conversant  \\\n",
       "1    0             160.0              30.0   NaN        NaN   \n",
       "     1             160.0              30.0     0        NaN   \n",
       "2    0             160.0              30.0   NaN        NaN   \n",
       "     1             160.0              30.0     0        NaN   \n",
       "3    0             160.0              30.0   NaN        NaN   \n",
       "...                  ...               ...   ...        ...   \n",
       "1499 52              0.0               0.0   396          0   \n",
       "     53              0.0               0.0   396          0   \n",
       "     54              0.0               0.0   408          0   \n",
       "1500 0             160.0              30.0   NaN        NaN   \n",
       "1501 0             160.0              30.0   NaN        NaN   \n",
       "\n",
       "                                               Dialogue Text  \n",
       "1    0                                                   NaN  \n",
       "     1                                                   NaN  \n",
       "2    0                                                   NaN  \n",
       "     1                                                   NaN  \n",
       "3    0                                                   NaN  \n",
       "...                                                      ...  \n",
       "1499 52               \"I'm... not ready to go to sleep yet.\"  \n",
       "     53  \"It is I, Garte, Manager of this Faire Cafeterium.\"  \n",
       "     54               Sleep is what he needs most right now.  \n",
       "1500 0                                                   NaN  \n",
       "1501 0                                                   NaN  \n",
       "\n",
       "[112962 rows x 10 columns]"
      ]
     },
     "execution_count": 17,
     "metadata": {},
     "output_type": "execute_result"
    }
   ],
   "source": [
    "dia_table"
   ]
  },
  {
   "cell_type": "code",
   "execution_count": null,
   "metadata": {},
   "outputs": [],
   "source": []
  }
 ],
 "metadata": {
  "kernelspec": {
   "display_name": "torch",
   "language": "python",
   "name": "python3"
  },
  "language_info": {
   "codemirror_mode": {
    "name": "ipython",
    "version": 3
   },
   "file_extension": ".py",
   "mimetype": "text/x-python",
   "name": "python",
   "nbconvert_exporter": "python",
   "pygments_lexer": "ipython3",
   "version": "3.10.9"
  }
 },
 "nbformat": 4,
 "nbformat_minor": 2
}
