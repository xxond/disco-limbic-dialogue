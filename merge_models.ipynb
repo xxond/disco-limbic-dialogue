{
 "cells": [
  {
   "cell_type": "code",
   "execution_count": 2,
   "metadata": {},
   "outputs": [],
   "source": [
    "import torch\n",
    "from transformers import AutoModelForCausalLM, AutoTokenizer\n",
    "import peft\n"
   ]
  },
  {
   "cell_type": "code",
   "execution_count": 6,
   "metadata": {},
   "outputs": [
    {
     "name": "stderr",
     "output_type": "stream",
     "text": [
      "Special tokens have been added in the vocabulary, make sure the associated word embeddings are fine-tuned or trained.\n"
     ]
    },
    {
     "data": {
      "application/vnd.jupyter.widget-view+json": {
       "model_id": "dd8254b8a7a04ef89757a61a7ce36473",
       "version_major": 2,
       "version_minor": 0
      },
      "text/plain": [
       "Loading checkpoint shards:   0%|          | 0/2 [00:00<?, ?it/s]"
      ]
     },
     "metadata": {},
     "output_type": "display_data"
    },
    {
     "data": {
      "text/plain": [
       "('model/disco-limbic-dialogue-phi2-eos/tokenizer_config.json',\n",
       " 'model/disco-limbic-dialogue-phi2-eos/special_tokens_map.json',\n",
       " 'model/disco-limbic-dialogue-phi2-eos/vocab.json',\n",
       " 'model/disco-limbic-dialogue-phi2-eos/merges.txt',\n",
       " 'model/disco-limbic-dialogue-phi2-eos/added_tokens.json',\n",
       " 'model/disco-limbic-dialogue-phi2-eos/tokenizer.json')"
      ]
     },
     "execution_count": 6,
     "metadata": {},
     "output_type": "execute_result"
    }
   ],
   "source": [
    "\n",
    "\n",
    "#device = 'cuda'\n",
    "#lora_name = 'disco-limbic-dialogue-512/'\n",
    "#model_id = 'GeneZC/MiniChat-3B'\n",
    "\n",
    "lora_name = 'disco-limbic-dialogue-phi2-eos/'\n",
    "model_id = 'microsoft/phi-2'\n",
    "lora_path = f'./lora/{lora_name}'\n",
    "\n",
    "tokenizer = AutoTokenizer.from_pretrained(model_id)\n",
    "model = AutoModelForCausalLM.from_pretrained(model_id,\n",
    "                                        device_map='auto',\n",
    "                                        torch_dtype=torch.bfloat16,\n",
    "                                        max_position_embeddings=512)\n",
    "\n",
    "model = model.eval()\n",
    "lora_model = peft.PeftModel.from_pretrained(model, lora_path, adapter_name='dld', is_trainable=False)\n",
    "new_base = lora_model.merge_and_unload()\n",
    "new_base.save_pretrained(f'model/{lora_name}', from_pt=True, safe_serialization=True)\n",
    "tokenizer.save_pretrained(f'model/{lora_name}')"
   ]
  },
  {
   "cell_type": "code",
   "execution_count": null,
   "metadata": {},
   "outputs": [],
   "source": []
  }
 ],
 "metadata": {
  "kernelspec": {
   "display_name": "disco",
   "language": "python",
   "name": "python3"
  },
  "language_info": {
   "codemirror_mode": {
    "name": "ipython",
    "version": 3
   },
   "file_extension": ".py",
   "mimetype": "text/x-python",
   "name": "python",
   "nbconvert_exporter": "python",
   "pygments_lexer": "ipython3",
   "version": "3.10.13"
  }
 },
 "nbformat": 4,
 "nbformat_minor": 2
}
