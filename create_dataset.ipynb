{
 "cells": [
  {
   "cell_type": "code",
   "execution_count": 1,
   "metadata": {},
   "outputs": [],
   "source": [
    "import json\n",
    "import pandas as pd\n",
    "import random\n",
    "import numpy as np\n",
    "from tqdm import tqdm\n",
    "\n",
    "pd.options.display.max_rows = 250\n",
    "pd.options.display.max_colwidth = 250"
   ]
  },
  {
   "cell_type": "code",
   "execution_count": 2,
   "metadata": {},
   "outputs": [],
   "source": [
    "act = pd.read_csv('data_tables/actor.csv', index_col=0)\n",
    "convs = pd.read_csv('data_tables/convs.csv', index_col=[0, 1])\n",
    "convs.drop(['isGroup', 'canvasRect_width', 'canvasRect_height'], axis=1, inplace=True) #'canvasRect_x', 'canvasRect_y'\n",
    "convs['Actor'] = convs['Actor'].fillna(-1.0)\n",
    "convs.outgoingLinks = convs.outgoingLinks.apply(lambda x: [tuple(i) for i in json.loads(x.replace('(', '[').replace(')', ']'))])"
   ]
  },
  {
   "cell_type": "code",
   "execution_count": 3,
   "metadata": {},
   "outputs": [],
   "source": [
    "act_list = [\n",
    "    'You',\n",
    "    'Tricentennial Electrics',\n",
    "    'Spinal Cord',\n",
    "    'Limbic System',\n",
    "    'Ancient Reptilian Brain',\n",
    "    'Fysique',\n",
    "    'Intellect',\n",
    "    'Motorics',\n",
    "    'Psyche',\n",
    "    'Conceptualization',\n",
    "    'Logic',\n",
    "    'Encyclopedia',\n",
    "    'Rhetoric',\n",
    "    'Drama',\n",
    "    'Visual Calculus',\n",
    "    'Empathy',\n",
    "    'Inland Empire',\n",
    "    'Volition',\n",
    "    'Authority',\n",
    "    'Suggestion',\n",
    "    'Esprit de Corps',\n",
    "    'Endurance',\n",
    "    'Physical Instrument',\n",
    "    'Shivers',\n",
    "    'Pain Threshold',\n",
    "    'Electrochemistry',\n",
    "    'Half Light',\n",
    "    'Hand/Eye Coordination',\n",
    "    'Reaction Speed',\n",
    "    'Savoir Faire',\n",
    "    'Interfacing',\n",
    "    'Composure',\n",
    "    'Perception',\n",
    "    'Perception (Smell)',\n",
    "    'Perception (Hearing)',\n",
    "    'Perception (Taste)',\n",
    "    'Perception (Sight)'\n",
    "]"
   ]
  },
  {
   "cell_type": "code",
   "execution_count": 4,
   "metadata": {},
   "outputs": [],
   "source": [
    "self_idx = list(act[act['Name'].apply(lambda x: x == 'You')].index)[0]\n",
    "act_list_idx = list(act[act['Name'].apply(lambda x: x in act_list)].index)\n",
    "act_list_idx.append(0)\n",
    "act_list_idx.append(-1)\n",
    "conv_idx_act = list(set(convs[convs.apply(lambda x: x.Actor in act_list_idx, axis=1)].index.get_level_values(level=0)))\n",
    "cut_convs = convs.loc[conv_idx_act]"
   ]
  },
  {
   "cell_type": "code",
   "execution_count": 5,
   "metadata": {},
   "outputs": [
    {
     "name": "stdout",
     "output_type": "stream",
     "text": [
      "112962\n",
      "61750\n"
     ]
    }
   ],
   "source": [
    "print(len(convs))\n",
    "convs = convs.loc[convs['Actor'].apply(lambda x: x in act_list_idx)]\n",
    "print(len(convs))"
   ]
  },
  {
   "cell_type": "markdown",
   "metadata": {},
   "source": [
    "## clear outgoing links"
   ]
  },
  {
   "cell_type": "code",
   "execution_count": 7,
   "metadata": {},
   "outputs": [
    {
     "name": "stdout",
     "output_type": "stream",
     "text": [
      "27378\n"
     ]
    }
   ],
   "source": [
    "link_removed = 0\n",
    "rem_links = 0\n",
    "\n",
    "index = convs.index\n",
    "for idx, row in convs.iterrows():\n",
    "    links = row['outgoingLinks']\n",
    "    cut_links = []\n",
    "    if links:\n",
    "        for i in links:\n",
    "            if i in index:\n",
    "                cut_links.append(i)\n",
    "            else:\n",
    "                link_removed += 1\n",
    "                #print(f'removing link {i}')\n",
    "                #a = 1/0\n",
    "    rem_links += len(cut_links)\n",
    "    convs.at[idx, 'outgoingLinks'] = cut_links\n",
    "print(link_removed)"
   ]
  },
  {
   "cell_type": "markdown",
   "metadata": {},
   "source": [
    "## add incoming links"
   ]
  },
  {
   "cell_type": "code",
   "execution_count": 8,
   "metadata": {},
   "outputs": [],
   "source": [
    "convs['ingoingLinks'] = [[]]*len(convs)"
   ]
  },
  {
   "cell_type": "code",
   "execution_count": 9,
   "metadata": {},
   "outputs": [],
   "source": [
    "for idx_from, row in convs.iterrows():\n",
    "    links = row['outgoingLinks']\n",
    "    cut_links = []\n",
    "    for idx_to in links:\n",
    "        ing_links = set(convs.loc[idx_to, 'ingoingLinks'])\n",
    "        ing_links.add(idx_from)\n",
    "        convs.at[idx_to, 'ingoingLinks'] = list(ing_links)\n",
    "            "
   ]
  },
  {
   "cell_type": "markdown",
   "metadata": {},
   "source": [
    "## clear solo lines"
   ]
  },
  {
   "cell_type": "code",
   "execution_count": 10,
   "metadata": {},
   "outputs": [
    {
     "name": "stdout",
     "output_type": "stream",
     "text": [
      "61750\n",
      "51348\n"
     ]
    }
   ],
   "source": [
    "print(len(convs))\n",
    "convs = convs[convs.apply(lambda x: len(x['outgoingLinks'])!=0 or len(x['ingoingLinks'])!=0, axis=1)]\n",
    "print(len(convs))"
   ]
  },
  {
   "cell_type": "markdown",
   "metadata": {},
   "source": [
    "## remove tmp actors"
   ]
  },
  {
   "cell_type": "markdown",
   "metadata": {},
   "source": [
    "#### fixing links before removing this actors"
   ]
  },
  {
   "cell_type": "code",
   "execution_count": 11,
   "metadata": {},
   "outputs": [],
   "source": [
    "tmp_act_idx = list(convs[convs['Actor'].apply(lambda x: x in (0.0, -1.0))].index)\n",
    "for idx in tmp_act_idx:\n",
    "    outg, ing = convs.loc[idx, ['outgoingLinks', 'ingoingLinks']]\n",
    "    for i in ing:\n",
    "        init = set(convs.loc[i, 'outgoingLinks'])\n",
    "        init.remove(idx)\n",
    "        convs.at[i, 'outgoingLinks'] = list(init.union(set(outg)))\n",
    "    \n",
    "    for i in outg:\n",
    "        init = set(convs.loc[i, 'ingoingLinks'])\n",
    "        init.remove(idx)\n",
    "        convs.at[i, 'ingoingLinks'] = list(init.union(set(ing)))"
   ]
  },
  {
   "cell_type": "markdown",
   "metadata": {},
   "source": [
    "#### removing them"
   ]
  },
  {
   "cell_type": "code",
   "execution_count": 12,
   "metadata": {},
   "outputs": [
    {
     "name": "stdout",
     "output_type": "stream",
     "text": [
      "51348\n",
      "30073\n"
     ]
    }
   ],
   "source": [
    "print(len(convs))\n",
    "convs = convs[convs['Actor'].apply(lambda x: x not in (0.0, -1.0))]\n",
    "print(len(convs))"
   ]
  },
  {
   "cell_type": "markdown",
   "metadata": {},
   "source": [
    "#### checking if any links going outside of current data"
   ]
  },
  {
   "cell_type": "code",
   "execution_count": 13,
   "metadata": {},
   "outputs": [],
   "source": [
    "index = convs.index\n",
    "for idx, row in convs.iterrows():\n",
    "    for i in row['outgoingLinks']:\n",
    "        if i not in index:\n",
    "            print('error', idx)\n",
    "\n",
    "    for i in row['ingoingLinks']:\n",
    "        if i not in index:\n",
    "            print('error', idx)"
   ]
  },
  {
   "cell_type": "markdown",
   "metadata": {},
   "source": [
    "#### remove sololines once again"
   ]
  },
  {
   "cell_type": "code",
   "execution_count": 14,
   "metadata": {},
   "outputs": [
    {
     "name": "stdout",
     "output_type": "stream",
     "text": [
      "30073\n",
      "26486\n"
     ]
    }
   ],
   "source": [
    "print(len(convs))\n",
    "convs = convs[convs.apply(lambda x: len(x['outgoingLinks'])!=0 or len(x['ingoingLinks'])!=0, axis=1)]\n",
    "print(len(convs))"
   ]
  },
  {
   "cell_type": "markdown",
   "metadata": {},
   "source": [
    "### removing NaN text"
   ]
  },
  {
   "cell_type": "code",
   "execution_count": 15,
   "metadata": {},
   "outputs": [
    {
     "name": "stdout",
     "output_type": "stream",
     "text": [
      "26486\n",
      "25422\n"
     ]
    }
   ],
   "source": [
    "print(len(convs))\n",
    "nan_text_idx = convs[convs['Dialogue Text'].isna()].index\n",
    "for idx in nan_text_idx:\n",
    "    outg, ing = convs.loc[idx, ['outgoingLinks', 'ingoingLinks']]\n",
    "    for i in ing:\n",
    "        init = set(convs.loc[i, 'outgoingLinks'])\n",
    "        init.remove(idx)\n",
    "        convs.at[i, 'outgoingLinks'] = list(init.union(set(outg)))\n",
    "    \n",
    "    for i in outg:\n",
    "        init = set(convs.loc[i, 'ingoingLinks'])\n",
    "        init.remove(idx)\n",
    "        convs.at[i, 'ingoingLinks'] = list(init.union(set(ing)))\n",
    "convs = convs[~convs['Dialogue Text'].isna()]\n",
    "print(len(convs))"
   ]
  },
  {
   "cell_type": "code",
   "execution_count": 16,
   "metadata": {},
   "outputs": [
    {
     "name": "stdout",
     "output_type": "stream",
     "text": [
      "25422\n",
      "25391\n"
     ]
    }
   ],
   "source": [
    "print(len(convs))\n",
    "convs = convs[convs.apply(lambda x: len(x['outgoingLinks'])!=0 or len(x['ingoingLinks'])!=0, axis=1)]\n",
    "print(len(convs))"
   ]
  },
  {
   "cell_type": "code",
   "execution_count": 17,
   "metadata": {},
   "outputs": [],
   "source": [
    "index = convs.index\n",
    "for idx, row in convs.iterrows():\n",
    "    for i in row['outgoingLinks']:\n",
    "        if i not in index:\n",
    "            print('error', idx)\n",
    "\n",
    "    for i in row['ingoingLinks']:\n",
    "        if i not in index:\n",
    "            print('error', idx)"
   ]
  },
  {
   "cell_type": "code",
   "execution_count": 18,
   "metadata": {},
   "outputs": [
    {
     "data": {
      "text/plain": [
       "You                        13249\n",
       "Logic                        876\n",
       "Rhetoric                     869\n",
       "Inland Empire                801\n",
       "Empathy                      796\n",
       "Conceptualization            602\n",
       "Electrochemistry             554\n",
       "Encyclopedia                 545\n",
       "Shivers                      543\n",
       "Volition                     497\n",
       "Half Light                   469\n",
       "Authority                    442\n",
       "Esprit de Corps              430\n",
       "Savoir Faire                 430\n",
       "Visual Calculus              415\n",
       "Suggestion                   410\n",
       "Composure                    408\n",
       "Drama                        403\n",
       "Endurance                    401\n",
       "Reaction Speed               372\n",
       "Interfacing                  363\n",
       "Physical Instrument          343\n",
       "Perception (Sight)           237\n",
       "Pain Threshold               237\n",
       "Hand/Eye Coordination        179\n",
       "Perception (Hearing)         175\n",
       "Ancient Reptilian Brain      107\n",
       "Perception (Smell)            89\n",
       "Limbic System                 77\n",
       "Tricentennial Electrics       30\n",
       "Perception                    21\n",
       "Spinal Cord                   17\n",
       "Perception (Taste)             4\n",
       "Name: ActorName, dtype: int64"
      ]
     },
     "execution_count": 18,
     "metadata": {},
     "output_type": "execute_result"
    }
   ],
   "source": [
    "convs['ActorName'] = convs['Actor'].map(act['Name'])\n",
    "convs['ActorName'].value_counts()"
   ]
  },
  {
   "cell_type": "code",
   "execution_count": 19,
   "metadata": {},
   "outputs": [],
   "source": [
    "convs_dict = convs['outgoingLinks'].to_dict()\n",
    "def recursive_count(node, prev_nodes):\n",
    "    if len(prev_nodes) > 5:\n",
    "        return 1\n",
    "    links = convs_dict[node]\n",
    "    if len(links) == 0:\n",
    "        return 1\n",
    "    \n",
    "    sum_ = 0\n",
    "    for link in links:\n",
    "        if link not in prev_nodes:\n",
    "            sum_ += recursive_count(link, prev_nodes+[node])\n",
    "    return sum_\n",
    "\n",
    "\n",
    "def recursive_path(node, prev_nodes, max_len=7, min_len=3):\n",
    "    if len(prev_nodes) >= max_len:\n",
    "        return [prev_nodes]\n",
    "    links = convs_dict[node]\n",
    "    if len(links) == 0:\n",
    "        if len(prev_nodes) > min_len - 1:\n",
    "            return [prev_nodes+[node]]\n",
    "        else:\n",
    "            return []\n",
    "    \n",
    "    sum_ = []\n",
    "    for link in links:\n",
    "        if link not in prev_nodes:\n",
    "            sum_ += recursive_path(link, prev_nodes+[node])\n",
    "    return sum_\n",
    "\n",
    "def filter_paths(paths):\n",
    "    ret_path = []\n",
    "    for path in paths:\n",
    "        # You not only on last position\n",
    "        for node in path[:-1]:\n",
    "            if convs.loc[node]['ActorName'] == 'You':\n",
    "                ret_path.append(path)\n",
    "                break\n",
    "    return ret_path\n",
    "\n",
    "\n",
    "def populate_dial(path):\n",
    "    ret_path = []\n",
    "    cur = []\n",
    "    for node in path:\n",
    "        if convs.loc[node]['ActorName'] == 'You' and cur:\n",
    "            ret_path.append(cur[:])\n",
    "        cur.append(node)\n",
    "    if convs.loc[path[-1]]['ActorName'] != 'You':\n",
    "        ret_path.append(cur[:])\n",
    "    return ret_path\n",
    "                \n",
    "        "
   ]
  },
  {
   "cell_type": "code",
   "execution_count": 20,
   "metadata": {},
   "outputs": [],
   "source": [
    "def path_to_example(path):\n",
    "    lines = []\n",
    "    buffer = []\n",
    "    for node in path:\n",
    "        text, actor = convs.loc[node][['Dialogue Text', 'ActorName']]\n",
    "        if actor == 'You':\n",
    "            if buffer:\n",
    "                lines.append('\\n'.join(buffer))\n",
    "            lines.append(text)\n",
    "            buffer = []\n",
    "        else:\n",
    "            buffer.append(f'[{actor}]: {text}')\n",
    "    if buffer:\n",
    "        lines.append('\\n'.join(buffer))\n",
    "    return lines"
   ]
  },
  {
   "cell_type": "code",
   "execution_count": 21,
   "metadata": {},
   "outputs": [],
   "source": [
    "all_starts = list(convs[convs['ingoingLinks'].apply(len) == 0].index)"
   ]
  },
  {
   "cell_type": "code",
   "execution_count": 22,
   "metadata": {},
   "outputs": [],
   "source": [
    "samples = []\n",
    "for i in all_starts:\n",
    "    # filter\n",
    "    paths = filter_paths(recursive_path(i, []))\n",
    "    # if there is too much from one conv, so sample dialogues from here\n",
    "    if len(paths) > 10:\n",
    "        paths = random.sample(paths, 10)\n",
    "    # populate dialogues by cutting them\n",
    "    new_paths = []\n",
    "    for p in paths:\n",
    "        new_paths.extend(populate_dial(p))\n",
    "    paths = new_paths\n",
    "    if paths:\n",
    "        samples.append((i, paths))"
   ]
  },
  {
   "cell_type": "code",
   "execution_count": 23,
   "metadata": {},
   "outputs": [],
   "source": [
    "dataset = []\n",
    "for sample in samples:\n",
    "    paths = sample[1]\n",
    "    for i in paths:\n",
    "        dataset.append(path_to_example(i))"
   ]
  },
  {
   "cell_type": "code",
   "execution_count": 24,
   "metadata": {},
   "outputs": [
    {
     "name": "stdout",
     "output_type": "stream",
     "text": [
      "13909 14.503649635036496\n"
     ]
    },
    {
     "data": {
      "application/vnd.plotly.v1+json": {
       "config": {
        "plotlyServerURL": "https://plot.ly"
       },
       "data": [
        {
         "alignmentgroup": "True",
         "bingroup": "x",
         "hovertemplate": "x=%{x}<br>count=%{y}<extra></extra>",
         "legendgroup": "",
         "marker": {
          "color": "#636efa",
          "pattern": {
           "shape": ""
          }
         },
         "name": "",
         "offsetgroup": "",
         "orientation": "v",
         "showlegend": false,
         "type": "histogram",
         "x": [
          27,
          27,
          29,
          2,
          12,
          8,
          26,
          5,
          12,
          4,
          12,
          5,
          28,
          5,
          2,
          30,
          18,
          2,
          30,
          2,
          8,
          21,
          14,
          4,
          2,
          4,
          2,
          8,
          4,
          2,
          2,
          8,
          4,
          12,
          4,
          2,
          4,
          17,
          19,
          28,
          17,
          17,
          17,
          17,
          28,
          28,
          19,
          28,
          16,
          17,
          17,
          17,
          28,
          28,
          17,
          19,
          10,
          10,
          4,
          20,
          20,
          20,
          20,
          4,
          20,
          4,
          4,
          4,
          29,
          17,
          1,
          1,
          20,
          2,
          23,
          17,
          20,
          8,
          2,
          8,
          29,
          29,
          6,
          30,
          24,
          5,
          4,
          8,
          6,
          4,
          10,
          8,
          4,
          4,
          6,
          6,
          2,
          6,
          2,
          6,
          2,
          2,
          16,
          2,
          8,
          4,
          2,
          8,
          8,
          12,
          8,
          20,
          2,
          4,
          2,
          2,
          4,
          16,
          4,
          4,
          2,
          2,
          2,
          12,
          4,
          12,
          12,
          4,
          8,
          12,
          4,
          6,
          16,
          8,
          16,
          14,
          4,
          4,
          4,
          4,
          20,
          4,
          4,
          2,
          4,
          6,
          10,
          10,
          10,
          4,
          18,
          18,
          4,
          4,
          10,
          21,
          40,
          28,
          4,
          16,
          4,
          4,
          4,
          4,
          4,
          4,
          28,
          5,
          1,
          1,
          6,
          1,
          11,
          4,
          5,
          39,
          4,
          28,
          16,
          4,
          4,
          4,
          4,
          6,
          20,
          14,
          6,
          40,
          16,
          12,
          16,
          12,
          30,
          8,
          8,
          8,
          8,
          8,
          8,
          8,
          8,
          8,
          8,
          4,
          10,
          2,
          4,
          12,
          4,
          6,
          2,
          20,
          6,
          8,
          8,
          20,
          4,
          20,
          8,
          7,
          7,
          7,
          26,
          6,
          2,
          14,
          39,
          4,
          4,
          4,
          1,
          4,
          2,
          20,
          20,
          4,
          2,
          28,
          6,
          31,
          23,
          23,
          24,
          23,
          22,
          1,
          37,
          37,
          14,
          37,
          2,
          1,
          8,
          2,
          34,
          12,
          12,
          3,
          2,
          2,
          9,
          9,
          9,
          9,
          9,
          6,
          6,
          6,
          27,
          16,
          8,
          14,
          8,
          30,
          18,
          1,
          9,
          11,
          11,
          11,
          11,
          2,
          11,
          25,
          38,
          36,
          38,
          39,
          30,
          40,
          35,
          29,
          40,
          2,
          2,
          9,
          18,
          2,
          2,
          11,
          7,
          9,
          20,
          26,
          20,
          12,
          20,
          20,
          12,
          12,
          20,
          12,
          24,
          31,
          24,
          2,
          24,
          2,
          24,
          2,
          5,
          27,
          27,
          11,
          27,
          22,
          12,
          12,
          12,
          12,
          20,
          9,
          6,
          22,
          20,
          27,
          2,
          2,
          6,
          4,
          6,
          14,
          14,
          14,
          14,
          14,
          4,
          4,
          18,
          10,
          10,
          10,
          10,
          10,
          10,
          10,
          4,
          10,
          4,
          20,
          2,
          4,
          3,
          20,
          3,
          26,
          26,
          8,
          14,
          20,
          20,
          29,
          14,
          14,
          16,
          14,
          23,
          14,
          16,
          14,
          14,
          14,
          23,
          20,
          14,
          14,
          20,
          5,
          14,
          20,
          16,
          18,
          14,
          16,
          16,
          2,
          2,
          2,
          2,
          2,
          8,
          2,
          20,
          2,
          2,
          2,
          4,
          4,
          4,
          8,
          2,
          8,
          2,
          2,
          2,
          20,
          1,
          1,
          1,
          1,
          1,
          6,
          4,
          1,
          1,
          1,
          2,
          27,
          27,
          31,
          33,
          30,
          22,
          25,
          30,
          31,
          32,
          2,
          24,
          24,
          27,
          33,
          25,
          35,
          29,
          25,
          2,
          32,
          4,
          12,
          25,
          12,
          11,
          12,
          12,
          34,
          4,
          4,
          28,
          28,
          25,
          2,
          2,
          4,
          20,
          20,
          12,
          2,
          20,
          12,
          20,
          20,
          12,
          20,
          2,
          18,
          33,
          8,
          1,
          4,
          10,
          12,
          10,
          4,
          2,
          27,
          16,
          36,
          31,
          27,
          20,
          25,
          30,
          10,
          10,
          20,
          20,
          4,
          30,
          38,
          43,
          40,
          34,
          14,
          2,
          20,
          20,
          16,
          4,
          20,
          4,
          4,
          23,
          29,
          22,
          14,
          14,
          28,
          28,
          14,
          28,
          24,
          14,
          14,
          14,
          6,
          6,
          6,
          6,
          6,
          16,
          31,
          16,
          25,
          18,
          8,
          29,
          31,
          12,
          8,
          16,
          30,
          29,
          31,
          27,
          16,
          16,
          12,
          8,
          28,
          16,
          25,
          31,
          16,
          4,
          12,
          30,
          30,
          16,
          31,
          12,
          31,
          23,
          30,
          7,
          20,
          2,
          20,
          2,
          27,
          19,
          10,
          10,
          2,
          25,
          33,
          33,
          22,
          12,
          6,
          6,
          6,
          8,
          20,
          2,
          2,
          2,
          8,
          30,
          30,
          6,
          30,
          40,
          20,
          20,
          30,
          32,
          30,
          18,
          20,
          20,
          20,
          16,
          16,
          20,
          2,
          40,
          2,
          39,
          2,
          28,
          38,
          4,
          4,
          6,
          12,
          12,
          12,
          12,
          12,
          12,
          12,
          5,
          16,
          5,
          8,
          31,
          10,
          6,
          6,
          6,
          20,
          20,
          20,
          20,
          20,
          2,
          20,
          20,
          20,
          20,
          4,
          10,
          2,
          2,
          34,
          14,
          30,
          30,
          39,
          5,
          26,
          32,
          15,
          35,
          15,
          15,
          15,
          27,
          20,
          20,
          20,
          20,
          2,
          2,
          35,
          2,
          2,
          2,
          27,
          28,
          30,
          4,
          10,
          14,
          2,
          22,
          6,
          4,
          20,
          2,
          2,
          2,
          3,
          20,
          3,
          6,
          30,
          14,
          20,
          16,
          6,
          6,
          2,
          37,
          1,
          12,
          12,
          12,
          2,
          12,
          12,
          7,
          7,
          6,
          7,
          27,
          7,
          7,
          7,
          39,
          28,
          2,
          2,
          4,
          14,
          20,
          20,
          6,
          2,
          20,
          1,
          4,
          2,
          16,
          2,
          26,
          31,
          4,
          5,
          16,
          16,
          11,
          2,
          2,
          1,
          32,
          20,
          38,
          1,
          2,
          30,
          30,
          11,
          32,
          33,
          32,
          32,
          12,
          18,
          40,
          18,
          2,
          4,
          4,
          10,
          6,
          2,
          30,
          6,
          39,
          6,
          15,
          32,
          6,
          18,
          22,
          6,
          20,
          2,
          20,
          20,
          10,
          16,
          30,
          18,
          4,
          4,
          4,
          4,
          4,
          8,
          30,
          4,
          4,
          4,
          2,
          4,
          2,
          2,
          2,
          20,
          30,
          21,
          9,
          2,
          40,
          9,
          13,
          8,
          8,
          8,
          8,
          9,
          32,
          26,
          5,
          26,
          32,
          32,
          26,
          30,
          28,
          20,
          29,
          31,
          26,
          32,
          30,
          12,
          34,
          31,
          16,
          32,
          27,
          27,
          8,
          28,
          24,
          15,
          15,
          15,
          16,
          20,
          20,
          28,
          16,
          21,
          16,
          20,
          16,
          16,
          16,
          16,
          20,
          20,
          20,
          20,
          16,
          20,
          25,
          18,
          23,
          22,
          24,
          25,
          20,
          24,
          20,
          25,
          24,
          27,
          27,
          25,
          20,
          20,
          20,
          25,
          28,
          21,
          27,
          20,
          25,
          25,
          20,
          18,
          18,
          24,
          5,
          32,
          24,
          23,
          5,
          14,
          5,
          3,
          30,
          20,
          30,
          29,
          16,
          22,
          15,
          36,
          12,
          27,
          17,
          2,
          2,
          2,
          20,
          4,
          12,
          15,
          15,
          15,
          15,
          18,
          2,
          1,
          20,
          2,
          2,
          2,
          3,
          8,
          11,
          16,
          10,
          6,
          6,
          20,
          6,
          20,
          10,
          6,
          8,
          16,
          18,
          30,
          22,
          16,
          9,
          20,
          4,
          4,
          30,
          30,
          2,
          4,
          19,
          27,
          10,
          10,
          10,
          10,
          27,
          8,
          24,
          25,
          10,
          6,
          4,
          16,
          4,
          4,
          22,
          23,
          20
         ],
         "xaxis": "x",
         "yaxis": "y"
        }
       ],
       "layout": {
        "barmode": "relative",
        "legend": {
         "tracegroupgap": 0
        },
        "margin": {
         "t": 60
        },
        "template": {
         "data": {
          "bar": [
           {
            "error_x": {
             "color": "#2a3f5f"
            },
            "error_y": {
             "color": "#2a3f5f"
            },
            "marker": {
             "line": {
              "color": "#E5ECF6",
              "width": 0.5
             },
             "pattern": {
              "fillmode": "overlay",
              "size": 10,
              "solidity": 0.2
             }
            },
            "type": "bar"
           }
          ],
          "barpolar": [
           {
            "marker": {
             "line": {
              "color": "#E5ECF6",
              "width": 0.5
             },
             "pattern": {
              "fillmode": "overlay",
              "size": 10,
              "solidity": 0.2
             }
            },
            "type": "barpolar"
           }
          ],
          "carpet": [
           {
            "aaxis": {
             "endlinecolor": "#2a3f5f",
             "gridcolor": "white",
             "linecolor": "white",
             "minorgridcolor": "white",
             "startlinecolor": "#2a3f5f"
            },
            "baxis": {
             "endlinecolor": "#2a3f5f",
             "gridcolor": "white",
             "linecolor": "white",
             "minorgridcolor": "white",
             "startlinecolor": "#2a3f5f"
            },
            "type": "carpet"
           }
          ],
          "choropleth": [
           {
            "colorbar": {
             "outlinewidth": 0,
             "ticks": ""
            },
            "type": "choropleth"
           }
          ],
          "contour": [
           {
            "colorbar": {
             "outlinewidth": 0,
             "ticks": ""
            },
            "colorscale": [
             [
              0,
              "#0d0887"
             ],
             [
              0.1111111111111111,
              "#46039f"
             ],
             [
              0.2222222222222222,
              "#7201a8"
             ],
             [
              0.3333333333333333,
              "#9c179e"
             ],
             [
              0.4444444444444444,
              "#bd3786"
             ],
             [
              0.5555555555555556,
              "#d8576b"
             ],
             [
              0.6666666666666666,
              "#ed7953"
             ],
             [
              0.7777777777777778,
              "#fb9f3a"
             ],
             [
              0.8888888888888888,
              "#fdca26"
             ],
             [
              1,
              "#f0f921"
             ]
            ],
            "type": "contour"
           }
          ],
          "contourcarpet": [
           {
            "colorbar": {
             "outlinewidth": 0,
             "ticks": ""
            },
            "type": "contourcarpet"
           }
          ],
          "heatmap": [
           {
            "colorbar": {
             "outlinewidth": 0,
             "ticks": ""
            },
            "colorscale": [
             [
              0,
              "#0d0887"
             ],
             [
              0.1111111111111111,
              "#46039f"
             ],
             [
              0.2222222222222222,
              "#7201a8"
             ],
             [
              0.3333333333333333,
              "#9c179e"
             ],
             [
              0.4444444444444444,
              "#bd3786"
             ],
             [
              0.5555555555555556,
              "#d8576b"
             ],
             [
              0.6666666666666666,
              "#ed7953"
             ],
             [
              0.7777777777777778,
              "#fb9f3a"
             ],
             [
              0.8888888888888888,
              "#fdca26"
             ],
             [
              1,
              "#f0f921"
             ]
            ],
            "type": "heatmap"
           }
          ],
          "heatmapgl": [
           {
            "colorbar": {
             "outlinewidth": 0,
             "ticks": ""
            },
            "colorscale": [
             [
              0,
              "#0d0887"
             ],
             [
              0.1111111111111111,
              "#46039f"
             ],
             [
              0.2222222222222222,
              "#7201a8"
             ],
             [
              0.3333333333333333,
              "#9c179e"
             ],
             [
              0.4444444444444444,
              "#bd3786"
             ],
             [
              0.5555555555555556,
              "#d8576b"
             ],
             [
              0.6666666666666666,
              "#ed7953"
             ],
             [
              0.7777777777777778,
              "#fb9f3a"
             ],
             [
              0.8888888888888888,
              "#fdca26"
             ],
             [
              1,
              "#f0f921"
             ]
            ],
            "type": "heatmapgl"
           }
          ],
          "histogram": [
           {
            "marker": {
             "pattern": {
              "fillmode": "overlay",
              "size": 10,
              "solidity": 0.2
             }
            },
            "type": "histogram"
           }
          ],
          "histogram2d": [
           {
            "colorbar": {
             "outlinewidth": 0,
             "ticks": ""
            },
            "colorscale": [
             [
              0,
              "#0d0887"
             ],
             [
              0.1111111111111111,
              "#46039f"
             ],
             [
              0.2222222222222222,
              "#7201a8"
             ],
             [
              0.3333333333333333,
              "#9c179e"
             ],
             [
              0.4444444444444444,
              "#bd3786"
             ],
             [
              0.5555555555555556,
              "#d8576b"
             ],
             [
              0.6666666666666666,
              "#ed7953"
             ],
             [
              0.7777777777777778,
              "#fb9f3a"
             ],
             [
              0.8888888888888888,
              "#fdca26"
             ],
             [
              1,
              "#f0f921"
             ]
            ],
            "type": "histogram2d"
           }
          ],
          "histogram2dcontour": [
           {
            "colorbar": {
             "outlinewidth": 0,
             "ticks": ""
            },
            "colorscale": [
             [
              0,
              "#0d0887"
             ],
             [
              0.1111111111111111,
              "#46039f"
             ],
             [
              0.2222222222222222,
              "#7201a8"
             ],
             [
              0.3333333333333333,
              "#9c179e"
             ],
             [
              0.4444444444444444,
              "#bd3786"
             ],
             [
              0.5555555555555556,
              "#d8576b"
             ],
             [
              0.6666666666666666,
              "#ed7953"
             ],
             [
              0.7777777777777778,
              "#fb9f3a"
             ],
             [
              0.8888888888888888,
              "#fdca26"
             ],
             [
              1,
              "#f0f921"
             ]
            ],
            "type": "histogram2dcontour"
           }
          ],
          "mesh3d": [
           {
            "colorbar": {
             "outlinewidth": 0,
             "ticks": ""
            },
            "type": "mesh3d"
           }
          ],
          "parcoords": [
           {
            "line": {
             "colorbar": {
              "outlinewidth": 0,
              "ticks": ""
             }
            },
            "type": "parcoords"
           }
          ],
          "pie": [
           {
            "automargin": true,
            "type": "pie"
           }
          ],
          "scatter": [
           {
            "fillpattern": {
             "fillmode": "overlay",
             "size": 10,
             "solidity": 0.2
            },
            "type": "scatter"
           }
          ],
          "scatter3d": [
           {
            "line": {
             "colorbar": {
              "outlinewidth": 0,
              "ticks": ""
             }
            },
            "marker": {
             "colorbar": {
              "outlinewidth": 0,
              "ticks": ""
             }
            },
            "type": "scatter3d"
           }
          ],
          "scattercarpet": [
           {
            "marker": {
             "colorbar": {
              "outlinewidth": 0,
              "ticks": ""
             }
            },
            "type": "scattercarpet"
           }
          ],
          "scattergeo": [
           {
            "marker": {
             "colorbar": {
              "outlinewidth": 0,
              "ticks": ""
             }
            },
            "type": "scattergeo"
           }
          ],
          "scattergl": [
           {
            "marker": {
             "colorbar": {
              "outlinewidth": 0,
              "ticks": ""
             }
            },
            "type": "scattergl"
           }
          ],
          "scattermapbox": [
           {
            "marker": {
             "colorbar": {
              "outlinewidth": 0,
              "ticks": ""
             }
            },
            "type": "scattermapbox"
           }
          ],
          "scatterpolar": [
           {
            "marker": {
             "colorbar": {
              "outlinewidth": 0,
              "ticks": ""
             }
            },
            "type": "scatterpolar"
           }
          ],
          "scatterpolargl": [
           {
            "marker": {
             "colorbar": {
              "outlinewidth": 0,
              "ticks": ""
             }
            },
            "type": "scatterpolargl"
           }
          ],
          "scatterternary": [
           {
            "marker": {
             "colorbar": {
              "outlinewidth": 0,
              "ticks": ""
             }
            },
            "type": "scatterternary"
           }
          ],
          "surface": [
           {
            "colorbar": {
             "outlinewidth": 0,
             "ticks": ""
            },
            "colorscale": [
             [
              0,
              "#0d0887"
             ],
             [
              0.1111111111111111,
              "#46039f"
             ],
             [
              0.2222222222222222,
              "#7201a8"
             ],
             [
              0.3333333333333333,
              "#9c179e"
             ],
             [
              0.4444444444444444,
              "#bd3786"
             ],
             [
              0.5555555555555556,
              "#d8576b"
             ],
             [
              0.6666666666666666,
              "#ed7953"
             ],
             [
              0.7777777777777778,
              "#fb9f3a"
             ],
             [
              0.8888888888888888,
              "#fdca26"
             ],
             [
              1,
              "#f0f921"
             ]
            ],
            "type": "surface"
           }
          ],
          "table": [
           {
            "cells": {
             "fill": {
              "color": "#EBF0F8"
             },
             "line": {
              "color": "white"
             }
            },
            "header": {
             "fill": {
              "color": "#C8D4E3"
             },
             "line": {
              "color": "white"
             }
            },
            "type": "table"
           }
          ]
         },
         "layout": {
          "annotationdefaults": {
           "arrowcolor": "#2a3f5f",
           "arrowhead": 0,
           "arrowwidth": 1
          },
          "autotypenumbers": "strict",
          "coloraxis": {
           "colorbar": {
            "outlinewidth": 0,
            "ticks": ""
           }
          },
          "colorscale": {
           "diverging": [
            [
             0,
             "#8e0152"
            ],
            [
             0.1,
             "#c51b7d"
            ],
            [
             0.2,
             "#de77ae"
            ],
            [
             0.3,
             "#f1b6da"
            ],
            [
             0.4,
             "#fde0ef"
            ],
            [
             0.5,
             "#f7f7f7"
            ],
            [
             0.6,
             "#e6f5d0"
            ],
            [
             0.7,
             "#b8e186"
            ],
            [
             0.8,
             "#7fbc41"
            ],
            [
             0.9,
             "#4d9221"
            ],
            [
             1,
             "#276419"
            ]
           ],
           "sequential": [
            [
             0,
             "#0d0887"
            ],
            [
             0.1111111111111111,
             "#46039f"
            ],
            [
             0.2222222222222222,
             "#7201a8"
            ],
            [
             0.3333333333333333,
             "#9c179e"
            ],
            [
             0.4444444444444444,
             "#bd3786"
            ],
            [
             0.5555555555555556,
             "#d8576b"
            ],
            [
             0.6666666666666666,
             "#ed7953"
            ],
            [
             0.7777777777777778,
             "#fb9f3a"
            ],
            [
             0.8888888888888888,
             "#fdca26"
            ],
            [
             1,
             "#f0f921"
            ]
           ],
           "sequentialminus": [
            [
             0,
             "#0d0887"
            ],
            [
             0.1111111111111111,
             "#46039f"
            ],
            [
             0.2222222222222222,
             "#7201a8"
            ],
            [
             0.3333333333333333,
             "#9c179e"
            ],
            [
             0.4444444444444444,
             "#bd3786"
            ],
            [
             0.5555555555555556,
             "#d8576b"
            ],
            [
             0.6666666666666666,
             "#ed7953"
            ],
            [
             0.7777777777777778,
             "#fb9f3a"
            ],
            [
             0.8888888888888888,
             "#fdca26"
            ],
            [
             1,
             "#f0f921"
            ]
           ]
          },
          "colorway": [
           "#636efa",
           "#EF553B",
           "#00cc96",
           "#ab63fa",
           "#FFA15A",
           "#19d3f3",
           "#FF6692",
           "#B6E880",
           "#FF97FF",
           "#FECB52"
          ],
          "font": {
           "color": "#2a3f5f"
          },
          "geo": {
           "bgcolor": "white",
           "lakecolor": "white",
           "landcolor": "#E5ECF6",
           "showlakes": true,
           "showland": true,
           "subunitcolor": "white"
          },
          "hoverlabel": {
           "align": "left"
          },
          "hovermode": "closest",
          "mapbox": {
           "style": "light"
          },
          "paper_bgcolor": "white",
          "plot_bgcolor": "#E5ECF6",
          "polar": {
           "angularaxis": {
            "gridcolor": "white",
            "linecolor": "white",
            "ticks": ""
           },
           "bgcolor": "#E5ECF6",
           "radialaxis": {
            "gridcolor": "white",
            "linecolor": "white",
            "ticks": ""
           }
          },
          "scene": {
           "xaxis": {
            "backgroundcolor": "#E5ECF6",
            "gridcolor": "white",
            "gridwidth": 2,
            "linecolor": "white",
            "showbackground": true,
            "ticks": "",
            "zerolinecolor": "white"
           },
           "yaxis": {
            "backgroundcolor": "#E5ECF6",
            "gridcolor": "white",
            "gridwidth": 2,
            "linecolor": "white",
            "showbackground": true,
            "ticks": "",
            "zerolinecolor": "white"
           },
           "zaxis": {
            "backgroundcolor": "#E5ECF6",
            "gridcolor": "white",
            "gridwidth": 2,
            "linecolor": "white",
            "showbackground": true,
            "ticks": "",
            "zerolinecolor": "white"
           }
          },
          "shapedefaults": {
           "line": {
            "color": "#2a3f5f"
           }
          },
          "ternary": {
           "aaxis": {
            "gridcolor": "white",
            "linecolor": "white",
            "ticks": ""
           },
           "baxis": {
            "gridcolor": "white",
            "linecolor": "white",
            "ticks": ""
           },
           "bgcolor": "#E5ECF6",
           "caxis": {
            "gridcolor": "white",
            "linecolor": "white",
            "ticks": ""
           }
          },
          "title": {
           "x": 0.05
          },
          "xaxis": {
           "automargin": true,
           "gridcolor": "white",
           "linecolor": "white",
           "ticks": "",
           "title": {
            "standoff": 15
           },
           "zerolinecolor": "white",
           "zerolinewidth": 2
          },
          "yaxis": {
           "automargin": true,
           "gridcolor": "white",
           "linecolor": "white",
           "ticks": "",
           "title": {
            "standoff": 15
           },
           "zerolinecolor": "white",
           "zerolinewidth": 2
          }
         }
        },
        "xaxis": {
         "anchor": "y",
         "domain": [
          0,
          1
         ],
         "title": {
          "text": "x"
         }
        },
        "yaxis": {
         "anchor": "x",
         "domain": [
          0,
          1
         ],
         "title": {
          "text": "count"
         }
        }
       }
      }
     },
     "metadata": {},
     "output_type": "display_data"
    }
   ],
   "source": [
    "import plotly.express as px\n",
    "#df = px.data.tips()\n",
    "x = [len(i[1]) for i in samples]\n",
    "print(sum(x), sum(x)/len(x))\n",
    "fig = px.histogram(x=x,)\n",
    "fig.show()"
   ]
  },
  {
   "cell_type": "code",
   "execution_count": 35,
   "metadata": {},
   "outputs": [],
   "source": [
    "dataset = list(set([tuple(i) for i in dataset]))"
   ]
  },
  {
   "cell_type": "code",
   "execution_count": 38,
   "metadata": {},
   "outputs": [],
   "source": [
    "with open('dataset/data_v1.json', 'w') as f:\n",
    "    json.dump(dataset, f, indent=4)"
   ]
  },
  {
   "cell_type": "code",
   "execution_count": 263,
   "metadata": {},
   "outputs": [],
   "source": [
    "freq_dict = {}\n",
    "for sample in dataset:\n",
    "    for line in sample:\n",
    "        if line == '':\n",
    "            print(sample)\n",
    "        freq_dict[line] = freq_dict.get(line, 0) + 1\n"
   ]
  },
  {
   "cell_type": "code",
   "execution_count": 266,
   "metadata": {},
   "outputs": [
    {
     "name": "stdout",
     "output_type": "stream",
     "text": [
      "Look at the person standing on the side. 126\n",
      "[Visual Calculus]: The commandant -- the one who gives the order. Machine gun fire crackling through the air, the lights of the muzzle flashes dancing on his face... 126\n",
      "What *is* this... 108\n",
      "[Visual Calculus]: The abundance of bullet holes leads to two options: either an inordinate amount of executions were performed here, or they did not use a *conscience round* -- where only one soldier has the loaded rifle. Looks like this was a mass execution with everyone fully armed. 108\n",
      "What? 121\n",
      "Inspect the ghostly figures. 105\n",
      "[Visual Calculus]: The man does not know the bullet has entered his brain. He never will. Death comes faster than the realization. 105\n",
      "I have the map -- extrapolate the radius to include all of Martinaise. 107\n",
      "[Visual Calculus]: According to your map of the district, this shot could have come from a wide angle of locations -- starting with the northern edge of the abandoned boardwalk, ending with an islet in the bay. Let's call them B prime. 134\n",
      "Assess his body language. 133\n",
      "\"Don't go...\" 262\n",
      "[Suggestion]: No! Don't say it. Don't beg. It will only make her *go*! 262\n",
      "Wait, yes! I have *other questions* first. Where's the list? 130\n",
      "[Suggestion]: Yes! Somewhere hidden among the options popping up in your nervous system... is the *right* one. That will make her love you again, and not go to the aerodrome at all! 130\n",
      "Where's the frozen ice cream maker? 129\n",
      "C'mon, what am I forgetting? (Hit yourself on the side of your head.) 394\n",
      "[Logic]: Wait, here it comes -- the god damn May bells, the dried may bells on Klaasje's roof! 170\n",
      "\"What am I missing? What haven't I done?\" 105\n",
      "What was the deal between him and Edgar? 285\n",
      "[Logic]: Oh no, the connection doesn't come to you! On such a *pivotal* moment...\n",
      "[Authority]: Dumbo, do something, you can't zone out now, this isn't doodle-loo dance time.\n",
      "[Pain Threshold]: Slap yourself in your head again, jump start it! 123\n",
      "[Logic]: Oh no, the connection doesn't come to you! On such a *pivotal* moment...\n",
      "[Authority]: Dumbo, do something, you can't zone out now, this isn't doodle-loo dance time.\n",
      "[Pain Threshold]: Slap yourself in your head, jump start it! 125\n"
     ]
    }
   ],
   "source": [
    "for k, v in freq_dict.items():\n",
    "    if v > 100:\n",
    "        print(f'{k}', v)"
   ]
  },
  {
   "cell_type": "code",
   "execution_count": null,
   "metadata": {},
   "outputs": [],
   "source": []
  },
  {
   "cell_type": "code",
   "execution_count": 238,
   "metadata": {},
   "outputs": [
    {
     "data": {
      "text/plain": [
       "1606"
      ]
     },
     "execution_count": 238,
     "metadata": {},
     "output_type": "execute_result"
    }
   ],
   "source": [
    "max(freq_dict.values())"
   ]
  },
  {
   "cell_type": "code",
   "execution_count": 99,
   "metadata": {},
   "outputs": [
    {
     "data": {
      "application/vnd.plotly.v1+json": {
       "config": {
        "plotlyServerURL": "https://plot.ly"
       },
       "data": [
        {
         "marker": {
          "color": "#BE3144"
         },
         "mode": "markers",
         "text": [
          3,
          5,
          6,
          11,
          12,
          13,
          19,
          20,
          21,
          22,
          27,
          34,
          35,
          36,
          37,
          38,
          39,
          40,
          41,
          47,
          48,
          54,
          59,
          60,
          62,
          63,
          67,
          74,
          76,
          77,
          78,
          79,
          80,
          81,
          82,
          92,
          94,
          100,
          101,
          116,
          120,
          121,
          125,
          126,
          128,
          129,
          133,
          135,
          152,
          153,
          154,
          155,
          156,
          158,
          161,
          162,
          164,
          169,
          174,
          175,
          182,
          185,
          186,
          188,
          196,
          197,
          206,
          208,
          209,
          213,
          214,
          220,
          224,
          233,
          234,
          235,
          236,
          239,
          240,
          241,
          254,
          257,
          258,
          259,
          265,
          266,
          270,
          273,
          274,
          275,
          276,
          279,
          293,
          296,
          297,
          299,
          301,
          303,
          306,
          308,
          309,
          310,
          311,
          312,
          314,
          315,
          316,
          321,
          322,
          324,
          327,
          329,
          330,
          338,
          341,
          342,
          363,
          364,
          370,
          371,
          373,
          382,
          383,
          389,
          407,
          408,
          412,
          413,
          419,
          420,
          421,
          423,
          424
         ],
         "type": "scatter",
         "x": [
          -4268,
          -2725,
          6174,
          4946,
          2589,
          4673,
          2650,
          1150,
          -4850,
          -2725,
          2350,
          1475,
          3525.00024,
          4948,
          5239,
          6692,
          3494,
          4700,
          5017,
          -4554,
          -2725,
          875.000061,
          2025.00012,
          2325,
          4125,
          3800.00024,
          6225,
          5550,
          2600,
          4656,
          2600,
          6971,
          3200,
          6200,
          4400,
          6225,
          850.000061,
          4950,
          5900,
          850.000061,
          2915,
          -3676.99976,
          2624,
          3500.00024,
          2900,
          3203,
          2923,
          -5150,
          2325,
          4646,
          2900,
          4399,
          4100,
          10007,
          6825.00049,
          7268.99951,
          -2725,
          -3350.00024,
          2600,
          3800.00024,
          -3979,
          6252,
          875.000061,
          4100,
          2050,
          2050,
          1450,
          1468,
          2600,
          2889,
          4099,
          850.000061,
          1450,
          3200,
          4650,
          5900,
          6491,
          7425.00049,
          2025.00012,
          1450,
          2625,
          3500.00024,
          6998.99951,
          5000,
          1750.00012,
          -3350.00024,
          2025.00012,
          3193,
          2600,
          5594,
          10000,
          3250,
          2900,
          4100,
          5300,
          850.000061,
          6401,
          850.000061,
          1468,
          2900,
          4100,
          3498,
          5850,
          7676,
          4096,
          4400,
          5600,
          2326,
          2650,
          -4850,
          6252,
          6773.99951,
          5562,
          2025.00012,
          6701,
          3200,
          5300,
          2900,
          -4850,
          2650,
          1750.00012,
          3800.00024,
          3800.00024,
          2350,
          3800.00024,
          4400,
          1750.00012,
          7306,
          2040.00012,
          2025.00012,
          2922,
          3200,
          6123
         ],
         "y": [
          -810,
          -1275,
          -3755.00024,
          -1638,
          380,
          248,
          -2375,
          -3475.00024,
          679,
          575,
          -2500,
          1275,
          1225,
          -1100,
          -1097,
          -1378,
          -551,
          -650,
          298,
          -810,
          -700,
          1500,
          1650,
          975.000061,
          2350,
          275,
          -3025,
          -1100,
          -1600,
          -1066,
          -675,
          -1412,
          -809,
          -650,
          300,
          -3400.00024,
          -1600,
          -1325,
          300,
          -2800,
          887,
          -806,
          1316,
          -2100,
          -1650,
          -533,
          650,
          304,
          1300,
          -1638,
          -700,
          -800,
          -25,
          97,
          -3025,
          -1397,
          -75,
          432,
          -1900.00012,
          -675,
          -817.999939,
          -2668,
          2625,
          246.999985,
          -3575.00024,
          -3350.00024,
          -750,
          1674,
          -1300,
          380,
          -275,
          -875.000061,
          -1075,
          -1800.00012,
          -1325,
          -650,
          -629,
          -3400.00024,
          750,
          -3475.00024,
          975.000061,
          -1800.00012,
          -954,
          -625,
          -725,
          -550,
          1325,
          -1324,
          0,
          259,
          -146,
          -2375,
          -1350,
          -750,
          251.999985,
          -3475.00024,
          -1115,
          -2225,
          1924,
          -1900.00012,
          -1900.00012,
          -834,
          -1075,
          -1131,
          -518,
          -525,
          -625,
          750,
          -3575.00024,
          453.999969,
          -2393,
          -3755.00024,
          -1465,
          1925.00012,
          -924,
          0,
          -650,
          0,
          229,
          -2725,
          -1050,
          -250.000015,
          0,
          -3575.00024,
          -1950.00012,
          -1898,
          -3475.00024,
          -947.999939,
          -741,
          1025,
          1269,
          -2025.00012,
          -1117
         ]
        },
        {
         "hoverinfo": "none",
         "line": {
          "color": "#872341",
          "width": 0.5
         },
         "mode": "lines",
         "showlegend": false,
         "type": "scatter",
         "x": [
          -4268,
          -4123.5
         ],
         "y": [
          -810,
          -813.9999695
         ]
        },
        {
         "hoverinfo": "none",
         "line": {
          "color": "#2d98b5",
          "width": 0.5
         },
         "mode": "lines",
         "showlegend": false,
         "type": "scatter",
         "x": [
          -4123.5,
          -3979
         ],
         "y": [
          -813.9999695,
          -817.999939
         ]
        },
        {
         "hoverinfo": "none",
         "line": {
          "color": "#872341",
          "width": 0.5
         },
         "mode": "lines",
         "showlegend": false,
         "type": "scatter",
         "x": [
          2589,
          2739
         ],
         "y": [
          380,
          380
         ]
        },
        {
         "hoverinfo": "none",
         "line": {
          "color": "#2d98b5",
          "width": 0.5
         },
         "mode": "lines",
         "showlegend": false,
         "type": "scatter",
         "x": [
          2739,
          2889
         ],
         "y": [
          380,
          380
         ]
        },
        {
         "hoverinfo": "none",
         "line": {
          "color": "#872341",
          "width": 0.5
         },
         "mode": "lines",
         "showlegend": false,
         "type": "scatter",
         "x": [
          4673,
          4845
         ],
         "y": [
          248,
          273
         ]
        },
        {
         "hoverinfo": "none",
         "line": {
          "color": "#2d98b5",
          "width": 0.5
         },
         "mode": "lines",
         "showlegend": false,
         "type": "scatter",
         "x": [
          4845,
          5017
         ],
         "y": [
          273,
          298
         ]
        },
        {
         "hoverinfo": "none",
         "line": {
          "color": "#872341",
          "width": 0.5
         },
         "mode": "lines",
         "showlegend": false,
         "type": "scatter",
         "x": [
          1150,
          1300
         ],
         "y": [
          -3475.00024,
          -3475.00024
         ]
        },
        {
         "hoverinfo": "none",
         "line": {
          "color": "#2d98b5",
          "width": 0.5
         },
         "mode": "lines",
         "showlegend": false,
         "type": "scatter",
         "x": [
          1300,
          1450
         ],
         "y": [
          -3475.00024,
          -3475.00024
         ]
        },
        {
         "hoverinfo": "none",
         "line": {
          "color": "#872341",
          "width": 0.5
         },
         "mode": "lines",
         "showlegend": false,
         "type": "scatter",
         "x": [
          2350,
          2500
         ],
         "y": [
          -2500,
          -2612.5
         ]
        },
        {
         "hoverinfo": "none",
         "line": {
          "color": "#2d98b5",
          "width": 0.5
         },
         "mode": "lines",
         "showlegend": false,
         "type": "scatter",
         "x": [
          2500,
          2650
         ],
         "y": [
          -2612.5,
          -2725
         ]
        },
        {
         "hoverinfo": "none",
         "line": {
          "color": "#872341",
          "width": 0.5
         },
         "mode": "lines",
         "showlegend": false,
         "type": "scatter",
         "x": [
          2350,
          2500
         ],
         "y": [
          -2500,
          -2437.5
         ]
        },
        {
         "hoverinfo": "none",
         "line": {
          "color": "#2d98b5",
          "width": 0.5
         },
         "mode": "lines",
         "showlegend": false,
         "type": "scatter",
         "x": [
          2500,
          2650
         ],
         "y": [
          -2437.5,
          -2375
         ]
        },
        {
         "hoverinfo": "none",
         "line": {
          "color": "#872341",
          "width": 0.5
         },
         "mode": "lines",
         "showlegend": false,
         "type": "scatter",
         "x": [
          1475,
          1750.0000599999998
         ],
         "y": [
          1275,
          1150
         ]
        },
        {
         "hoverinfo": "none",
         "line": {
          "color": "#2d98b5",
          "width": 0.5
         },
         "mode": "lines",
         "showlegend": false,
         "type": "scatter",
         "x": [
          1750.0000599999998,
          2025.00012
         ],
         "y": [
          1150,
          1025
         ]
        },
        {
         "hoverinfo": "none",
         "line": {
          "color": "#872341",
          "width": 0.5
         },
         "mode": "lines",
         "showlegend": false,
         "type": "scatter",
         "x": [
          1475,
          1750.0000599999998
         ],
         "y": [
          1275,
          1012.5
         ]
        },
        {
         "hoverinfo": "none",
         "line": {
          "color": "#2d98b5",
          "width": 0.5
         },
         "mode": "lines",
         "showlegend": false,
         "type": "scatter",
         "x": [
          1750.0000599999998,
          2025.00012
         ],
         "y": [
          1012.5,
          750
         ]
        },
        {
         "hoverinfo": "none",
         "line": {
          "color": "#872341",
          "width": 0.5
         },
         "mode": "lines",
         "showlegend": false,
         "type": "scatter",
         "x": [
          1475,
          1750.0000599999998
         ],
         "y": [
          1275,
          1600.0000599999998
         ]
        },
        {
         "hoverinfo": "none",
         "line": {
          "color": "#2d98b5",
          "width": 0.5
         },
         "mode": "lines",
         "showlegend": false,
         "type": "scatter",
         "x": [
          1750.0000599999998,
          2025.00012
         ],
         "y": [
          1600.0000599999998,
          1925.00012
         ]
        },
        {
         "hoverinfo": "none",
         "line": {
          "color": "#872341",
          "width": 0.5
         },
         "mode": "lines",
         "showlegend": false,
         "type": "scatter",
         "x": [
          1475,
          1750.0000599999998
         ],
         "y": [
          1275,
          1300
         ]
        },
        {
         "hoverinfo": "none",
         "line": {
          "color": "#2d98b5",
          "width": 0.5
         },
         "mode": "lines",
         "showlegend": false,
         "type": "scatter",
         "x": [
          1750.0000599999998,
          2025.00012
         ],
         "y": [
          1300,
          1325
         ]
        },
        {
         "hoverinfo": "none",
         "line": {
          "color": "#872341",
          "width": 0.5
         },
         "mode": "lines",
         "showlegend": false,
         "type": "scatter",
         "x": [
          1475,
          1750.0000599999998
         ],
         "y": [
          1275,
          1462.5
         ]
        },
        {
         "hoverinfo": "none",
         "line": {
          "color": "#2d98b5",
          "width": 0.5
         },
         "mode": "lines",
         "showlegend": false,
         "type": "scatter",
         "x": [
          1750.0000599999998,
          2025.00012
         ],
         "y": [
          1462.5,
          1650
         ]
        },
        {
         "hoverinfo": "none",
         "line": {
          "color": "#872341",
          "width": 0.5
         },
         "mode": "lines",
         "showlegend": false,
         "type": "scatter",
         "x": [
          3525.00024,
          2775.00018
         ],
         "y": [
          1225,
          1125
         ]
        },
        {
         "hoverinfo": "none",
         "line": {
          "color": "#2d98b5",
          "width": 0.5
         },
         "mode": "lines",
         "showlegend": false,
         "type": "scatter",
         "x": [
          2775.00018,
          2025.00012
         ],
         "y": [
          1125,
          1025
         ]
        },
        {
         "hoverinfo": "none",
         "line": {
          "color": "#872341",
          "width": 0.5
         },
         "mode": "lines",
         "showlegend": false,
         "type": "scatter",
         "x": [
          3525.00024,
          2775.00018
         ],
         "y": [
          1225,
          987.5
         ]
        },
        {
         "hoverinfo": "none",
         "line": {
          "color": "#2d98b5",
          "width": 0.5
         },
         "mode": "lines",
         "showlegend": false,
         "type": "scatter",
         "x": [
          2775.00018,
          2025.00012
         ],
         "y": [
          987.5,
          750
         ]
        },
        {
         "hoverinfo": "none",
         "line": {
          "color": "#872341",
          "width": 0.5
         },
         "mode": "lines",
         "showlegend": false,
         "type": "scatter",
         "x": [
          3525.00024,
          2775.00018
         ],
         "y": [
          1225,
          1575.0000599999998
         ]
        },
        {
         "hoverinfo": "none",
         "line": {
          "color": "#2d98b5",
          "width": 0.5
         },
         "mode": "lines",
         "showlegend": false,
         "type": "scatter",
         "x": [
          2775.00018,
          2025.00012
         ],
         "y": [
          1575.0000599999998,
          1925.00012
         ]
        },
        {
         "hoverinfo": "none",
         "line": {
          "color": "#872341",
          "width": 0.5
         },
         "mode": "lines",
         "showlegend": false,
         "type": "scatter",
         "x": [
          3525.00024,
          2775.00018
         ],
         "y": [
          1225,
          1275
         ]
        },
        {
         "hoverinfo": "none",
         "line": {
          "color": "#2d98b5",
          "width": 0.5
         },
         "mode": "lines",
         "showlegend": false,
         "type": "scatter",
         "x": [
          2775.00018,
          2025.00012
         ],
         "y": [
          1275,
          1325
         ]
        },
        {
         "hoverinfo": "none",
         "line": {
          "color": "#872341",
          "width": 0.5
         },
         "mode": "lines",
         "showlegend": false,
         "type": "scatter",
         "x": [
          3525.00024,
          2775.00018
         ],
         "y": [
          1225,
          1437.5
         ]
        },
        {
         "hoverinfo": "none",
         "line": {
          "color": "#2d98b5",
          "width": 0.5
         },
         "mode": "lines",
         "showlegend": false,
         "type": "scatter",
         "x": [
          2775.00018,
          2025.00012
         ],
         "y": [
          1437.5,
          1650
         ]
        },
        {
         "hoverinfo": "none",
         "line": {
          "color": "#872341",
          "width": 0.5
         },
         "mode": "lines",
         "showlegend": false,
         "type": "scatter",
         "x": [
          4948,
          5093.5
         ],
         "y": [
          -1100,
          -1098.5
         ]
        },
        {
         "hoverinfo": "none",
         "line": {
          "color": "#2d98b5",
          "width": 0.5
         },
         "mode": "lines",
         "showlegend": false,
         "type": "scatter",
         "x": [
          5093.5,
          5239
         ],
         "y": [
          -1098.5,
          -1097
         ]
        },
        {
         "hoverinfo": "none",
         "line": {
          "color": "#872341",
          "width": 0.5
         },
         "mode": "lines",
         "showlegend": false,
         "type": "scatter",
         "x": [
          5239,
          5394.5
         ],
         "y": [
          -1097,
          -1098.5
         ]
        },
        {
         "hoverinfo": "none",
         "line": {
          "color": "#2d98b5",
          "width": 0.5
         },
         "mode": "lines",
         "showlegend": false,
         "type": "scatter",
         "x": [
          5394.5,
          5550
         ],
         "y": [
          -1098.5,
          -1100
         ]
        },
        {
         "hoverinfo": "none",
         "line": {
          "color": "#872341",
          "width": 0.5
         },
         "mode": "lines",
         "showlegend": false,
         "type": "scatter",
         "x": [
          6692,
          6831.5
         ],
         "y": [
          -1378,
          -1395
         ]
        },
        {
         "hoverinfo": "none",
         "line": {
          "color": "#2d98b5",
          "width": 0.5
         },
         "mode": "lines",
         "showlegend": false,
         "type": "scatter",
         "x": [
          6831.5,
          6971
         ],
         "y": [
          -1395,
          -1412
         ]
        },
        {
         "hoverinfo": "none",
         "line": {
          "color": "#872341",
          "width": 0.5
         },
         "mode": "lines",
         "showlegend": false,
         "type": "scatter",
         "x": [
          3494,
          3647.0001199999997
         ],
         "y": [
          -551,
          -613
         ]
        },
        {
         "hoverinfo": "none",
         "line": {
          "color": "#2d98b5",
          "width": 0.5
         },
         "mode": "lines",
         "showlegend": false,
         "type": "scatter",
         "x": [
          3647.0001199999997,
          3800.00024
         ],
         "y": [
          -613,
          -675
         ]
        },
        {
         "hoverinfo": "none",
         "line": {
          "color": "#872341",
          "width": 0.5
         },
         "mode": "lines",
         "showlegend": false,
         "type": "scatter",
         "x": [
          4700,
          4850
         ],
         "y": [
          -650,
          -637.5
         ]
        },
        {
         "hoverinfo": "none",
         "line": {
          "color": "#2d98b5",
          "width": 0.5
         },
         "mode": "lines",
         "showlegend": false,
         "type": "scatter",
         "x": [
          4850,
          5000
         ],
         "y": [
          -637.5,
          -625
         ]
        },
        {
         "hoverinfo": "none",
         "line": {
          "color": "#872341",
          "width": 0.5
         },
         "mode": "lines",
         "showlegend": false,
         "type": "scatter",
         "x": [
          5017,
          5158.5
         ],
         "y": [
          298,
          274.9999925
         ]
        },
        {
         "hoverinfo": "none",
         "line": {
          "color": "#2d98b5",
          "width": 0.5
         },
         "mode": "lines",
         "showlegend": false,
         "type": "scatter",
         "x": [
          5158.5,
          5300
         ],
         "y": [
          274.9999925,
          251.999985
         ]
        },
        {
         "hoverinfo": "none",
         "line": {
          "color": "#872341",
          "width": 0.5
         },
         "mode": "lines",
         "showlegend": false,
         "type": "scatter",
         "x": [
          -4554,
          -4411
         ],
         "y": [
          -810,
          -810
         ]
        },
        {
         "hoverinfo": "none",
         "line": {
          "color": "#2d98b5",
          "width": 0.5
         },
         "mode": "lines",
         "showlegend": false,
         "type": "scatter",
         "x": [
          -4411,
          -4268
         ],
         "y": [
          -810,
          -810
         ]
        },
        {
         "hoverinfo": "none",
         "line": {
          "color": "#872341",
          "width": 0.5
         },
         "mode": "lines",
         "showlegend": false,
         "type": "scatter",
         "x": [
          2325,
          2475
         ],
         "y": [
          975.000061,
          975.000061
         ]
        },
        {
         "hoverinfo": "none",
         "line": {
          "color": "#2d98b5",
          "width": 0.5
         },
         "mode": "lines",
         "showlegend": false,
         "type": "scatter",
         "x": [
          2475,
          2625
         ],
         "y": [
          975.000061,
          975.000061
         ]
        },
        {
         "hoverinfo": "none",
         "line": {
          "color": "#872341",
          "width": 0.5
         },
         "mode": "lines",
         "showlegend": false,
         "type": "scatter",
         "x": [
          4125,
          3075.00006
         ],
         "y": [
          2350,
          1687.5
         ]
        },
        {
         "hoverinfo": "none",
         "line": {
          "color": "#2d98b5",
          "width": 0.5
         },
         "mode": "lines",
         "showlegend": false,
         "type": "scatter",
         "x": [
          3075.00006,
          2025.00012
         ],
         "y": [
          1687.5,
          1025
         ]
        },
        {
         "hoverinfo": "none",
         "line": {
          "color": "#872341",
          "width": 0.5
         },
         "mode": "lines",
         "showlegend": false,
         "type": "scatter",
         "x": [
          4125,
          3075.00006
         ],
         "y": [
          2350,
          1550
         ]
        },
        {
         "hoverinfo": "none",
         "line": {
          "color": "#2d98b5",
          "width": 0.5
         },
         "mode": "lines",
         "showlegend": false,
         "type": "scatter",
         "x": [
          3075.00006,
          2025.00012
         ],
         "y": [
          1550,
          750
         ]
        },
        {
         "hoverinfo": "none",
         "line": {
          "color": "#872341",
          "width": 0.5
         },
         "mode": "lines",
         "showlegend": false,
         "type": "scatter",
         "x": [
          4125,
          3075.00006
         ],
         "y": [
          2350,
          2137.50006
         ]
        },
        {
         "hoverinfo": "none",
         "line": {
          "color": "#2d98b5",
          "width": 0.5
         },
         "mode": "lines",
         "showlegend": false,
         "type": "scatter",
         "x": [
          3075.00006,
          2025.00012
         ],
         "y": [
          2137.50006,
          1925.00012
         ]
        },
        {
         "hoverinfo": "none",
         "line": {
          "color": "#872341",
          "width": 0.5
         },
         "mode": "lines",
         "showlegend": false,
         "type": "scatter",
         "x": [
          4125,
          3075.00006
         ],
         "y": [
          2350,
          1837.5
         ]
        },
        {
         "hoverinfo": "none",
         "line": {
          "color": "#2d98b5",
          "width": 0.5
         },
         "mode": "lines",
         "showlegend": false,
         "type": "scatter",
         "x": [
          3075.00006,
          2025.00012
         ],
         "y": [
          1837.5,
          1325
         ]
        },
        {
         "hoverinfo": "none",
         "line": {
          "color": "#872341",
          "width": 0.5
         },
         "mode": "lines",
         "showlegend": false,
         "type": "scatter",
         "x": [
          4125,
          3075.00006
         ],
         "y": [
          2350,
          2000
         ]
        },
        {
         "hoverinfo": "none",
         "line": {
          "color": "#2d98b5",
          "width": 0.5
         },
         "mode": "lines",
         "showlegend": false,
         "type": "scatter",
         "x": [
          3075.00006,
          2025.00012
         ],
         "y": [
          2000,
          1650
         ]
        },
        {
         "hoverinfo": "none",
         "line": {
          "color": "#872341",
          "width": 0.5
         },
         "mode": "lines",
         "showlegend": false,
         "type": "scatter",
         "x": [
          3800.00024,
          3950.0001199999997
         ],
         "y": [
          275,
          260.9999925
         ]
        },
        {
         "hoverinfo": "none",
         "line": {
          "color": "#2d98b5",
          "width": 0.5
         },
         "mode": "lines",
         "showlegend": false,
         "type": "scatter",
         "x": [
          3950.0001199999997,
          4100
         ],
         "y": [
          260.9999925,
          246.999985
         ]
        },
        {
         "hoverinfo": "none",
         "line": {
          "color": "#872341",
          "width": 0.5
         },
         "mode": "lines",
         "showlegend": false,
         "type": "scatter",
         "x": [
          5550,
          5700
         ],
         "y": [
          -1100,
          -1087.5
         ]
        },
        {
         "hoverinfo": "none",
         "line": {
          "color": "#2d98b5",
          "width": 0.5
         },
         "mode": "lines",
         "showlegend": false,
         "type": "scatter",
         "x": [
          5700,
          5850
         ],
         "y": [
          -1087.5,
          -1075
         ]
        },
        {
         "hoverinfo": "none",
         "line": {
          "color": "#872341",
          "width": 0.5
         },
         "mode": "lines",
         "showlegend": false,
         "type": "scatter",
         "x": [
          2600,
          2750
         ],
         "y": [
          -1600,
          -1625
         ]
        },
        {
         "hoverinfo": "none",
         "line": {
          "color": "#2d98b5",
          "width": 0.5
         },
         "mode": "lines",
         "showlegend": false,
         "type": "scatter",
         "x": [
          2750,
          2900
         ],
         "y": [
          -1625,
          -1650
         ]
        },
        {
         "hoverinfo": "none",
         "line": {
          "color": "#872341",
          "width": 0.5
         },
         "mode": "lines",
         "showlegend": false,
         "type": "scatter",
         "x": [
          4656,
          4802
         ],
         "y": [
          -1066,
          -1083
         ]
        },
        {
         "hoverinfo": "none",
         "line": {
          "color": "#2d98b5",
          "width": 0.5
         },
         "mode": "lines",
         "showlegend": false,
         "type": "scatter",
         "x": [
          4802,
          4948
         ],
         "y": [
          -1083,
          -1100
         ]
        },
        {
         "hoverinfo": "none",
         "line": {
          "color": "#872341",
          "width": 0.5
         },
         "mode": "lines",
         "showlegend": false,
         "type": "scatter",
         "x": [
          2600,
          2750
         ],
         "y": [
          -675,
          -687.5
         ]
        },
        {
         "hoverinfo": "none",
         "line": {
          "color": "#2d98b5",
          "width": 0.5
         },
         "mode": "lines",
         "showlegend": false,
         "type": "scatter",
         "x": [
          2750,
          2900
         ],
         "y": [
          -687.5,
          -700
         ]
        },
        {
         "hoverinfo": "none",
         "line": {
          "color": "#872341",
          "width": 0.5
         },
         "mode": "lines",
         "showlegend": false,
         "type": "scatter",
         "x": [
          6971,
          7119.999755
         ],
         "y": [
          -1412,
          -1404.5
         ]
        },
        {
         "hoverinfo": "none",
         "line": {
          "color": "#2d98b5",
          "width": 0.5
         },
         "mode": "lines",
         "showlegend": false,
         "type": "scatter",
         "x": [
          7119.999755,
          7268.99951
         ],
         "y": [
          -1404.5,
          -1397
         ]
        },
        {
         "hoverinfo": "none",
         "line": {
          "color": "#872341",
          "width": 0.5
         },
         "mode": "lines",
         "showlegend": false,
         "type": "scatter",
         "x": [
          3200,
          3349
         ],
         "y": [
          -809,
          -821.5
         ]
        },
        {
         "hoverinfo": "none",
         "line": {
          "color": "#2d98b5",
          "width": 0.5
         },
         "mode": "lines",
         "showlegend": false,
         "type": "scatter",
         "x": [
          3349,
          3498
         ],
         "y": [
          -821.5,
          -834
         ]
        },
        {
         "hoverinfo": "none",
         "line": {
          "color": "#872341",
          "width": 0.5
         },
         "mode": "lines",
         "showlegend": false,
         "type": "scatter",
         "x": [
          6200,
          6345.5
         ],
         "y": [
          -650,
          -639.5
         ]
        },
        {
         "hoverinfo": "none",
         "line": {
          "color": "#2d98b5",
          "width": 0.5
         },
         "mode": "lines",
         "showlegend": false,
         "type": "scatter",
         "x": [
          6345.5,
          6491
         ],
         "y": [
          -639.5,
          -629
         ]
        },
        {
         "hoverinfo": "none",
         "line": {
          "color": "#872341",
          "width": 0.5
         },
         "mode": "lines",
         "showlegend": false,
         "type": "scatter",
         "x": [
          4400,
          4536.5
         ],
         "y": [
          300,
          274
         ]
        },
        {
         "hoverinfo": "none",
         "line": {
          "color": "#2d98b5",
          "width": 0.5
         },
         "mode": "lines",
         "showlegend": false,
         "type": "scatter",
         "x": [
          4536.5,
          4673
         ],
         "y": [
          274,
          248
         ]
        },
        {
         "hoverinfo": "none",
         "line": {
          "color": "#872341",
          "width": 0.5
         },
         "mode": "lines",
         "showlegend": false,
         "type": "scatter",
         "x": [
          4950,
          3775
         ],
         "y": [
          -1325,
          -662.5
         ]
        },
        {
         "hoverinfo": "none",
         "line": {
          "color": "#2d98b5",
          "width": 0.5
         },
         "mode": "lines",
         "showlegend": false,
         "type": "scatter",
         "x": [
          3775,
          2600
         ],
         "y": [
          -662.5,
          0
         ]
        },
        {
         "hoverinfo": "none",
         "line": {
          "color": "#872341",
          "width": 0.5
         },
         "mode": "lines",
         "showlegend": false,
         "type": "scatter",
         "x": [
          4950,
          3775
         ],
         "y": [
          -1325,
          -1000
         ]
        },
        {
         "hoverinfo": "none",
         "line": {
          "color": "#2d98b5",
          "width": 0.5
         },
         "mode": "lines",
         "showlegend": false,
         "type": "scatter",
         "x": [
          3775,
          2600
         ],
         "y": [
          -1000,
          -675
         ]
        },
        {
         "hoverinfo": "none",
         "line": {
          "color": "#872341",
          "width": 0.5
         },
         "mode": "lines",
         "showlegend": false,
         "type": "scatter",
         "x": [
          4950,
          3775
         ],
         "y": [
          -1325,
          -1612.5000599999998
         ]
        },
        {
         "hoverinfo": "none",
         "line": {
          "color": "#2d98b5",
          "width": 0.5
         },
         "mode": "lines",
         "showlegend": false,
         "type": "scatter",
         "x": [
          3775,
          2600
         ],
         "y": [
          -1612.5000599999998,
          -1900.00012
         ]
        },
        {
         "hoverinfo": "none",
         "line": {
          "color": "#872341",
          "width": 0.5
         },
         "mode": "lines",
         "showlegend": false,
         "type": "scatter",
         "x": [
          4950,
          3769.5
         ],
         "y": [
          -1325,
          -472.5
         ]
        },
        {
         "hoverinfo": "none",
         "line": {
          "color": "#2d98b5",
          "width": 0.5
         },
         "mode": "lines",
         "showlegend": false,
         "type": "scatter",
         "x": [
          3769.5,
          2589
         ],
         "y": [
          -472.5,
          380
         ]
        },
        {
         "hoverinfo": "none",
         "line": {
          "color": "#872341",
          "width": 0.5
         },
         "mode": "lines",
         "showlegend": false,
         "type": "scatter",
         "x": [
          4950,
          3775
         ],
         "y": [
          -1325,
          -1312.5
         ]
        },
        {
         "hoverinfo": "none",
         "line": {
          "color": "#2d98b5",
          "width": 0.5
         },
         "mode": "lines",
         "showlegend": false,
         "type": "scatter",
         "x": [
          3775,
          2600
         ],
         "y": [
          -1312.5,
          -1300
         ]
        },
        {
         "hoverinfo": "none",
         "line": {
          "color": "#872341",
          "width": 0.5
         },
         "mode": "lines",
         "showlegend": false,
         "type": "scatter",
         "x": [
          4950,
          3775
         ],
         "y": [
          -1325,
          -1462.5
         ]
        },
        {
         "hoverinfo": "none",
         "line": {
          "color": "#2d98b5",
          "width": 0.5
         },
         "mode": "lines",
         "showlegend": false,
         "type": "scatter",
         "x": [
          3775,
          2600
         ],
         "y": [
          -1462.5,
          -1600
         ]
        },
        {
         "hoverinfo": "none",
         "line": {
          "color": "#872341",
          "width": 0.5
         },
         "mode": "lines",
         "showlegend": false,
         "type": "scatter",
         "x": [
          2915,
          2470.00006
         ],
         "y": [
          887,
          956
         ]
        },
        {
         "hoverinfo": "none",
         "line": {
          "color": "#2d98b5",
          "width": 0.5
         },
         "mode": "lines",
         "showlegend": false,
         "type": "scatter",
         "x": [
          2470.00006,
          2025.00012
         ],
         "y": [
          956,
          1025
         ]
        },
        {
         "hoverinfo": "none",
         "line": {
          "color": "#872341",
          "width": 0.5
         },
         "mode": "lines",
         "showlegend": false,
         "type": "scatter",
         "x": [
          2915,
          2470.00006
         ],
         "y": [
          887,
          818.5
         ]
        },
        {
         "hoverinfo": "none",
         "line": {
          "color": "#2d98b5",
          "width": 0.5
         },
         "mode": "lines",
         "showlegend": false,
         "type": "scatter",
         "x": [
          2470.00006,
          2025.00012
         ],
         "y": [
          818.5,
          750
         ]
        },
        {
         "hoverinfo": "none",
         "line": {
          "color": "#872341",
          "width": 0.5
         },
         "mode": "lines",
         "showlegend": false,
         "type": "scatter",
         "x": [
          2915,
          2470.00006
         ],
         "y": [
          887,
          1406.0000599999998
         ]
        },
        {
         "hoverinfo": "none",
         "line": {
          "color": "#2d98b5",
          "width": 0.5
         },
         "mode": "lines",
         "showlegend": false,
         "type": "scatter",
         "x": [
          2470.00006,
          2025.00012
         ],
         "y": [
          1406.0000599999998,
          1925.00012
         ]
        },
        {
         "hoverinfo": "none",
         "line": {
          "color": "#872341",
          "width": 0.5
         },
         "mode": "lines",
         "showlegend": false,
         "type": "scatter",
         "x": [
          2915,
          2470.00006
         ],
         "y": [
          887,
          1106
         ]
        },
        {
         "hoverinfo": "none",
         "line": {
          "color": "#2d98b5",
          "width": 0.5
         },
         "mode": "lines",
         "showlegend": false,
         "type": "scatter",
         "x": [
          2470.00006,
          2025.00012
         ],
         "y": [
          1106,
          1325
         ]
        },
        {
         "hoverinfo": "none",
         "line": {
          "color": "#872341",
          "width": 0.5
         },
         "mode": "lines",
         "showlegend": false,
         "type": "scatter",
         "x": [
          2915,
          2470.00006
         ],
         "y": [
          887,
          1268.5
         ]
        },
        {
         "hoverinfo": "none",
         "line": {
          "color": "#2d98b5",
          "width": 0.5
         },
         "mode": "lines",
         "showlegend": false,
         "type": "scatter",
         "x": [
          2470.00006,
          2025.00012
         ],
         "y": [
          1268.5,
          1650
         ]
        },
        {
         "hoverinfo": "none",
         "line": {
          "color": "#872341",
          "width": 0.5
         },
         "mode": "lines",
         "showlegend": false,
         "type": "scatter",
         "x": [
          2624,
          2773
         ],
         "y": [
          1316,
          1292.5
         ]
        },
        {
         "hoverinfo": "none",
         "line": {
          "color": "#2d98b5",
          "width": 0.5
         },
         "mode": "lines",
         "showlegend": false,
         "type": "scatter",
         "x": [
          2773,
          2922
         ],
         "y": [
          1292.5,
          1269
         ]
        },
        {
         "hoverinfo": "none",
         "line": {
          "color": "#872341",
          "width": 0.5
         },
         "mode": "lines",
         "showlegend": false,
         "type": "scatter",
         "x": [
          3500.00024,
          3650.00024
         ],
         "y": [
          -2100,
          -2025.0000599999998
         ]
        },
        {
         "hoverinfo": "none",
         "line": {
          "color": "#2d98b5",
          "width": 0.5
         },
         "mode": "lines",
         "showlegend": false,
         "type": "scatter",
         "x": [
          3650.00024,
          3800.00024
         ],
         "y": [
          -2025.0000599999998,
          -1950.00012
         ]
        },
        {
         "hoverinfo": "none",
         "line": {
          "color": "#872341",
          "width": 0.5
         },
         "mode": "lines",
         "showlegend": false,
         "type": "scatter",
         "x": [
          2900,
          2750
         ],
         "y": [
          -1650,
          -825
         ]
        },
        {
         "hoverinfo": "none",
         "line": {
          "color": "#2d98b5",
          "width": 0.5
         },
         "mode": "lines",
         "showlegend": false,
         "type": "scatter",
         "x": [
          2750,
          2600
         ],
         "y": [
          -825,
          0
         ]
        },
        {
         "hoverinfo": "none",
         "line": {
          "color": "#872341",
          "width": 0.5
         },
         "mode": "lines",
         "showlegend": false,
         "type": "scatter",
         "x": [
          2900,
          2750
         ],
         "y": [
          -1650,
          -1162.5
         ]
        },
        {
         "hoverinfo": "none",
         "line": {
          "color": "#2d98b5",
          "width": 0.5
         },
         "mode": "lines",
         "showlegend": false,
         "type": "scatter",
         "x": [
          2750,
          2600
         ],
         "y": [
          -1162.5,
          -675
         ]
        },
        {
         "hoverinfo": "none",
         "line": {
          "color": "#872341",
          "width": 0.5
         },
         "mode": "lines",
         "showlegend": false,
         "type": "scatter",
         "x": [
          2900,
          2750
         ],
         "y": [
          -1650,
          -1775.0000599999998
         ]
        },
        {
         "hoverinfo": "none",
         "line": {
          "color": "#2d98b5",
          "width": 0.5
         },
         "mode": "lines",
         "showlegend": false,
         "type": "scatter",
         "x": [
          2750,
          2600
         ],
         "y": [
          -1775.0000599999998,
          -1900.00012
         ]
        },
        {
         "hoverinfo": "none",
         "line": {
          "color": "#872341",
          "width": 0.5
         },
         "mode": "lines",
         "showlegend": false,
         "type": "scatter",
         "x": [
          2900,
          2744.5
         ],
         "y": [
          -1650,
          -635
         ]
        },
        {
         "hoverinfo": "none",
         "line": {
          "color": "#2d98b5",
          "width": 0.5
         },
         "mode": "lines",
         "showlegend": false,
         "type": "scatter",
         "x": [
          2744.5,
          2589
         ],
         "y": [
          -635,
          380
         ]
        },
        {
         "hoverinfo": "none",
         "line": {
          "color": "#872341",
          "width": 0.5
         },
         "mode": "lines",
         "showlegend": false,
         "type": "scatter",
         "x": [
          2900,
          2750
         ],
         "y": [
          -1650,
          -1475
         ]
        },
        {
         "hoverinfo": "none",
         "line": {
          "color": "#2d98b5",
          "width": 0.5
         },
         "mode": "lines",
         "showlegend": false,
         "type": "scatter",
         "x": [
          2750,
          2600
         ],
         "y": [
          -1475,
          -1300
         ]
        },
        {
         "hoverinfo": "none",
         "line": {
          "color": "#872341",
          "width": 0.5
         },
         "mode": "lines",
         "showlegend": false,
         "type": "scatter",
         "x": [
          2900,
          2750
         ],
         "y": [
          -1650,
          -1625
         ]
        },
        {
         "hoverinfo": "none",
         "line": {
          "color": "#2d98b5",
          "width": 0.5
         },
         "mode": "lines",
         "showlegend": false,
         "type": "scatter",
         "x": [
          2750,
          2600
         ],
         "y": [
          -1625,
          -1600
         ]
        },
        {
         "hoverinfo": "none",
         "line": {
          "color": "#872341",
          "width": 0.5
         },
         "mode": "lines",
         "showlegend": false,
         "type": "scatter",
         "x": [
          3203,
          3348.5
         ],
         "y": [
          -533,
          -542
         ]
        },
        {
         "hoverinfo": "none",
         "line": {
          "color": "#2d98b5",
          "width": 0.5
         },
         "mode": "lines",
         "showlegend": false,
         "type": "scatter",
         "x": [
          3348.5,
          3494
         ],
         "y": [
          -542,
          -551
         ]
        },
        {
         "hoverinfo": "none",
         "line": {
          "color": "#872341",
          "width": 0.5
         },
         "mode": "lines",
         "showlegend": false,
         "type": "scatter",
         "x": [
          2923,
          2474.00006
         ],
         "y": [
          650,
          837.5
         ]
        },
        {
         "hoverinfo": "none",
         "line": {
          "color": "#2d98b5",
          "width": 0.5
         },
         "mode": "lines",
         "showlegend": false,
         "type": "scatter",
         "x": [
          2474.00006,
          2025.00012
         ],
         "y": [
          837.5,
          1025
         ]
        },
        {
         "hoverinfo": "none",
         "line": {
          "color": "#872341",
          "width": 0.5
         },
         "mode": "lines",
         "showlegend": false,
         "type": "scatter",
         "x": [
          2923,
          2474.00006
         ],
         "y": [
          650,
          700
         ]
        },
        {
         "hoverinfo": "none",
         "line": {
          "color": "#2d98b5",
          "width": 0.5
         },
         "mode": "lines",
         "showlegend": false,
         "type": "scatter",
         "x": [
          2474.00006,
          2025.00012
         ],
         "y": [
          700,
          750
         ]
        },
        {
         "hoverinfo": "none",
         "line": {
          "color": "#872341",
          "width": 0.5
         },
         "mode": "lines",
         "showlegend": false,
         "type": "scatter",
         "x": [
          2923,
          2474.00006
         ],
         "y": [
          650,
          1287.5000599999998
         ]
        },
        {
         "hoverinfo": "none",
         "line": {
          "color": "#2d98b5",
          "width": 0.5
         },
         "mode": "lines",
         "showlegend": false,
         "type": "scatter",
         "x": [
          2474.00006,
          2025.00012
         ],
         "y": [
          1287.5000599999998,
          1925.00012
         ]
        },
        {
         "hoverinfo": "none",
         "line": {
          "color": "#872341",
          "width": 0.5
         },
         "mode": "lines",
         "showlegend": false,
         "type": "scatter",
         "x": [
          2923,
          2474.00006
         ],
         "y": [
          650,
          987.5
         ]
        },
        {
         "hoverinfo": "none",
         "line": {
          "color": "#2d98b5",
          "width": 0.5
         },
         "mode": "lines",
         "showlegend": false,
         "type": "scatter",
         "x": [
          2474.00006,
          2025.00012
         ],
         "y": [
          987.5,
          1325
         ]
        },
        {
         "hoverinfo": "none",
         "line": {
          "color": "#872341",
          "width": 0.5
         },
         "mode": "lines",
         "showlegend": false,
         "type": "scatter",
         "x": [
          2923,
          2474.00006
         ],
         "y": [
          650,
          1150
         ]
        },
        {
         "hoverinfo": "none",
         "line": {
          "color": "#2d98b5",
          "width": 0.5
         },
         "mode": "lines",
         "showlegend": false,
         "type": "scatter",
         "x": [
          2474.00006,
          2025.00012
         ],
         "y": [
          1150,
          1650
         ]
        },
        {
         "hoverinfo": "none",
         "line": {
          "color": "#872341",
          "width": 0.5
         },
         "mode": "lines",
         "showlegend": false,
         "type": "scatter",
         "x": [
          -5150,
          -5000
         ],
         "y": [
          304,
          266.5
         ]
        },
        {
         "hoverinfo": "none",
         "line": {
          "color": "#2d98b5",
          "width": 0.5
         },
         "mode": "lines",
         "showlegend": false,
         "type": "scatter",
         "x": [
          -5000,
          -4850
         ],
         "y": [
          266.5,
          229
         ]
        },
        {
         "hoverinfo": "none",
         "line": {
          "color": "#872341",
          "width": 0.5
         },
         "mode": "lines",
         "showlegend": false,
         "type": "scatter",
         "x": [
          -5150,
          -5000
         ],
         "y": [
          304,
          378.9999845
         ]
        },
        {
         "hoverinfo": "none",
         "line": {
          "color": "#2d98b5",
          "width": 0.5
         },
         "mode": "lines",
         "showlegend": false,
         "type": "scatter",
         "x": [
          -5000,
          -4850
         ],
         "y": [
          378.9999845,
          453.999969
         ]
        },
        {
         "hoverinfo": "none",
         "line": {
          "color": "#872341",
          "width": 0.5
         },
         "mode": "lines",
         "showlegend": false,
         "type": "scatter",
         "x": [
          -5150,
          -5000
         ],
         "y": [
          304,
          491.5
         ]
        },
        {
         "hoverinfo": "none",
         "line": {
          "color": "#2d98b5",
          "width": 0.5
         },
         "mode": "lines",
         "showlegend": false,
         "type": "scatter",
         "x": [
          -5000,
          -4850
         ],
         "y": [
          491.5,
          679
         ]
        },
        {
         "hoverinfo": "none",
         "line": {
          "color": "#872341",
          "width": 0.5
         },
         "mode": "lines",
         "showlegend": false,
         "type": "scatter",
         "x": [
          2325,
          2474.5
         ],
         "y": [
          1300,
          1308
         ]
        },
        {
         "hoverinfo": "none",
         "line": {
          "color": "#2d98b5",
          "width": 0.5
         },
         "mode": "lines",
         "showlegend": false,
         "type": "scatter",
         "x": [
          2474.5,
          2624
         ],
         "y": [
          1308,
          1316
         ]
        },
        {
         "hoverinfo": "none",
         "line": {
          "color": "#872341",
          "width": 0.5
         },
         "mode": "lines",
         "showlegend": false,
         "type": "scatter",
         "x": [
          4646,
          4796
         ],
         "y": [
          -1638,
          -1638
         ]
        },
        {
         "hoverinfo": "none",
         "line": {
          "color": "#2d98b5",
          "width": 0.5
         },
         "mode": "lines",
         "showlegend": false,
         "type": "scatter",
         "x": [
          4796,
          4946
         ],
         "y": [
          -1638,
          -1638
         ]
        },
        {
         "hoverinfo": "none",
         "line": {
          "color": "#872341",
          "width": 0.5
         },
         "mode": "lines",
         "showlegend": false,
         "type": "scatter",
         "x": [
          2900,
          3050
         ],
         "y": [
          -700,
          -754.5
         ]
        },
        {
         "hoverinfo": "none",
         "line": {
          "color": "#2d98b5",
          "width": 0.5
         },
         "mode": "lines",
         "showlegend": false,
         "type": "scatter",
         "x": [
          3050,
          3200
         ],
         "y": [
          -754.5,
          -809
         ]
        },
        {
         "hoverinfo": "none",
         "line": {
          "color": "#872341",
          "width": 0.5
         },
         "mode": "lines",
         "showlegend": false,
         "type": "scatter",
         "x": [
          2900,
          3051.5
         ],
         "y": [
          -700,
          -616.5
         ]
        },
        {
         "hoverinfo": "none",
         "line": {
          "color": "#2d98b5",
          "width": 0.5
         },
         "mode": "lines",
         "showlegend": false,
         "type": "scatter",
         "x": [
          3051.5,
          3203
         ],
         "y": [
          -616.5,
          -533
         ]
        },
        {
         "hoverinfo": "none",
         "line": {
          "color": "#872341",
          "width": 0.5
         },
         "mode": "lines",
         "showlegend": false,
         "type": "scatter",
         "x": [
          4399,
          4549.5
         ],
         "y": [
          -800,
          -725
         ]
        },
        {
         "hoverinfo": "none",
         "line": {
          "color": "#2d98b5",
          "width": 0.5
         },
         "mode": "lines",
         "showlegend": false,
         "type": "scatter",
         "x": [
          4549.5,
          4700
         ],
         "y": [
          -725,
          -650
         ]
        },
        {
         "hoverinfo": "none",
         "line": {
          "color": "#872341",
          "width": 0.5
         },
         "mode": "lines",
         "showlegend": false,
         "type": "scatter",
         "x": [
          4100,
          4100
         ],
         "y": [
          -25,
          110.9999925
         ]
        },
        {
         "hoverinfo": "none",
         "line": {
          "color": "#2d98b5",
          "width": 0.5
         },
         "mode": "lines",
         "showlegend": false,
         "type": "scatter",
         "x": [
          4100,
          4100
         ],
         "y": [
          110.9999925,
          246.999985
         ]
        },
        {
         "hoverinfo": "none",
         "line": {
          "color": "#872341",
          "width": 0.5
         },
         "mode": "lines",
         "showlegend": false,
         "type": "scatter",
         "x": [
          10007,
          5441.0000305
         ],
         "y": [
          97,
          798.5
         ]
        },
        {
         "hoverinfo": "none",
         "line": {
          "color": "#2d98b5",
          "width": 0.5
         },
         "mode": "lines",
         "showlegend": false,
         "type": "scatter",
         "x": [
          5441.0000305,
          875.000061
         ],
         "y": [
          798.5,
          1500
         ]
        },
        {
         "hoverinfo": "none",
         "line": {
          "color": "#872341",
          "width": 0.5
         },
         "mode": "lines",
         "showlegend": false,
         "type": "scatter",
         "x": [
          10007,
          5428.5000305
         ],
         "y": [
          97,
          -751.5
         ]
        },
        {
         "hoverinfo": "none",
         "line": {
          "color": "#2d98b5",
          "width": 0.5
         },
         "mode": "lines",
         "showlegend": false,
         "type": "scatter",
         "x": [
          5428.5000305,
          850.000061
         ],
         "y": [
          -751.5,
          -1600
         ]
        },
        {
         "hoverinfo": "none",
         "line": {
          "color": "#872341",
          "width": 0.5
         },
         "mode": "lines",
         "showlegend": false,
         "type": "scatter",
         "x": [
          10007,
          5428.5000305
         ],
         "y": [
          97,
          -1064
         ]
        },
        {
         "hoverinfo": "none",
         "line": {
          "color": "#2d98b5",
          "width": 0.5
         },
         "mode": "lines",
         "showlegend": false,
         "type": "scatter",
         "x": [
          5428.5000305,
          850.000061
         ],
         "y": [
          -1064,
          -2225
         ]
        },
        {
         "hoverinfo": "none",
         "line": {
          "color": "#872341",
          "width": 0.5
         },
         "mode": "lines",
         "showlegend": false,
         "type": "scatter",
         "x": [
          10007,
          5428.5000305
         ],
         "y": [
          97,
          -389.0000305
         ]
        },
        {
         "hoverinfo": "none",
         "line": {
          "color": "#2d98b5",
          "width": 0.5
         },
         "mode": "lines",
         "showlegend": false,
         "type": "scatter",
         "x": [
          5428.5000305,
          850.000061
         ],
         "y": [
          -389.0000305,
          -875.000061
         ]
        },
        {
         "hoverinfo": "none",
         "line": {
          "color": "#872341",
          "width": 0.5
         },
         "mode": "lines",
         "showlegend": false,
         "type": "scatter",
         "x": [
          10007,
          5428.5000305
         ],
         "y": [
          97,
          -1689.00012
         ]
        },
        {
         "hoverinfo": "none",
         "line": {
          "color": "#2d98b5",
          "width": 0.5
         },
         "mode": "lines",
         "showlegend": false,
         "type": "scatter",
         "x": [
          5428.5000305,
          850.000061
         ],
         "y": [
          -1689.00012,
          -3475.00024
         ]
        },
        {
         "hoverinfo": "none",
         "line": {
          "color": "#872341",
          "width": 0.5
         },
         "mode": "lines",
         "showlegend": false,
         "type": "scatter",
         "x": [
          10007,
          5428.5000305
         ],
         "y": [
          97,
          -1351.5
         ]
        },
        {
         "hoverinfo": "none",
         "line": {
          "color": "#2d98b5",
          "width": 0.5
         },
         "mode": "lines",
         "showlegend": false,
         "type": "scatter",
         "x": [
          5428.5000305,
          850.000061
         ],
         "y": [
          -1351.5,
          -2800
         ]
        },
        {
         "hoverinfo": "none",
         "line": {
          "color": "#872341",
          "width": 0.5
         },
         "mode": "lines",
         "showlegend": false,
         "type": "scatter",
         "x": [
          10007,
          5441.0000305
         ],
         "y": [
          97,
          1361
         ]
        },
        {
         "hoverinfo": "none",
         "line": {
          "color": "#2d98b5",
          "width": 0.5
         },
         "mode": "lines",
         "showlegend": false,
         "type": "scatter",
         "x": [
          5441.0000305,
          875.000061
         ],
         "y": [
          1361,
          2625
         ]
        },
        {
         "hoverinfo": "none",
         "line": {
          "color": "#872341",
          "width": 0.5
         },
         "mode": "lines",
         "showlegend": false,
         "type": "scatter",
         "x": [
          6825.00049,
          6538.500245
         ],
         "y": [
          -3025,
          -2709
         ]
        },
        {
         "hoverinfo": "none",
         "line": {
          "color": "#2d98b5",
          "width": 0.5
         },
         "mode": "lines",
         "showlegend": false,
         "type": "scatter",
         "x": [
          6538.500245,
          6252
         ],
         "y": [
          -2709,
          -2393
         ]
        },
        {
         "hoverinfo": "none",
         "line": {
          "color": "#872341",
          "width": 0.5
         },
         "mode": "lines",
         "showlegend": false,
         "type": "scatter",
         "x": [
          6825.00049,
          6525.000245
         ],
         "y": [
          -3025,
          -3212.5001199999997
         ]
        },
        {
         "hoverinfo": "none",
         "line": {
          "color": "#2d98b5",
          "width": 0.5
         },
         "mode": "lines",
         "showlegend": false,
         "type": "scatter",
         "x": [
          6525.000245,
          6225
         ],
         "y": [
          -3212.5001199999997,
          -3400.00024
         ]
        },
        {
         "hoverinfo": "none",
         "line": {
          "color": "#872341",
          "width": 0.5
         },
         "mode": "lines",
         "showlegend": false,
         "type": "scatter",
         "x": [
          6825.00049,
          6538.500245
         ],
         "y": [
          -3025,
          -2846.5
         ]
        },
        {
         "hoverinfo": "none",
         "line": {
          "color": "#2d98b5",
          "width": 0.5
         },
         "mode": "lines",
         "showlegend": false,
         "type": "scatter",
         "x": [
          6538.500245,
          6252
         ],
         "y": [
          -2846.5,
          -2668
         ]
        },
        {
         "hoverinfo": "none",
         "line": {
          "color": "#872341",
          "width": 0.5
         },
         "mode": "lines",
         "showlegend": false,
         "type": "scatter",
         "x": [
          6825.00049,
          6525.000245
         ],
         "y": [
          -3025,
          -3025
         ]
        },
        {
         "hoverinfo": "none",
         "line": {
          "color": "#2d98b5",
          "width": 0.5
         },
         "mode": "lines",
         "showlegend": false,
         "type": "scatter",
         "x": [
          6525.000245,
          6225
         ],
         "y": [
          -3025,
          -3025
         ]
        },
        {
         "hoverinfo": "none",
         "line": {
          "color": "#872341",
          "width": 0.5
         },
         "mode": "lines",
         "showlegend": false,
         "type": "scatter",
         "x": [
          6825.00049,
          6499.500245
         ],
         "y": [
          -3025,
          -3390.0001199999997
         ]
        },
        {
         "hoverinfo": "none",
         "line": {
          "color": "#2d98b5",
          "width": 0.5
         },
         "mode": "lines",
         "showlegend": false,
         "type": "scatter",
         "x": [
          6499.500245,
          6174
         ],
         "y": [
          -3390.0001199999997,
          -3755.00024
         ]
        },
        {
         "hoverinfo": "none",
         "line": {
          "color": "#872341",
          "width": 0.5
         },
         "mode": "lines",
         "showlegend": false,
         "type": "scatter",
         "x": [
          7268.99951,
          7472.499755
         ],
         "y": [
          -1397,
          -1264
         ]
        },
        {
         "hoverinfo": "none",
         "line": {
          "color": "#2d98b5",
          "width": 0.5
         },
         "mode": "lines",
         "showlegend": false,
         "type": "scatter",
         "x": [
          7472.499755,
          7676
         ],
         "y": [
          -1264,
          -1131
         ]
        },
        {
         "hoverinfo": "none",
         "line": {
          "color": "#872341",
          "width": 0.5
         },
         "mode": "lines",
         "showlegend": false,
         "type": "scatter",
         "x": [
          -3350.00024,
          -1237.5000894999998
         ],
         "y": [
          432,
          966
         ]
        },
        {
         "hoverinfo": "none",
         "line": {
          "color": "#2d98b5",
          "width": 0.5
         },
         "mode": "lines",
         "showlegend": false,
         "type": "scatter",
         "x": [
          -1237.5000894999998,
          875.000061
         ],
         "y": [
          966,
          1500
         ]
        },
        {
         "hoverinfo": "none",
         "line": {
          "color": "#872341",
          "width": 0.5
         },
         "mode": "lines",
         "showlegend": false,
         "type": "scatter",
         "x": [
          -3350.00024,
          -1250.0000894999998
         ],
         "y": [
          432,
          -584
         ]
        },
        {
         "hoverinfo": "none",
         "line": {
          "color": "#2d98b5",
          "width": 0.5
         },
         "mode": "lines",
         "showlegend": false,
         "type": "scatter",
         "x": [
          -1250.0000894999998,
          850.000061
         ],
         "y": [
          -584,
          -1600
         ]
        },
        {
         "hoverinfo": "none",
         "line": {
          "color": "#872341",
          "width": 0.5
         },
         "mode": "lines",
         "showlegend": false,
         "type": "scatter",
         "x": [
          -3350.00024,
          -1250.0000894999998
         ],
         "y": [
          432,
          -896.5
         ]
        },
        {
         "hoverinfo": "none",
         "line": {
          "color": "#2d98b5",
          "width": 0.5
         },
         "mode": "lines",
         "showlegend": false,
         "type": "scatter",
         "x": [
          -1250.0000894999998,
          850.000061
         ],
         "y": [
          -896.5,
          -2225
         ]
        },
        {
         "hoverinfo": "none",
         "line": {
          "color": "#872341",
          "width": 0.5
         },
         "mode": "lines",
         "showlegend": false,
         "type": "scatter",
         "x": [
          -3350.00024,
          -1250.0000894999998
         ],
         "y": [
          432,
          -221.50003049999998
         ]
        },
        {
         "hoverinfo": "none",
         "line": {
          "color": "#2d98b5",
          "width": 0.5
         },
         "mode": "lines",
         "showlegend": false,
         "type": "scatter",
         "x": [
          -1250.0000894999998,
          850.000061
         ],
         "y": [
          -221.50003049999998,
          -875.000061
         ]
        },
        {
         "hoverinfo": "none",
         "line": {
          "color": "#872341",
          "width": 0.5
         },
         "mode": "lines",
         "showlegend": false,
         "type": "scatter",
         "x": [
          -3350.00024,
          -1250.0000894999998
         ],
         "y": [
          432,
          -1521.50012
         ]
        },
        {
         "hoverinfo": "none",
         "line": {
          "color": "#2d98b5",
          "width": 0.5
         },
         "mode": "lines",
         "showlegend": false,
         "type": "scatter",
         "x": [
          -1250.0000894999998,
          850.000061
         ],
         "y": [
          -1521.50012,
          -3475.00024
         ]
        },
        {
         "hoverinfo": "none",
         "line": {
          "color": "#872341",
          "width": 0.5
         },
         "mode": "lines",
         "showlegend": false,
         "type": "scatter",
         "x": [
          -3350.00024,
          -1250.0000894999998
         ],
         "y": [
          432,
          -1184
         ]
        },
        {
         "hoverinfo": "none",
         "line": {
          "color": "#2d98b5",
          "width": 0.5
         },
         "mode": "lines",
         "showlegend": false,
         "type": "scatter",
         "x": [
          -1250.0000894999998,
          850.000061
         ],
         "y": [
          -1184,
          -2800
         ]
        },
        {
         "hoverinfo": "none",
         "line": {
          "color": "#872341",
          "width": 0.5
         },
         "mode": "lines",
         "showlegend": false,
         "type": "scatter",
         "x": [
          -3350.00024,
          -1237.5000894999998
         ],
         "y": [
          432,
          1528.5
         ]
        },
        {
         "hoverinfo": "none",
         "line": {
          "color": "#2d98b5",
          "width": 0.5
         },
         "mode": "lines",
         "showlegend": false,
         "type": "scatter",
         "x": [
          -1237.5000894999998,
          875.000061
         ],
         "y": [
          1528.5,
          2625
         ]
        },
        {
         "hoverinfo": "none",
         "line": {
          "color": "#872341",
          "width": 0.5
         },
         "mode": "lines",
         "showlegend": false,
         "type": "scatter",
         "x": [
          2600,
          2750
         ],
         "y": [
          -1900.00012,
          -1900.00012
         ]
        },
        {
         "hoverinfo": "none",
         "line": {
          "color": "#2d98b5",
          "width": 0.5
         },
         "mode": "lines",
         "showlegend": false,
         "type": "scatter",
         "x": [
          2750,
          2900
         ],
         "y": [
          -1900.00012,
          -1900.00012
         ]
        },
        {
         "hoverinfo": "none",
         "line": {
          "color": "#872341",
          "width": 0.5
         },
         "mode": "lines",
         "showlegend": false,
         "type": "scatter",
         "x": [
          3800.00024,
          3950.0001199999997
         ],
         "y": [
          -675,
          -712.5
         ]
        },
        {
         "hoverinfo": "none",
         "line": {
          "color": "#2d98b5",
          "width": 0.5
         },
         "mode": "lines",
         "showlegend": false,
         "type": "scatter",
         "x": [
          3950.0001199999997,
          4100
         ],
         "y": [
          -712.5,
          -750
         ]
        },
        {
         "hoverinfo": "none",
         "line": {
          "color": "#872341",
          "width": 0.5
         },
         "mode": "lines",
         "showlegend": false,
         "type": "scatter",
         "x": [
          3800.00024,
          3948.0001199999997
         ],
         "y": [
          -675,
          -596.5
         ]
        },
        {
         "hoverinfo": "none",
         "line": {
          "color": "#2d98b5",
          "width": 0.5
         },
         "mode": "lines",
         "showlegend": false,
         "type": "scatter",
         "x": [
          3948.0001199999997,
          4096
         ],
         "y": [
          -596.5,
          -518
         ]
        },
        {
         "hoverinfo": "none",
         "line": {
          "color": "#872341",
          "width": 0.5
         },
         "mode": "lines",
         "showlegend": false,
         "type": "scatter",
         "x": [
          -3979,
          -3827.9998800000003
         ],
         "y": [
          -817.999939,
          -811.9999695
         ]
        },
        {
         "hoverinfo": "none",
         "line": {
          "color": "#2d98b5",
          "width": 0.5
         },
         "mode": "lines",
         "showlegend": false,
         "type": "scatter",
         "x": [
          -3827.9998800000003,
          -3676.99976
         ],
         "y": [
          -811.9999695,
          -806
         ]
        },
        {
         "hoverinfo": "none",
         "line": {
          "color": "#872341",
          "width": 0.5
         },
         "mode": "lines",
         "showlegend": false,
         "type": "scatter",
         "x": [
          4100,
          4250
         ],
         "y": [
          246.999985,
          273.4999925
         ]
        },
        {
         "hoverinfo": "none",
         "line": {
          "color": "#2d98b5",
          "width": 0.5
         },
         "mode": "lines",
         "showlegend": false,
         "type": "scatter",
         "x": [
          4250,
          4400
         ],
         "y": [
          273.4999925,
          300
         ]
        },
        {
         "hoverinfo": "none",
         "line": {
          "color": "#872341",
          "width": 0.5
         },
         "mode": "lines",
         "showlegend": false,
         "type": "scatter",
         "x": [
          2050,
          2200
         ],
         "y": [
          -3575.00024,
          -3575.00024
         ]
        },
        {
         "hoverinfo": "none",
         "line": {
          "color": "#2d98b5",
          "width": 0.5
         },
         "mode": "lines",
         "showlegend": false,
         "type": "scatter",
         "x": [
          2200,
          2350
         ],
         "y": [
          -3575.00024,
          -3575.00024
         ]
        },
        {
         "hoverinfo": "none",
         "line": {
          "color": "#872341",
          "width": 0.5
         },
         "mode": "lines",
         "showlegend": false,
         "type": "scatter",
         "x": [
          1450,
          1600.0000599999998
         ],
         "y": [
          -750,
          -737.5
         ]
        },
        {
         "hoverinfo": "none",
         "line": {
          "color": "#2d98b5",
          "width": 0.5
         },
         "mode": "lines",
         "showlegend": false,
         "type": "scatter",
         "x": [
          1600.0000599999998,
          1750.00012
         ],
         "y": [
          -737.5,
          -725
         ]
        },
        {
         "hoverinfo": "none",
         "line": {
          "color": "#872341",
          "width": 0.5
         },
         "mode": "lines",
         "showlegend": false,
         "type": "scatter",
         "x": [
          1468,
          1171.5000304999999
         ],
         "y": [
          1674,
          1587
         ]
        },
        {
         "hoverinfo": "none",
         "line": {
          "color": "#2d98b5",
          "width": 0.5
         },
         "mode": "lines",
         "showlegend": false,
         "type": "scatter",
         "x": [
          1171.5000304999999,
          875.000061
         ],
         "y": [
          1587,
          1500
         ]
        },
        {
         "hoverinfo": "none",
         "line": {
          "color": "#872341",
          "width": 0.5
         },
         "mode": "lines",
         "showlegend": false,
         "type": "scatter",
         "x": [
          1468,
          1159.0000304999999
         ],
         "y": [
          1674,
          37
         ]
        },
        {
         "hoverinfo": "none",
         "line": {
          "color": "#2d98b5",
          "width": 0.5
         },
         "mode": "lines",
         "showlegend": false,
         "type": "scatter",
         "x": [
          1159.0000304999999,
          850.000061
         ],
         "y": [
          37,
          -1600
         ]
        },
        {
         "hoverinfo": "none",
         "line": {
          "color": "#872341",
          "width": 0.5
         },
         "mode": "lines",
         "showlegend": false,
         "type": "scatter",
         "x": [
          1468,
          1159.0000304999999
         ],
         "y": [
          1674,
          -275.5
         ]
        },
        {
         "hoverinfo": "none",
         "line": {
          "color": "#2d98b5",
          "width": 0.5
         },
         "mode": "lines",
         "showlegend": false,
         "type": "scatter",
         "x": [
          1159.0000304999999,
          850.000061
         ],
         "y": [
          -275.5,
          -2225
         ]
        },
        {
         "hoverinfo": "none",
         "line": {
          "color": "#872341",
          "width": 0.5
         },
         "mode": "lines",
         "showlegend": false,
         "type": "scatter",
         "x": [
          1468,
          1159.0000304999999
         ],
         "y": [
          1674,
          399.4999695
         ]
        },
        {
         "hoverinfo": "none",
         "line": {
          "color": "#2d98b5",
          "width": 0.5
         },
         "mode": "lines",
         "showlegend": false,
         "type": "scatter",
         "x": [
          1159.0000304999999,
          850.000061
         ],
         "y": [
          399.4999695,
          -875.000061
         ]
        },
        {
         "hoverinfo": "none",
         "line": {
          "color": "#872341",
          "width": 0.5
         },
         "mode": "lines",
         "showlegend": false,
         "type": "scatter",
         "x": [
          1468,
          1159.0000304999999
         ],
         "y": [
          1674,
          -900.5001199999999
         ]
        },
        {
         "hoverinfo": "none",
         "line": {
          "color": "#2d98b5",
          "width": 0.5
         },
         "mode": "lines",
         "showlegend": false,
         "type": "scatter",
         "x": [
          1159.0000304999999,
          850.000061
         ],
         "y": [
          -900.5001199999999,
          -3475.00024
         ]
        },
        {
         "hoverinfo": "none",
         "line": {
          "color": "#872341",
          "width": 0.5
         },
         "mode": "lines",
         "showlegend": false,
         "type": "scatter",
         "x": [
          1468,
          1159.0000304999999
         ],
         "y": [
          1674,
          -563
         ]
        },
        {
         "hoverinfo": "none",
         "line": {
          "color": "#2d98b5",
          "width": 0.5
         },
         "mode": "lines",
         "showlegend": false,
         "type": "scatter",
         "x": [
          1159.0000304999999,
          850.000061
         ],
         "y": [
          -563,
          -2800
         ]
        },
        {
         "hoverinfo": "none",
         "line": {
          "color": "#872341",
          "width": 0.5
         },
         "mode": "lines",
         "showlegend": false,
         "type": "scatter",
         "x": [
          1468,
          1171.5000304999999
         ],
         "y": [
          1674,
          2149.5
         ]
        },
        {
         "hoverinfo": "none",
         "line": {
          "color": "#2d98b5",
          "width": 0.5
         },
         "mode": "lines",
         "showlegend": false,
         "type": "scatter",
         "x": [
          1171.5000304999999,
          875.000061
         ],
         "y": [
          2149.5,
          2625
         ]
        },
        {
         "hoverinfo": "none",
         "line": {
          "color": "#872341",
          "width": 0.5
         },
         "mode": "lines",
         "showlegend": false,
         "type": "scatter",
         "x": [
          2600,
          2750
         ],
         "y": [
          -1300,
          -1325
         ]
        },
        {
         "hoverinfo": "none",
         "line": {
          "color": "#2d98b5",
          "width": 0.5
         },
         "mode": "lines",
         "showlegend": false,
         "type": "scatter",
         "x": [
          2750,
          2900
         ],
         "y": [
          -1325,
          -1350
         ]
        },
        {
         "hoverinfo": "none",
         "line": {
          "color": "#872341",
          "width": 0.5
         },
         "mode": "lines",
         "showlegend": false,
         "type": "scatter",
         "x": [
          4099,
          3349.5
         ],
         "y": [
          -275,
          -137.5
         ]
        },
        {
         "hoverinfo": "none",
         "line": {
          "color": "#2d98b5",
          "width": 0.5
         },
         "mode": "lines",
         "showlegend": false,
         "type": "scatter",
         "x": [
          3349.5,
          2600
         ],
         "y": [
          -137.5,
          0
         ]
        },
        {
         "hoverinfo": "none",
         "line": {
          "color": "#872341",
          "width": 0.5
         },
         "mode": "lines",
         "showlegend": false,
         "type": "scatter",
         "x": [
          4099,
          3349.5
         ],
         "y": [
          -275,
          -475
         ]
        },
        {
         "hoverinfo": "none",
         "line": {
          "color": "#2d98b5",
          "width": 0.5
         },
         "mode": "lines",
         "showlegend": false,
         "type": "scatter",
         "x": [
          3349.5,
          2600
         ],
         "y": [
          -475,
          -675
         ]
        },
        {
         "hoverinfo": "none",
         "line": {
          "color": "#872341",
          "width": 0.5
         },
         "mode": "lines",
         "showlegend": false,
         "type": "scatter",
         "x": [
          4099,
          3349.5
         ],
         "y": [
          -275,
          -1087.5000599999998
         ]
        },
        {
         "hoverinfo": "none",
         "line": {
          "color": "#2d98b5",
          "width": 0.5
         },
         "mode": "lines",
         "showlegend": false,
         "type": "scatter",
         "x": [
          3349.5,
          2600
         ],
         "y": [
          -1087.5000599999998,
          -1900.00012
         ]
        },
        {
         "hoverinfo": "none",
         "line": {
          "color": "#872341",
          "width": 0.5
         },
         "mode": "lines",
         "showlegend": false,
         "type": "scatter",
         "x": [
          4099,
          3344
         ],
         "y": [
          -275,
          52.5
         ]
        },
        {
         "hoverinfo": "none",
         "line": {
          "color": "#2d98b5",
          "width": 0.5
         },
         "mode": "lines",
         "showlegend": false,
         "type": "scatter",
         "x": [
          3344,
          2589
         ],
         "y": [
          52.5,
          380
         ]
        },
        {
         "hoverinfo": "none",
         "line": {
          "color": "#872341",
          "width": 0.5
         },
         "mode": "lines",
         "showlegend": false,
         "type": "scatter",
         "x": [
          4099,
          3349.5
         ],
         "y": [
          -275,
          -787.5
         ]
        },
        {
         "hoverinfo": "none",
         "line": {
          "color": "#2d98b5",
          "width": 0.5
         },
         "mode": "lines",
         "showlegend": false,
         "type": "scatter",
         "x": [
          3349.5,
          2600
         ],
         "y": [
          -787.5,
          -1300
         ]
        },
        {
         "hoverinfo": "none",
         "line": {
          "color": "#872341",
          "width": 0.5
         },
         "mode": "lines",
         "showlegend": false,
         "type": "scatter",
         "x": [
          4099,
          3349.5
         ],
         "y": [
          -275,
          -937.5
         ]
        },
        {
         "hoverinfo": "none",
         "line": {
          "color": "#2d98b5",
          "width": 0.5
         },
         "mode": "lines",
         "showlegend": false,
         "type": "scatter",
         "x": [
          3349.5,
          2600
         ],
         "y": [
          -937.5,
          -1600
         ]
        },
        {
         "hoverinfo": "none",
         "line": {
          "color": "#872341",
          "width": 0.5
         },
         "mode": "lines",
         "showlegend": false,
         "type": "scatter",
         "x": [
          1450,
          1600.0000599999998
         ],
         "y": [
          -1075,
          -1062.5
         ]
        },
        {
         "hoverinfo": "none",
         "line": {
          "color": "#2d98b5",
          "width": 0.5
         },
         "mode": "lines",
         "showlegend": false,
         "type": "scatter",
         "x": [
          1600.0000599999998,
          1750.00012
         ],
         "y": [
          -1062.5,
          -1050
         ]
        },
        {
         "hoverinfo": "none",
         "line": {
          "color": "#872341",
          "width": 0.5
         },
         "mode": "lines",
         "showlegend": false,
         "type": "scatter",
         "x": [
          3200,
          3350.0001199999997
         ],
         "y": [
          -1800.00012,
          -1800.00012
         ]
        },
        {
         "hoverinfo": "none",
         "line": {
          "color": "#2d98b5",
          "width": 0.5
         },
         "mode": "lines",
         "showlegend": false,
         "type": "scatter",
         "x": [
          3350.0001199999997,
          3500.00024
         ],
         "y": [
          -1800.00012,
          -1800.00012
         ]
        },
        {
         "hoverinfo": "none",
         "line": {
          "color": "#872341",
          "width": 0.5
         },
         "mode": "lines",
         "showlegend": false,
         "type": "scatter",
         "x": [
          4650,
          4800
         ],
         "y": [
          -1325,
          -1325
         ]
        },
        {
         "hoverinfo": "none",
         "line": {
          "color": "#2d98b5",
          "width": 0.5
         },
         "mode": "lines",
         "showlegend": false,
         "type": "scatter",
         "x": [
          4800,
          4950
         ],
         "y": [
          -1325,
          -1325
         ]
        },
        {
         "hoverinfo": "none",
         "line": {
          "color": "#872341",
          "width": 0.5
         },
         "mode": "lines",
         "showlegend": false,
         "type": "scatter",
         "x": [
          5900,
          6050
         ],
         "y": [
          -650,
          -650
         ]
        },
        {
         "hoverinfo": "none",
         "line": {
          "color": "#2d98b5",
          "width": 0.5
         },
         "mode": "lines",
         "showlegend": false,
         "type": "scatter",
         "x": [
          6050,
          6200
         ],
         "y": [
          -650,
          -650
         ]
        },
        {
         "hoverinfo": "none",
         "line": {
          "color": "#872341",
          "width": 0.5
         },
         "mode": "lines",
         "showlegend": false,
         "type": "scatter",
         "x": [
          6491,
          4545.5
         ],
         "y": [
          -629,
          -314.5
         ]
        },
        {
         "hoverinfo": "none",
         "line": {
          "color": "#2d98b5",
          "width": 0.5
         },
         "mode": "lines",
         "showlegend": false,
         "type": "scatter",
         "x": [
          4545.5,
          2600
         ],
         "y": [
          -314.5,
          0
         ]
        },
        {
         "hoverinfo": "none",
         "line": {
          "color": "#872341",
          "width": 0.5
         },
         "mode": "lines",
         "showlegend": false,
         "type": "scatter",
         "x": [
          6491,
          4545.5
         ],
         "y": [
          -629,
          -652
         ]
        },
        {
         "hoverinfo": "none",
         "line": {
          "color": "#2d98b5",
          "width": 0.5
         },
         "mode": "lines",
         "showlegend": false,
         "type": "scatter",
         "x": [
          4545.5,
          2600
         ],
         "y": [
          -652,
          -675
         ]
        },
        {
         "hoverinfo": "none",
         "line": {
          "color": "#872341",
          "width": 0.5
         },
         "mode": "lines",
         "showlegend": false,
         "type": "scatter",
         "x": [
          6491,
          4545.5
         ],
         "y": [
          -629,
          -1264.5000599999998
         ]
        },
        {
         "hoverinfo": "none",
         "line": {
          "color": "#2d98b5",
          "width": 0.5
         },
         "mode": "lines",
         "showlegend": false,
         "type": "scatter",
         "x": [
          4545.5,
          2600
         ],
         "y": [
          -1264.5000599999998,
          -1900.00012
         ]
        },
        {
         "hoverinfo": "none",
         "line": {
          "color": "#872341",
          "width": 0.5
         },
         "mode": "lines",
         "showlegend": false,
         "type": "scatter",
         "x": [
          6491,
          4540
         ],
         "y": [
          -629,
          -124.5
         ]
        },
        {
         "hoverinfo": "none",
         "line": {
          "color": "#2d98b5",
          "width": 0.5
         },
         "mode": "lines",
         "showlegend": false,
         "type": "scatter",
         "x": [
          4540,
          2589
         ],
         "y": [
          -124.5,
          380
         ]
        },
        {
         "hoverinfo": "none",
         "line": {
          "color": "#872341",
          "width": 0.5
         },
         "mode": "lines",
         "showlegend": false,
         "type": "scatter",
         "x": [
          6491,
          4545.5
         ],
         "y": [
          -629,
          -964.5
         ]
        },
        {
         "hoverinfo": "none",
         "line": {
          "color": "#2d98b5",
          "width": 0.5
         },
         "mode": "lines",
         "showlegend": false,
         "type": "scatter",
         "x": [
          4545.5,
          2600
         ],
         "y": [
          -964.5,
          -1300
         ]
        },
        {
         "hoverinfo": "none",
         "line": {
          "color": "#872341",
          "width": 0.5
         },
         "mode": "lines",
         "showlegend": false,
         "type": "scatter",
         "x": [
          6491,
          4545.5
         ],
         "y": [
          -629,
          -1114.5
         ]
        },
        {
         "hoverinfo": "none",
         "line": {
          "color": "#2d98b5",
          "width": 0.5
         },
         "mode": "lines",
         "showlegend": false,
         "type": "scatter",
         "x": [
          4545.5,
          2600
         ],
         "y": [
          -1114.5,
          -1600
         ]
        },
        {
         "hoverinfo": "none",
         "line": {
          "color": "#872341",
          "width": 0.5
         },
         "mode": "lines",
         "showlegend": false,
         "type": "scatter",
         "x": [
          7425.00049,
          6838.500245
         ],
         "y": [
          -3400.00024,
          -2896.5001199999997
         ]
        },
        {
         "hoverinfo": "none",
         "line": {
          "color": "#2d98b5",
          "width": 0.5
         },
         "mode": "lines",
         "showlegend": false,
         "type": "scatter",
         "x": [
          6838.500245,
          6252
         ],
         "y": [
          -2896.5001199999997,
          -2393
         ]
        },
        {
         "hoverinfo": "none",
         "line": {
          "color": "#872341",
          "width": 0.5
         },
         "mode": "lines",
         "showlegend": false,
         "type": "scatter",
         "x": [
          7425.00049,
          6825.000245
         ],
         "y": [
          -3400.00024,
          -3400.00024
         ]
        },
        {
         "hoverinfo": "none",
         "line": {
          "color": "#2d98b5",
          "width": 0.5
         },
         "mode": "lines",
         "showlegend": false,
         "type": "scatter",
         "x": [
          6825.000245,
          6225
         ],
         "y": [
          -3400.00024,
          -3400.00024
         ]
        },
        {
         "hoverinfo": "none",
         "line": {
          "color": "#872341",
          "width": 0.5
         },
         "mode": "lines",
         "showlegend": false,
         "type": "scatter",
         "x": [
          7425.00049,
          6838.500245
         ],
         "y": [
          -3400.00024,
          -3034.0001199999997
         ]
        },
        {
         "hoverinfo": "none",
         "line": {
          "color": "#2d98b5",
          "width": 0.5
         },
         "mode": "lines",
         "showlegend": false,
         "type": "scatter",
         "x": [
          6838.500245,
          6252
         ],
         "y": [
          -3034.0001199999997,
          -2668
         ]
        },
        {
         "hoverinfo": "none",
         "line": {
          "color": "#872341",
          "width": 0.5
         },
         "mode": "lines",
         "showlegend": false,
         "type": "scatter",
         "x": [
          7425.00049,
          6825.000245
         ],
         "y": [
          -3400.00024,
          -3212.5001199999997
         ]
        },
        {
         "hoverinfo": "none",
         "line": {
          "color": "#2d98b5",
          "width": 0.5
         },
         "mode": "lines",
         "showlegend": false,
         "type": "scatter",
         "x": [
          6825.000245,
          6225
         ],
         "y": [
          -3212.5001199999997,
          -3025
         ]
        },
        {
         "hoverinfo": "none",
         "line": {
          "color": "#872341",
          "width": 0.5
         },
         "mode": "lines",
         "showlegend": false,
         "type": "scatter",
         "x": [
          7425.00049,
          6799.500245
         ],
         "y": [
          -3400.00024,
          -3577.50024
         ]
        },
        {
         "hoverinfo": "none",
         "line": {
          "color": "#2d98b5",
          "width": 0.5
         },
         "mode": "lines",
         "showlegend": false,
         "type": "scatter",
         "x": [
          6799.500245,
          6174
         ],
         "y": [
          -3577.50024,
          -3755.00024
         ]
        },
        {
         "hoverinfo": "none",
         "line": {
          "color": "#872341",
          "width": 0.5
         },
         "mode": "lines",
         "showlegend": false,
         "type": "scatter",
         "x": [
          2025.00012,
          2175.50006
         ],
         "y": [
          750,
          750
         ]
        },
        {
         "hoverinfo": "none",
         "line": {
          "color": "#2d98b5",
          "width": 0.5
         },
         "mode": "lines",
         "showlegend": false,
         "type": "scatter",
         "x": [
          2175.50006,
          2326
         ],
         "y": [
          750,
          750
         ]
        },
        {
         "hoverinfo": "none",
         "line": {
          "color": "#872341",
          "width": 0.5
         },
         "mode": "lines",
         "showlegend": false,
         "type": "scatter",
         "x": [
          1450,
          1600.0000599999998
         ],
         "y": [
          -3475.00024,
          -3475.00024
         ]
        },
        {
         "hoverinfo": "none",
         "line": {
          "color": "#2d98b5",
          "width": 0.5
         },
         "mode": "lines",
         "showlegend": false,
         "type": "scatter",
         "x": [
          1600.0000599999998,
          1750.00012
         ],
         "y": [
          -3475.00024,
          -3475.00024
         ]
        },
        {
         "hoverinfo": "none",
         "line": {
          "color": "#872341",
          "width": 0.5
         },
         "mode": "lines",
         "showlegend": false,
         "type": "scatter",
         "x": [
          2625,
          2325.00006
         ],
         "y": [
          975.000061,
          1000.0000305
         ]
        },
        {
         "hoverinfo": "none",
         "line": {
          "color": "#2d98b5",
          "width": 0.5
         },
         "mode": "lines",
         "showlegend": false,
         "type": "scatter",
         "x": [
          2325.00006,
          2025.00012
         ],
         "y": [
          1000.0000305,
          1025
         ]
        },
        {
         "hoverinfo": "none",
         "line": {
          "color": "#872341",
          "width": 0.5
         },
         "mode": "lines",
         "showlegend": false,
         "type": "scatter",
         "x": [
          2625,
          2325.00006
         ],
         "y": [
          975.000061,
          862.5000305
         ]
        },
        {
         "hoverinfo": "none",
         "line": {
          "color": "#2d98b5",
          "width": 0.5
         },
         "mode": "lines",
         "showlegend": false,
         "type": "scatter",
         "x": [
          2325.00006,
          2025.00012
         ],
         "y": [
          862.5000305,
          750
         ]
        },
        {
         "hoverinfo": "none",
         "line": {
          "color": "#872341",
          "width": 0.5
         },
         "mode": "lines",
         "showlegend": false,
         "type": "scatter",
         "x": [
          2625,
          2325.00006
         ],
         "y": [
          975.000061,
          1450.0000905
         ]
        },
        {
         "hoverinfo": "none",
         "line": {
          "color": "#2d98b5",
          "width": 0.5
         },
         "mode": "lines",
         "showlegend": false,
         "type": "scatter",
         "x": [
          2325.00006,
          2025.00012
         ],
         "y": [
          1450.0000905,
          1925.00012
         ]
        },
        {
         "hoverinfo": "none",
         "line": {
          "color": "#872341",
          "width": 0.5
         },
         "mode": "lines",
         "showlegend": false,
         "type": "scatter",
         "x": [
          2625,
          2325.00006
         ],
         "y": [
          975.000061,
          1150.0000304999999
         ]
        },
        {
         "hoverinfo": "none",
         "line": {
          "color": "#2d98b5",
          "width": 0.5
         },
         "mode": "lines",
         "showlegend": false,
         "type": "scatter",
         "x": [
          2325.00006,
          2025.00012
         ],
         "y": [
          1150.0000304999999,
          1325
         ]
        },
        {
         "hoverinfo": "none",
         "line": {
          "color": "#872341",
          "width": 0.5
         },
         "mode": "lines",
         "showlegend": false,
         "type": "scatter",
         "x": [
          2625,
          2325.00006
         ],
         "y": [
          975.000061,
          1312.5000304999999
         ]
        },
        {
         "hoverinfo": "none",
         "line": {
          "color": "#2d98b5",
          "width": 0.5
         },
         "mode": "lines",
         "showlegend": false,
         "type": "scatter",
         "x": [
          2325.00006,
          2025.00012
         ],
         "y": [
          1312.5000304999999,
          1650
         ]
        },
        {
         "hoverinfo": "none",
         "line": {
          "color": "#872341",
          "width": 0.5
         },
         "mode": "lines",
         "showlegend": false,
         "type": "scatter",
         "x": [
          3500.00024,
          3650.00024
         ],
         "y": [
          -1800.00012,
          -1875.00012
         ]
        },
        {
         "hoverinfo": "none",
         "line": {
          "color": "#2d98b5",
          "width": 0.5
         },
         "mode": "lines",
         "showlegend": false,
         "type": "scatter",
         "x": [
          3650.00024,
          3800.00024
         ],
         "y": [
          -1875.00012,
          -1950.00012
         ]
        },
        {
         "hoverinfo": "none",
         "line": {
          "color": "#872341",
          "width": 0.5
         },
         "mode": "lines",
         "showlegend": false,
         "type": "scatter",
         "x": [
          6998.99951,
          7152.499755
         ],
         "y": [
          -954,
          -950.9999695
         ]
        },
        {
         "hoverinfo": "none",
         "line": {
          "color": "#2d98b5",
          "width": 0.5
         },
         "mode": "lines",
         "showlegend": false,
         "type": "scatter",
         "x": [
          7152.499755,
          7306
         ],
         "y": [
          -950.9999695,
          -947.999939
         ]
        },
        {
         "hoverinfo": "none",
         "line": {
          "color": "#872341",
          "width": 0.5
         },
         "mode": "lines",
         "showlegend": false,
         "type": "scatter",
         "x": [
          5000,
          5150
         ],
         "y": [
          -625,
          -637.5
         ]
        },
        {
         "hoverinfo": "none",
         "line": {
          "color": "#2d98b5",
          "width": 0.5
         },
         "mode": "lines",
         "showlegend": false,
         "type": "scatter",
         "x": [
          5150,
          5300
         ],
         "y": [
          -637.5,
          -650
         ]
        },
        {
         "hoverinfo": "none",
         "line": {
          "color": "#872341",
          "width": 0.5
         },
         "mode": "lines",
         "showlegend": false,
         "type": "scatter",
         "x": [
          1750.00012,
          1895.00012
         ],
         "y": [
          -725,
          -733
         ]
        },
        {
         "hoverinfo": "none",
         "line": {
          "color": "#2d98b5",
          "width": 0.5
         },
         "mode": "lines",
         "showlegend": false,
         "type": "scatter",
         "x": [
          1895.00012,
          2040.00012
         ],
         "y": [
          -733,
          -741
         ]
        },
        {
         "hoverinfo": "none",
         "line": {
          "color": "#872341",
          "width": 0.5
         },
         "mode": "lines",
         "showlegend": false,
         "type": "scatter",
         "x": [
          -3350.00024,
          -3037.5001199999997
         ],
         "y": [
          -550,
          -625
         ]
        },
        {
         "hoverinfo": "none",
         "line": {
          "color": "#2d98b5",
          "width": 0.5
         },
         "mode": "lines",
         "showlegend": false,
         "type": "scatter",
         "x": [
          -3037.5001199999997,
          -2725
         ],
         "y": [
          -625,
          -700
         ]
        },
        {
         "hoverinfo": "none",
         "line": {
          "color": "#872341",
          "width": 0.5
         },
         "mode": "lines",
         "showlegend": false,
         "type": "scatter",
         "x": [
          -3350.00024,
          -3037.5001199999997
         ],
         "y": [
          -550,
          -912.5
         ]
        },
        {
         "hoverinfo": "none",
         "line": {
          "color": "#2d98b5",
          "width": 0.5
         },
         "mode": "lines",
         "showlegend": false,
         "type": "scatter",
         "x": [
          -3037.5001199999997,
          -2725
         ],
         "y": [
          -912.5,
          -1275
         ]
        },
        {
         "hoverinfo": "none",
         "line": {
          "color": "#872341",
          "width": 0.5
         },
         "mode": "lines",
         "showlegend": false,
         "type": "scatter",
         "x": [
          -3350.00024,
          -3037.5001199999997
         ],
         "y": [
          -550,
          12.5
         ]
        },
        {
         "hoverinfo": "none",
         "line": {
          "color": "#2d98b5",
          "width": 0.5
         },
         "mode": "lines",
         "showlegend": false,
         "type": "scatter",
         "x": [
          -3037.5001199999997,
          -2725
         ],
         "y": [
          12.5,
          575
         ]
        },
        {
         "hoverinfo": "none",
         "line": {
          "color": "#872341",
          "width": 0.5
         },
         "mode": "lines",
         "showlegend": false,
         "type": "scatter",
         "x": [
          -3350.00024,
          -3037.5001199999997
         ],
         "y": [
          -550,
          -312.5
         ]
        },
        {
         "hoverinfo": "none",
         "line": {
          "color": "#2d98b5",
          "width": 0.5
         },
         "mode": "lines",
         "showlegend": false,
         "type": "scatter",
         "x": [
          -3037.5001199999997,
          -2725
         ],
         "y": [
          -312.5,
          -75
         ]
        },
        {
         "hoverinfo": "none",
         "line": {
          "color": "#872341",
          "width": 0.5
         },
         "mode": "lines",
         "showlegend": false,
         "type": "scatter",
         "x": [
          2025.00012,
          2175.00006
         ],
         "y": [
          1325,
          1312.5
         ]
        },
        {
         "hoverinfo": "none",
         "line": {
          "color": "#2d98b5",
          "width": 0.5
         },
         "mode": "lines",
         "showlegend": false,
         "type": "scatter",
         "x": [
          2175.00006,
          2325
         ],
         "y": [
          1312.5,
          1300
         ]
        },
        {
         "hoverinfo": "none",
         "line": {
          "color": "#872341",
          "width": 0.5
         },
         "mode": "lines",
         "showlegend": false,
         "type": "scatter",
         "x": [
          2600,
          2750
         ],
         "y": [
          0,
          0
         ]
        },
        {
         "hoverinfo": "none",
         "line": {
          "color": "#2d98b5",
          "width": 0.5
         },
         "mode": "lines",
         "showlegend": false,
         "type": "scatter",
         "x": [
          2750,
          2900
         ],
         "y": [
          0,
          0
         ]
        },
        {
         "hoverinfo": "none",
         "line": {
          "color": "#872341",
          "width": 0.5
         },
         "mode": "lines",
         "showlegend": false,
         "type": "scatter",
         "x": [
          5594,
          5747
         ],
         "y": [
          259,
          279.5
         ]
        },
        {
         "hoverinfo": "none",
         "line": {
          "color": "#2d98b5",
          "width": 0.5
         },
         "mode": "lines",
         "showlegend": false,
         "type": "scatter",
         "x": [
          5747,
          5900
         ],
         "y": [
          279.5,
          300
         ]
        },
        {
         "hoverinfo": "none",
         "line": {
          "color": "#872341",
          "width": 0.5
         },
         "mode": "lines",
         "showlegend": false,
         "type": "scatter",
         "x": [
          10000,
          5437.5000305
         ],
         "y": [
          -146,
          677
         ]
        },
        {
         "hoverinfo": "none",
         "line": {
          "color": "#2d98b5",
          "width": 0.5
         },
         "mode": "lines",
         "showlegend": false,
         "type": "scatter",
         "x": [
          5437.5000305,
          875.000061
         ],
         "y": [
          677,
          1500
         ]
        },
        {
         "hoverinfo": "none",
         "line": {
          "color": "#872341",
          "width": 0.5
         },
         "mode": "lines",
         "showlegend": false,
         "type": "scatter",
         "x": [
          10000,
          5425.0000305
         ],
         "y": [
          -146,
          -873
         ]
        },
        {
         "hoverinfo": "none",
         "line": {
          "color": "#2d98b5",
          "width": 0.5
         },
         "mode": "lines",
         "showlegend": false,
         "type": "scatter",
         "x": [
          5425.0000305,
          850.000061
         ],
         "y": [
          -873,
          -1600
         ]
        },
        {
         "hoverinfo": "none",
         "line": {
          "color": "#872341",
          "width": 0.5
         },
         "mode": "lines",
         "showlegend": false,
         "type": "scatter",
         "x": [
          10000,
          5425.0000305
         ],
         "y": [
          -146,
          -1185.5
         ]
        },
        {
         "hoverinfo": "none",
         "line": {
          "color": "#2d98b5",
          "width": 0.5
         },
         "mode": "lines",
         "showlegend": false,
         "type": "scatter",
         "x": [
          5425.0000305,
          850.000061
         ],
         "y": [
          -1185.5,
          -2225
         ]
        },
        {
         "hoverinfo": "none",
         "line": {
          "color": "#872341",
          "width": 0.5
         },
         "mode": "lines",
         "showlegend": false,
         "type": "scatter",
         "x": [
          10000,
          5425.0000305
         ],
         "y": [
          -146,
          -510.5000305
         ]
        },
        {
         "hoverinfo": "none",
         "line": {
          "color": "#2d98b5",
          "width": 0.5
         },
         "mode": "lines",
         "showlegend": false,
         "type": "scatter",
         "x": [
          5425.0000305,
          850.000061
         ],
         "y": [
          -510.5000305,
          -875.000061
         ]
        },
        {
         "hoverinfo": "none",
         "line": {
          "color": "#872341",
          "width": 0.5
         },
         "mode": "lines",
         "showlegend": false,
         "type": "scatter",
         "x": [
          10000,
          5425.0000305
         ],
         "y": [
          -146,
          -1810.50012
         ]
        },
        {
         "hoverinfo": "none",
         "line": {
          "color": "#2d98b5",
          "width": 0.5
         },
         "mode": "lines",
         "showlegend": false,
         "type": "scatter",
         "x": [
          5425.0000305,
          850.000061
         ],
         "y": [
          -1810.50012,
          -3475.00024
         ]
        },
        {
         "hoverinfo": "none",
         "line": {
          "color": "#872341",
          "width": 0.5
         },
         "mode": "lines",
         "showlegend": false,
         "type": "scatter",
         "x": [
          10000,
          5425.0000305
         ],
         "y": [
          -146,
          -1473
         ]
        },
        {
         "hoverinfo": "none",
         "line": {
          "color": "#2d98b5",
          "width": 0.5
         },
         "mode": "lines",
         "showlegend": false,
         "type": "scatter",
         "x": [
          5425.0000305,
          850.000061
         ],
         "y": [
          -1473,
          -2800
         ]
        },
        {
         "hoverinfo": "none",
         "line": {
          "color": "#872341",
          "width": 0.5
         },
         "mode": "lines",
         "showlegend": false,
         "type": "scatter",
         "x": [
          10000,
          5437.5000305
         ],
         "y": [
          -146,
          1239.5
         ]
        },
        {
         "hoverinfo": "none",
         "line": {
          "color": "#2d98b5",
          "width": 0.5
         },
         "mode": "lines",
         "showlegend": false,
         "type": "scatter",
         "x": [
          5437.5000305,
          875.000061
         ],
         "y": [
          1239.5,
          2625
         ]
        },
        {
         "hoverinfo": "none",
         "line": {
          "color": "#872341",
          "width": 0.5
         },
         "mode": "lines",
         "showlegend": false,
         "type": "scatter",
         "x": [
          3250,
          2062.5000305
         ],
         "y": [
          -2375,
          -437.5
         ]
        },
        {
         "hoverinfo": "none",
         "line": {
          "color": "#2d98b5",
          "width": 0.5
         },
         "mode": "lines",
         "showlegend": false,
         "type": "scatter",
         "x": [
          2062.5000305,
          875.000061
         ],
         "y": [
          -437.5,
          1500
         ]
        },
        {
         "hoverinfo": "none",
         "line": {
          "color": "#872341",
          "width": 0.5
         },
         "mode": "lines",
         "showlegend": false,
         "type": "scatter",
         "x": [
          3250,
          2050.0000305
         ],
         "y": [
          -2375,
          -1987.5
         ]
        },
        {
         "hoverinfo": "none",
         "line": {
          "color": "#2d98b5",
          "width": 0.5
         },
         "mode": "lines",
         "showlegend": false,
         "type": "scatter",
         "x": [
          2050.0000305,
          850.000061
         ],
         "y": [
          -1987.5,
          -1600
         ]
        },
        {
         "hoverinfo": "none",
         "line": {
          "color": "#872341",
          "width": 0.5
         },
         "mode": "lines",
         "showlegend": false,
         "type": "scatter",
         "x": [
          3250,
          2050.0000305
         ],
         "y": [
          -2375,
          -2300
         ]
        },
        {
         "hoverinfo": "none",
         "line": {
          "color": "#2d98b5",
          "width": 0.5
         },
         "mode": "lines",
         "showlegend": false,
         "type": "scatter",
         "x": [
          2050.0000305,
          850.000061
         ],
         "y": [
          -2300,
          -2225
         ]
        },
        {
         "hoverinfo": "none",
         "line": {
          "color": "#872341",
          "width": 0.5
         },
         "mode": "lines",
         "showlegend": false,
         "type": "scatter",
         "x": [
          3250,
          2050.0000305
         ],
         "y": [
          -2375,
          -1625.0000304999999
         ]
        },
        {
         "hoverinfo": "none",
         "line": {
          "color": "#2d98b5",
          "width": 0.5
         },
         "mode": "lines",
         "showlegend": false,
         "type": "scatter",
         "x": [
          2050.0000305,
          850.000061
         ],
         "y": [
          -1625.0000304999999,
          -875.000061
         ]
        },
        {
         "hoverinfo": "none",
         "line": {
          "color": "#872341",
          "width": 0.5
         },
         "mode": "lines",
         "showlegend": false,
         "type": "scatter",
         "x": [
          3250,
          2050.0000305
         ],
         "y": [
          -2375,
          -2925.0001199999997
         ]
        },
        {
         "hoverinfo": "none",
         "line": {
          "color": "#2d98b5",
          "width": 0.5
         },
         "mode": "lines",
         "showlegend": false,
         "type": "scatter",
         "x": [
          2050.0000305,
          850.000061
         ],
         "y": [
          -2925.0001199999997,
          -3475.00024
         ]
        },
        {
         "hoverinfo": "none",
         "line": {
          "color": "#872341",
          "width": 0.5
         },
         "mode": "lines",
         "showlegend": false,
         "type": "scatter",
         "x": [
          3250,
          2050.0000305
         ],
         "y": [
          -2375,
          -2587.5
         ]
        },
        {
         "hoverinfo": "none",
         "line": {
          "color": "#2d98b5",
          "width": 0.5
         },
         "mode": "lines",
         "showlegend": false,
         "type": "scatter",
         "x": [
          2050.0000305,
          850.000061
         ],
         "y": [
          -2587.5,
          -2800
         ]
        },
        {
         "hoverinfo": "none",
         "line": {
          "color": "#872341",
          "width": 0.5
         },
         "mode": "lines",
         "showlegend": false,
         "type": "scatter",
         "x": [
          3250,
          2062.5000305
         ],
         "y": [
          -2375,
          125
         ]
        },
        {
         "hoverinfo": "none",
         "line": {
          "color": "#2d98b5",
          "width": 0.5
         },
         "mode": "lines",
         "showlegend": false,
         "type": "scatter",
         "x": [
          2062.5000305,
          875.000061
         ],
         "y": [
          125,
          2625
         ]
        },
        {
         "hoverinfo": "none",
         "line": {
          "color": "#872341",
          "width": 0.5
         },
         "mode": "lines",
         "showlegend": false,
         "type": "scatter",
         "x": [
          2900,
          3046.5
         ],
         "y": [
          -1350,
          -1337
         ]
        },
        {
         "hoverinfo": "none",
         "line": {
          "color": "#2d98b5",
          "width": 0.5
         },
         "mode": "lines",
         "showlegend": false,
         "type": "scatter",
         "x": [
          3046.5,
          3193
         ],
         "y": [
          -1337,
          -1324
         ]
        },
        {
         "hoverinfo": "none",
         "line": {
          "color": "#872341",
          "width": 0.5
         },
         "mode": "lines",
         "showlegend": false,
         "type": "scatter",
         "x": [
          4100,
          4249.5
         ],
         "y": [
          -750,
          -775
         ]
        },
        {
         "hoverinfo": "none",
         "line": {
          "color": "#2d98b5",
          "width": 0.5
         },
         "mode": "lines",
         "showlegend": false,
         "type": "scatter",
         "x": [
          4249.5,
          4399
         ],
         "y": [
          -775,
          -800
         ]
        },
        {
         "hoverinfo": "none",
         "line": {
          "color": "#872341",
          "width": 0.5
         },
         "mode": "lines",
         "showlegend": false,
         "type": "scatter",
         "x": [
          5300,
          5447
         ],
         "y": [
          251.999985,
          255.49999250000002
         ]
        },
        {
         "hoverinfo": "none",
         "line": {
          "color": "#2d98b5",
          "width": 0.5
         },
         "mode": "lines",
         "showlegend": false,
         "type": "scatter",
         "x": [
          5447,
          5594
         ],
         "y": [
          255.49999250000002,
          259
         ]
        },
        {
         "hoverinfo": "none",
         "line": {
          "color": "#872341",
          "width": 0.5
         },
         "mode": "lines",
         "showlegend": false,
         "type": "scatter",
         "x": [
          850.000061,
          1000.0000305
         ],
         "y": [
          -3475.00024,
          -3475.00024
         ]
        },
        {
         "hoverinfo": "none",
         "line": {
          "color": "#2d98b5",
          "width": 0.5
         },
         "mode": "lines",
         "showlegend": false,
         "type": "scatter",
         "x": [
          1000.0000305,
          1150
         ],
         "y": [
          -3475.00024,
          -3475.00024
         ]
        },
        {
         "hoverinfo": "none",
         "line": {
          "color": "#872341",
          "width": 0.5
         },
         "mode": "lines",
         "showlegend": false,
         "type": "scatter",
         "x": [
          6401,
          6546.5
         ],
         "y": [
          -1115,
          -1246.5
         ]
        },
        {
         "hoverinfo": "none",
         "line": {
          "color": "#2d98b5",
          "width": 0.5
         },
         "mode": "lines",
         "showlegend": false,
         "type": "scatter",
         "x": [
          6546.5,
          6692
         ],
         "y": [
          -1246.5,
          -1378
         ]
        },
        {
         "hoverinfo": "none",
         "line": {
          "color": "#872341",
          "width": 0.5
         },
         "mode": "lines",
         "showlegend": false,
         "type": "scatter",
         "x": [
          6401,
          6551
         ],
         "y": [
          -1115,
          -1019.5
         ]
        },
        {
         "hoverinfo": "none",
         "line": {
          "color": "#2d98b5",
          "width": 0.5
         },
         "mode": "lines",
         "showlegend": false,
         "type": "scatter",
         "x": [
          6551,
          6701
         ],
         "y": [
          -1019.5,
          -924
         ]
        },
        {
         "hoverinfo": "none",
         "line": {
          "color": "#872341",
          "width": 0.5
         },
         "mode": "lines",
         "showlegend": false,
         "type": "scatter",
         "x": [
          1468,
          1171.5000304999999
         ],
         "y": [
          1924,
          1712
         ]
        },
        {
         "hoverinfo": "none",
         "line": {
          "color": "#2d98b5",
          "width": 0.5
         },
         "mode": "lines",
         "showlegend": false,
         "type": "scatter",
         "x": [
          1171.5000304999999,
          875.000061
         ],
         "y": [
          1712,
          1500
         ]
        },
        {
         "hoverinfo": "none",
         "line": {
          "color": "#872341",
          "width": 0.5
         },
         "mode": "lines",
         "showlegend": false,
         "type": "scatter",
         "x": [
          1468,
          1159.0000304999999
         ],
         "y": [
          1924,
          162
         ]
        },
        {
         "hoverinfo": "none",
         "line": {
          "color": "#2d98b5",
          "width": 0.5
         },
         "mode": "lines",
         "showlegend": false,
         "type": "scatter",
         "x": [
          1159.0000304999999,
          850.000061
         ],
         "y": [
          162,
          -1600
         ]
        },
        {
         "hoverinfo": "none",
         "line": {
          "color": "#872341",
          "width": 0.5
         },
         "mode": "lines",
         "showlegend": false,
         "type": "scatter",
         "x": [
          1468,
          1159.0000304999999
         ],
         "y": [
          1924,
          -150.5
         ]
        },
        {
         "hoverinfo": "none",
         "line": {
          "color": "#2d98b5",
          "width": 0.5
         },
         "mode": "lines",
         "showlegend": false,
         "type": "scatter",
         "x": [
          1159.0000304999999,
          850.000061
         ],
         "y": [
          -150.5,
          -2225
         ]
        },
        {
         "hoverinfo": "none",
         "line": {
          "color": "#872341",
          "width": 0.5
         },
         "mode": "lines",
         "showlegend": false,
         "type": "scatter",
         "x": [
          1468,
          1159.0000304999999
         ],
         "y": [
          1924,
          524.4999695
         ]
        },
        {
         "hoverinfo": "none",
         "line": {
          "color": "#2d98b5",
          "width": 0.5
         },
         "mode": "lines",
         "showlegend": false,
         "type": "scatter",
         "x": [
          1159.0000304999999,
          850.000061
         ],
         "y": [
          524.4999695,
          -875.000061
         ]
        },
        {
         "hoverinfo": "none",
         "line": {
          "color": "#872341",
          "width": 0.5
         },
         "mode": "lines",
         "showlegend": false,
         "type": "scatter",
         "x": [
          1468,
          1159.0000304999999
         ],
         "y": [
          1924,
          -775.5001199999999
         ]
        },
        {
         "hoverinfo": "none",
         "line": {
          "color": "#2d98b5",
          "width": 0.5
         },
         "mode": "lines",
         "showlegend": false,
         "type": "scatter",
         "x": [
          1159.0000304999999,
          850.000061
         ],
         "y": [
          -775.5001199999999,
          -3475.00024
         ]
        },
        {
         "hoverinfo": "none",
         "line": {
          "color": "#872341",
          "width": 0.5
         },
         "mode": "lines",
         "showlegend": false,
         "type": "scatter",
         "x": [
          1468,
          1159.0000304999999
         ],
         "y": [
          1924,
          -438
         ]
        },
        {
         "hoverinfo": "none",
         "line": {
          "color": "#2d98b5",
          "width": 0.5
         },
         "mode": "lines",
         "showlegend": false,
         "type": "scatter",
         "x": [
          1159.0000304999999,
          850.000061
         ],
         "y": [
          -438,
          -2800
         ]
        },
        {
         "hoverinfo": "none",
         "line": {
          "color": "#872341",
          "width": 0.5
         },
         "mode": "lines",
         "showlegend": false,
         "type": "scatter",
         "x": [
          1468,
          1171.5000304999999
         ],
         "y": [
          1924,
          2274.5
         ]
        },
        {
         "hoverinfo": "none",
         "line": {
          "color": "#2d98b5",
          "width": 0.5
         },
         "mode": "lines",
         "showlegend": false,
         "type": "scatter",
         "x": [
          1171.5000304999999,
          875.000061
         ],
         "y": [
          2274.5,
          2625
         ]
        },
        {
         "hoverinfo": "none",
         "line": {
          "color": "#872341",
          "width": 0.5
         },
         "mode": "lines",
         "showlegend": false,
         "type": "scatter",
         "x": [
          2900,
          3050
         ],
         "y": [
          -1900.00012,
          -1962.50012
         ]
        },
        {
         "hoverinfo": "none",
         "line": {
          "color": "#2d98b5",
          "width": 0.5
         },
         "mode": "lines",
         "showlegend": false,
         "type": "scatter",
         "x": [
          3050,
          3200
         ],
         "y": [
          -1962.50012,
          -2025.00012
         ]
        },
        {
         "hoverinfo": "none",
         "line": {
          "color": "#872341",
          "width": 0.5
         },
         "mode": "lines",
         "showlegend": false,
         "type": "scatter",
         "x": [
          2900,
          3050
         ],
         "y": [
          -1900.00012,
          -1850.00012
         ]
        },
        {
         "hoverinfo": "none",
         "line": {
          "color": "#2d98b5",
          "width": 0.5
         },
         "mode": "lines",
         "showlegend": false,
         "type": "scatter",
         "x": [
          3050,
          3200
         ],
         "y": [
          -1850.00012,
          -1800.00012
         ]
        },
        {
         "hoverinfo": "none",
         "line": {
          "color": "#872341",
          "width": 0.5
         },
         "mode": "lines",
         "showlegend": false,
         "type": "scatter",
         "x": [
          4100,
          4250
         ],
         "y": [
          -1900.00012,
          -1899.0000599999998
         ]
        },
        {
         "hoverinfo": "none",
         "line": {
          "color": "#2d98b5",
          "width": 0.5
         },
         "mode": "lines",
         "showlegend": false,
         "type": "scatter",
         "x": [
          4250,
          4400
         ],
         "y": [
          -1899.0000599999998,
          -1898
         ]
        },
        {
         "hoverinfo": "none",
         "line": {
          "color": "#872341",
          "width": 0.5
         },
         "mode": "lines",
         "showlegend": false,
         "type": "scatter",
         "x": [
          3498,
          3649.0001199999997
         ],
         "y": [
          -834,
          -754.5
         ]
        },
        {
         "hoverinfo": "none",
         "line": {
          "color": "#2d98b5",
          "width": 0.5
         },
         "mode": "lines",
         "showlegend": false,
         "type": "scatter",
         "x": [
          3649.0001199999997,
          3800.00024
         ],
         "y": [
          -754.5,
          -675
         ]
        },
        {
         "hoverinfo": "none",
         "line": {
          "color": "#872341",
          "width": 0.5
         },
         "mode": "lines",
         "showlegend": false,
         "type": "scatter",
         "x": [
          5850,
          5986.5
         ],
         "y": [
          -1075,
          -1096
         ]
        },
        {
         "hoverinfo": "none",
         "line": {
          "color": "#2d98b5",
          "width": 0.5
         },
         "mode": "lines",
         "showlegend": false,
         "type": "scatter",
         "x": [
          5986.5,
          6123
         ],
         "y": [
          -1096,
          -1117
         ]
        },
        {
         "hoverinfo": "none",
         "line": {
          "color": "#872341",
          "width": 0.5
         },
         "mode": "lines",
         "showlegend": false,
         "type": "scatter",
         "x": [
          7676,
          5138
         ],
         "y": [
          -1131,
          -565.5
         ]
        },
        {
         "hoverinfo": "none",
         "line": {
          "color": "#2d98b5",
          "width": 0.5
         },
         "mode": "lines",
         "showlegend": false,
         "type": "scatter",
         "x": [
          5138,
          2600
         ],
         "y": [
          -565.5,
          0
         ]
        },
        {
         "hoverinfo": "none",
         "line": {
          "color": "#872341",
          "width": 0.5
         },
         "mode": "lines",
         "showlegend": false,
         "type": "scatter",
         "x": [
          7676,
          5138
         ],
         "y": [
          -1131,
          -903
         ]
        },
        {
         "hoverinfo": "none",
         "line": {
          "color": "#2d98b5",
          "width": 0.5
         },
         "mode": "lines",
         "showlegend": false,
         "type": "scatter",
         "x": [
          5138,
          2600
         ],
         "y": [
          -903,
          -675
         ]
        },
        {
         "hoverinfo": "none",
         "line": {
          "color": "#872341",
          "width": 0.5
         },
         "mode": "lines",
         "showlegend": false,
         "type": "scatter",
         "x": [
          7676,
          5138
         ],
         "y": [
          -1131,
          -1515.5000599999998
         ]
        },
        {
         "hoverinfo": "none",
         "line": {
          "color": "#2d98b5",
          "width": 0.5
         },
         "mode": "lines",
         "showlegend": false,
         "type": "scatter",
         "x": [
          5138,
          2600
         ],
         "y": [
          -1515.5000599999998,
          -1900.00012
         ]
        },
        {
         "hoverinfo": "none",
         "line": {
          "color": "#872341",
          "width": 0.5
         },
         "mode": "lines",
         "showlegend": false,
         "type": "scatter",
         "x": [
          7676,
          5132.5
         ],
         "y": [
          -1131,
          -375.5
         ]
        },
        {
         "hoverinfo": "none",
         "line": {
          "color": "#2d98b5",
          "width": 0.5
         },
         "mode": "lines",
         "showlegend": false,
         "type": "scatter",
         "x": [
          5132.5,
          2589
         ],
         "y": [
          -375.5,
          380
         ]
        },
        {
         "hoverinfo": "none",
         "line": {
          "color": "#872341",
          "width": 0.5
         },
         "mode": "lines",
         "showlegend": false,
         "type": "scatter",
         "x": [
          7676,
          5138
         ],
         "y": [
          -1131,
          -1215.5
         ]
        },
        {
         "hoverinfo": "none",
         "line": {
          "color": "#2d98b5",
          "width": 0.5
         },
         "mode": "lines",
         "showlegend": false,
         "type": "scatter",
         "x": [
          5138,
          2600
         ],
         "y": [
          -1215.5,
          -1300
         ]
        },
        {
         "hoverinfo": "none",
         "line": {
          "color": "#872341",
          "width": 0.5
         },
         "mode": "lines",
         "showlegend": false,
         "type": "scatter",
         "x": [
          7676,
          5138
         ],
         "y": [
          -1131,
          -1365.5
         ]
        },
        {
         "hoverinfo": "none",
         "line": {
          "color": "#2d98b5",
          "width": 0.5
         },
         "mode": "lines",
         "showlegend": false,
         "type": "scatter",
         "x": [
          5138,
          2600
         ],
         "y": [
          -1365.5,
          -1600
         ]
        },
        {
         "hoverinfo": "none",
         "line": {
          "color": "#872341",
          "width": 0.5
         },
         "mode": "lines",
         "showlegend": false,
         "type": "scatter",
         "x": [
          4096,
          4248
         ],
         "y": [
          -518,
          -521.5
         ]
        },
        {
         "hoverinfo": "none",
         "line": {
          "color": "#2d98b5",
          "width": 0.5
         },
         "mode": "lines",
         "showlegend": false,
         "type": "scatter",
         "x": [
          4248,
          4400
         ],
         "y": [
          -521.5,
          -525
         ]
        },
        {
         "hoverinfo": "none",
         "line": {
          "color": "#872341",
          "width": 0.5
         },
         "mode": "lines",
         "showlegend": false,
         "type": "scatter",
         "x": [
          4400,
          4550
         ],
         "y": [
          -525,
          -587.5
         ]
        },
        {
         "hoverinfo": "none",
         "line": {
          "color": "#2d98b5",
          "width": 0.5
         },
         "mode": "lines",
         "showlegend": false,
         "type": "scatter",
         "x": [
          4550,
          4700
         ],
         "y": [
          -587.5,
          -650
         ]
        },
        {
         "hoverinfo": "none",
         "line": {
          "color": "#872341",
          "width": 0.5
         },
         "mode": "lines",
         "showlegend": false,
         "type": "scatter",
         "x": [
          5600,
          5750
         ],
         "y": [
          -625,
          -637.5
         ]
        },
        {
         "hoverinfo": "none",
         "line": {
          "color": "#2d98b5",
          "width": 0.5
         },
         "mode": "lines",
         "showlegend": false,
         "type": "scatter",
         "x": [
          5750,
          5900
         ],
         "y": [
          -637.5,
          -650
         ]
        },
        {
         "hoverinfo": "none",
         "line": {
          "color": "#872341",
          "width": 0.5
         },
         "mode": "lines",
         "showlegend": false,
         "type": "scatter",
         "x": [
          6773.99951,
          6512.999755
         ],
         "y": [
          -3755.00024,
          -3074.0001199999997
         ]
        },
        {
         "hoverinfo": "none",
         "line": {
          "color": "#2d98b5",
          "width": 0.5
         },
         "mode": "lines",
         "showlegend": false,
         "type": "scatter",
         "x": [
          6512.999755,
          6252
         ],
         "y": [
          -3074.0001199999997,
          -2393
         ]
        },
        {
         "hoverinfo": "none",
         "line": {
          "color": "#872341",
          "width": 0.5
         },
         "mode": "lines",
         "showlegend": false,
         "type": "scatter",
         "x": [
          6773.99951,
          6499.499755
         ],
         "y": [
          -3755.00024,
          -3577.50024
         ]
        },
        {
         "hoverinfo": "none",
         "line": {
          "color": "#2d98b5",
          "width": 0.5
         },
         "mode": "lines",
         "showlegend": false,
         "type": "scatter",
         "x": [
          6499.499755,
          6225
         ],
         "y": [
          -3577.50024,
          -3400.00024
         ]
        },
        {
         "hoverinfo": "none",
         "line": {
          "color": "#872341",
          "width": 0.5
         },
         "mode": "lines",
         "showlegend": false,
         "type": "scatter",
         "x": [
          6773.99951,
          6512.999755
         ],
         "y": [
          -3755.00024,
          -3211.5001199999997
         ]
        },
        {
         "hoverinfo": "none",
         "line": {
          "color": "#2d98b5",
          "width": 0.5
         },
         "mode": "lines",
         "showlegend": false,
         "type": "scatter",
         "x": [
          6512.999755,
          6252
         ],
         "y": [
          -3211.5001199999997,
          -2668
         ]
        },
        {
         "hoverinfo": "none",
         "line": {
          "color": "#872341",
          "width": 0.5
         },
         "mode": "lines",
         "showlegend": false,
         "type": "scatter",
         "x": [
          6773.99951,
          6499.499755
         ],
         "y": [
          -3755.00024,
          -3390.0001199999997
         ]
        },
        {
         "hoverinfo": "none",
         "line": {
          "color": "#2d98b5",
          "width": 0.5
         },
         "mode": "lines",
         "showlegend": false,
         "type": "scatter",
         "x": [
          6499.499755,
          6225
         ],
         "y": [
          -3390.0001199999997,
          -3025
         ]
        },
        {
         "hoverinfo": "none",
         "line": {
          "color": "#872341",
          "width": 0.5
         },
         "mode": "lines",
         "showlegend": false,
         "type": "scatter",
         "x": [
          6773.99951,
          6473.999755
         ],
         "y": [
          -3755.00024,
          -3755.00024
         ]
        },
        {
         "hoverinfo": "none",
         "line": {
          "color": "#2d98b5",
          "width": 0.5
         },
         "mode": "lines",
         "showlegend": false,
         "type": "scatter",
         "x": [
          6473.999755,
          6174
         ],
         "y": [
          -3755.00024,
          -3755.00024
         ]
        },
        {
         "hoverinfo": "none",
         "line": {
          "color": "#872341",
          "width": 0.5
         },
         "mode": "lines",
         "showlegend": false,
         "type": "scatter",
         "x": [
          5562,
          5106
         ],
         "y": [
          -1465,
          -1395
         ]
        },
        {
         "hoverinfo": "none",
         "line": {
          "color": "#2d98b5",
          "width": 0.5
         },
         "mode": "lines",
         "showlegend": false,
         "type": "scatter",
         "x": [
          5106,
          4650
         ],
         "y": [
          -1395,
          -1325
         ]
        },
        {
         "hoverinfo": "none",
         "line": {
          "color": "#872341",
          "width": 0.5
         },
         "mode": "lines",
         "showlegend": false,
         "type": "scatter",
         "x": [
          5562,
          5109
         ],
         "y": [
          -1465,
          -1265.5
         ]
        },
        {
         "hoverinfo": "none",
         "line": {
          "color": "#2d98b5",
          "width": 0.5
         },
         "mode": "lines",
         "showlegend": false,
         "type": "scatter",
         "x": [
          5109,
          4656
         ],
         "y": [
          -1265.5,
          -1066
         ]
        },
        {
         "hoverinfo": "none",
         "line": {
          "color": "#872341",
          "width": 0.5
         },
         "mode": "lines",
         "showlegend": false,
         "type": "scatter",
         "x": [
          6701,
          6849.999755
         ],
         "y": [
          -924,
          -939
         ]
        },
        {
         "hoverinfo": "none",
         "line": {
          "color": "#2d98b5",
          "width": 0.5
         },
         "mode": "lines",
         "showlegend": false,
         "type": "scatter",
         "x": [
          6849.999755,
          6998.99951
         ],
         "y": [
          -939,
          -954
         ]
        },
        {
         "hoverinfo": "none",
         "line": {
          "color": "#872341",
          "width": 0.5
         },
         "mode": "lines",
         "showlegend": false,
         "type": "scatter",
         "x": [
          5300,
          5450
         ],
         "y": [
          -650,
          -637.5
         ]
        },
        {
         "hoverinfo": "none",
         "line": {
          "color": "#2d98b5",
          "width": 0.5
         },
         "mode": "lines",
         "showlegend": false,
         "type": "scatter",
         "x": [
          5450,
          5600
         ],
         "y": [
          -637.5,
          -625
         ]
        },
        {
         "hoverinfo": "none",
         "line": {
          "color": "#872341",
          "width": 0.5
         },
         "mode": "lines",
         "showlegend": false,
         "type": "scatter",
         "x": [
          2900,
          3050
         ],
         "y": [
          0,
          0
         ]
        },
        {
         "hoverinfo": "none",
         "line": {
          "color": "#2d98b5",
          "width": 0.5
         },
         "mode": "lines",
         "showlegend": false,
         "type": "scatter",
         "x": [
          3050,
          3200
         ],
         "y": [
          0,
          0
         ]
        },
        {
         "hoverinfo": "none",
         "line": {
          "color": "#872341",
          "width": 0.5
         },
         "mode": "lines",
         "showlegend": false,
         "type": "scatter",
         "x": [
          1750.00012,
          2175.00006
         ],
         "y": [
          -1050,
          -525
         ]
        },
        {
         "hoverinfo": "none",
         "line": {
          "color": "#2d98b5",
          "width": 0.5
         },
         "mode": "lines",
         "showlegend": false,
         "type": "scatter",
         "x": [
          2175.00006,
          2600
         ],
         "y": [
          -525,
          0
         ]
        },
        {
         "hoverinfo": "none",
         "line": {
          "color": "#872341",
          "width": 0.5
         },
         "mode": "lines",
         "showlegend": false,
         "type": "scatter",
         "x": [
          1750.00012,
          2175.00006
         ],
         "y": [
          -1050,
          -862.5
         ]
        },
        {
         "hoverinfo": "none",
         "line": {
          "color": "#2d98b5",
          "width": 0.5
         },
         "mode": "lines",
         "showlegend": false,
         "type": "scatter",
         "x": [
          2175.00006,
          2600
         ],
         "y": [
          -862.5,
          -675
         ]
        },
        {
         "hoverinfo": "none",
         "line": {
          "color": "#872341",
          "width": 0.5
         },
         "mode": "lines",
         "showlegend": false,
         "type": "scatter",
         "x": [
          1750.00012,
          2175.00006
         ],
         "y": [
          -1050,
          -1475.0000599999998
         ]
        },
        {
         "hoverinfo": "none",
         "line": {
          "color": "#2d98b5",
          "width": 0.5
         },
         "mode": "lines",
         "showlegend": false,
         "type": "scatter",
         "x": [
          2175.00006,
          2600
         ],
         "y": [
          -1475.0000599999998,
          -1900.00012
         ]
        },
        {
         "hoverinfo": "none",
         "line": {
          "color": "#872341",
          "width": 0.5
         },
         "mode": "lines",
         "showlegend": false,
         "type": "scatter",
         "x": [
          1750.00012,
          2169.50006
         ],
         "y": [
          -1050,
          -335
         ]
        },
        {
         "hoverinfo": "none",
         "line": {
          "color": "#2d98b5",
          "width": 0.5
         },
         "mode": "lines",
         "showlegend": false,
         "type": "scatter",
         "x": [
          2169.50006,
          2589
         ],
         "y": [
          -335,
          380
         ]
        },
        {
         "hoverinfo": "none",
         "line": {
          "color": "#872341",
          "width": 0.5
         },
         "mode": "lines",
         "showlegend": false,
         "type": "scatter",
         "x": [
          1750.00012,
          2175.00006
         ],
         "y": [
          -1050,
          -1175
         ]
        },
        {
         "hoverinfo": "none",
         "line": {
          "color": "#2d98b5",
          "width": 0.5
         },
         "mode": "lines",
         "showlegend": false,
         "type": "scatter",
         "x": [
          2175.00006,
          2600
         ],
         "y": [
          -1175,
          -1300
         ]
        },
        {
         "hoverinfo": "none",
         "line": {
          "color": "#872341",
          "width": 0.5
         },
         "mode": "lines",
         "showlegend": false,
         "type": "scatter",
         "x": [
          1750.00012,
          2175.00006
         ],
         "y": [
          -1050,
          -1325
         ]
        },
        {
         "hoverinfo": "none",
         "line": {
          "color": "#2d98b5",
          "width": 0.5
         },
         "mode": "lines",
         "showlegend": false,
         "type": "scatter",
         "x": [
          2175.00006,
          2600
         ],
         "y": [
          -1325,
          -1600
         ]
        },
        {
         "hoverinfo": "none",
         "line": {
          "color": "#872341",
          "width": 0.5
         },
         "mode": "lines",
         "showlegend": false,
         "type": "scatter",
         "x": [
          3800.00024,
          3949.5001199999997
         ],
         "y": [
          -250.000015,
          -262.5000075
         ]
        },
        {
         "hoverinfo": "none",
         "line": {
          "color": "#2d98b5",
          "width": 0.5
         },
         "mode": "lines",
         "showlegend": false,
         "type": "scatter",
         "x": [
          3949.5001199999997,
          4099
         ],
         "y": [
          -262.5000075,
          -275
         ]
        },
        {
         "hoverinfo": "none",
         "line": {
          "color": "#872341",
          "width": 0.5
         },
         "mode": "lines",
         "showlegend": false,
         "type": "scatter",
         "x": [
          3800.00024,
          3950.0001199999997
         ],
         "y": [
          0,
          -12.5
         ]
        },
        {
         "hoverinfo": "none",
         "line": {
          "color": "#2d98b5",
          "width": 0.5
         },
         "mode": "lines",
         "showlegend": false,
         "type": "scatter",
         "x": [
          3950.0001199999997,
          4100
         ],
         "y": [
          -12.5,
          -25
         ]
        },
        {
         "hoverinfo": "none",
         "line": {
          "color": "#872341",
          "width": 0.5
         },
         "mode": "lines",
         "showlegend": false,
         "type": "scatter",
         "x": [
          2350,
          2500
         ],
         "y": [
          -3575.00024,
          -3575.00024
         ]
        },
        {
         "hoverinfo": "none",
         "line": {
          "color": "#2d98b5",
          "width": 0.5
         },
         "mode": "lines",
         "showlegend": false,
         "type": "scatter",
         "x": [
          2500,
          2650
         ],
         "y": [
          -3575.00024,
          -3575.00024
         ]
        },
        {
         "hoverinfo": "none",
         "line": {
          "color": "#872341",
          "width": 0.5
         },
         "mode": "lines",
         "showlegend": false,
         "type": "scatter",
         "x": [
          3800.00024,
          3950.0001199999997
         ],
         "y": [
          -1950.00012,
          -1925.00012
         ]
        },
        {
         "hoverinfo": "none",
         "line": {
          "color": "#2d98b5",
          "width": 0.5
         },
         "mode": "lines",
         "showlegend": false,
         "type": "scatter",
         "x": [
          3950.0001199999997,
          4100
         ],
         "y": [
          -1925.00012,
          -1900.00012
         ]
        },
        {
         "hoverinfo": "none",
         "line": {
          "color": "#872341",
          "width": 0.5
         },
         "mode": "lines",
         "showlegend": false,
         "type": "scatter",
         "x": [
          4400,
          3500
         ],
         "y": [
          -1898,
          -949
         ]
        },
        {
         "hoverinfo": "none",
         "line": {
          "color": "#2d98b5",
          "width": 0.5
         },
         "mode": "lines",
         "showlegend": false,
         "type": "scatter",
         "x": [
          3500,
          2600
         ],
         "y": [
          -949,
          0
         ]
        },
        {
         "hoverinfo": "none",
         "line": {
          "color": "#872341",
          "width": 0.5
         },
         "mode": "lines",
         "showlegend": false,
         "type": "scatter",
         "x": [
          4400,
          3500
         ],
         "y": [
          -1898,
          -1286.5
         ]
        },
        {
         "hoverinfo": "none",
         "line": {
          "color": "#2d98b5",
          "width": 0.5
         },
         "mode": "lines",
         "showlegend": false,
         "type": "scatter",
         "x": [
          3500,
          2600
         ],
         "y": [
          -1286.5,
          -675
         ]
        },
        {
         "hoverinfo": "none",
         "line": {
          "color": "#872341",
          "width": 0.5
         },
         "mode": "lines",
         "showlegend": false,
         "type": "scatter",
         "x": [
          4400,
          3500
         ],
         "y": [
          -1898,
          -1899.0000599999998
         ]
        },
        {
         "hoverinfo": "none",
         "line": {
          "color": "#2d98b5",
          "width": 0.5
         },
         "mode": "lines",
         "showlegend": false,
         "type": "scatter",
         "x": [
          3500,
          2600
         ],
         "y": [
          -1899.0000599999998,
          -1900.00012
         ]
        },
        {
         "hoverinfo": "none",
         "line": {
          "color": "#872341",
          "width": 0.5
         },
         "mode": "lines",
         "showlegend": false,
         "type": "scatter",
         "x": [
          4400,
          3494.5
         ],
         "y": [
          -1898,
          -759
         ]
        },
        {
         "hoverinfo": "none",
         "line": {
          "color": "#2d98b5",
          "width": 0.5
         },
         "mode": "lines",
         "showlegend": false,
         "type": "scatter",
         "x": [
          3494.5,
          2589
         ],
         "y": [
          -759,
          380
         ]
        },
        {
         "hoverinfo": "none",
         "line": {
          "color": "#872341",
          "width": 0.5
         },
         "mode": "lines",
         "showlegend": false,
         "type": "scatter",
         "x": [
          4400,
          3500
         ],
         "y": [
          -1898,
          -1599
         ]
        },
        {
         "hoverinfo": "none",
         "line": {
          "color": "#2d98b5",
          "width": 0.5
         },
         "mode": "lines",
         "showlegend": false,
         "type": "scatter",
         "x": [
          3500,
          2600
         ],
         "y": [
          -1599,
          -1300
         ]
        },
        {
         "hoverinfo": "none",
         "line": {
          "color": "#872341",
          "width": 0.5
         },
         "mode": "lines",
         "showlegend": false,
         "type": "scatter",
         "x": [
          4400,
          3500
         ],
         "y": [
          -1898,
          -1749
         ]
        },
        {
         "hoverinfo": "none",
         "line": {
          "color": "#2d98b5",
          "width": 0.5
         },
         "mode": "lines",
         "showlegend": false,
         "type": "scatter",
         "x": [
          3500,
          2600
         ],
         "y": [
          -1749,
          -1600
         ]
        },
        {
         "hoverinfo": "none",
         "line": {
          "color": "#872341",
          "width": 0.5
         },
         "mode": "lines",
         "showlegend": false,
         "type": "scatter",
         "x": [
          1750.00012,
          1900.0000599999998
         ],
         "y": [
          -3475.00024,
          -3525.00024
         ]
        },
        {
         "hoverinfo": "none",
         "line": {
          "color": "#2d98b5",
          "width": 0.5
         },
         "mode": "lines",
         "showlegend": false,
         "type": "scatter",
         "x": [
          1900.0000599999998,
          2050
         ],
         "y": [
          -3525.00024,
          -3575.00024
         ]
        },
        {
         "hoverinfo": "none",
         "line": {
          "color": "#872341",
          "width": 0.5
         },
         "mode": "lines",
         "showlegend": false,
         "type": "scatter",
         "x": [
          1750.00012,
          1900.0000599999998
         ],
         "y": [
          -3475.00024,
          -3412.50024
         ]
        },
        {
         "hoverinfo": "none",
         "line": {
          "color": "#2d98b5",
          "width": 0.5
         },
         "mode": "lines",
         "showlegend": false,
         "type": "scatter",
         "x": [
          1900.0000599999998,
          2050
         ],
         "y": [
          -3412.50024,
          -3350.00024
         ]
        },
        {
         "hoverinfo": "none",
         "line": {
          "color": "#872341",
          "width": 0.5
         },
         "mode": "lines",
         "showlegend": false,
         "type": "scatter",
         "x": [
          7306,
          7491
         ],
         "y": [
          -947.999939,
          -1039.4999695000001
         ]
        },
        {
         "hoverinfo": "none",
         "line": {
          "color": "#2d98b5",
          "width": 0.5
         },
         "mode": "lines",
         "showlegend": false,
         "type": "scatter",
         "x": [
          7491,
          7676
         ],
         "y": [
          -1039.4999695000001,
          -1131
         ]
        },
        {
         "hoverinfo": "none",
         "line": {
          "color": "#872341",
          "width": 0.5
         },
         "mode": "lines",
         "showlegend": false,
         "type": "scatter",
         "x": [
          2040.00012,
          1457.5000905
         ],
         "y": [
          -741,
          379.5
         ]
        },
        {
         "hoverinfo": "none",
         "line": {
          "color": "#2d98b5",
          "width": 0.5
         },
         "mode": "lines",
         "showlegend": false,
         "type": "scatter",
         "x": [
          1457.5000905,
          875.000061
         ],
         "y": [
          379.5,
          1500
         ]
        },
        {
         "hoverinfo": "none",
         "line": {
          "color": "#872341",
          "width": 0.5
         },
         "mode": "lines",
         "showlegend": false,
         "type": "scatter",
         "x": [
          2040.00012,
          1445.0000905
         ],
         "y": [
          -741,
          -1170.5
         ]
        },
        {
         "hoverinfo": "none",
         "line": {
          "color": "#2d98b5",
          "width": 0.5
         },
         "mode": "lines",
         "showlegend": false,
         "type": "scatter",
         "x": [
          1445.0000905,
          850.000061
         ],
         "y": [
          -1170.5,
          -1600
         ]
        },
        {
         "hoverinfo": "none",
         "line": {
          "color": "#872341",
          "width": 0.5
         },
         "mode": "lines",
         "showlegend": false,
         "type": "scatter",
         "x": [
          2040.00012,
          1445.0000905
         ],
         "y": [
          -741,
          -1483
         ]
        },
        {
         "hoverinfo": "none",
         "line": {
          "color": "#2d98b5",
          "width": 0.5
         },
         "mode": "lines",
         "showlegend": false,
         "type": "scatter",
         "x": [
          1445.0000905,
          850.000061
         ],
         "y": [
          -1483,
          -2225
         ]
        },
        {
         "hoverinfo": "none",
         "line": {
          "color": "#872341",
          "width": 0.5
         },
         "mode": "lines",
         "showlegend": false,
         "type": "scatter",
         "x": [
          2040.00012,
          1445.0000905
         ],
         "y": [
          -741,
          -808.0000305
         ]
        },
        {
         "hoverinfo": "none",
         "line": {
          "color": "#2d98b5",
          "width": 0.5
         },
         "mode": "lines",
         "showlegend": false,
         "type": "scatter",
         "x": [
          1445.0000905,
          850.000061
         ],
         "y": [
          -808.0000305,
          -875.000061
         ]
        },
        {
         "hoverinfo": "none",
         "line": {
          "color": "#872341",
          "width": 0.5
         },
         "mode": "lines",
         "showlegend": false,
         "type": "scatter",
         "x": [
          2040.00012,
          1445.0000905
         ],
         "y": [
          -741,
          -2108.0001199999997
         ]
        },
        {
         "hoverinfo": "none",
         "line": {
          "color": "#2d98b5",
          "width": 0.5
         },
         "mode": "lines",
         "showlegend": false,
         "type": "scatter",
         "x": [
          1445.0000905,
          850.000061
         ],
         "y": [
          -2108.0001199999997,
          -3475.00024
         ]
        },
        {
         "hoverinfo": "none",
         "line": {
          "color": "#872341",
          "width": 0.5
         },
         "mode": "lines",
         "showlegend": false,
         "type": "scatter",
         "x": [
          2040.00012,
          1445.0000905
         ],
         "y": [
          -741,
          -1770.5
         ]
        },
        {
         "hoverinfo": "none",
         "line": {
          "color": "#2d98b5",
          "width": 0.5
         },
         "mode": "lines",
         "showlegend": false,
         "type": "scatter",
         "x": [
          1445.0000905,
          850.000061
         ],
         "y": [
          -1770.5,
          -2800
         ]
        },
        {
         "hoverinfo": "none",
         "line": {
          "color": "#872341",
          "width": 0.5
         },
         "mode": "lines",
         "showlegend": false,
         "type": "scatter",
         "x": [
          2040.00012,
          1457.5000905
         ],
         "y": [
          -741,
          942
         ]
        },
        {
         "hoverinfo": "none",
         "line": {
          "color": "#2d98b5",
          "width": 0.5
         },
         "mode": "lines",
         "showlegend": false,
         "type": "scatter",
         "x": [
          1457.5000905,
          875.000061
         ],
         "y": [
          942,
          2625
         ]
        },
        {
         "hoverinfo": "none",
         "line": {
          "color": "#872341",
          "width": 0.5
         },
         "mode": "lines",
         "showlegend": false,
         "type": "scatter",
         "x": [
          2025.00012,
          2175.00006
         ],
         "y": [
          1025,
          1000.0000305
         ]
        },
        {
         "hoverinfo": "none",
         "line": {
          "color": "#2d98b5",
          "width": 0.5
         },
         "mode": "lines",
         "showlegend": false,
         "type": "scatter",
         "x": [
          2175.00006,
          2325
         ],
         "y": [
          1000.0000305,
          975.000061
         ]
        },
        {
         "hoverinfo": "none",
         "line": {
          "color": "#872341",
          "width": 0.5
         },
         "mode": "lines",
         "showlegend": false,
         "type": "scatter",
         "x": [
          3200,
          3350.0001199999997
         ],
         "y": [
          -2025.00012,
          -2062.50006
         ]
        },
        {
         "hoverinfo": "none",
         "line": {
          "color": "#2d98b5",
          "width": 0.5
         },
         "mode": "lines",
         "showlegend": false,
         "type": "scatter",
         "x": [
          3350.0001199999997,
          3500.00024
         ],
         "y": [
          -2062.50006,
          -2100
         ]
        },
        {
         "hoverinfo": "none",
         "line": {
          "color": "#872341",
          "width": 0.5
         },
         "mode": "lines",
         "showlegend": false,
         "type": "scatter",
         "x": [
          6123,
          6262
         ],
         "y": [
          -1117,
          -1116
         ]
        },
        {
         "hoverinfo": "none",
         "line": {
          "color": "#2d98b5",
          "width": 0.5
         },
         "mode": "lines",
         "showlegend": false,
         "type": "scatter",
         "x": [
          6262,
          6401
         ],
         "y": [
          -1116,
          -1115
         ]
        }
       ],
       "layout": {
        "autosize": false,
        "height": 1000,
        "margin": {
         "b": 0,
         "l": 0,
         "pad": 0,
         "r": 0,
         "t": 0
        },
        "paper_bgcolor": "#22092C",
        "plot_bgcolor": "#22092C",
        "template": {
         "data": {
          "bar": [
           {
            "error_x": {
             "color": "#2a3f5f"
            },
            "error_y": {
             "color": "#2a3f5f"
            },
            "marker": {
             "line": {
              "color": "#E5ECF6",
              "width": 0.5
             },
             "pattern": {
              "fillmode": "overlay",
              "size": 10,
              "solidity": 0.2
             }
            },
            "type": "bar"
           }
          ],
          "barpolar": [
           {
            "marker": {
             "line": {
              "color": "#E5ECF6",
              "width": 0.5
             },
             "pattern": {
              "fillmode": "overlay",
              "size": 10,
              "solidity": 0.2
             }
            },
            "type": "barpolar"
           }
          ],
          "carpet": [
           {
            "aaxis": {
             "endlinecolor": "#2a3f5f",
             "gridcolor": "white",
             "linecolor": "white",
             "minorgridcolor": "white",
             "startlinecolor": "#2a3f5f"
            },
            "baxis": {
             "endlinecolor": "#2a3f5f",
             "gridcolor": "white",
             "linecolor": "white",
             "minorgridcolor": "white",
             "startlinecolor": "#2a3f5f"
            },
            "type": "carpet"
           }
          ],
          "choropleth": [
           {
            "colorbar": {
             "outlinewidth": 0,
             "ticks": ""
            },
            "type": "choropleth"
           }
          ],
          "contour": [
           {
            "colorbar": {
             "outlinewidth": 0,
             "ticks": ""
            },
            "colorscale": [
             [
              0,
              "#0d0887"
             ],
             [
              0.1111111111111111,
              "#46039f"
             ],
             [
              0.2222222222222222,
              "#7201a8"
             ],
             [
              0.3333333333333333,
              "#9c179e"
             ],
             [
              0.4444444444444444,
              "#bd3786"
             ],
             [
              0.5555555555555556,
              "#d8576b"
             ],
             [
              0.6666666666666666,
              "#ed7953"
             ],
             [
              0.7777777777777778,
              "#fb9f3a"
             ],
             [
              0.8888888888888888,
              "#fdca26"
             ],
             [
              1,
              "#f0f921"
             ]
            ],
            "type": "contour"
           }
          ],
          "contourcarpet": [
           {
            "colorbar": {
             "outlinewidth": 0,
             "ticks": ""
            },
            "type": "contourcarpet"
           }
          ],
          "heatmap": [
           {
            "colorbar": {
             "outlinewidth": 0,
             "ticks": ""
            },
            "colorscale": [
             [
              0,
              "#0d0887"
             ],
             [
              0.1111111111111111,
              "#46039f"
             ],
             [
              0.2222222222222222,
              "#7201a8"
             ],
             [
              0.3333333333333333,
              "#9c179e"
             ],
             [
              0.4444444444444444,
              "#bd3786"
             ],
             [
              0.5555555555555556,
              "#d8576b"
             ],
             [
              0.6666666666666666,
              "#ed7953"
             ],
             [
              0.7777777777777778,
              "#fb9f3a"
             ],
             [
              0.8888888888888888,
              "#fdca26"
             ],
             [
              1,
              "#f0f921"
             ]
            ],
            "type": "heatmap"
           }
          ],
          "heatmapgl": [
           {
            "colorbar": {
             "outlinewidth": 0,
             "ticks": ""
            },
            "colorscale": [
             [
              0,
              "#0d0887"
             ],
             [
              0.1111111111111111,
              "#46039f"
             ],
             [
              0.2222222222222222,
              "#7201a8"
             ],
             [
              0.3333333333333333,
              "#9c179e"
             ],
             [
              0.4444444444444444,
              "#bd3786"
             ],
             [
              0.5555555555555556,
              "#d8576b"
             ],
             [
              0.6666666666666666,
              "#ed7953"
             ],
             [
              0.7777777777777778,
              "#fb9f3a"
             ],
             [
              0.8888888888888888,
              "#fdca26"
             ],
             [
              1,
              "#f0f921"
             ]
            ],
            "type": "heatmapgl"
           }
          ],
          "histogram": [
           {
            "marker": {
             "pattern": {
              "fillmode": "overlay",
              "size": 10,
              "solidity": 0.2
             }
            },
            "type": "histogram"
           }
          ],
          "histogram2d": [
           {
            "colorbar": {
             "outlinewidth": 0,
             "ticks": ""
            },
            "colorscale": [
             [
              0,
              "#0d0887"
             ],
             [
              0.1111111111111111,
              "#46039f"
             ],
             [
              0.2222222222222222,
              "#7201a8"
             ],
             [
              0.3333333333333333,
              "#9c179e"
             ],
             [
              0.4444444444444444,
              "#bd3786"
             ],
             [
              0.5555555555555556,
              "#d8576b"
             ],
             [
              0.6666666666666666,
              "#ed7953"
             ],
             [
              0.7777777777777778,
              "#fb9f3a"
             ],
             [
              0.8888888888888888,
              "#fdca26"
             ],
             [
              1,
              "#f0f921"
             ]
            ],
            "type": "histogram2d"
           }
          ],
          "histogram2dcontour": [
           {
            "colorbar": {
             "outlinewidth": 0,
             "ticks": ""
            },
            "colorscale": [
             [
              0,
              "#0d0887"
             ],
             [
              0.1111111111111111,
              "#46039f"
             ],
             [
              0.2222222222222222,
              "#7201a8"
             ],
             [
              0.3333333333333333,
              "#9c179e"
             ],
             [
              0.4444444444444444,
              "#bd3786"
             ],
             [
              0.5555555555555556,
              "#d8576b"
             ],
             [
              0.6666666666666666,
              "#ed7953"
             ],
             [
              0.7777777777777778,
              "#fb9f3a"
             ],
             [
              0.8888888888888888,
              "#fdca26"
             ],
             [
              1,
              "#f0f921"
             ]
            ],
            "type": "histogram2dcontour"
           }
          ],
          "mesh3d": [
           {
            "colorbar": {
             "outlinewidth": 0,
             "ticks": ""
            },
            "type": "mesh3d"
           }
          ],
          "parcoords": [
           {
            "line": {
             "colorbar": {
              "outlinewidth": 0,
              "ticks": ""
             }
            },
            "type": "parcoords"
           }
          ],
          "pie": [
           {
            "automargin": true,
            "type": "pie"
           }
          ],
          "scatter": [
           {
            "fillpattern": {
             "fillmode": "overlay",
             "size": 10,
             "solidity": 0.2
            },
            "type": "scatter"
           }
          ],
          "scatter3d": [
           {
            "line": {
             "colorbar": {
              "outlinewidth": 0,
              "ticks": ""
             }
            },
            "marker": {
             "colorbar": {
              "outlinewidth": 0,
              "ticks": ""
             }
            },
            "type": "scatter3d"
           }
          ],
          "scattercarpet": [
           {
            "marker": {
             "colorbar": {
              "outlinewidth": 0,
              "ticks": ""
             }
            },
            "type": "scattercarpet"
           }
          ],
          "scattergeo": [
           {
            "marker": {
             "colorbar": {
              "outlinewidth": 0,
              "ticks": ""
             }
            },
            "type": "scattergeo"
           }
          ],
          "scattergl": [
           {
            "marker": {
             "colorbar": {
              "outlinewidth": 0,
              "ticks": ""
             }
            },
            "type": "scattergl"
           }
          ],
          "scattermapbox": [
           {
            "marker": {
             "colorbar": {
              "outlinewidth": 0,
              "ticks": ""
             }
            },
            "type": "scattermapbox"
           }
          ],
          "scatterpolar": [
           {
            "marker": {
             "colorbar": {
              "outlinewidth": 0,
              "ticks": ""
             }
            },
            "type": "scatterpolar"
           }
          ],
          "scatterpolargl": [
           {
            "marker": {
             "colorbar": {
              "outlinewidth": 0,
              "ticks": ""
             }
            },
            "type": "scatterpolargl"
           }
          ],
          "scatterternary": [
           {
            "marker": {
             "colorbar": {
              "outlinewidth": 0,
              "ticks": ""
             }
            },
            "type": "scatterternary"
           }
          ],
          "surface": [
           {
            "colorbar": {
             "outlinewidth": 0,
             "ticks": ""
            },
            "colorscale": [
             [
              0,
              "#0d0887"
             ],
             [
              0.1111111111111111,
              "#46039f"
             ],
             [
              0.2222222222222222,
              "#7201a8"
             ],
             [
              0.3333333333333333,
              "#9c179e"
             ],
             [
              0.4444444444444444,
              "#bd3786"
             ],
             [
              0.5555555555555556,
              "#d8576b"
             ],
             [
              0.6666666666666666,
              "#ed7953"
             ],
             [
              0.7777777777777778,
              "#fb9f3a"
             ],
             [
              0.8888888888888888,
              "#fdca26"
             ],
             [
              1,
              "#f0f921"
             ]
            ],
            "type": "surface"
           }
          ],
          "table": [
           {
            "cells": {
             "fill": {
              "color": "#EBF0F8"
             },
             "line": {
              "color": "white"
             }
            },
            "header": {
             "fill": {
              "color": "#C8D4E3"
             },
             "line": {
              "color": "white"
             }
            },
            "type": "table"
           }
          ]
         },
         "layout": {
          "annotationdefaults": {
           "arrowcolor": "#2a3f5f",
           "arrowhead": 0,
           "arrowwidth": 1
          },
          "autotypenumbers": "strict",
          "coloraxis": {
           "colorbar": {
            "outlinewidth": 0,
            "ticks": ""
           }
          },
          "colorscale": {
           "diverging": [
            [
             0,
             "#8e0152"
            ],
            [
             0.1,
             "#c51b7d"
            ],
            [
             0.2,
             "#de77ae"
            ],
            [
             0.3,
             "#f1b6da"
            ],
            [
             0.4,
             "#fde0ef"
            ],
            [
             0.5,
             "#f7f7f7"
            ],
            [
             0.6,
             "#e6f5d0"
            ],
            [
             0.7,
             "#b8e186"
            ],
            [
             0.8,
             "#7fbc41"
            ],
            [
             0.9,
             "#4d9221"
            ],
            [
             1,
             "#276419"
            ]
           ],
           "sequential": [
            [
             0,
             "#0d0887"
            ],
            [
             0.1111111111111111,
             "#46039f"
            ],
            [
             0.2222222222222222,
             "#7201a8"
            ],
            [
             0.3333333333333333,
             "#9c179e"
            ],
            [
             0.4444444444444444,
             "#bd3786"
            ],
            [
             0.5555555555555556,
             "#d8576b"
            ],
            [
             0.6666666666666666,
             "#ed7953"
            ],
            [
             0.7777777777777778,
             "#fb9f3a"
            ],
            [
             0.8888888888888888,
             "#fdca26"
            ],
            [
             1,
             "#f0f921"
            ]
           ],
           "sequentialminus": [
            [
             0,
             "#0d0887"
            ],
            [
             0.1111111111111111,
             "#46039f"
            ],
            [
             0.2222222222222222,
             "#7201a8"
            ],
            [
             0.3333333333333333,
             "#9c179e"
            ],
            [
             0.4444444444444444,
             "#bd3786"
            ],
            [
             0.5555555555555556,
             "#d8576b"
            ],
            [
             0.6666666666666666,
             "#ed7953"
            ],
            [
             0.7777777777777778,
             "#fb9f3a"
            ],
            [
             0.8888888888888888,
             "#fdca26"
            ],
            [
             1,
             "#f0f921"
            ]
           ]
          },
          "colorway": [
           "#636efa",
           "#EF553B",
           "#00cc96",
           "#ab63fa",
           "#FFA15A",
           "#19d3f3",
           "#FF6692",
           "#B6E880",
           "#FF97FF",
           "#FECB52"
          ],
          "font": {
           "color": "#2a3f5f"
          },
          "geo": {
           "bgcolor": "white",
           "lakecolor": "white",
           "landcolor": "#E5ECF6",
           "showlakes": true,
           "showland": true,
           "subunitcolor": "white"
          },
          "hoverlabel": {
           "align": "left"
          },
          "hovermode": "closest",
          "mapbox": {
           "style": "light"
          },
          "paper_bgcolor": "white",
          "plot_bgcolor": "#E5ECF6",
          "polar": {
           "angularaxis": {
            "gridcolor": "white",
            "linecolor": "white",
            "ticks": ""
           },
           "bgcolor": "#E5ECF6",
           "radialaxis": {
            "gridcolor": "white",
            "linecolor": "white",
            "ticks": ""
           }
          },
          "scene": {
           "xaxis": {
            "backgroundcolor": "#E5ECF6",
            "gridcolor": "white",
            "gridwidth": 2,
            "linecolor": "white",
            "showbackground": true,
            "ticks": "",
            "zerolinecolor": "white"
           },
           "yaxis": {
            "backgroundcolor": "#E5ECF6",
            "gridcolor": "white",
            "gridwidth": 2,
            "linecolor": "white",
            "showbackground": true,
            "ticks": "",
            "zerolinecolor": "white"
           },
           "zaxis": {
            "backgroundcolor": "#E5ECF6",
            "gridcolor": "white",
            "gridwidth": 2,
            "linecolor": "white",
            "showbackground": true,
            "ticks": "",
            "zerolinecolor": "white"
           }
          },
          "shapedefaults": {
           "line": {
            "color": "#2a3f5f"
           }
          },
          "ternary": {
           "aaxis": {
            "gridcolor": "white",
            "linecolor": "white",
            "ticks": ""
           },
           "baxis": {
            "gridcolor": "white",
            "linecolor": "white",
            "ticks": ""
           },
           "bgcolor": "#E5ECF6",
           "caxis": {
            "gridcolor": "white",
            "linecolor": "white",
            "ticks": ""
           }
          },
          "title": {
           "x": 0.05
          },
          "xaxis": {
           "automargin": true,
           "gridcolor": "white",
           "linecolor": "white",
           "ticks": "",
           "title": {
            "standoff": 15
           },
           "zerolinecolor": "white",
           "zerolinewidth": 2
          },
          "yaxis": {
           "automargin": true,
           "gridcolor": "white",
           "linecolor": "white",
           "ticks": "",
           "title": {
            "standoff": 15
           },
           "zerolinecolor": "white",
           "zerolinewidth": 2
          }
         }
        },
        "width": 1500
       }
      }
     },
     "metadata": {},
     "output_type": "display_data"
    }
   ],
   "source": [
    "import plotly.graph_objects as go\n",
    "\n",
    "def plot_conv(dia_table, inp_conv_id):\n",
    "    canva = dia_table.loc[inp_conv_id].loc[:, ['canvasRect_x', 'canvasRect_y', 'outgoingLinks', 'Dialogue Text']]\n",
    "    colors = ['#872341', '#2d98b5']\n",
    "    dot_color = '#BE3144'\n",
    "    bg_color = '#22092C'\n",
    "\n",
    "    fig = go.Figure()\n",
    "    fig.add_trace(go.Scatter(\n",
    "        x=canva['canvasRect_x'],\n",
    "        y=canva['canvasRect_y'],\n",
    "        text=canva.index,#['Dialogue Text'],\n",
    "        mode=\"markers\",\n",
    "        marker=dict(color=dot_color, )\n",
    "    ))\n",
    "\n",
    "    for self_dia_id, other in canva.iterrows():\n",
    "        x0 = other['canvasRect_x']\n",
    "        y0 = other['canvasRect_y']\n",
    "        links = other['outgoingLinks']\n",
    "        for conv_id, dia_id in links:\n",
    "            if conv_id != inp_conv_id:\n",
    "                continue\n",
    "\n",
    "            x2, y2 = canva.loc[dia_id][['canvasRect_x', 'canvasRect_y']]\n",
    "            x1, y1 = (x0 + x2)/2, (y0 + y2)/2\n",
    "            \n",
    "            fig.add_trace(go.Scatter(\n",
    "                x=[x0, x1], y=[y0, y1], showlegend=False, hoverinfo='none',\n",
    "                mode=\"lines\", line=dict(width=0.5, color=colors[0])))\n",
    "            fig.add_trace(go.Scatter(\n",
    "                x=[x1, x2], y=[y1, y2], showlegend=False,  hoverinfo='none',\n",
    "                mode=\"lines\", line=dict(width=0.5, color=colors[1])))\n",
    "\n",
    "    fig.update_layout(\n",
    "        autosize=False,\n",
    "        width=1500, height=1000,\n",
    "        margin=dict(l=0, r=0, b=0, t=0, pad=0),\n",
    "        plot_bgcolor=bg_color, paper_bgcolor=bg_color,\n",
    "    )\n",
    "\n",
    "    fig.update_shapes(dict(xref='x', yref='y'))\n",
    "    return fig\n",
    "\n",
    "plot_conv(convs, 998)"
   ]
  },
  {
   "cell_type": "code",
   "execution_count": 34,
   "metadata": {},
   "outputs": [
    {
     "name": "stdout",
     "output_type": "stream",
     "text": [
      "700\n",
      "3 700 (71, 302)\n",
      "701\n",
      "1 701 (71, 314)\n",
      "702\n",
      "1 702 (71, 359)\n",
      "703\n",
      "6 703 (71, 368)\n",
      "704\n",
      "1 704 (71, 395)\n",
      "705\n",
      "1 705 (71, 406)\n",
      "706\n",
      "2 706 (71, 427)\n",
      "707\n",
      "6 707 (71, 455)\n",
      "708\n",
      "19 708 (71, 464)\n",
      "709\n",
      "4 709 (71, 487)\n",
      "710\n",
      "3 710 (71, 497)\n",
      "711\n",
      "8 711 (71, 517)\n",
      "712\n",
      "1 712 (71, 536)\n",
      "713\n",
      "4 713 (71, 537)\n",
      "714\n",
      "4 714 (71, 558)\n",
      "715\n",
      "1 715 (71, 560)\n",
      "716\n",
      "2 716 (71, 585)\n",
      "717\n",
      "1 717 (71, 598)\n",
      "718\n",
      "3 718 (71, 622)\n",
      "719\n",
      "2 719 (71, 663)\n",
      "720\n",
      "4 720 (71, 669)\n",
      "721\n",
      "4 721 (71, 681)\n",
      "722\n",
      "6 722 (71, 696)\n",
      "723\n",
      "2 723 (71, 708)\n",
      "724\n",
      "2 724 (71, 735)\n",
      "725\n",
      "3 725 (71, 748)\n",
      "726\n",
      "1 726 (71, 752)\n",
      "727\n",
      "1 727 (71, 759)\n",
      "728\n",
      "4 728 (71, 776)\n",
      "729\n",
      "4 729 (71, 777)\n",
      "730\n",
      "1 730 (71, 798)\n",
      "731\n",
      "8 731 (71, 836)\n",
      "732\n",
      "3 732 (71, 839)\n",
      "733\n",
      "8 733 (71, 879)\n",
      "734\n",
      "4 734 (71, 911)\n",
      "735\n",
      "19 735 (71, 918)\n",
      "736\n",
      "1 736 (71, 927)\n",
      "737\n",
      "8 737 (71, 945)\n",
      "738\n",
      "3 738 (71, 969)\n",
      "739\n",
      "4 739 (71, 1036)\n",
      "740\n",
      "19 740 (71, 1060)\n",
      "741\n",
      "6 741 (71, 1063)\n",
      "742\n",
      "4 742 (71, 1068)\n",
      "743\n",
      "1 743 (71, 1074)\n",
      "744\n",
      "4 744 (71, 1088)\n",
      "745\n",
      "8 745 (119, 6)\n",
      "746\n",
      "9 746 (119, 11)\n",
      "747\n",
      "3 747 (121, 2)\n",
      "748\n",
      "4 748 (121, 7)\n",
      "749\n",
      "4 749 (121, 15)\n",
      "750\n",
      "4 750 (121, 23)\n",
      "751\n",
      "4 751 (121, 27)\n",
      "752\n",
      "4 752 (121, 28)\n",
      "753\n",
      "4 753 (121, 29)\n",
      "754\n",
      "3 754 (183, 25)\n",
      "755\n",
      "7 755 (204, 32)\n",
      "756\n",
      "1 756 (204, 75)\n",
      "757\n",
      "5 757 (204, 89)\n",
      "758\n",
      "5 758 (204, 109)\n",
      "759\n",
      "7 759 (204, 169)\n",
      "760\n",
      "5 760 (204, 171)\n",
      "761\n",
      "7 761 (204, 176)\n",
      "762\n",
      "1 762 (204, 188)\n",
      "763\n",
      "1 763 (204, 197)\n",
      "764\n",
      "1 764 (204, 213)\n",
      "765\n",
      "3 765 (204, 257)\n",
      "766\n",
      "1 766 (204, 258)\n",
      "767\n",
      "7 767 (204, 273)\n",
      "768\n",
      "5 768 (204, 301)\n",
      "769\n",
      "5 769 (204, 307)\n",
      "770\n",
      "1 770 (204, 312)\n",
      "771\n",
      "1 771 (204, 318)\n",
      "772\n",
      "7 772 (204, 340)\n",
      "773\n",
      "1 773 (204, 352)\n",
      "774\n",
      "8 774 (204, 357)\n",
      "775\n",
      "5 775 (204, 371)\n",
      "776\n",
      "7 776 (204, 373)\n",
      "777\n",
      "7 777 (204, 378)\n",
      "778\n",
      "1 778 (204, 439)\n",
      "779\n",
      "7 779 (204, 459)\n",
      "780\n",
      "1 780 (204, 508)\n",
      "781\n",
      "1 781 (204, 510)\n",
      "782\n",
      "2 782 (204, 515)\n",
      "783\n",
      "5 783 (204, 527)\n",
      "784\n",
      "8 784 (204, 542)\n",
      "785\n",
      "2 785 (204, 560)\n",
      "786\n",
      "4 786 (204, 575)\n",
      "787\n",
      "3 787 (204, 586)\n",
      "788\n",
      "2 788 (204, 619)\n",
      "789\n",
      "8 789 (204, 634)\n",
      "790\n",
      "2 790 (204, 657)\n",
      "791\n",
      "3 791 (204, 660)\n",
      "792\n",
      "8 792 (204, 665)\n",
      "793\n",
      "1 793 (204, 678)\n",
      "794\n",
      "1 794 (204, 703)\n",
      "795\n",
      "9 795 (207, 14)\n",
      "796\n",
      "2 796 (207, 25)\n",
      "797\n",
      "5 797 (207, 30)\n",
      "798\n",
      "2 798 (207, 45)\n",
      "799\n",
      "2 799 (207, 59)\n",
      "800\n",
      "5 800 (207, 80)\n",
      "801\n",
      "9 801 (207, 84)\n",
      "802\n",
      "1 802 (207, 113)\n",
      "803\n",
      "6 803 (207, 124)\n",
      "804\n",
      "9 804 (207, 127)\n",
      "805\n",
      "4 805 (207, 131)\n",
      "806\n",
      "4 806 (207, 135)\n",
      "807\n",
      "5 807 (207, 138)\n",
      "808\n",
      "3 808 (207, 153)\n",
      "809\n",
      "2 809 (207, 164)\n",
      "810\n",
      "1 810 (207, 198)\n",
      "811\n",
      "1 811 (207, 206)\n",
      "812\n",
      "6 812 (207, 243)\n",
      "813\n",
      "3 813 (207, 246)\n",
      "814\n",
      "4 814 (207, 281)\n",
      "815\n",
      "4 815 (207, 296)\n",
      "816\n",
      "3 816 (207, 298)\n",
      "817\n",
      "2 817 (207, 299)\n",
      "818\n",
      "2 818 (207, 312)\n",
      "819\n",
      "2 819 (207, 326)\n",
      "820\n",
      "3 820 (207, 330)\n",
      "821\n",
      "9 821 (207, 352)\n",
      "822\n",
      "2 822 (207, 355)\n",
      "823\n",
      "4 823 (207, 411)\n",
      "824\n",
      "3 824 (207, 438)\n",
      "825\n",
      "5 825 (207, 442)\n",
      "826\n",
      "4 826 (207, 452)\n",
      "827\n",
      "4 827 (207, 469)\n",
      "828\n",
      "3 828 (207, 475)\n",
      "829\n",
      "4 829 (207, 488)\n",
      "830\n",
      "9 830 (207, 496)\n",
      "831\n",
      "4 831 (207, 497)\n",
      "832\n",
      "3 832 (207, 509)\n",
      "833\n",
      "3 833 (207, 511)\n",
      "834\n",
      "3 834 (207, 512)\n",
      "835\n",
      "4 835 (207, 516)\n",
      "836\n",
      "5 836 (207, 539)\n",
      "837\n",
      "5 837 (207, 550)\n",
      "838\n",
      "4 838 (207, 554)\n",
      "839\n",
      "4 839 (207, 555)\n",
      "840\n",
      "6 840 (225, 6)\n",
      "841\n",
      "1 841 (225, 29)\n",
      "842\n",
      "1 842 (226, 9)\n",
      "843\n",
      "9 843 (226, 20)\n",
      "844\n",
      "28 844 (270, 2)\n",
      "845\n",
      "28 845 (270, 29)\n",
      "846\n",
      "28 846 (270, 48)\n",
      "847\n",
      "28 847 (270, 50)\n",
      "848\n",
      "28 848 (270, 57)\n",
      "849\n",
      "28 849 (270, 65)\n",
      "850\n",
      "28 850 (270, 67)\n",
      "851\n",
      "1 851 (270, 69)\n",
      "852\n",
      "28 852 (270, 81)\n",
      "853\n",
      "28 853 (270, 105)\n",
      "854\n",
      "28 854 (270, 108)\n",
      "855\n",
      "28 855 (270, 122)\n",
      "856\n",
      "28 856 (270, 130)\n",
      "857\n",
      "5 857 (271, 3)\n",
      "858\n",
      "5 858 (271, 31)\n",
      "859\n",
      "5 859 (271, 39)\n",
      "860\n",
      "1 860 (271, 43)\n",
      "861\n",
      "4 861 (271, 49)\n",
      "862\n",
      "4 862 (271, 53)\n",
      "863\n",
      "5 863 (271, 54)\n",
      "864\n",
      "5 864 (271, 55)\n",
      "865\n",
      "2 865 (271, 103)\n",
      "866\n",
      "1 866 (271, 123)\n",
      "867\n",
      "5 867 (271, 124)\n",
      "868\n",
      "5 868 (271, 125)\n",
      "869\n",
      "5 869 (271, 133)\n",
      "870\n",
      "1 870 (271, 135)\n",
      "871\n",
      "5 871 (271, 146)\n",
      "872\n",
      "2 872 (271, 156)\n",
      "873\n",
      "5 873 (271, 158)\n",
      "874\n",
      "1 874 (271, 161)\n",
      "875\n",
      "2 875 (271, 174)\n",
      "876\n",
      "5 876 (271, 213)\n",
      "877\n",
      "5 877 (271, 216)\n",
      "878\n",
      "1 878 (271, 230)\n",
      "879\n",
      "1 879 (271, 252)\n",
      "880\n",
      "5 880 (271, 269)\n",
      "881\n",
      "6 881 (271, 283)\n",
      "882\n",
      "5 882 (271, 287)\n",
      "883\n",
      "5 883 (271, 296)\n",
      "884\n",
      "5 884 (271, 299)\n",
      "885\n",
      "1 885 (271, 300)\n",
      "886\n",
      "4 886 (275, 8)\n",
      "887\n",
      "4 887 (275, 28)\n",
      "888\n",
      "4 888 (275, 44)\n",
      "889\n",
      "3 889 (275, 46)\n",
      "890\n",
      "4 890 (275, 68)\n",
      "891\n",
      "1 891 (275, 76)\n",
      "892\n",
      "5 892 (275, 94)\n",
      "893\n",
      "18 893 (275, 115)\n",
      "894\n",
      "2 894 (279, 12)\n",
      "895\n",
      "5 895 (280, 30)\n",
      "896\n",
      "4 896 (280, 31)\n",
      "897\n",
      "4 897 (280, 32)\n",
      "898\n",
      "8 898 (280, 44)\n",
      "899\n",
      "5 899 (280, 53)\n",
      "900\n",
      "1 900 (280, 57)\n",
      "901\n",
      "1 901 (280, 61)\n",
      "902\n",
      "1 902 (280, 82)\n",
      "903\n",
      "1 903 (280, 87)\n",
      "904\n",
      "5 904 (280, 97)\n",
      "905\n",
      "4 905 (280, 103)\n",
      "906\n",
      "1 906 (280, 104)\n",
      "907\n",
      "5 907 (280, 105)\n",
      "908\n",
      "8 908 (280, 110)\n",
      "909\n",
      "2 909 (280, 112)\n",
      "910\n",
      "2 910 (280, 139)\n",
      "911\n",
      "1 911 (280, 142)\n",
      "912\n",
      "1 912 (280, 143)\n",
      "913\n",
      "1 913 (280, 182)\n",
      "914\n",
      "4 914 (280, 187)\n",
      "915\n",
      "1 915 (280, 196)\n",
      "916\n",
      "4 916 (280, 260)\n",
      "917\n",
      "1 917 (280, 264)\n",
      "918\n",
      "1 918 (280, 278)\n",
      "919\n",
      "1 919 (280, 279)\n",
      "920\n",
      "1 920 (280, 280)\n",
      "921\n",
      "1 921 (280, 299)\n",
      "922\n",
      "4 922 (302, 3)\n",
      "923\n",
      "4 923 (302, 5)\n",
      "924\n",
      "4 924 (302, 14)\n",
      "925\n",
      "2 925 (302, 15)\n",
      "926\n",
      "4 926 (302, 23)\n",
      "927\n",
      "2 927 (302, 32)\n",
      "928\n",
      "4 928 (302, 44)\n",
      "929\n",
      "8 929 (307, 26)\n",
      "930\n",
      "8 930 (308, 4)\n",
      "931\n",
      "6 931 (322, 5)\n",
      "932\n",
      "3 932 (346, 41)\n",
      "933\n",
      "12 933 (346, 51)\n",
      "934\n",
      "1 934 (346, 57)\n",
      "935\n",
      "4 935 (346, 58)\n",
      "936\n",
      "1 936 (346, 100)\n",
      "937\n",
      "2 937 (346, 114)\n",
      "938\n",
      "5 938 (346, 126)\n",
      "939\n",
      "3 939 (346, 135)\n",
      "940\n",
      "4 940 (346, 207)\n",
      "941\n",
      "1 941 (346, 210)\n",
      "942\n",
      "3 942 (346, 219)\n",
      "943\n",
      "1 943 (346, 229)\n",
      "944\n",
      "3 944 (346, 230)\n",
      "945\n",
      "12 945 (346, 249)\n",
      "946\n",
      "1 946 (346, 253)\n",
      "947\n",
      "12 947 (346, 285)\n",
      "948\n",
      "1 948 (346, 291)\n",
      "949\n",
      "12 949 (346, 307)\n",
      "950\n",
      "12 950 (346, 339)\n",
      "951\n",
      "12 951 (346, 345)\n",
      "952\n",
      "4 952 (346, 359)\n",
      "953\n",
      "3 953 (346, 368)\n",
      "954\n",
      "3 954 (346, 411)\n",
      "955\n",
      "12 955 (346, 412)\n",
      "956\n",
      "12 956 (346, 430)\n",
      "957\n",
      "12 957 (346, 441)\n",
      "958\n",
      "12 958 (346, 446)\n",
      "959\n",
      "3 959 (346, 448)\n",
      "960\n",
      "4 960 (346, 453)\n",
      "961\n",
      "4 961 (346, 490)\n",
      "962\n",
      "4 962 (346, 508)\n",
      "963\n",
      "4 963 (346, 509)\n",
      "964\n",
      "12 964 (346, 512)\n",
      "965\n",
      "3 965 (346, 546)\n",
      "966\n",
      "2 966 (346, 605)\n",
      "967\n",
      "5 967 (346, 633)\n",
      "968\n",
      "12 968 (346, 635)\n",
      "969\n",
      "12 969 (346, 639)\n",
      "970\n",
      "3 970 (346, 672)\n",
      "971\n",
      "3 971 (346, 701)\n",
      "972\n",
      "1 972 (347, 68)\n",
      "973\n",
      "3 973 (347, 77)\n",
      "974\n",
      "2 974 (347, 88)\n",
      "975\n",
      "6 975 (347, 115)\n",
      "976\n",
      "2 976 (347, 128)\n",
      "977\n",
      "3 977 (347, 145)\n",
      "978\n",
      "5 978 (347, 146)\n",
      "979\n",
      "3 979 (347, 194)\n",
      "980\n",
      "5 980 (347, 207)\n",
      "981\n",
      "14 981 (347, 267)\n",
      "982\n",
      "4 982 (347, 283)\n",
      "983\n",
      "3 983 (347, 288)\n",
      "984\n",
      "1 984 (347, 315)\n",
      "985\n",
      "2 985 (347, 331)\n",
      "986\n",
      "2 986 (347, 352)\n",
      "987\n",
      "14 987 (347, 377)\n",
      "988\n",
      "4 988 (347, 404)\n",
      "989\n",
      "3 989 (347, 410)\n",
      "990\n",
      "2 990 (347, 425)\n",
      "991\n",
      "3 991 (347, 464)\n",
      "992\n",
      "14 992 (347, 495)\n",
      "993\n",
      "1 993 (347, 507)\n",
      "994\n",
      "3 994 (347, 516)\n",
      "995\n",
      "1 995 (347, 521)\n",
      "996\n",
      "5 996 (347, 569)\n",
      "997\n",
      "2 997 (347, 581)\n",
      "998\n",
      "14 998 (347, 593)\n",
      "999\n",
      "14 999 (347, 608)\n",
      "1000\n",
      "14 1000 (347, 638)\n",
      "1001\n",
      "2 1001 (347, 645)\n",
      "1002\n",
      "2 1002 (347, 677)\n",
      "1003\n",
      "4 1003 (347, 692)\n",
      "1004\n",
      "2 1004 (347, 702)\n",
      "1005\n",
      "16 1005 (348, 3)\n",
      "1006\n",
      "8 1006 (348, 25)\n",
      "1007\n",
      "16 1007 (348, 35)\n",
      "1008\n",
      "3 1008 (349, 24)\n",
      "1009\n",
      "1 1009 (349, 26)\n",
      "1010\n",
      "5 1010 (349, 66)\n",
      "1011\n",
      "3 1011 (349, 71)\n",
      "1012\n",
      "9 1012 (350, 10)\n",
      "1013\n",
      "1 1013 (350, 19)\n",
      "1014\n",
      "4 1014 (350, 63)\n",
      "1015\n",
      "9 1015 (350, 78)\n",
      "1016\n",
      "4 1016 (350, 88)\n",
      "1017\n",
      "9 1017 (350, 101)\n",
      "1018\n",
      "4 1018 (350, 129)\n",
      "1019\n",
      "4 1019 (350, 140)\n",
      "1020\n",
      "1 1020 (350, 143)\n",
      "1021\n",
      "27 1021 (350, 165)\n",
      "1022\n",
      "9 1022 (350, 173)\n",
      "1023\n",
      "3 1023 (350, 176)\n",
      "1024\n",
      "9 1024 (350, 179)\n",
      "1025\n",
      "1 1025 (350, 183)\n",
      "1026\n",
      "4 1026 (350, 196)\n",
      "1027\n",
      "2 1027 (351, 20)\n",
      "1028\n",
      "7 1028 (352, 3)\n",
      "1029\n",
      "3 1029 (352, 8)\n",
      "1030\n",
      "1 1030 (352, 9)\n",
      "1031\n",
      "13 1031 (352, 35)\n",
      "1032\n",
      "13 1032 (352, 70)\n",
      "1033\n",
      "4 1033 (352, 89)\n",
      "1034\n",
      "3 1034 (352, 93)\n",
      "1035\n",
      "3 1035 (352, 129)\n",
      "1036\n",
      "4 1036 (352, 134)\n",
      "1037\n",
      "1 1037 (352, 137)\n",
      "1038\n",
      "13 1038 (352, 141)\n",
      "1039\n",
      "1 1039 (352, 148)\n",
      "1040\n",
      "13 1040 (352, 150)\n",
      "1041\n",
      "3 1041 (352, 189)\n",
      "1042\n",
      "13 1042 (352, 237)\n",
      "1043\n",
      "4 1043 (352, 245)\n",
      "1044\n",
      "2 1044 (352, 258)\n",
      "1045\n",
      "2 1045 (352, 271)\n",
      "1046\n",
      "2 1046 (352, 313)\n",
      "1047\n",
      "13 1047 (352, 325)\n",
      "1048\n",
      "13 1048 (352, 339)\n",
      "1049\n",
      "3 1049 (352, 350)\n",
      "1050\n",
      "13 1050 (352, 352)\n",
      "1051\n",
      "3 1051 (352, 355)\n",
      "1052\n",
      "13 1052 (352, 356)\n",
      "1053\n",
      "3 1053 (352, 370)\n",
      "1054\n",
      "13 1054 (352, 388)\n",
      "1055\n",
      "13 1055 (352, 400)\n",
      "1056\n",
      "3 1056 (352, 408)\n",
      "1057\n",
      "5 1057 (352, 425)\n",
      "1058\n",
      "4 1058 (352, 461)\n",
      "1059\n",
      "13 1059 (352, 462)\n",
      "1060\n",
      "13 1060 (352, 510)\n",
      "1061\n",
      "4 1061 (352, 512)\n",
      "1062\n",
      "2 1062 (352, 526)\n",
      "1063\n",
      "13 1063 (352, 562)\n",
      "1064\n",
      "13 1064 (352, 605)\n",
      "1065\n",
      "13 1065 (352, 610)\n",
      "1066\n",
      "13 1066 (352, 620)\n",
      "1067\n",
      "3 1067 (352, 664)\n",
      "1068\n",
      "3 1068 (352, 665)\n",
      "1069\n",
      "13 1069 (352, 669)\n",
      "1070\n",
      "3 1070 (352, 674)\n",
      "1071\n",
      "2 1071 (352, 708)\n",
      "1072\n",
      "13 1072 (352, 746)\n",
      "1073\n",
      "10 1073 (353, 80)\n",
      "1074\n",
      "3 1074 (353, 97)\n",
      "1075\n",
      "10 1075 (353, 138)\n",
      "1076\n",
      "2 1076 (353, 148)\n",
      "1077\n",
      "2 1077 (353, 160)\n",
      "1078\n",
      "6 1078 (353, 166)\n",
      "1079\n",
      "2 1079 (353, 215)\n",
      "1080\n",
      "12 1080 (353, 217)\n",
      "1081\n",
      "2 1081 (353, 218)\n",
      "1082\n",
      "10 1082 (353, 236)\n",
      "1083\n",
      "12 1083 (353, 269)\n",
      "1084\n",
      "3 1084 (353, 292)\n",
      "1085\n",
      "4 1085 (353, 295)\n",
      "1086\n",
      "4 1086 (353, 312)\n",
      "1087\n",
      "12 1087 (353, 318)\n",
      "1088\n",
      "2 1088 (353, 340)\n",
      "1089\n",
      "12 1089 (353, 358)\n",
      "1090\n",
      "12 1090 (353, 360)\n",
      "1091\n",
      "1 1091 (353, 364)\n",
      "1092\n",
      "12 1092 (353, 375)\n",
      "1093\n",
      "2 1093 (353, 389)\n",
      "1094\n",
      "2 1094 (353, 419)\n",
      "1095\n",
      "4 1095 (353, 444)\n",
      "1096\n",
      "1 1096 (353, 466)\n",
      "1097\n",
      "2 1097 (353, 496)\n",
      "1098\n",
      "1 1098 (353, 506)\n",
      "1099\n",
      "2 1099 (353, 507)\n",
      "1100\n",
      "4 1100 (353, 561)\n",
      "1101\n",
      "3 1101 (353, 573)\n",
      "1102\n",
      "3 1102 (353, 594)\n",
      "1103\n",
      "3 1103 (353, 630)\n",
      "1104\n",
      "12 1104 (353, 644)\n",
      "1105\n",
      "3 1105 (354, 14)\n",
      "1106\n",
      "2 1106 (354, 27)\n",
      "1107\n",
      "6 1107 (354, 33)\n",
      "1108\n",
      "2 1108 (354, 37)\n",
      "1109\n",
      "6 1109 (354, 56)\n",
      "1110\n",
      "3 1110 (354, 58)\n",
      "1111\n",
      "2 1111 (354, 69)\n",
      "1112\n",
      "2 1112 (354, 80)\n",
      "1113\n",
      "5 1113 (356, 5)\n",
      "1114\n",
      "12 1114 (356, 15)\n",
      "1115\n",
      "81 1115 (357, 41)\n",
      "1116\n",
      "148962 1116 (358, 17)\n",
      "1117\n",
      "2 1117 (360, 5)\n",
      "1118\n",
      "8 1118 (360, 9)\n",
      "1119\n",
      "2 1119 (360, 11)\n",
      "1120\n",
      "2 1120 (360, 30)\n",
      "1121\n",
      "2 1121 (360, 38)\n",
      "1122\n",
      "2 1122 (360, 39)\n",
      "1123\n",
      "2 1123 (360, 55)\n",
      "1124\n",
      "2 1124 (360, 68)\n",
      "1125\n",
      "12 1125 (360, 72)\n",
      "1126\n",
      "1 1126 (361, 9)\n",
      "1127\n",
      "4 1127 (361, 27)\n",
      "1128\n",
      "3 1128 (361, 49)\n",
      "1129\n",
      "1 1129 (361, 74)\n",
      "1130\n",
      "3 1130 (362, 14)\n",
      "1131\n",
      "14 1131 (362, 18)\n",
      "1132\n",
      "1 1132 (362, 38)\n",
      "1133\n",
      "2 1133 (362, 44)\n",
      "1134\n",
      "1 1134 (362, 47)\n",
      "1135\n",
      "5 1135 (362, 48)\n",
      "1136\n",
      "1 1136 (362, 107)\n",
      "1137\n",
      "1 1137 (362, 120)\n",
      "1138\n",
      "14 1138 (362, 127)\n",
      "1139\n",
      "1 1139 (362, 132)\n",
      "1140\n",
      "1 1140 (362, 136)\n",
      "1141\n",
      "1 1141 (362, 145)\n",
      "1142\n",
      "4 1142 (362, 165)\n",
      "1143\n",
      "1 1143 (362, 178)\n",
      "1144\n",
      "1 1144 (362, 184)\n",
      "1145\n",
      "2 1145 (362, 196)\n",
      "1146\n",
      "1 1146 (362, 242)\n",
      "1147\n",
      "1 1147 (362, 268)\n",
      "1148\n",
      "1 1148 (362, 292)\n",
      "1149\n",
      "1 1149 (362, 296)\n",
      "1150\n",
      "1 1150 (362, 299)\n",
      "1151\n",
      "3 1151 (362, 305)\n",
      "1152\n",
      "1 1152 (362, 314)\n",
      "1153\n",
      "4 1153 (362, 338)\n",
      "1154\n",
      "2 1154 (362, 378)\n",
      "1155\n",
      "3 1155 (362, 383)\n",
      "1156\n",
      "1 1156 (362, 390)\n",
      "1157\n",
      "1 1157 (362, 395)\n",
      "1158\n",
      "2 1158 (362, 400)\n",
      "1159\n",
      "1 1159 (362, 483)\n",
      "1160\n",
      "6 1160 (362, 522)\n",
      "1161\n",
      "1 1161 (362, 531)\n",
      "1162\n",
      "3 1162 (362, 546)\n",
      "1163\n",
      "1 1163 (362, 547)\n",
      "1164\n",
      "1 1164 (362, 551)\n",
      "1165\n",
      "3 1165 (362, 567)\n",
      "1166\n",
      "2 1166 (362, 613)\n",
      "1167\n",
      "4 1167 (362, 641)\n",
      "1168\n",
      "14 1168 (362, 643)\n",
      "1169\n",
      "1 1169 (362, 648)\n",
      "1170\n",
      "1 1170 (362, 661)\n",
      "1171\n",
      "14 1171 (362, 683)\n",
      "1172\n",
      "1 1172 (362, 702)\n",
      "1173\n",
      "5 1173 (362, 704)\n",
      "1174\n",
      "1 1174 (362, 723)\n",
      "1175\n",
      "3 1175 (362, 752)\n",
      "1176\n",
      "1 1176 (362, 786)\n",
      "1177\n",
      "1 1177 (362, 789)\n",
      "1178\n",
      "1 1178 (362, 802)\n",
      "1179\n",
      "3 1179 (362, 807)\n",
      "1180\n",
      "5 1180 (362, 820)\n",
      "1181\n",
      "4 1181 (362, 825)\n",
      "1182\n",
      "1 1182 (362, 834)\n",
      "1183\n",
      "14 1183 (362, 858)\n",
      "1184\n",
      "1 1184 (362, 864)\n",
      "1185\n",
      "3 1185 (362, 874)\n",
      "1186\n",
      "14 1186 (362, 894)\n",
      "1187\n",
      "7 1187 (362, 933)\n",
      "1188\n",
      "1 1188 (362, 986)\n",
      "1189\n",
      "1 1189 (362, 990)\n",
      "1190\n",
      "1 1190 (362, 994)\n",
      "1191\n",
      "1 1191 (362, 1001)\n",
      "1192\n",
      "1 1192 (362, 1010)\n",
      "1193\n",
      "1 1193 (362, 1058)\n",
      "1194\n",
      "14 1194 (362, 1072)\n",
      "1195\n",
      "2 1195 (362, 1074)\n",
      "1196\n",
      "4 1196 (362, 1145)\n",
      "1197\n",
      "1 1197 (362, 1161)\n",
      "1198\n",
      "1 1198 (362, 1162)\n",
      "1199\n",
      "4 1199 (362, 1246)\n",
      "1200\n",
      "2 1200 (362, 1251)\n",
      "1201\n",
      "5 1201 (362, 1254)\n",
      "1202\n",
      "1 1202 (362, 1267)\n",
      "1203\n",
      "1 1203 (362, 1269)\n",
      "1204\n",
      "2 1204 (362, 1279)\n",
      "1205\n",
      "4 1205 (362, 1327)\n",
      "1206\n",
      "1 1206 (362, 1333)\n",
      "1207\n",
      "1 1207 (362, 1358)\n",
      "1208\n",
      "5 1208 (362, 1400)\n",
      "1209\n",
      "2 1209 (362, 1450)\n",
      "1210\n",
      "2 1210 (362, 1464)\n",
      "1211\n",
      "1 1211 (362, 1469)\n",
      "1212\n",
      "1 1212 (362, 1475)\n",
      "1213\n",
      "3 1213 (362, 1476)\n",
      "1214\n",
      "5 1214 (362, 1487)\n",
      "1215\n",
      "14 1215 (362, 1523)\n",
      "1216\n",
      "5 1216 (362, 1550)\n",
      "1217\n",
      "1 1217 (362, 1579)\n",
      "1218\n",
      "1 1218 (362, 1591)\n",
      "1219\n",
      "1 1219 (362, 1592)\n",
      "1220\n",
      "2 1220 (362, 1641)\n",
      "1221\n",
      "1 1221 (362, 1645)\n",
      "1222\n",
      "1 1222 (362, 1650)\n",
      "1223\n",
      "4 1223 (362, 1702)\n",
      "1224\n",
      "14 1224 (362, 1720)\n",
      "1225\n",
      "65 1225 (362, 1743)\n",
      "1226\n",
      "2 1226 (362, 1747)\n",
      "1227\n",
      "3 1227 (362, 1752)\n",
      "1228\n",
      "3 1228 (362, 1754)\n",
      "1229\n",
      "1 1229 (362, 1768)\n",
      "1230\n",
      "14 1230 (362, 1779)\n",
      "1231\n",
      "1 1231 (362, 1786)\n",
      "1232\n",
      "1 1232 (362, 1815)\n",
      "1233\n",
      "2 1233 (362, 1824)\n",
      "1234\n",
      "1 1234 (362, 1826)\n",
      "1235\n",
      "2 1235 (363, 39)\n",
      "1236\n",
      "12 1236 (363, 40)\n",
      "1237\n",
      "8 1237 (363, 51)\n",
      "1238\n",
      "2 1238 (363, 60)\n",
      "1239\n",
      "2 1239 (363, 71)\n",
      "1240\n",
      "2 1240 (363, 73)\n",
      "1241\n",
      "2 1241 (363, 74)\n",
      "1242\n",
      "6 1242 (364, 13)\n",
      "1243\n",
      "3 1243 (364, 17)\n",
      "1244\n",
      "1 1244 (364, 56)\n",
      "1245\n",
      "4 1245 (364, 65)\n",
      "1246\n",
      "5 1246 (364, 78)\n",
      "1247\n",
      "3 1247 (364, 87)\n",
      "1248\n",
      "2 1248 (364, 98)\n",
      "1249\n",
      "2 1249 (364, 103)\n",
      "1250\n",
      "1 1250 (364, 109)\n",
      "1251\n",
      "4 1251 (364, 118)\n",
      "1252\n",
      "3 1252 (364, 135)\n",
      "1253\n",
      "2 1253 (364, 141)\n",
      "1254\n",
      "2 1254 (364, 149)\n",
      "1255\n",
      "2 1255 (364, 161)\n",
      "1256\n",
      "5 1256 (364, 204)\n",
      "1257\n",
      "2 1257 (364, 214)\n",
      "1258\n",
      "2 1258 (364, 223)\n",
      "1259\n",
      "2 1259 (364, 229)\n",
      "1260\n",
      "4 1260 (364, 243)\n",
      "1261\n",
      "3 1261 (364, 250)\n",
      "1262\n",
      "3 1262 (364, 257)\n",
      "1263\n",
      "1 1263 (364, 261)\n",
      "1264\n",
      "10 1264 (365, 72)\n",
      "1265\n",
      "1 1265 (365, 98)\n",
      "1266\n",
      "2 1266 (365, 106)\n",
      "1267\n",
      "15 1267 (365, 110)\n",
      "1268\n",
      "1 1268 (365, 141)\n",
      "1269\n",
      "2 1269 (365, 166)\n",
      "1270\n",
      "42 1270 (365, 177)\n",
      "1271\n",
      "4 1271 (365, 234)\n",
      "1272\n",
      "3 1272 (365, 242)\n",
      "1273\n",
      "5441 1273 (366, 2)\n",
      "1274\n",
      "5 1274 (368, 28)\n",
      "1275\n",
      "1 1275 (368, 50)\n",
      "1276\n",
      "1 1276 (368, 62)\n",
      "1277\n",
      "1 1277 (368, 105)\n",
      "1278\n",
      "3 1278 (368, 119)\n",
      "1279\n",
      "4 1279 (368, 126)\n",
      "1280\n",
      "1 1280 (368, 192)\n",
      "1281\n",
      "1 1281 (368, 227)\n",
      "1282\n",
      "6 1282 (368, 296)\n",
      "1283\n",
      "1 1283 (368, 315)\n",
      "1284\n",
      "3 1284 (368, 340)\n",
      "1285\n",
      "1 1285 (368, 405)\n",
      "1286\n",
      "3 1286 (368, 415)\n",
      "1287\n",
      "6 1287 (368, 450)\n",
      "1288\n",
      "1 1288 (368, 486)\n",
      "1289\n",
      "3 1289 (368, 494)\n",
      "1290\n",
      "3 1290 (368, 496)\n",
      "1291\n",
      "1 1291 (368, 499)\n",
      "1292\n",
      "1 1292 (368, 508)\n",
      "1293\n",
      "3 1293 (368, 579)\n",
      "1294\n",
      "4 1294 (368, 599)\n",
      "1295\n",
      "3 1295 (368, 650)\n",
      "1296\n",
      "1 1296 (368, 667)\n",
      "1297\n",
      "1 1297 (368, 689)\n",
      "1298\n",
      "4 1298 (368, 698)\n",
      "1299\n",
      "3 1299 (368, 723)\n",
      "1300\n",
      "3 1300 (368, 739)\n",
      "1301\n",
      "1 1301 (368, 745)\n",
      "1302\n",
      "1 1302 (368, 755)\n",
      "1303\n",
      "3 1303 (368, 789)\n",
      "1304\n",
      "3 1304 (368, 804)\n",
      "1305\n",
      "1 1305 (368, 829)\n",
      "1306\n",
      "1 1306 (368, 858)\n",
      "1307\n",
      "1 1307 (368, 935)\n",
      "1308\n",
      "3 1308 (368, 970)\n",
      "1309\n",
      "3 1309 (368, 999)\n",
      "1310\n",
      "3 1310 (368, 1001)\n",
      "1311\n",
      "4 1311 (368, 1011)\n",
      "1312\n",
      "4 1312 (368, 1012)\n",
      "1313\n",
      "5 1313 (368, 1048)\n",
      "1314\n",
      "2 1314 (368, 1142)\n",
      "1315\n",
      "1 1315 (368, 1163)\n",
      "1316\n",
      "3 1316 (368, 1175)\n",
      "1317\n",
      "3 1317 (368, 1196)\n",
      "1318\n",
      "2 1318 (368, 1200)\n",
      "1319\n",
      "1 1319 (368, 1204)\n",
      "1320\n",
      "5 1320 (368, 1263)\n",
      "1321\n",
      "4 1321 (368, 1269)\n",
      "1322\n",
      "1 1322 (368, 1333)\n",
      "1323\n",
      "1 1323 (368, 1358)\n",
      "1324\n",
      "3 1324 (368, 1387)\n",
      "1325\n",
      "3 1325 (368, 1443)\n",
      "1326\n",
      "4 1326 (368, 1444)\n",
      "1327\n",
      "4 1327 (368, 1448)\n",
      "1328\n",
      "4 1328 (368, 1475)\n",
      "1329\n",
      "3 1329 (368, 1544)\n",
      "1330\n",
      "6 1330 (368, 1575)\n",
      "1331\n",
      "5 1331 (368, 1592)\n",
      "1332\n",
      "4 1332 (368, 1599)\n",
      "1333\n",
      "1 1333 (368, 1603)\n",
      "1334\n",
      "4 1334 (368, 1620)\n",
      "1335\n",
      "1 1335 (368, 1626)\n",
      "1336\n",
      "5 1336 (368, 1651)\n",
      "1337\n",
      "5 1337 (368, 1655)\n",
      "1338\n",
      "1 1338 (368, 1698)\n",
      "1339\n",
      "3 1339 (368, 1709)\n",
      "1340\n",
      "1 1340 (368, 1742)\n",
      "1341\n",
      "1 1341 (368, 1743)\n",
      "1342\n",
      "10 1342 (369, 9)\n",
      "1343\n",
      "4 1343 (371, 13)\n",
      "1344\n",
      "1 1344 (371, 27)\n",
      "1345\n",
      "6 1345 (371, 44)\n",
      "1346\n",
      "8 1346 (371, 52)\n",
      "1347\n",
      "2 1347 (371, 97)\n",
      "1348\n",
      "1 1348 (371, 99)\n",
      "1349\n",
      "3 1349 (371, 151)\n",
      "1350\n",
      "1 1350 (371, 164)\n",
      "1351\n",
      "6 1351 (371, 201)\n",
      "1352\n",
      "5 1352 (371, 237)\n",
      "1353\n"
     ]
    },
    {
     "ename": "KeyboardInterrupt",
     "evalue": "",
     "output_type": "error",
     "traceback": [
      "\u001b[0;31m---------------------------------------------------------------------------\u001b[0m",
      "\u001b[0;31mKeyboardInterrupt\u001b[0m                         Traceback (most recent call last)",
      "\u001b[1;32m/home/xx/Documents/pet-projects/disco-llm/create_dataset.ipynb Cell 35\u001b[0m line \u001b[0;36m4\n\u001b[1;32m      <a href='vscode-notebook-cell:/home/xx/Documents/pet-projects/disco-llm/create_dataset.ipynb#Y255sZmlsZQ%3D%3D?line=1'>2</a>\u001b[0m \u001b[39mif\u001b[39;00m idx \u001b[39mnot\u001b[39;00m \u001b[39min\u001b[39;00m [\u001b[39m630\u001b[39m, \u001b[39m631\u001b[39m, ]:\n\u001b[1;32m      <a href='vscode-notebook-cell:/home/xx/Documents/pet-projects/disco-llm/create_dataset.ipynb#Y255sZmlsZQ%3D%3D?line=2'>3</a>\u001b[0m     \u001b[39mprint\u001b[39m(idx)\n\u001b[0;32m----> <a href='vscode-notebook-cell:/home/xx/Documents/pet-projects/disco-llm/create_dataset.ipynb#Y255sZmlsZQ%3D%3D?line=3'>4</a>\u001b[0m     r \u001b[39m=\u001b[39m recursive_count(i, [])\n\u001b[1;32m      <a href='vscode-notebook-cell:/home/xx/Documents/pet-projects/disco-llm/create_dataset.ipynb#Y255sZmlsZQ%3D%3D?line=4'>5</a>\u001b[0m     \u001b[39mprint\u001b[39m(r, idx, i)\n",
      "\u001b[1;32m/home/xx/Documents/pet-projects/disco-llm/create_dataset.ipynb Cell 35\u001b[0m line \u001b[0;36m1\n\u001b[1;32m      <a href='vscode-notebook-cell:/home/xx/Documents/pet-projects/disco-llm/create_dataset.ipynb#Y255sZmlsZQ%3D%3D?line=7'>8</a>\u001b[0m \u001b[39mfor\u001b[39;00m link \u001b[39min\u001b[39;00m links:\n\u001b[1;32m      <a href='vscode-notebook-cell:/home/xx/Documents/pet-projects/disco-llm/create_dataset.ipynb#Y255sZmlsZQ%3D%3D?line=8'>9</a>\u001b[0m     \u001b[39mif\u001b[39;00m link \u001b[39mnot\u001b[39;00m \u001b[39min\u001b[39;00m prev_nodes:\n\u001b[0;32m---> <a href='vscode-notebook-cell:/home/xx/Documents/pet-projects/disco-llm/create_dataset.ipynb#Y255sZmlsZQ%3D%3D?line=9'>10</a>\u001b[0m         sum_ \u001b[39m+\u001b[39m\u001b[39m=\u001b[39m recursive_count(link, prev_nodes\u001b[39m+\u001b[39;49m[node])\n\u001b[1;32m     <a href='vscode-notebook-cell:/home/xx/Documents/pet-projects/disco-llm/create_dataset.ipynb#Y255sZmlsZQ%3D%3D?line=10'>11</a>\u001b[0m \u001b[39mreturn\u001b[39;00m sum_\n",
      "\u001b[1;32m/home/xx/Documents/pet-projects/disco-llm/create_dataset.ipynb Cell 35\u001b[0m line \u001b[0;36m1\n\u001b[1;32m      <a href='vscode-notebook-cell:/home/xx/Documents/pet-projects/disco-llm/create_dataset.ipynb#Y255sZmlsZQ%3D%3D?line=7'>8</a>\u001b[0m \u001b[39mfor\u001b[39;00m link \u001b[39min\u001b[39;00m links:\n\u001b[1;32m      <a href='vscode-notebook-cell:/home/xx/Documents/pet-projects/disco-llm/create_dataset.ipynb#Y255sZmlsZQ%3D%3D?line=8'>9</a>\u001b[0m     \u001b[39mif\u001b[39;00m link \u001b[39mnot\u001b[39;00m \u001b[39min\u001b[39;00m prev_nodes:\n\u001b[0;32m---> <a href='vscode-notebook-cell:/home/xx/Documents/pet-projects/disco-llm/create_dataset.ipynb#Y255sZmlsZQ%3D%3D?line=9'>10</a>\u001b[0m         sum_ \u001b[39m+\u001b[39m\u001b[39m=\u001b[39m recursive_count(link, prev_nodes\u001b[39m+\u001b[39;49m[node])\n\u001b[1;32m     <a href='vscode-notebook-cell:/home/xx/Documents/pet-projects/disco-llm/create_dataset.ipynb#Y255sZmlsZQ%3D%3D?line=10'>11</a>\u001b[0m \u001b[39mreturn\u001b[39;00m sum_\n",
      "    \u001b[0;31m[... skipping similar frames: recursive_count at line 10 (42 times)]\u001b[0m\n",
      "\u001b[1;32m/home/xx/Documents/pet-projects/disco-llm/create_dataset.ipynb Cell 35\u001b[0m line \u001b[0;36m1\n\u001b[1;32m      <a href='vscode-notebook-cell:/home/xx/Documents/pet-projects/disco-llm/create_dataset.ipynb#Y255sZmlsZQ%3D%3D?line=7'>8</a>\u001b[0m \u001b[39mfor\u001b[39;00m link \u001b[39min\u001b[39;00m links:\n\u001b[1;32m      <a href='vscode-notebook-cell:/home/xx/Documents/pet-projects/disco-llm/create_dataset.ipynb#Y255sZmlsZQ%3D%3D?line=8'>9</a>\u001b[0m     \u001b[39mif\u001b[39;00m link \u001b[39mnot\u001b[39;00m \u001b[39min\u001b[39;00m prev_nodes:\n\u001b[0;32m---> <a href='vscode-notebook-cell:/home/xx/Documents/pet-projects/disco-llm/create_dataset.ipynb#Y255sZmlsZQ%3D%3D?line=9'>10</a>\u001b[0m         sum_ \u001b[39m+\u001b[39m\u001b[39m=\u001b[39m recursive_count(link, prev_nodes\u001b[39m+\u001b[39;49m[node])\n\u001b[1;32m     <a href='vscode-notebook-cell:/home/xx/Documents/pet-projects/disco-llm/create_dataset.ipynb#Y255sZmlsZQ%3D%3D?line=10'>11</a>\u001b[0m \u001b[39mreturn\u001b[39;00m sum_\n",
      "\u001b[1;32m/home/xx/Documents/pet-projects/disco-llm/create_dataset.ipynb Cell 35\u001b[0m line \u001b[0;36m2\n\u001b[1;32m      <a href='vscode-notebook-cell:/home/xx/Documents/pet-projects/disco-llm/create_dataset.ipynb#Y255sZmlsZQ%3D%3D?line=0'>1</a>\u001b[0m \u001b[39m#@exit_after(5)\u001b[39;00m\n\u001b[0;32m----> <a href='vscode-notebook-cell:/home/xx/Documents/pet-projects/disco-llm/create_dataset.ipynb#Y255sZmlsZQ%3D%3D?line=1'>2</a>\u001b[0m \u001b[39mdef\u001b[39;00m \u001b[39mrecursive_count\u001b[39m(node, prev_nodes):\n\u001b[1;32m      <a href='vscode-notebook-cell:/home/xx/Documents/pet-projects/disco-llm/create_dataset.ipynb#Y255sZmlsZQ%3D%3D?line=2'>3</a>\u001b[0m     links \u001b[39m=\u001b[39m convs_dict[node]\n\u001b[1;32m      <a href='vscode-notebook-cell:/home/xx/Documents/pet-projects/disco-llm/create_dataset.ipynb#Y255sZmlsZQ%3D%3D?line=3'>4</a>\u001b[0m     \u001b[39mif\u001b[39;00m \u001b[39mlen\u001b[39m(links) \u001b[39m==\u001b[39m \u001b[39m0\u001b[39m:\n",
      "\u001b[0;31mKeyboardInterrupt\u001b[0m: "
     ]
    }
   ],
   "source": [
    "for idx, i in enumerate(all_starts[700:], start=700):\n",
    "    if idx not in [630, 631, ]:\n",
    "        print(idx)\n",
    "        r = recursive_count(i, [])\n",
    "        print(r, idx, i)\n"
   ]
  }
 ],
 "metadata": {
  "kernelspec": {
   "display_name": "blender",
   "language": "python",
   "name": "python3"
  },
  "language_info": {
   "codemirror_mode": {
    "name": "ipython",
    "version": 3
   },
   "file_extension": ".py",
   "mimetype": "text/x-python",
   "name": "python",
   "nbconvert_exporter": "python",
   "pygments_lexer": "ipython3",
   "version": "3.10.9"
  }
 },
 "nbformat": 4,
 "nbformat_minor": 2
}
