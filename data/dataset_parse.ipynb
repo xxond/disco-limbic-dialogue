{
 "cells": [
  {
   "cell_type": "code",
   "execution_count": null,
   "metadata": {},
   "outputs": [],
   "source": [
    "import json\n",
    "import pandas as pd\n",
    "import plotly.graph_objects as go\n",
    "\n",
    "pd.options.display.max_rows = 100\n",
    "pd.options.display.max_colwidth = 100"
   ]
  },
  {
   "cell_type": "markdown",
   "metadata": {},
   "source": [
    "# Load raw data"
   ]
  },
  {
   "cell_type": "code",
   "execution_count": null,
   "metadata": {},
   "outputs": [],
   "source": [
    "with open('raw/disco_elysium.json', 'r') as f:\n",
    "    data = json.load(f)"
   ]
  },
  {
   "cell_type": "markdown",
   "metadata": {},
   "source": [
    "# Extract info"
   ]
  },
  {
   "cell_type": "code",
   "execution_count": null,
   "metadata": {},
   "outputs": [],
   "source": [
    "actors = data['actors']\n",
    "items = data['items']\n",
    "variables = data['variables']\n",
    "conversations = data['conversations']\n",
    "syncInfo = data['syncInfo']\n"
   ]
  },
  {
   "cell_type": "code",
   "execution_count": null,
   "metadata": {},
   "outputs": [],
   "source": [
    "def convert_actors(actors):\n",
    "    fixed_actors = {}\n",
    "    needed_fields = [\n",
    "        'Name', 'Description',\n",
    "        'character_short_name', 'IsNPC',\n",
    "        'short_description', 'LongDescription',\n",
    "    ]\n",
    "    \n",
    "    for act in actors:\n",
    "        idx = act['id']\n",
    "        fixed_actors[idx] = {}\n",
    "        for field in act['fields']:\n",
    "            if field['title'] in needed_fields:\n",
    "                fixed_actors[idx][field['title']] = field['value']\n",
    "    return fixed_actors\n",
    "\n",
    "def convert_dialog_entr(conversations: list):\n",
    "    fixed_dialog = {}\n",
    "    needed_fields = [\n",
    "        'Title', 'Dialogue Text',\n",
    "        'Actor', 'Conversant',\n",
    "        #'InputId', 'OutputId',\n",
    "    ]\n",
    "    for conversation in conversations:\n",
    "        for line in conversation['dialogueEntries']:\n",
    "            idx = (line['conversationID'], line['id'])\n",
    "            fixed_dialog[idx] = {}\n",
    "            for field in line['fields']:\n",
    "                if field['title'] in needed_fields:\n",
    "                    fixed_dialog[idx][field['title']] = field['value']\n",
    "\n",
    "            fixed_dialog[idx]['outgoingLinks'] = []\n",
    "            for link in line['outgoingLinks']:\n",
    "                fixed_dialog[idx]['outgoingLinks'].append(\n",
    "                    (link['destinationConversationID'], link['destinationDialogueID']))\n",
    "            fixed_dialog[idx]['isGroup'] = line['isGroup']\n",
    "            fixed_dialog[idx]['canvasRect_x'] = line['canvasRect']['x']\n",
    "            fixed_dialog[idx]['canvasRect_y'] = line['canvasRect']['y']\n",
    "            fixed_dialog[idx]['canvasRect_width'] = line['canvasRect']['width']\n",
    "            fixed_dialog[idx]['canvasRect_height'] = line['canvasRect']['height']\n",
    "    return fixed_dialog\n",
    "        "
   ]
  },
  {
   "cell_type": "code",
   "execution_count": null,
   "metadata": {},
   "outputs": [],
   "source": [
    "actor_table = pd.DataFrame(convert_actors(actors)).T\n",
    "dia_table = pd.DataFrame(convert_dialog_entr(conversations)).T"
   ]
  },
  {
   "cell_type": "code",
   "execution_count": null,
   "metadata": {},
   "outputs": [],
   "source": [
    "dia_table[dia_table['Dialogue Text'].isna() == False]['Dialogue Text'].apply(lambda x: len(x.split(' '))).sum()"
   ]
  },
  {
   "cell_type": "code",
   "execution_count": null,
   "metadata": {},
   "outputs": [],
   "source": [
    "actor_table.to_csv('table/actor.csv')\n",
    "dia_table.to_csv('table/convs.csv')"
   ]
  },
  {
   "cell_type": "markdown",
   "metadata": {},
   "source": [
    "# Plotting stuff"
   ]
  },
  {
   "cell_type": "code",
   "execution_count": null,
   "metadata": {},
   "outputs": [],
   "source": [
    "idx = 39\n",
    "canva = dia_table.loc[idx].loc[:, ['canvasRect_x', 'canvasRect_y', 'outgoingLinks', 'Dialogue Text']]"
   ]
  },
  {
   "cell_type": "code",
   "execution_count": null,
   "metadata": {},
   "outputs": [],
   "source": [
    "def plot_conv(dia_table, inp_conv_id):\n",
    "    #idx = 100\n",
    "    canva = dia_table.loc[inp_conv_id].loc[:, ['canvasRect_x', 'canvasRect_y', 'outgoingLinks', 'Dialogue Text']]\n",
    "\n",
    "    colors = ['#872341', '#2d98b5']\n",
    "    dot_color = '#BE3144'\n",
    "    bg_color = '#22092C'\n",
    "\n",
    "    fig = go.Figure()\n",
    "    fig.add_trace(go.Scatter(\n",
    "        x=canva['canvasRect_x'],\n",
    "        y=canva['canvasRect_y'],\n",
    "        text=canva.index,#['Dialogue Text'],\n",
    "        mode=\"markers\",\n",
    "        marker=dict(color=dot_color, )#size=2)\n",
    "    ))\n",
    "\n",
    "    for self_dia_id, other in canva.iterrows():\n",
    "        \n",
    "        x0 = other['canvasRect_x']\n",
    "        y0 = other['canvasRect_y']\n",
    "        links = other['outgoingLinks']\n",
    "        for conv_id, dia_id in links:\n",
    "            if conv_id != inp_conv_id:\n",
    "                continue\n",
    "\n",
    "            x2, y2 = canva.loc[dia_id][['canvasRect_x', 'canvasRect_y']]\n",
    "            x1, y1 = (x0 + x2)/2, (y0 + y2)/2\n",
    "            \n",
    "            fig.add_trace(go.Scatter(\n",
    "                x=[x0, x1], y=[y0, y1], showlegend=False, hoverinfo='none',\n",
    "                mode=\"lines\", line=dict(width=0.5, color=colors[0])))\n",
    "            \n",
    "            fig.add_trace(go.Scatter(\n",
    "                x=[x1, x2], y=[y1, y2], showlegend=False,  hoverinfo='none',\n",
    "                mode=\"lines\", line=dict(width=0.5, color=colors[1])))\n",
    "\n",
    "    fig.update_layout(\n",
    "        autosize=False,\n",
    "        width=1500,\n",
    "        height=1000,\n",
    "        margin=dict(l=0, r=0, b=0, t=0, pad=0),\n",
    "        plot_bgcolor=bg_color,\n",
    "        paper_bgcolor=bg_color,\n",
    "    )\n",
    "\n",
    "    fig.update_shapes(dict(xref='x', yref='y'))\n",
    "    return fig"
   ]
  },
  {
   "cell_type": "code",
   "execution_count": null,
   "metadata": {},
   "outputs": [],
   "source": [
    "def plot_3d_conv(dia_table, from_idx, to_idx):\n",
    "    #idx = 100\n",
    "    canva = dia_table.loc[from_idx:to_idx].loc[:, ['canvasRect_x', 'canvasRect_y', 'outgoingLinks', 'Dialogue Text']]\n",
    "\n",
    "    colors = ['#872341', '#2d98b5']\n",
    "    dot_color = '#BE3144'\n",
    "    bg_color = '#22092C'\n",
    "\n",
    "    fig = go.Figure()\n",
    "    fig.add_trace(go.Scatter3d(\n",
    "        x=canva['canvasRect_x'],\n",
    "        y=canva['canvasRect_y'],\n",
    "        z=canva.index.get_level_values(0),\n",
    "        text=canva['Dialogue Text'],\n",
    "        mode=\"markers\",\n",
    "        marker=dict(color=dot_color, size=2)\n",
    "    ))\n",
    "\n",
    "    for (self_conv_id, self_dia_id), other in canva.iterrows():\n",
    "        \n",
    "        x0 = other['canvasRect_x']\n",
    "        y0 = other['canvasRect_y']\n",
    "        z0 = self_conv_id\n",
    "        links = other['outgoingLinks']\n",
    "        for conv_id, dia_id in links:\n",
    "            if conv_id not in canva.index:\n",
    "                continue\n",
    "            z2 = conv_id\n",
    "            x2, y2 = canva.loc[conv_id, dia_id][['canvasRect_x', 'canvasRect_y']]\n",
    "            \n",
    "            x1, y1, z1 = (x0 + x2)/2, (y0 + y2)/2, (z0 + z2)/2\n",
    "            fig.add_trace(go.Scatter3d(\n",
    "                x=[x0, x1], y=[y0, y1], z=[z0, z1], showlegend=False, hoverinfo='none',\n",
    "                mode=\"lines\", line=dict(width=0.5, color=colors[0])))\n",
    "            \n",
    "            fig.add_trace(go.Scatter3d(\n",
    "                x=[x1, x2], y=[y1, y2], z=[z1, z2],showlegend=False,  hoverinfo='none',\n",
    "                mode=\"lines\", line=dict(width=0.5, color=colors[1])))\n",
    "\n",
    "    fig.update_layout(\n",
    "        autosize=False,\n",
    "        width=1500,\n",
    "        height=1000,\n",
    "        margin=dict(l=0, r=0, b=0, t=0, pad=0),\n",
    "        plot_bgcolor=bg_color,\n",
    "        paper_bgcolor=bg_color,\n",
    "    )\n",
    "\n",
    "    fig.update_shapes(dict(xref='x', yref='y'))\n",
    "    return fig"
   ]
  },
  {
   "cell_type": "code",
   "execution_count": null,
   "metadata": {},
   "outputs": [],
   "source": [
    "fig = plot_3d_conv(dia_table, 1, 14)\n",
    "fig.show()"
   ]
  },
  {
   "cell_type": "code",
   "execution_count": null,
   "metadata": {},
   "outputs": [],
   "source": [
    "fig = plot_conv(dia_table, idx)\n",
    "fig.show()"
   ]
  }
 ],
 "metadata": {
  "kernelspec": {
   "display_name": "torch",
   "language": "python",
   "name": "python3"
  },
  "language_info": {
   "codemirror_mode": {
    "name": "ipython",
    "version": 3
   },
   "file_extension": ".py",
   "mimetype": "text/x-python",
   "name": "python",
   "nbconvert_exporter": "python",
   "pygments_lexer": "ipython3",
   "version": "3.10.13"
  }
 },
 "nbformat": 4,
 "nbformat_minor": 2
}
