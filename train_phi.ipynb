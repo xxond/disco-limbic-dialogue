{
 "cells": [
  {
   "cell_type": "code",
   "execution_count": 1,
   "metadata": {},
   "outputs": [
    {
     "name": "stdout",
     "output_type": "stream",
     "text": [
      "env: WANDB_PROJECT=disco-limbic-dialogue\n"
     ]
    }
   ],
   "source": [
    "import json\n",
    "import torch\n",
    "import pandas as pd\n",
    "\n",
    "from peft import get_peft_model, LoraConfig, TaskType, prepare_model_for_int8_training\n",
    "from contextlib import nullcontext\n",
    "from transformers import (default_data_collator, Trainer, TrainingArguments,\n",
    "                          TrainerCallback, AutoTokenizer, AutoModelForCausalLM,\n",
    "                          BitsAndBytesConfig)\n",
    "\n",
    "from transformers.integrations import WandbCallback\n",
    "\n",
    "from utils.dataset import CombineDataset, template\n",
    "\n",
    "# setting up wandb\n",
    "%env WANDB_PROJECT=disco-limbic-dialogue"
   ]
  },
  {
   "cell_type": "markdown",
   "metadata": {},
   "source": [
    "# Params"
   ]
  },
  {
   "cell_type": "code",
   "execution_count": 2,
   "metadata": {},
   "outputs": [],
   "source": [
    "# model\n",
    "model_id = 'microsoft/phi-2'\n",
    "model_type = 'phi'\n",
    "\n",
    "# data settings\n",
    "dataset_train_path = 'data/dataset/v1/train.json'\n",
    "dataset_test_path = 'data/dataset/v1/test.json'\n",
    "max_data_length = 384\n",
    "\n",
    "# lora settings\n",
    "lora_r = 32\n",
    "lora_alpha = 16\n",
    "lora_dropout = 0.05\n",
    "target_modules = ['Wqkv', 'out_proj']\n",
    "\n",
    "# train settings \n",
    "device = 'cuda'\n",
    "lr = 3e-4\n",
    "num_train_epochs = 5\n",
    "\n",
    "gradient_accumulation_steps = 32\n",
    "per_device_train_bs = 1\n",
    "per_device_eval_bs = 1\n",
    "\n",
    "log_steps = 10\n",
    "eval_steps = 30\n",
    "\n",
    "\n",
    "output_dir = f'lora/disco-limbic-dialogue-phi2-eos'"
   ]
  },
  {
   "cell_type": "code",
   "execution_count": 3,
   "metadata": {},
   "outputs": [
    {
     "data": {
      "application/vnd.jupyter.widget-view+json": {
       "model_id": "6ba89154adda4e38ae88db88427ea5f8",
       "version_major": 2,
       "version_minor": 0
      },
      "text/plain": [
       "Loading checkpoint shards:   0%|          | 0/2 [00:00<?, ?it/s]"
      ]
     },
     "metadata": {},
     "output_type": "display_data"
    },
    {
     "name": "stderr",
     "output_type": "stream",
     "text": [
      "Special tokens have been added in the vocabulary, make sure the associated word embeddings are fine-tuned or trained.\n"
     ]
    }
   ],
   "source": [
    "bnb_config = BitsAndBytesConfig(\n",
    "    load_in_4bit=True,\n",
    "    bnb_4bit_use_double_quant=True,\n",
    "    bnb_4bit_quant_type=\"nf4\",\n",
    "    bnb_4bit_compute_dtype=torch.bfloat16\n",
    ")\n",
    "model = AutoModelForCausalLM.from_pretrained(\n",
    "    model_id,\n",
    "    torch_dtype=\"auto\",\n",
    "    flash_attn=True,\n",
    "    flash_rotary=True,\n",
    "    fused_dense=True,\n",
    "    trust_remote_code=True,\n",
    "    device_map={'': 0},\n",
    "    quantization_config=bnb_config\n",
    ")\n",
    "\n",
    "\n",
    "tokenizer = AutoTokenizer.from_pretrained(model_id, trust_remote_code=True)\n",
    "if tokenizer.pad_token is None:\n",
    "    tokenizer.add_special_tokens({'pad_token': '[PAD]'})\n",
    "    model.resize_token_embeddings(len(tokenizer))"
   ]
  },
  {
   "cell_type": "markdown",
   "metadata": {},
   "source": [
    "# load data"
   ]
  },
  {
   "cell_type": "code",
   "execution_count": 4,
   "metadata": {},
   "outputs": [
    {
     "name": "stdout",
     "output_type": "stream",
     "text": [
      "4768 4755\n",
      "118 118\n"
     ]
    },
    {
     "data": {
      "text/plain": [
       "(4755, 118)"
      ]
     },
     "execution_count": 4,
     "metadata": {},
     "output_type": "execute_result"
    }
   ],
   "source": [
    "with open(dataset_train_path, 'r') as f:\n",
    "    raw_data = json.load(f)\n",
    "\n",
    "with open(dataset_test_path, 'r') as f:\n",
    "    raw_data_test = json.load(f)\n",
    "\n",
    "## filter\n",
    "data_train = []\n",
    "for i in raw_data:\n",
    "    if len(tokenizer(template(i, model_type))['input_ids']) < max_data_length:\n",
    "        data_train.append(i)\n",
    "print(len(raw_data), len(data_train))\n",
    "\n",
    "data_test = []\n",
    "for i in raw_data_test:\n",
    "    if len(tokenizer(template(i, model_type))['input_ids']) < max_data_length:\n",
    "        data_test.append(i)\n",
    "print(len(raw_data_test), len(data_test))\n",
    "\n",
    "#data_train, data_test = torch.utils.data.random_split(data, lengths=[0.95, 0.05])\n",
    "train_dataset = CombineDataset(data_train, tokenizer,\n",
    "                               max_words=max_data_length,\n",
    "                               model_type=model_type)\n",
    "test_dataset = CombineDataset(data_test, tokenizer,\n",
    "                              max_words=max_data_length,\n",
    "                              model_type=model_type)\n",
    "len(train_dataset), len(test_dataset)"
   ]
  },
  {
   "cell_type": "code",
   "execution_count": 5,
   "metadata": {},
   "outputs": [
    {
     "name": "stdout",
     "output_type": "stream",
     "text": [
      "trainable params: 15,728,640 || all params: 2,790,783,096 || trainable%: 0.5635923487763593\n"
     ]
    },
    {
     "name": "stderr",
     "output_type": "stream",
     "text": [
      "/home/xx/miniconda3/envs/disco/lib/python3.10/site-packages/peft/utils/other.py:136: FutureWarning: prepare_model_for_int8_training is deprecated and will be removed in a future version. Use prepare_model_for_kbit_training instead.\n",
      "  warnings.warn(\n"
     ]
    }
   ],
   "source": [
    "model.train()\n",
    "\n",
    "def create_peft_config(model):\n",
    "    peft_config = LoraConfig(\n",
    "        task_type=TaskType.CAUSAL_LM,\n",
    "        inference_mode=False,\n",
    "        r=lora_r,\n",
    "        lora_alpha=lora_alpha,\n",
    "        lora_dropout=lora_dropout,\n",
    "        target_modules = target_modules\n",
    "    )\n",
    "\n",
    "    model = prepare_model_for_int8_training(model, use_gradient_checkpointing=False)\n",
    "    model = get_peft_model(model, peft_config)\n",
    "    model.print_trainable_parameters()\n",
    "    return model, peft_config\n",
    "\n",
    "# create peft config\n",
    "model, lora_config = create_peft_config(model)"
   ]
  },
  {
   "cell_type": "code",
   "execution_count": 6,
   "metadata": {},
   "outputs": [],
   "source": [
    "enable_profiler = False\n",
    "config = {\n",
    "    'lora_config': lora_config,\n",
    "    'learning_rate': lr,\n",
    "    'num_train_epochs': num_train_epochs,\n",
    "    'gradient_accumulation_steps': gradient_accumulation_steps,\n",
    "    'per_device_train_batch_size': per_device_train_bs,\n",
    "    'gradient_checkpointing': False,\n",
    "}\n",
    "\n",
    "profiler = nullcontext()\n"
   ]
  },
  {
   "cell_type": "code",
   "execution_count": 7,
   "metadata": {},
   "outputs": [],
   "source": [
    "def decode_predictions(tokenizer, predictions):\n",
    "    prediction_text = tokenizer.batch_decode(predictions.predictions.argmax(axis=-1))\n",
    "    return {\"predictions\": prediction_text} # \"labels\": labels, \n",
    "\n",
    "\n",
    "class WandbPredictionProgressCallback(WandbCallback):\n",
    "    def __init__(self, trainer, tokenizer, val_dataset, num_samples=100, freq=2):\n",
    "        super().__init__()\n",
    "        self.trainer = trainer\n",
    "        self.tokenizer = tokenizer\n",
    "        self.sample_dataset = [val_dataset[i] for i in range(num_samples)]\n",
    "        self.freq = freq\n",
    "\n",
    "    def on_evaluate(self, args, state, control, **kwargs):\n",
    "        super().on_evaluate(args, state, control, **kwargs)\n",
    "        if state.global_step % self.freq == 0:\n",
    "            predictions = self.trainer.predict(self.sample_dataset)\n",
    "            predictions = decode_predictions(self.tokenizer, predictions)\n",
    "            predictions_df = pd.DataFrame(predictions)\n",
    "            predictions_df[\"epoch\"] = state.epoch\n",
    "            records_table = self._wandb.Table(dataframe=predictions_df)\n",
    "            self._wandb.log({\"sample_predictions\": records_table})"
   ]
  },
  {
   "cell_type": "code",
   "execution_count": 8,
   "metadata": {},
   "outputs": [
    {
     "name": "stdout",
     "output_type": "stream",
     "text": [
      "lora/disco-limbic-dialogue-phi2-eos\n"
     ]
    },
    {
     "name": "stderr",
     "output_type": "stream",
     "text": [
      "Failed to detect the name of this notebook, you can set it manually with the WANDB_NOTEBOOK_NAME environment variable to enable code saving.\n",
      "\u001b[34m\u001b[1mwandb\u001b[0m: Currently logged in as: \u001b[33mxxond\u001b[0m. Use \u001b[1m`wandb login --relogin`\u001b[0m to force relogin\n"
     ]
    },
    {
     "data": {
      "text/html": [
       "Tracking run with wandb version 0.16.1"
      ],
      "text/plain": [
       "<IPython.core.display.HTML object>"
      ]
     },
     "metadata": {},
     "output_type": "display_data"
    },
    {
     "data": {
      "text/html": [
       "Run data is saved locally in <code>/home/xx/Documents/pet-projects/disco-llm/wandb/run-20231217_040543-hri41px7</code>"
      ],
      "text/plain": [
       "<IPython.core.display.HTML object>"
      ]
     },
     "metadata": {},
     "output_type": "display_data"
    },
    {
     "data": {
      "text/html": [
       "Syncing run <strong><a href='https://wandb.ai/xxond/disco-limbic-dialogue/runs/hri41px7' target=\"_blank\">disco-limbic-dialogue-phi2-eos</a></strong> to <a href='https://wandb.ai/xxond/disco-limbic-dialogue' target=\"_blank\">Weights & Biases</a> (<a href='https://wandb.me/run' target=\"_blank\">docs</a>)<br/>"
      ],
      "text/plain": [
       "<IPython.core.display.HTML object>"
      ]
     },
     "metadata": {},
     "output_type": "display_data"
    },
    {
     "data": {
      "text/html": [
       " View project at <a href='https://wandb.ai/xxond/disco-limbic-dialogue' target=\"_blank\">https://wandb.ai/xxond/disco-limbic-dialogue</a>"
      ],
      "text/plain": [
       "<IPython.core.display.HTML object>"
      ]
     },
     "metadata": {},
     "output_type": "display_data"
    },
    {
     "data": {
      "text/html": [
       " View run at <a href='https://wandb.ai/xxond/disco-limbic-dialogue/runs/hri41px7' target=\"_blank\">https://wandb.ai/xxond/disco-limbic-dialogue/runs/hri41px7</a>"
      ],
      "text/plain": [
       "<IPython.core.display.HTML object>"
      ]
     },
     "metadata": {},
     "output_type": "display_data"
    },
    {
     "data": {
      "application/vnd.jupyter.widget-view+json": {
       "model_id": "ca9696c0a2004ec0b4cdb099a4b9ad3b",
       "version_major": 2,
       "version_minor": 0
      },
      "text/plain": [
       "  0%|          | 0/740 [00:00<?, ?it/s]"
      ]
     },
     "metadata": {},
     "output_type": "display_data"
    },
    {
     "name": "stdout",
     "output_type": "stream",
     "text": [
      "{'loss': 3.2236, 'learning_rate': 0.0002959459459459459, 'epoch': 0.07}\n",
      "{'loss': 2.6829, 'learning_rate': 0.0002918918918918919, 'epoch': 0.13}\n",
      "{'loss': 2.4297, 'learning_rate': 0.0002878378378378378, 'epoch': 0.2}\n"
     ]
    },
    {
     "data": {
      "application/vnd.jupyter.widget-view+json": {
       "model_id": "21bc7ff6ce4448a3b273fcb3c1215833",
       "version_major": 2,
       "version_minor": 0
      },
      "text/plain": [
       "  0%|          | 0/118 [00:00<?, ?it/s]"
      ]
     },
     "metadata": {},
     "output_type": "display_data"
    },
    {
     "name": "stdout",
     "output_type": "stream",
     "text": [
      "{'eval_loss': 2.1827139854431152, 'eval_runtime': 70.4136, 'eval_samples_per_second': 1.676, 'eval_steps_per_second': 1.676, 'epoch': 0.2}\n"
     ]
    },
    {
     "data": {
      "application/vnd.jupyter.widget-view+json": {
       "model_id": "b40e6f887bd54d6fa8c250f5ac1dac26",
       "version_major": 2,
       "version_minor": 0
      },
      "text/plain": [
       "  0%|          | 0/16 [00:00<?, ?it/s]"
      ]
     },
     "metadata": {},
     "output_type": "display_data"
    },
    {
     "name": "stdout",
     "output_type": "stream",
     "text": [
      "{'loss': 2.3622, 'learning_rate': 0.00028378378378378377, 'epoch': 0.27}\n",
      "{'loss': 2.3757, 'learning_rate': 0.0002797297297297297, 'epoch': 0.34}\n",
      "{'loss': 2.2837, 'learning_rate': 0.00027567567567567564, 'epoch': 0.4}\n"
     ]
    },
    {
     "data": {
      "application/vnd.jupyter.widget-view+json": {
       "model_id": "2b4e4870c9cc4c16a29c5aab9d93dcec",
       "version_major": 2,
       "version_minor": 0
      },
      "text/plain": [
       "  0%|          | 0/118 [00:00<?, ?it/s]"
      ]
     },
     "metadata": {},
     "output_type": "display_data"
    },
    {
     "name": "stdout",
     "output_type": "stream",
     "text": [
      "{'eval_loss': 2.035541534423828, 'eval_runtime': 71.1061, 'eval_samples_per_second': 1.659, 'eval_steps_per_second': 1.659, 'epoch': 0.4}\n"
     ]
    },
    {
     "data": {
      "application/vnd.jupyter.widget-view+json": {
       "model_id": "f27e82addf2f490698ca1465cdaa04fb",
       "version_major": 2,
       "version_minor": 0
      },
      "text/plain": [
       "  0%|          | 0/16 [00:00<?, ?it/s]"
      ]
     },
     "metadata": {},
     "output_type": "display_data"
    },
    {
     "name": "stdout",
     "output_type": "stream",
     "text": [
      "{'loss': 2.2348, 'learning_rate': 0.0002716216216216216, 'epoch': 0.47}\n",
      "{'loss': 2.2665, 'learning_rate': 0.00026756756756756756, 'epoch': 0.54}\n",
      "{'loss': 2.2118, 'learning_rate': 0.0002635135135135135, 'epoch': 0.61}\n"
     ]
    },
    {
     "data": {
      "application/vnd.jupyter.widget-view+json": {
       "model_id": "82f22ab0ed3f43e6a9d42e799f3ce738",
       "version_major": 2,
       "version_minor": 0
      },
      "text/plain": [
       "  0%|          | 0/118 [00:00<?, ?it/s]"
      ]
     },
     "metadata": {},
     "output_type": "display_data"
    },
    {
     "name": "stdout",
     "output_type": "stream",
     "text": [
      "{'eval_loss': 1.9697753190994263, 'eval_runtime': 70.7888, 'eval_samples_per_second': 1.667, 'eval_steps_per_second': 1.667, 'epoch': 0.61}\n"
     ]
    },
    {
     "data": {
      "application/vnd.jupyter.widget-view+json": {
       "model_id": "30fd0f2dc9a042d3842e0e37a9d3c11c",
       "version_major": 2,
       "version_minor": 0
      },
      "text/plain": [
       "  0%|          | 0/16 [00:00<?, ?it/s]"
      ]
     },
     "metadata": {},
     "output_type": "display_data"
    },
    {
     "name": "stdout",
     "output_type": "stream",
     "text": [
      "{'loss': 2.1797, 'learning_rate': 0.00025945945945945944, 'epoch': 0.67}\n",
      "{'loss': 2.1993, 'learning_rate': 0.00025540540540540537, 'epoch': 0.74}\n",
      "{'loss': 2.2058, 'learning_rate': 0.0002513513513513513, 'epoch': 0.81}\n"
     ]
    },
    {
     "data": {
      "application/vnd.jupyter.widget-view+json": {
       "model_id": "bd0515248fd249488ed9a268fc672fe5",
       "version_major": 2,
       "version_minor": 0
      },
      "text/plain": [
       "  0%|          | 0/118 [00:00<?, ?it/s]"
      ]
     },
     "metadata": {},
     "output_type": "display_data"
    },
    {
     "name": "stdout",
     "output_type": "stream",
     "text": [
      "{'eval_loss': 1.9466423988342285, 'eval_runtime': 70.9011, 'eval_samples_per_second': 1.664, 'eval_steps_per_second': 1.664, 'epoch': 0.81}\n"
     ]
    },
    {
     "data": {
      "application/vnd.jupyter.widget-view+json": {
       "model_id": "ecc541f1eac947b3ad25fb7b0d091637",
       "version_major": 2,
       "version_minor": 0
      },
      "text/plain": [
       "  0%|          | 0/16 [00:00<?, ?it/s]"
      ]
     },
     "metadata": {},
     "output_type": "display_data"
    },
    {
     "name": "stdout",
     "output_type": "stream",
     "text": [
      "{'loss': 2.1102, 'learning_rate': 0.0002472972972972973, 'epoch': 0.87}\n",
      "{'loss': 2.0951, 'learning_rate': 0.00024324324324324323, 'epoch': 0.94}\n",
      "{'loss': 2.0526, 'learning_rate': 0.00023918918918918917, 'epoch': 1.01}\n"
     ]
    },
    {
     "data": {
      "application/vnd.jupyter.widget-view+json": {
       "model_id": "524767c2af224ba3ac54ccd702596846",
       "version_major": 2,
       "version_minor": 0
      },
      "text/plain": [
       "  0%|          | 0/118 [00:00<?, ?it/s]"
      ]
     },
     "metadata": {},
     "output_type": "display_data"
    },
    {
     "name": "stdout",
     "output_type": "stream",
     "text": [
      "{'eval_loss': 1.8913027048110962, 'eval_runtime': 70.6881, 'eval_samples_per_second': 1.669, 'eval_steps_per_second': 1.669, 'epoch': 1.01}\n"
     ]
    },
    {
     "data": {
      "application/vnd.jupyter.widget-view+json": {
       "model_id": "6eb0072708694119977d877d88edc049",
       "version_major": 2,
       "version_minor": 0
      },
      "text/plain": [
       "  0%|          | 0/16 [00:00<?, ?it/s]"
      ]
     },
     "metadata": {},
     "output_type": "display_data"
    },
    {
     "name": "stdout",
     "output_type": "stream",
     "text": [
      "{'loss': 1.9671, 'learning_rate': 0.0002351351351351351, 'epoch': 1.08}\n",
      "{'loss': 1.9674, 'learning_rate': 0.00023108108108108106, 'epoch': 1.14}\n",
      "{'loss': 1.9685, 'learning_rate': 0.00022702702702702703, 'epoch': 1.21}\n"
     ]
    },
    {
     "data": {
      "application/vnd.jupyter.widget-view+json": {
       "model_id": "f50a3ff26788481f9d45c3f16e50feea",
       "version_major": 2,
       "version_minor": 0
      },
      "text/plain": [
       "  0%|          | 0/118 [00:00<?, ?it/s]"
      ]
     },
     "metadata": {},
     "output_type": "display_data"
    },
    {
     "name": "stdout",
     "output_type": "stream",
     "text": [
      "{'eval_loss': 1.8418546915054321, 'eval_runtime': 71.405, 'eval_samples_per_second': 1.653, 'eval_steps_per_second': 1.653, 'epoch': 1.21}\n"
     ]
    },
    {
     "data": {
      "application/vnd.jupyter.widget-view+json": {
       "model_id": "cd52ed72d1054b2a95a5394124eba216",
       "version_major": 2,
       "version_minor": 0
      },
      "text/plain": [
       "  0%|          | 0/16 [00:00<?, ?it/s]"
      ]
     },
     "metadata": {},
     "output_type": "display_data"
    },
    {
     "name": "stdout",
     "output_type": "stream",
     "text": [
      "{'loss': 1.9107, 'learning_rate': 0.00022297297297297293, 'epoch': 1.28}\n",
      "{'loss': 1.9056, 'learning_rate': 0.0002189189189189189, 'epoch': 1.35}\n",
      "{'loss': 1.8871, 'learning_rate': 0.00021486486486486486, 'epoch': 1.41}\n"
     ]
    },
    {
     "data": {
      "application/vnd.jupyter.widget-view+json": {
       "model_id": "f532264446b64c8381f05017854046c9",
       "version_major": 2,
       "version_minor": 0
      },
      "text/plain": [
       "  0%|          | 0/118 [00:00<?, ?it/s]"
      ]
     },
     "metadata": {},
     "output_type": "display_data"
    },
    {
     "name": "stdout",
     "output_type": "stream",
     "text": [
      "{'eval_loss': 1.8122501373291016, 'eval_runtime': 71.2387, 'eval_samples_per_second': 1.656, 'eval_steps_per_second': 1.656, 'epoch': 1.41}\n"
     ]
    },
    {
     "data": {
      "application/vnd.jupyter.widget-view+json": {
       "model_id": "cbdf50644308461c89dce6d57e7b774b",
       "version_major": 2,
       "version_minor": 0
      },
      "text/plain": [
       "  0%|          | 0/16 [00:00<?, ?it/s]"
      ]
     },
     "metadata": {},
     "output_type": "display_data"
    },
    {
     "name": "stdout",
     "output_type": "stream",
     "text": [
      "{'loss': 1.9272, 'learning_rate': 0.0002108108108108108, 'epoch': 1.48}\n",
      "{'loss': 1.8774, 'learning_rate': 0.00020675675675675673, 'epoch': 1.55}\n",
      "{'loss': 1.9759, 'learning_rate': 0.0002027027027027027, 'epoch': 1.62}\n"
     ]
    },
    {
     "data": {
      "application/vnd.jupyter.widget-view+json": {
       "model_id": "768c01107cac445d84df92a28ab07d78",
       "version_major": 2,
       "version_minor": 0
      },
      "text/plain": [
       "  0%|          | 0/118 [00:00<?, ?it/s]"
      ]
     },
     "metadata": {},
     "output_type": "display_data"
    },
    {
     "name": "stdout",
     "output_type": "stream",
     "text": [
      "{'eval_loss': 1.7968631982803345, 'eval_runtime': 71.0649, 'eval_samples_per_second': 1.66, 'eval_steps_per_second': 1.66, 'epoch': 1.62}\n"
     ]
    },
    {
     "data": {
      "application/vnd.jupyter.widget-view+json": {
       "model_id": "8220635cf9814b9a9eb7df587ebb92a0",
       "version_major": 2,
       "version_minor": 0
      },
      "text/plain": [
       "  0%|          | 0/16 [00:00<?, ?it/s]"
      ]
     },
     "metadata": {},
     "output_type": "display_data"
    },
    {
     "name": "stdout",
     "output_type": "stream",
     "text": [
      "{'loss': 1.8823, 'learning_rate': 0.00019864864864864863, 'epoch': 1.68}\n",
      "{'loss': 1.9766, 'learning_rate': 0.0001945945945945946, 'epoch': 1.75}\n",
      "{'loss': 1.7849, 'learning_rate': 0.0001905405405405405, 'epoch': 1.82}\n"
     ]
    },
    {
     "data": {
      "application/vnd.jupyter.widget-view+json": {
       "model_id": "e4aa3e5267c34cdfae3c39c18efb634c",
       "version_major": 2,
       "version_minor": 0
      },
      "text/plain": [
       "  0%|          | 0/118 [00:00<?, ?it/s]"
      ]
     },
     "metadata": {},
     "output_type": "display_data"
    },
    {
     "name": "stdout",
     "output_type": "stream",
     "text": [
      "{'eval_loss': 1.7745530605316162, 'eval_runtime': 71.3129, 'eval_samples_per_second': 1.655, 'eval_steps_per_second': 1.655, 'epoch': 1.82}\n"
     ]
    },
    {
     "data": {
      "application/vnd.jupyter.widget-view+json": {
       "model_id": "5bd5e565482046f2ab05213522b5b1b8",
       "version_major": 2,
       "version_minor": 0
      },
      "text/plain": [
       "  0%|          | 0/16 [00:00<?, ?it/s]"
      ]
     },
     "metadata": {},
     "output_type": "display_data"
    },
    {
     "name": "stdout",
     "output_type": "stream",
     "text": [
      "{'loss': 1.8021, 'learning_rate': 0.00018648648648648646, 'epoch': 1.88}\n",
      "{'loss': 1.7248, 'learning_rate': 0.00018243243243243242, 'epoch': 1.95}\n",
      "{'loss': 1.7413, 'learning_rate': 0.00017837837837837839, 'epoch': 2.02}\n"
     ]
    },
    {
     "data": {
      "application/vnd.jupyter.widget-view+json": {
       "model_id": "be42a0136bfb46a3bf630c397ab81f6a",
       "version_major": 2,
       "version_minor": 0
      },
      "text/plain": [
       "  0%|          | 0/118 [00:00<?, ?it/s]"
      ]
     },
     "metadata": {},
     "output_type": "display_data"
    },
    {
     "name": "stdout",
     "output_type": "stream",
     "text": [
      "{'eval_loss': 1.7711162567138672, 'eval_runtime': 71.1884, 'eval_samples_per_second': 1.658, 'eval_steps_per_second': 1.658, 'epoch': 2.02}\n"
     ]
    },
    {
     "data": {
      "application/vnd.jupyter.widget-view+json": {
       "model_id": "ab804090d47e4723bca3e4d7e1ff8ba7",
       "version_major": 2,
       "version_minor": 0
      },
      "text/plain": [
       "  0%|          | 0/16 [00:00<?, ?it/s]"
      ]
     },
     "metadata": {},
     "output_type": "display_data"
    },
    {
     "name": "stdout",
     "output_type": "stream",
     "text": [
      "{'loss': 1.6942, 'learning_rate': 0.0001743243243243243, 'epoch': 2.09}\n",
      "{'loss': 1.6288, 'learning_rate': 0.00017027027027027026, 'epoch': 2.15}\n",
      "{'loss': 1.6064, 'learning_rate': 0.0001662162162162162, 'epoch': 2.22}\n"
     ]
    },
    {
     "data": {
      "application/vnd.jupyter.widget-view+json": {
       "model_id": "92ee43e382d94d9cab38c1f6b8e57551",
       "version_major": 2,
       "version_minor": 0
      },
      "text/plain": [
       "  0%|          | 0/118 [00:00<?, ?it/s]"
      ]
     },
     "metadata": {},
     "output_type": "display_data"
    },
    {
     "name": "stdout",
     "output_type": "stream",
     "text": [
      "{'eval_loss': 1.7206695079803467, 'eval_runtime': 71.1625, 'eval_samples_per_second': 1.658, 'eval_steps_per_second': 1.658, 'epoch': 2.22}\n"
     ]
    },
    {
     "data": {
      "application/vnd.jupyter.widget-view+json": {
       "model_id": "682d1e688f99488f8846e655ae3b1a4d",
       "version_major": 2,
       "version_minor": 0
      },
      "text/plain": [
       "  0%|          | 0/16 [00:00<?, ?it/s]"
      ]
     },
     "metadata": {},
     "output_type": "display_data"
    },
    {
     "name": "stdout",
     "output_type": "stream",
     "text": [
      "{'loss': 1.7151, 'learning_rate': 0.00016216216216216215, 'epoch': 2.29}\n",
      "{'loss': 1.6608, 'learning_rate': 0.0001581081081081081, 'epoch': 2.36}\n",
      "{'loss': 1.6717, 'learning_rate': 0.00015405405405405402, 'epoch': 2.42}\n"
     ]
    },
    {
     "data": {
      "application/vnd.jupyter.widget-view+json": {
       "model_id": "b220950eef154d54a902d9426b9f3094",
       "version_major": 2,
       "version_minor": 0
      },
      "text/plain": [
       "  0%|          | 0/118 [00:00<?, ?it/s]"
      ]
     },
     "metadata": {},
     "output_type": "display_data"
    },
    {
     "name": "stdout",
     "output_type": "stream",
     "text": [
      "{'eval_loss': 1.719363808631897, 'eval_runtime': 70.8947, 'eval_samples_per_second': 1.664, 'eval_steps_per_second': 1.664, 'epoch': 2.42}\n"
     ]
    },
    {
     "data": {
      "application/vnd.jupyter.widget-view+json": {
       "model_id": "47ceb6eaa6824b2ea2f68d378536a000",
       "version_major": 2,
       "version_minor": 0
      },
      "text/plain": [
       "  0%|          | 0/16 [00:00<?, ?it/s]"
      ]
     },
     "metadata": {},
     "output_type": "display_data"
    },
    {
     "name": "stdout",
     "output_type": "stream",
     "text": [
      "{'loss': 1.6593, 'learning_rate': 0.00015, 'epoch': 2.49}\n",
      "{'loss': 1.6779, 'learning_rate': 0.00014594594594594595, 'epoch': 2.56}\n",
      "{'loss': 1.5934, 'learning_rate': 0.00014189189189189188, 'epoch': 2.62}\n"
     ]
    },
    {
     "data": {
      "application/vnd.jupyter.widget-view+json": {
       "model_id": "2e5e27dd8482428ea47ee89d25023e1b",
       "version_major": 2,
       "version_minor": 0
      },
      "text/plain": [
       "  0%|          | 0/118 [00:00<?, ?it/s]"
      ]
     },
     "metadata": {},
     "output_type": "display_data"
    },
    {
     "name": "stdout",
     "output_type": "stream",
     "text": [
      "{'eval_loss': 1.7094346284866333, 'eval_runtime': 70.59, 'eval_samples_per_second': 1.672, 'eval_steps_per_second': 1.672, 'epoch': 2.62}\n"
     ]
    },
    {
     "data": {
      "application/vnd.jupyter.widget-view+json": {
       "model_id": "c3718fbd31c042089fd3a51a0887e960",
       "version_major": 2,
       "version_minor": 0
      },
      "text/plain": [
       "  0%|          | 0/16 [00:00<?, ?it/s]"
      ]
     },
     "metadata": {},
     "output_type": "display_data"
    },
    {
     "name": "stdout",
     "output_type": "stream",
     "text": [
      "{'loss': 1.6777, 'learning_rate': 0.00013783783783783782, 'epoch': 2.69}\n",
      "{'loss': 1.6242, 'learning_rate': 0.00013378378378378378, 'epoch': 2.76}\n",
      "{'loss': 1.6045, 'learning_rate': 0.00012972972972972972, 'epoch': 2.83}\n"
     ]
    },
    {
     "data": {
      "application/vnd.jupyter.widget-view+json": {
       "model_id": "3fbb624a5d5b472280aeaad56d6502ef",
       "version_major": 2,
       "version_minor": 0
      },
      "text/plain": [
       "  0%|          | 0/118 [00:00<?, ?it/s]"
      ]
     },
     "metadata": {},
     "output_type": "display_data"
    },
    {
     "name": "stdout",
     "output_type": "stream",
     "text": [
      "{'eval_loss': 1.7291371822357178, 'eval_runtime': 71.2976, 'eval_samples_per_second': 1.655, 'eval_steps_per_second': 1.655, 'epoch': 2.83}\n"
     ]
    },
    {
     "data": {
      "application/vnd.jupyter.widget-view+json": {
       "model_id": "e829dbed56d64e57a476ecd3960c3c53",
       "version_major": 2,
       "version_minor": 0
      },
      "text/plain": [
       "  0%|          | 0/16 [00:00<?, ?it/s]"
      ]
     },
     "metadata": {},
     "output_type": "display_data"
    },
    {
     "name": "stdout",
     "output_type": "stream",
     "text": [
      "{'loss': 1.6177, 'learning_rate': 0.00012567567567567565, 'epoch': 2.89}\n",
      "{'loss': 1.6313, 'learning_rate': 0.00012162162162162162, 'epoch': 2.96}\n",
      "{'loss': 1.5747, 'learning_rate': 0.00011756756756756755, 'epoch': 3.03}\n"
     ]
    },
    {
     "data": {
      "application/vnd.jupyter.widget-view+json": {
       "model_id": "0faa153dec7a456894988ebc7a7f37fa",
       "version_major": 2,
       "version_minor": 0
      },
      "text/plain": [
       "  0%|          | 0/118 [00:00<?, ?it/s]"
      ]
     },
     "metadata": {},
     "output_type": "display_data"
    },
    {
     "name": "stdout",
     "output_type": "stream",
     "text": [
      "{'eval_loss': 1.6819088459014893, 'eval_runtime': 71.1538, 'eval_samples_per_second': 1.658, 'eval_steps_per_second': 1.658, 'epoch': 3.03}\n"
     ]
    },
    {
     "data": {
      "application/vnd.jupyter.widget-view+json": {
       "model_id": "06d685dac69b4d64b8279652fdaf0746",
       "version_major": 2,
       "version_minor": 0
      },
      "text/plain": [
       "  0%|          | 0/16 [00:00<?, ?it/s]"
      ]
     },
     "metadata": {},
     "output_type": "display_data"
    },
    {
     "name": "stdout",
     "output_type": "stream",
     "text": [
      "{'loss': 1.5624, 'learning_rate': 0.00011351351351351351, 'epoch': 3.1}\n",
      "{'loss': 1.5442, 'learning_rate': 0.00010945945945945945, 'epoch': 3.16}\n",
      "{'loss': 1.5451, 'learning_rate': 0.0001054054054054054, 'epoch': 3.23}\n"
     ]
    },
    {
     "data": {
      "application/vnd.jupyter.widget-view+json": {
       "model_id": "e9e2ba3b0ca8467b8412f00525dfac70",
       "version_major": 2,
       "version_minor": 0
      },
      "text/plain": [
       "  0%|          | 0/118 [00:00<?, ?it/s]"
      ]
     },
     "metadata": {},
     "output_type": "display_data"
    },
    {
     "name": "stdout",
     "output_type": "stream",
     "text": [
      "{'eval_loss': 1.7009185552597046, 'eval_runtime': 71.4913, 'eval_samples_per_second': 1.651, 'eval_steps_per_second': 1.651, 'epoch': 3.23}\n"
     ]
    },
    {
     "data": {
      "application/vnd.jupyter.widget-view+json": {
       "model_id": "b68d2bb8807a473fb45a28242a0c4f41",
       "version_major": 2,
       "version_minor": 0
      },
      "text/plain": [
       "  0%|          | 0/16 [00:00<?, ?it/s]"
      ]
     },
     "metadata": {},
     "output_type": "display_data"
    },
    {
     "name": "stdout",
     "output_type": "stream",
     "text": [
      "{'loss': 1.5141, 'learning_rate': 0.00010135135135135135, 'epoch': 3.3}\n",
      "{'loss': 1.5681, 'learning_rate': 9.72972972972973e-05, 'epoch': 3.36}\n",
      "{'loss': 1.3834, 'learning_rate': 9.324324324324323e-05, 'epoch': 3.43}\n"
     ]
    },
    {
     "data": {
      "application/vnd.jupyter.widget-view+json": {
       "model_id": "a272bb196a2b4ebaaf79dd5ad5a1fbe1",
       "version_major": 2,
       "version_minor": 0
      },
      "text/plain": [
       "  0%|          | 0/118 [00:00<?, ?it/s]"
      ]
     },
     "metadata": {},
     "output_type": "display_data"
    },
    {
     "name": "stdout",
     "output_type": "stream",
     "text": [
      "{'eval_loss': 1.675742745399475, 'eval_runtime': 71.0196, 'eval_samples_per_second': 1.662, 'eval_steps_per_second': 1.662, 'epoch': 3.43}\n"
     ]
    },
    {
     "data": {
      "application/vnd.jupyter.widget-view+json": {
       "model_id": "bb70a7e595654283952b326fda46d802",
       "version_major": 2,
       "version_minor": 0
      },
      "text/plain": [
       "  0%|          | 0/16 [00:00<?, ?it/s]"
      ]
     },
     "metadata": {},
     "output_type": "display_data"
    },
    {
     "name": "stdout",
     "output_type": "stream",
     "text": [
      "{'loss': 1.5383, 'learning_rate': 8.918918918918919e-05, 'epoch': 3.5}\n",
      "{'loss': 1.4985, 'learning_rate': 8.513513513513513e-05, 'epoch': 3.57}\n",
      "{'loss': 1.4509, 'learning_rate': 8.108108108108108e-05, 'epoch': 3.63}\n"
     ]
    },
    {
     "data": {
      "application/vnd.jupyter.widget-view+json": {
       "model_id": "ade91008ed3f4da8bea9d25a3bbf9d41",
       "version_major": 2,
       "version_minor": 0
      },
      "text/plain": [
       "  0%|          | 0/118 [00:00<?, ?it/s]"
      ]
     },
     "metadata": {},
     "output_type": "display_data"
    },
    {
     "name": "stdout",
     "output_type": "stream",
     "text": [
      "{'eval_loss': 1.6477264165878296, 'eval_runtime': 70.8866, 'eval_samples_per_second': 1.665, 'eval_steps_per_second': 1.665, 'epoch': 3.63}\n"
     ]
    },
    {
     "data": {
      "application/vnd.jupyter.widget-view+json": {
       "model_id": "917d28ce2c374acc8d135fbd87fd49f9",
       "version_major": 2,
       "version_minor": 0
      },
      "text/plain": [
       "  0%|          | 0/16 [00:00<?, ?it/s]"
      ]
     },
     "metadata": {},
     "output_type": "display_data"
    },
    {
     "name": "stdout",
     "output_type": "stream",
     "text": [
      "{'loss': 1.5927, 'learning_rate': 7.702702702702701e-05, 'epoch': 3.7}\n",
      "{'loss': 1.4288, 'learning_rate': 7.297297297297297e-05, 'epoch': 3.77}\n",
      "{'loss': 1.4929, 'learning_rate': 6.891891891891891e-05, 'epoch': 3.84}\n"
     ]
    },
    {
     "data": {
      "application/vnd.jupyter.widget-view+json": {
       "model_id": "cfb37000dc0f4b54a388a978f6c316af",
       "version_major": 2,
       "version_minor": 0
      },
      "text/plain": [
       "  0%|          | 0/118 [00:00<?, ?it/s]"
      ]
     },
     "metadata": {},
     "output_type": "display_data"
    },
    {
     "name": "stdout",
     "output_type": "stream",
     "text": [
      "{'eval_loss': 1.6548166275024414, 'eval_runtime': 71.0992, 'eval_samples_per_second': 1.66, 'eval_steps_per_second': 1.66, 'epoch': 3.84}\n"
     ]
    },
    {
     "data": {
      "application/vnd.jupyter.widget-view+json": {
       "model_id": "25540ad90e1745c68a81636a6dfc7789",
       "version_major": 2,
       "version_minor": 0
      },
      "text/plain": [
       "  0%|          | 0/16 [00:00<?, ?it/s]"
      ]
     },
     "metadata": {},
     "output_type": "display_data"
    },
    {
     "name": "stdout",
     "output_type": "stream",
     "text": [
      "{'loss': 1.4757, 'learning_rate': 6.486486486486486e-05, 'epoch': 3.9}\n",
      "{'loss': 1.4985, 'learning_rate': 6.081081081081081e-05, 'epoch': 3.97}\n",
      "{'loss': 1.428, 'learning_rate': 5.6756756756756757e-05, 'epoch': 4.04}\n"
     ]
    },
    {
     "data": {
      "application/vnd.jupyter.widget-view+json": {
       "model_id": "d44ee9fe72fa4b55a15801f9e00217b4",
       "version_major": 2,
       "version_minor": 0
      },
      "text/plain": [
       "  0%|          | 0/118 [00:00<?, ?it/s]"
      ]
     },
     "metadata": {},
     "output_type": "display_data"
    },
    {
     "name": "stdout",
     "output_type": "stream",
     "text": [
      "{'eval_loss': 1.6648551225662231, 'eval_runtime': 71.3656, 'eval_samples_per_second': 1.653, 'eval_steps_per_second': 1.653, 'epoch': 4.04}\n"
     ]
    },
    {
     "data": {
      "application/vnd.jupyter.widget-view+json": {
       "model_id": "8dea626c39e94693843428513543247e",
       "version_major": 2,
       "version_minor": 0
      },
      "text/plain": [
       "  0%|          | 0/16 [00:00<?, ?it/s]"
      ]
     },
     "metadata": {},
     "output_type": "display_data"
    },
    {
     "name": "stdout",
     "output_type": "stream",
     "text": [
      "{'loss': 1.4649, 'learning_rate': 5.27027027027027e-05, 'epoch': 4.11}\n",
      "{'loss': 1.3716, 'learning_rate': 4.864864864864865e-05, 'epoch': 4.17}\n",
      "{'loss': 1.4827, 'learning_rate': 4.4594594594594596e-05, 'epoch': 4.24}\n"
     ]
    },
    {
     "data": {
      "application/vnd.jupyter.widget-view+json": {
       "model_id": "7add77d579514f2c9f014e266434e5fe",
       "version_major": 2,
       "version_minor": 0
      },
      "text/plain": [
       "  0%|          | 0/118 [00:00<?, ?it/s]"
      ]
     },
     "metadata": {},
     "output_type": "display_data"
    },
    {
     "name": "stdout",
     "output_type": "stream",
     "text": [
      "{'eval_loss': 1.6489076614379883, 'eval_runtime': 70.98, 'eval_samples_per_second': 1.662, 'eval_steps_per_second': 1.662, 'epoch': 4.24}\n"
     ]
    },
    {
     "data": {
      "application/vnd.jupyter.widget-view+json": {
       "model_id": "899798524c9f438f8b23875c4345d2c0",
       "version_major": 2,
       "version_minor": 0
      },
      "text/plain": [
       "  0%|          | 0/16 [00:00<?, ?it/s]"
      ]
     },
     "metadata": {},
     "output_type": "display_data"
    },
    {
     "name": "stdout",
     "output_type": "stream",
     "text": [
      "{'loss': 1.4928, 'learning_rate': 4.054054054054054e-05, 'epoch': 4.31}\n",
      "{'loss': 1.4289, 'learning_rate': 3.648648648648649e-05, 'epoch': 4.37}\n",
      "{'loss': 1.4378, 'learning_rate': 3.243243243243243e-05, 'epoch': 4.44}\n"
     ]
    },
    {
     "data": {
      "application/vnd.jupyter.widget-view+json": {
       "model_id": "b34b561e5f2d4e7ca1179a05125fee2c",
       "version_major": 2,
       "version_minor": 0
      },
      "text/plain": [
       "  0%|          | 0/118 [00:00<?, ?it/s]"
      ]
     },
     "metadata": {},
     "output_type": "display_data"
    },
    {
     "name": "stdout",
     "output_type": "stream",
     "text": [
      "{'eval_loss': 1.6418145895004272, 'eval_runtime': 70.6234, 'eval_samples_per_second': 1.671, 'eval_steps_per_second': 1.671, 'epoch': 4.44}\n"
     ]
    },
    {
     "data": {
      "application/vnd.jupyter.widget-view+json": {
       "model_id": "29f32ccfe0924b81b601bcfea0f9464e",
       "version_major": 2,
       "version_minor": 0
      },
      "text/plain": [
       "  0%|          | 0/16 [00:00<?, ?it/s]"
      ]
     },
     "metadata": {},
     "output_type": "display_data"
    },
    {
     "name": "stdout",
     "output_type": "stream",
     "text": [
      "{'loss': 1.3064, 'learning_rate': 2.8378378378378378e-05, 'epoch': 4.51}\n",
      "{'loss': 1.402, 'learning_rate': 2.4324324324324324e-05, 'epoch': 4.58}\n",
      "{'loss': 1.3731, 'learning_rate': 2.027027027027027e-05, 'epoch': 4.64}\n"
     ]
    },
    {
     "data": {
      "application/vnd.jupyter.widget-view+json": {
       "model_id": "6e94149b9cdc4d0c982cb15bf0cd23ad",
       "version_major": 2,
       "version_minor": 0
      },
      "text/plain": [
       "  0%|          | 0/118 [00:00<?, ?it/s]"
      ]
     },
     "metadata": {},
     "output_type": "display_data"
    },
    {
     "name": "stdout",
     "output_type": "stream",
     "text": [
      "{'eval_loss': 1.6465519666671753, 'eval_runtime': 71.1071, 'eval_samples_per_second': 1.659, 'eval_steps_per_second': 1.659, 'epoch': 4.64}\n"
     ]
    },
    {
     "data": {
      "application/vnd.jupyter.widget-view+json": {
       "model_id": "f090151670f04aa3a393f08c2d5b92e5",
       "version_major": 2,
       "version_minor": 0
      },
      "text/plain": [
       "  0%|          | 0/16 [00:00<?, ?it/s]"
      ]
     },
     "metadata": {},
     "output_type": "display_data"
    },
    {
     "name": "stdout",
     "output_type": "stream",
     "text": [
      "{'loss': 1.5085, 'learning_rate': 1.6216216216216215e-05, 'epoch': 4.71}\n",
      "{'loss': 1.4209, 'learning_rate': 1.2162162162162162e-05, 'epoch': 4.78}\n",
      "{'loss': 1.375, 'learning_rate': 8.108108108108107e-06, 'epoch': 4.85}\n"
     ]
    },
    {
     "data": {
      "application/vnd.jupyter.widget-view+json": {
       "model_id": "9e8308b342d4468eb556c1f9ac1154fb",
       "version_major": 2,
       "version_minor": 0
      },
      "text/plain": [
       "  0%|          | 0/118 [00:00<?, ?it/s]"
      ]
     },
     "metadata": {},
     "output_type": "display_data"
    },
    {
     "name": "stdout",
     "output_type": "stream",
     "text": [
      "{'eval_loss': 1.6428526639938354, 'eval_runtime': 71.2188, 'eval_samples_per_second': 1.657, 'eval_steps_per_second': 1.657, 'epoch': 4.85}\n"
     ]
    },
    {
     "data": {
      "application/vnd.jupyter.widget-view+json": {
       "model_id": "fb80dd618fce49868d17dfffe1d67d02",
       "version_major": 2,
       "version_minor": 0
      },
      "text/plain": [
       "  0%|          | 0/16 [00:00<?, ?it/s]"
      ]
     },
     "metadata": {},
     "output_type": "display_data"
    },
    {
     "name": "stdout",
     "output_type": "stream",
     "text": [
      "{'loss': 1.4029, 'learning_rate': 4.054054054054054e-06, 'epoch': 4.91}\n",
      "{'loss': 1.4102, 'learning_rate': 0.0, 'epoch': 4.98}\n",
      "{'train_runtime': 31989.8005, 'train_samples_per_second': 0.743, 'train_steps_per_second': 0.023, 'train_loss': 1.7601289143433443, 'epoch': 4.98}\n"
     ]
    }
   ],
   "source": [
    "print(output_dir)\n",
    "training_args = TrainingArguments(\n",
    "    output_dir=output_dir,\n",
    "    overwrite_output_dir=True,\n",
    "    #bf16=True,  # Use BF16 if available\n",
    "    ## eval strat\n",
    "    do_eval=True,\n",
    "    evaluation_strategy='steps',\n",
    "    eval_steps=eval_steps,\n",
    "    per_device_eval_batch_size=per_device_eval_bs,\n",
    "    ## logging strategies\n",
    "    logging_dir=f\"{output_dir}/logs\",\n",
    "    logging_strategy=\"steps\",\n",
    "    logging_steps=log_steps,\n",
    "    ## wandb\n",
    "    report_to=\"wandb\",\n",
    "    run_name=output_dir.split('/')[-1],\n",
    "    ## other\n",
    "    save_strategy=\"no\",\n",
    "    #optim=\"adamw_torch_fused\",\n",
    "    max_steps=-1,\n",
    "    **{k:v for k,v in config.items() if k != 'lora_config'}\n",
    ")\n",
    "\n",
    "with profiler:\n",
    "    # Create Trainer instance``\n",
    "    trainer = Trainer(\n",
    "        model=model,\n",
    "        args=training_args,\n",
    "        train_dataset=train_dataset,\n",
    "        eval_dataset=test_dataset,\n",
    "        data_collator=default_data_collator,\n",
    "        callbacks=[],\n",
    "    )\n",
    "    # Instantiate the WandbPredictionProgressCallback\n",
    "    progress_callback = WandbPredictionProgressCallback(\n",
    "        trainer=trainer,\n",
    "        tokenizer=tokenizer,\n",
    "        val_dataset=test_dataset,\n",
    "        num_samples=16,\n",
    "        freq=30,\n",
    "    )\n",
    "\n",
    "    # Add the callback to the trainer\n",
    "    trainer.add_callback(progress_callback)\n",
    "    \n",
    "    trainer.train()"
   ]
  },
  {
   "cell_type": "code",
   "execution_count": 9,
   "metadata": {},
   "outputs": [
    {
     "data": {
      "text/plain": [
       "0"
      ]
     },
     "execution_count": 9,
     "metadata": {},
     "output_type": "execute_result"
    }
   ],
   "source": [
    "torch.cuda.current_device()"
   ]
  },
  {
   "cell_type": "code",
   "execution_count": 10,
   "metadata": {},
   "outputs": [],
   "source": [
    "model.save_pretrained(output_dir)"
   ]
  },
  {
   "cell_type": "code",
   "execution_count": 11,
   "metadata": {},
   "outputs": [
    {
     "ename": "TypeError",
     "evalue": "template() missing 1 required positional argument: 'model_type'",
     "output_type": "error",
     "traceback": [
      "\u001b[0;31m---------------------------------------------------------------------------\u001b[0m",
      "\u001b[0;31mTypeError\u001b[0m                                 Traceback (most recent call last)",
      "Cell \u001b[0;32mIn[11], line 13\u001b[0m\n\u001b[1;32m      1\u001b[0m dialog \u001b[38;5;241m=\u001b[39m [\n\u001b[1;32m      2\u001b[0m     \u001b[38;5;66;03m#\"[Electrochemistry]: Whoa! In your hand: *pyrholidon* -- the double rainbow of synthetic hallucinogens. Rare and gritty, a product of the age of atomic power.\",\u001b[39;00m\n\u001b[1;32m      3\u001b[0m     \u001b[38;5;66;03m#\"Look at the little puck of liquid.\",\u001b[39;00m\n\u001b[0;32m   (...)\u001b[0m\n\u001b[1;32m      8\u001b[0m     \u001b[38;5;124m'\u001b[39m\u001b[38;5;124mwho am i?</s>\u001b[39m\u001b[38;5;124m'\u001b[39m\n\u001b[1;32m      9\u001b[0m ]\n\u001b[0;32m---> 13\u001b[0m query \u001b[38;5;241m=\u001b[39m \u001b[43mtemplate\u001b[49m\u001b[43m(\u001b[49m\u001b[43mdialog\u001b[49m\u001b[43m)\u001b[49m \u001b[38;5;241m+\u001b[39m \u001b[38;5;124m'\u001b[39m\u001b[38;5;124m [|Assistant|] \u001b[39m\u001b[38;5;124m'\u001b[39m\n\u001b[1;32m     14\u001b[0m model_inputs \u001b[38;5;241m=\u001b[39m tokenizer(query, return_tensors\u001b[38;5;241m=\u001b[39m\u001b[38;5;124m\"\u001b[39m\u001b[38;5;124mpt\u001b[39m\u001b[38;5;124m\"\u001b[39m, add_special_tokens\u001b[38;5;241m=\u001b[39m\u001b[38;5;28;01mFalse\u001b[39;00m)\u001b[38;5;241m.\u001b[39minput_ids\u001b[38;5;241m.\u001b[39mto(\u001b[38;5;124m'\u001b[39m\u001b[38;5;124mcuda\u001b[39m\u001b[38;5;124m'\u001b[39m)\n\u001b[1;32m     15\u001b[0m generated_ids \u001b[38;5;241m=\u001b[39m model\u001b[38;5;241m.\u001b[39mgenerate(input_ids\u001b[38;5;241m=\u001b[39mmodel_inputs, max_new_tokens\u001b[38;5;241m=\u001b[39m\u001b[38;5;241m64\u001b[39m,\n\u001b[1;32m     16\u001b[0m                                do_sample\u001b[38;5;241m=\u001b[39m\u001b[38;5;28;01mTrue\u001b[39;00m,\n\u001b[1;32m     17\u001b[0m                                \u001b[38;5;66;03m#pad_token_id=tokenizer.eos_token_id,\u001b[39;00m\n\u001b[1;32m     18\u001b[0m                                temperature\u001b[38;5;241m=\u001b[39m\u001b[38;5;241m0.7\u001b[39m,\n\u001b[1;32m     19\u001b[0m                                repetition_penalty\u001b[38;5;241m=\u001b[39m\u001b[38;5;241m1.15\u001b[39m)\n",
      "\u001b[0;31mTypeError\u001b[0m: template() missing 1 required positional argument: 'model_type'"
     ]
    }
   ],
   "source": [
    "\n",
    "dialog = [\n",
    "    #\"[Electrochemistry]: Whoa! In your hand: *pyrholidon* -- the double rainbow of synthetic hallucinogens. Rare and gritty, a product of the age of atomic power.\",\n",
    "    #\"Look at the little puck of liquid.\",\n",
    "    #\"[Electrochemistry]: What a funny little cap! Don't let the *scary* medical warnings throw you off. It's an inadequate antidote to radiation poisoning, but a *potent* antidote to *boredom*.\",\n",
    "    #\"Hmm... open the cap.\",\n",
    "    #'Look around',\n",
    "    #'\"How can I take shit without taking off my sweater?\"',\n",
    "    'who am i?</s>'\n",
    "]\n",
    "\n",
    "\n",
    "\n",
    "query = template(dialog) + ' [|Assistant|] '\n",
    "model_inputs = tokenizer(query, return_tensors=\"pt\", add_special_tokens=False).input_ids.to('cuda')\n",
    "generated_ids = model.generate(input_ids=model_inputs, max_new_tokens=64,\n",
    "                               do_sample=True,\n",
    "                               #pad_token_id=tokenizer.eos_token_id,\n",
    "                               temperature=0.7,\n",
    "                               repetition_penalty=1.15)\n",
    "#outputs = model(input_ids=input_ids),# max_length=cut_len, min_length=8, top_p=0.9, do_sample=True)\n",
    "output = tokenizer.decode(generated_ids[0], skip_special_tokens=False)\n",
    "print(output)"
   ]
  }
 ],
 "metadata": {
  "kernelspec": {
   "display_name": "Python 3 (ipykernel)",
   "language": "python",
   "name": "python3"
  },
  "language_info": {
   "codemirror_mode": {
    "name": "ipython",
    "version": 3
   },
   "file_extension": ".py",
   "mimetype": "text/x-python",
   "name": "python",
   "nbconvert_exporter": "python",
   "pygments_lexer": "ipython3",
   "version": "3.10.13"
  }
 },
 "nbformat": 4,
 "nbformat_minor": 4
}
